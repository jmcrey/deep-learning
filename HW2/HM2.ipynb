{
 "cells": [
  {
   "cell_type": "markdown",
   "metadata": {},
   "source": [
    "# HM2: Numerical Optimization for Logistic Regression.\n",
    "\n",
    "### Name: Jeremiah McReynolds\n"
   ]
  },
  {
   "cell_type": "markdown",
   "metadata": {},
   "source": [
    "## 0. You will do the following:\n",
    "\n",
    "1. Read the lecture note: [click here](https://github.com/wangshusen/DeepLearning/blob/master/LectureNotes/Logistic/paper/logistic.pdf)\n",
    "\n",
    "2. Read, complete, and run my code.\n",
    "\n",
    "3. **Implement mini-batch SGD** and evaluate the performance.\n",
    "\n",
    "4. Convert the .IPYNB file to .HTML file.\n",
    "\n",
    "    * The HTML file must contain **the code** and **the output after execution**.\n",
    "    \n",
    "    * Missing **the output after execution** will not be graded.\n",
    "    \n",
    "5. Upload this .HTML file to your Google Drive, Dropbox, or your Github repo.  (If you submit the file to Google Drive or Dropbox, you must make the file \"open-access\". The delay caused by \"deny of access\" may result in late penalty.)\n",
    "\n",
    "6. Submit the link to this .HTML file to Canvas.\n",
    "\n",
    "    * Example: https://github.com/wangshusen/CS583-2020S/blob/master/homework/HM2/HM2.html\n",
    "\n",
    "\n",
    "## Grading criteria:\n",
    "\n",
    "1. When computing the ```gradient``` and ```objective function value``` using a batch of samples, use **matrix-vector multiplication** rather than a FOR LOOP of **vector-vector multiplications**.\n",
    "\n",
    "2. Plot ```objective function value``` against ```epochs```. In the plot, compare GD, SGD, and MB-SGD (with $b=8$ and $b=64$). The plot must look reasonable."
   ]
  },
  {
   "cell_type": "code",
   "execution_count": null,
   "metadata": {},
   "outputs": [],
   "source": []
  },
  {
   "cell_type": "markdown",
   "metadata": {},
   "source": [
    "# 1. Data processing\n",
    "\n",
    "- Download the Diabete dataset from https://www.csie.ntu.edu.tw/~cjlin/libsvmtools/datasets/binary/diabetes\n",
    "- Load the data using sklearn.\n",
    "- Preprocess the data."
   ]
  },
  {
   "cell_type": "markdown",
   "metadata": {},
   "source": [
    "## 1.1. Load the data"
   ]
  },
  {
   "cell_type": "code",
   "execution_count": 1,
   "metadata": {},
   "outputs": [
    {
     "name": "stdout",
     "output_type": "stream",
     "text": [
      "Shape of x: (768, 8)\n",
      "Shape of y: (768,)\n"
     ]
    }
   ],
   "source": [
    "from sklearn import datasets\n",
    "import numpy\n",
    "\n",
    "x_sparse, y = datasets.load_svmlight_file('diabetes')\n",
    "x = x_sparse.todense()\n",
    "\n",
    "print('Shape of x: ' + str(x.shape))\n",
    "print('Shape of y: ' + str(y.shape))"
   ]
  },
  {
   "cell_type": "markdown",
   "metadata": {},
   "source": [
    "## 1.2. Partition to training and test sets"
   ]
  },
  {
   "cell_type": "code",
   "execution_count": 2,
   "metadata": {},
   "outputs": [
    {
     "name": "stdout",
     "output_type": "stream",
     "text": [
      "Shape of x_train: (640, 8)\n",
      "Shape of x_test: (128, 8)\n",
      "Shape of y_train: (640, 1)\n",
      "Shape of y_test: (128, 1)\n"
     ]
    }
   ],
   "source": [
    "# partition the data to training and test sets\n",
    "n = x.shape[0]\n",
    "n_train = 640\n",
    "n_test = n - n_train\n",
    "\n",
    "rand_indices = numpy.random.permutation(n)\n",
    "train_indices = rand_indices[0:n_train]\n",
    "test_indices = rand_indices[n_train:n]\n",
    "\n",
    "x_train = x[train_indices, :]\n",
    "x_test = x[test_indices, :]\n",
    "y_train = y[train_indices].reshape(n_train, 1)\n",
    "y_test = y[test_indices].reshape(n_test, 1)\n",
    "\n",
    "print('Shape of x_train: ' + str(x_train.shape))\n",
    "print('Shape of x_test: ' + str(x_test.shape))\n",
    "print('Shape of y_train: ' + str(y_train.shape))\n",
    "print('Shape of y_test: ' + str(y_test.shape))"
   ]
  },
  {
   "cell_type": "markdown",
   "metadata": {},
   "source": [
    "## 1.3. Feature scaling"
   ]
  },
  {
   "cell_type": "markdown",
   "metadata": {},
   "source": [
    "Use the standardization to trainsform both training and test features"
   ]
  },
  {
   "cell_type": "code",
   "execution_count": 3,
   "metadata": {},
   "outputs": [
    {
     "name": "stdout",
     "output_type": "stream",
     "text": [
      "test mean = \n",
      "[[-0.02533582  0.08816551  0.11816926  0.02453316  0.12366027 -0.08662745\n",
      "  -0.00986256  0.07234147]]\n",
      "test std = \n",
      "[[0.95546852 1.01639154 0.87423693 1.05432721 1.16754219 0.99308345\n",
      "  1.00283338 1.03208487]]\n"
     ]
    }
   ],
   "source": [
    "# Standardization\n",
    "import numpy\n",
    "\n",
    "# calculate mu and sig using the training set\n",
    "d = x_train.shape[1]\n",
    "mu = numpy.mean(x_train, axis=0).reshape(1, d)\n",
    "sig = numpy.std(x_train, axis=0).reshape(1, d)\n",
    "\n",
    "# transform the training features\n",
    "x_train = (x_train - mu) / (sig + 1E-6)\n",
    "\n",
    "# transform the test features\n",
    "x_test = (x_test - mu) / (sig + 1E-6)\n",
    "\n",
    "print('test mean = ')\n",
    "print(numpy.mean(x_test, axis=0))\n",
    "\n",
    "print('test std = ')\n",
    "print(numpy.std(x_test, axis=0))"
   ]
  },
  {
   "cell_type": "markdown",
   "metadata": {},
   "source": [
    "## 1.4. Add a dimension of all ones"
   ]
  },
  {
   "cell_type": "code",
   "execution_count": 4,
   "metadata": {},
   "outputs": [
    {
     "name": "stdout",
     "output_type": "stream",
     "text": [
      "Shape of x_train: (640, 9)\n",
      "Shape of x_test: (128, 9)\n"
     ]
    }
   ],
   "source": [
    "n_train, d = x_train.shape\n",
    "x_train = numpy.concatenate((x_train, numpy.ones((n_train, 1))), axis=1)\n",
    "\n",
    "n_test, d = x_test.shape\n",
    "x_test = numpy.concatenate((x_test, numpy.ones((n_test, 1))), axis=1)\n",
    "\n",
    "print('Shape of x_train: ' + str(x_train.shape))\n",
    "print('Shape of x_test: ' + str(x_test.shape))"
   ]
  },
  {
   "cell_type": "markdown",
   "metadata": {},
   "source": [
    "# 2. Logistic regression model\n",
    "\n",
    "The objective function is $Q (w; X, y) = \\frac{1}{n} \\sum_{i=1}^n \\log \\Big( 1 + \\exp \\big( - y_i x_i^T w \\big) \\Big) + \\frac{\\lambda}{2} \\| w \\|_2^2 $."
   ]
  },
  {
   "cell_type": "code",
   "execution_count": 5,
   "metadata": {},
   "outputs": [],
   "source": [
    "# Calculate the objective function value\n",
    "# Inputs:\n",
    "#     w: d-by-1 matrix\n",
    "#     x: n-by-d matrix\n",
    "#     y: n-by-1 matrix\n",
    "#     lam: scalar, the regularization parameter\n",
    "# Return:\n",
    "#     objective function value (scalar)\n",
    "def objective(w, x, y, lam):\n",
    "    n, d = x.shape\n",
    "    yx = numpy.multiply(y, x) # n-by-d matrix\n",
    "    yxw = numpy.dot(yx, w) # n-by-1 matrix\n",
    "    vec1 = numpy.exp(-yxw) # n-by-1 matrix\n",
    "    vec2 = numpy.log(1 + vec1) # n-by-1 matrix\n",
    "    loss = numpy.mean(vec2) # scalar\n",
    "    reg = lam / 2 * numpy.sum(w * w) # scalar\n",
    "    return loss + reg\n",
    "    "
   ]
  },
  {
   "cell_type": "code",
   "execution_count": 6,
   "metadata": {},
   "outputs": [
    {
     "name": "stdout",
     "output_type": "stream",
     "text": [
      "Initial objective function value = 0.6931471805599453\n"
     ]
    }
   ],
   "source": [
    "# initialize w\n",
    "d = x_train.shape[1]\n",
    "w = numpy.zeros((d, 1))\n",
    "\n",
    "# evaluate the objective function value at w\n",
    "lam = 1E-6\n",
    "objval0 = objective(w, x_train, y_train, lam)\n",
    "print('Initial objective function value = ' + str(objval0))"
   ]
  },
  {
   "cell_type": "markdown",
   "metadata": {},
   "source": [
    "# 3. Numerical optimization"
   ]
  },
  {
   "cell_type": "markdown",
   "metadata": {},
   "source": [
    "## 3.1. Gradient descent\n"
   ]
  },
  {
   "cell_type": "markdown",
   "metadata": {},
   "source": [
    "The gradient at $w$ is $g = - \\frac{1}{n} \\sum_{i=1}^n \\frac{y_i x_i }{1 + \\exp ( y_i x_i^T w)} + \\lambda w$"
   ]
  },
  {
   "cell_type": "code",
   "execution_count": 7,
   "metadata": {},
   "outputs": [],
   "source": [
    "# Calculate the gradient\n",
    "# Inputs:\n",
    "#     w: d-by-1 matrix\n",
    "#     x: n-by-d matrix\n",
    "#     y: n-by-1 matrix\n",
    "#     lam: scalar, the regularization parameter\n",
    "# Return:\n",
    "#     g: g: d-by-1 matrix, full gradient\n",
    "def gradient(w, x, y, lam):\n",
    "    n, d = x.shape\n",
    "    yx = numpy.multiply(y, x) # n-by-d matrix\n",
    "    yxw = numpy.dot(yx, w) # n-by-1 matrix\n",
    "    vec1 = numpy.exp(yxw) # n-by-1 matrix\n",
    "    vec2 = numpy.divide(yx, 1+vec1) # n-by-d matrix\n",
    "    vec3 = -numpy.mean(vec2, axis=0).reshape(d, 1) # d-by-1 matrix\n",
    "    g = vec3 + lam * w\n",
    "    return g"
   ]
  },
  {
   "cell_type": "code",
   "execution_count": 8,
   "metadata": {},
   "outputs": [],
   "source": [
    "# Gradient descent for solving logistic regression\n",
    "# Inputs:\n",
    "#     x: n-by-d matrix\n",
    "#     y: n-by-1 matrix\n",
    "#     lam: scalar, the regularization parameter\n",
    "#     stepsize: scalar\n",
    "#     max_iter: integer, the maximal iterations\n",
    "#     w: d-by-1 matrix, initialization of w\n",
    "# Return:\n",
    "#     w: d-by-1 matrix, the solution\n",
    "#     objvals: a record of each iteration's objective value\n",
    "def grad_descent(x, y, lam, stepsize, max_iter=100, w=None):\n",
    "    n, d = x.shape\n",
    "    objvals = numpy.zeros(max_iter) # store the objective values\n",
    "    if w is None:\n",
    "        w = numpy.zeros((d, 1)) # zero initialization\n",
    "    \n",
    "    for t in range(max_iter):\n",
    "        objval = objective(w, x, y, lam)\n",
    "        objvals[t] = objval\n",
    "        print('Objective value at t=' + str(t) + ' is ' + str(objval))\n",
    "        g = gradient(w, x, y, lam)\n",
    "        w -= stepsize * g\n",
    "    \n",
    "    return w, objvals"
   ]
  },
  {
   "cell_type": "markdown",
   "metadata": {},
   "source": [
    "Run gradient descent."
   ]
  },
  {
   "cell_type": "code",
   "execution_count": 9,
   "metadata": {},
   "outputs": [
    {
     "name": "stdout",
     "output_type": "stream",
     "text": [
      "Objective value at t=0 is 0.6931471805599453\n",
      "Objective value at t=1 is 0.5875035000469663\n",
      "Objective value at t=2 is 0.5431838900245772\n",
      "Objective value at t=3 is 0.5192774011152872\n",
      "Objective value at t=4 is 0.5044284913249396\n",
      "Objective value at t=5 is 0.4944330321347215\n",
      "Objective value at t=6 is 0.48735522834117323\n",
      "Objective value at t=7 is 0.4821667304918703\n",
      "Objective value at t=8 is 0.4782656305700097\n",
      "Objective value at t=9 is 0.47527477926930023\n",
      "Objective value at t=10 is 0.4729458294503223\n",
      "Objective value at t=11 is 0.4711089909094687\n",
      "Objective value at t=12 is 0.46964471228460464\n",
      "Objective value at t=13 is 0.4684667839117742\n",
      "Objective value at t=14 is 0.467511792726862\n",
      "Objective value at t=15 is 0.4667323003835609\n",
      "Objective value at t=16 is 0.46609229808213193\n",
      "Objective value at t=17 is 0.46556410260216274\n",
      "Objective value at t=18 is 0.4651261912834957\n",
      "Objective value at t=19 is 0.46476166384282214\n",
      "Objective value at t=20 is 0.46445713157584056\n",
      "Objective value at t=21 is 0.46420190340484824\n",
      "Objective value at t=22 is 0.4639873815366039\n",
      "Objective value at t=23 is 0.46380660735222035\n",
      "Objective value at t=24 is 0.4636539164404333\n",
      "Objective value at t=25 is 0.46352467391362123\n",
      "Objective value at t=26 is 0.46341506945588307\n",
      "Objective value at t=27 is 0.46332195728423736\n",
      "Objective value at t=28 is 0.4632427302117558\n",
      "Objective value at t=29 is 0.4631752198392701\n",
      "Objective value at t=30 is 0.46311761693545206\n",
      "Objective value at t=31 is 0.46306840753775397\n",
      "Objective value at t=32 is 0.46302632138444266\n",
      "Objective value at t=33 is 0.4629902900843208\n",
      "Objective value at t=34 is 0.46295941302454413\n",
      "Objective value at t=35 is 0.4629329294635381\n",
      "Objective value at t=36 is 0.4629101955946017\n",
      "Objective value at t=37 is 0.46289066562446984\n",
      "Objective value at t=38 is 0.4628738761101419\n",
      "Objective value at t=39 is 0.46285943295150306\n",
      "Objective value at t=40 is 0.4628470005574994\n",
      "Objective value at t=41 is 0.462836292797959\n",
      "Objective value at t=42 is 0.46282706542757207\n",
      "Objective value at t=43 is 0.46281910972758034\n",
      "Objective value at t=44 is 0.46281224715780167\n",
      "Objective value at t=45 is 0.4628063248493289\n",
      "Objective value at t=46 is 0.46280121179859907\n",
      "Objective value at t=47 is 0.46279679564806936\n",
      "Objective value at t=48 is 0.46279297995864976\n",
      "Objective value at t=49 is 0.4627896818952749\n",
      "Objective value at t=50 is 0.46278683026026257\n",
      "Objective value at t=51 is 0.46278436381999866\n",
      "Objective value at t=52 is 0.462782229879452\n",
      "Objective value at t=53 is 0.46278038306641955\n",
      "Objective value at t=54 is 0.462778784293537\n",
      "Objective value at t=55 is 0.46277739987117456\n",
      "Objective value at t=56 is 0.4627762007485741\n",
      "Objective value at t=57 is 0.46277516186412143\n",
      "Objective value at t=58 is 0.4627742615886008\n",
      "Objective value at t=59 is 0.46277348124775713\n",
      "Objective value at t=60 is 0.46277280471257337\n",
      "Objective value at t=61 is 0.4627722180474191\n",
      "Objective value at t=62 is 0.4627717092077042\n",
      "Objective value at t=63 is 0.4627712677799149\n",
      "Objective value at t=64 is 0.46277088475796546\n",
      "Objective value at t=65 is 0.4627705523506884\n",
      "Objective value at t=66 is 0.4627702638160454\n",
      "Objective value at t=67 is 0.4627700133182796\n",
      "Objective value at t=68 is 0.46276979580478317\n",
      "Objective value at t=69 is 0.462769606899908\n",
      "Objective value at t=70 is 0.4627694428133562\n",
      "Objective value at t=71 is 0.46276930026111474\n",
      "Objective value at t=72 is 0.4627691763971927\n",
      "Objective value at t=73 is 0.4627690687546654\n",
      "Objective value at t=74 is 0.4627689751947364\n",
      "Objective value at t=75 is 0.4627688938627179\n",
      "Objective value at t=76 is 0.46276882314997303\n",
      "Objective value at t=77 is 0.46276876166100733\n",
      "Objective value at t=78 is 0.46276870818500127\n",
      "Objective value at t=79 is 0.4627686616711807\n",
      "Objective value at t=80 is 0.46276862120750123\n",
      "Objective value at t=81 is 0.46276858600219417\n",
      "Objective value at t=82 is 0.4627685553677906\n",
      "Objective value at t=83 is 0.4627685287072818\n",
      "Objective value at t=84 is 0.46276850550213394\n",
      "Objective value at t=85 is 0.4627684853018997\n",
      "Objective value at t=86 is 0.46276846771521846\n",
      "Objective value at t=87 is 0.46276845240201325\n",
      "Objective value at t=88 is 0.4627684390667265\n",
      "Objective value at t=89 is 0.46276842745245406\n",
      "Objective value at t=90 is 0.4627684173358575\n",
      "Objective value at t=91 is 0.4627684085227514\n",
      "Objective value at t=92 is 0.4627684008442738\n",
      "Objective value at t=93 is 0.4627683941535633\n",
      "Objective value at t=94 is 0.46276838832287576\n",
      "Objective value at t=95 is 0.46276838324108044\n",
      "Objective value at t=96 is 0.46276837881148664\n",
      "Objective value at t=97 is 0.46276837494995643\n",
      "Objective value at t=98 is 0.4627683715832653\n",
      "Objective value at t=99 is 0.4627683686476788\n"
     ]
    }
   ],
   "source": [
    "lam = 1E-6\n",
    "stepsize = 1.0\n",
    "w, objvals_gd = grad_descent(x_train, y_train, lam, stepsize)"
   ]
  },
  {
   "cell_type": "markdown",
   "metadata": {},
   "source": [
    "## 3.2. Stochastic gradient descent (SGD)\n",
    "\n",
    "Define $Q_i (w) = \\log \\Big( 1 + \\exp \\big( - y_i x_i^T w \\big) \\Big) + \\frac{\\lambda}{2} \\| w \\|_2^2 $.\n",
    "\n",
    "The stochastic gradient at $w$ is $g_i = \\frac{\\partial Q_i }{ \\partial w} = -\\frac{y_i x_i }{1 + \\exp ( y_i x_i^T w)} + \\lambda w$."
   ]
  },
  {
   "cell_type": "code",
   "execution_count": 10,
   "metadata": {},
   "outputs": [],
   "source": [
    "# Calculate the objective Q_i and the gradient of Q_i\n",
    "# Inputs:\n",
    "#     w: d-by-1 matrix\n",
    "#     xi: 1-by-d matrix\n",
    "#     yi: scalar\n",
    "#     lam: scalar, the regularization parameter\n",
    "# Return:\n",
    "#     obj: scalar, the objective Q_i\n",
    "#     g: d-by-1 matrix, gradient of Q_i\n",
    "def stochastic_objective_gradient(w, xi, yi, lam):\n",
    "    d = xi.shape[0]\n",
    "    yx = yi * xi # 1-by-d matrix\n",
    "    yxw = float(numpy.dot(yx, w)) # scalar\n",
    "    \n",
    "    # calculate objective function Q_i\n",
    "    loss = numpy.log(1 + numpy.exp(-yxw)) # scalar\n",
    "    reg = lam / 2 * numpy.sum(w * w) # scalar\n",
    "    obj = loss + reg\n",
    "    \n",
    "    # calculate stochastic gradient\n",
    "    g_loss = -yx.T / (1 + numpy.exp(yxw)) # d-by-1 matrix\n",
    "    g = g_loss + lam * w # d-by-1 matrix\n",
    "    \n",
    "    return obj, g"
   ]
  },
  {
   "cell_type": "code",
   "execution_count": 11,
   "metadata": {},
   "outputs": [],
   "source": [
    "# SGD for solving logistic regression\n",
    "# Inputs:\n",
    "#     x: n-by-d matrix\n",
    "#     y: n-by-1 matrix\n",
    "#     lam: scalar, the regularization parameter\n",
    "#     stepsize: scalar\n",
    "#     max_epoch: integer, the maximal epochs\n",
    "#     w: d-by-1 matrix, initialization of w\n",
    "# Return:\n",
    "#     w: the solution\n",
    "#     objvals: record of each iteration's objective value\n",
    "def sgd(x, y, lam, stepsize, max_epoch=100, w=None):\n",
    "    n, d = x.shape\n",
    "    objvals = numpy.zeros(max_epoch) # store the objective values\n",
    "    if w is None:\n",
    "        w = numpy.zeros((d, 1)) # zero initialization\n",
    "    \n",
    "    for t in range(max_epoch):\n",
    "        # randomly shuffle the samples\n",
    "        rand_indices = numpy.random.permutation(n)\n",
    "        x_rand = x[rand_indices, :]\n",
    "        y_rand = y[rand_indices, :]\n",
    "        \n",
    "        objval = 0 # accumulate the objective values\n",
    "        for i in range(n):\n",
    "            xi = x_rand[i, :] # 1-by-d matrix\n",
    "            yi = float(y_rand[i, :]) # scalar\n",
    "            obj, g = stochastic_objective_gradient(w, xi, yi, lam)\n",
    "            objval += obj\n",
    "            w -= stepsize * g\n",
    "        \n",
    "        stepsize *= 0.9 # decrease step size\n",
    "        objval /= n\n",
    "        objvals[t] = objval\n",
    "        print('Objective value at epoch t=' + str(t) + ' is ' + str(objval))\n",
    "    \n",
    "    return w, objvals"
   ]
  },
  {
   "cell_type": "markdown",
   "metadata": {},
   "source": [
    "Run SGD."
   ]
  },
  {
   "cell_type": "code",
   "execution_count": 12,
   "metadata": {},
   "outputs": [
    {
     "name": "stdout",
     "output_type": "stream",
     "text": [
      "Objective value at epoch t=0 is 0.5209828464572521\n",
      "Objective value at epoch t=1 is 0.5127139145555502\n",
      "Objective value at epoch t=2 is 0.510297940226345\n",
      "Objective value at epoch t=3 is 0.49859544751153884\n",
      "Objective value at epoch t=4 is 0.49497018402565746\n",
      "Objective value at epoch t=5 is 0.4953397335627587\n",
      "Objective value at epoch t=6 is 0.4868253077940105\n",
      "Objective value at epoch t=7 is 0.4861957198825029\n",
      "Objective value at epoch t=8 is 0.48103281206599746\n",
      "Objective value at epoch t=9 is 0.48847196336501647\n",
      "Objective value at epoch t=10 is 0.4788109203006415\n",
      "Objective value at epoch t=11 is 0.4811071514592752\n",
      "Objective value at epoch t=12 is 0.4804969547269434\n",
      "Objective value at epoch t=13 is 0.4762489619136024\n",
      "Objective value at epoch t=14 is 0.4743919964972811\n",
      "Objective value at epoch t=15 is 0.47658330234821894\n",
      "Objective value at epoch t=16 is 0.47297499362558043\n",
      "Objective value at epoch t=17 is 0.47335442872977723\n",
      "Objective value at epoch t=18 is 0.47169806627951216\n",
      "Objective value at epoch t=19 is 0.4689906703203778\n",
      "Objective value at epoch t=20 is 0.47048255846981385\n",
      "Objective value at epoch t=21 is 0.4696517522581812\n",
      "Objective value at epoch t=22 is 0.46874315395603905\n",
      "Objective value at epoch t=23 is 0.4686677989815567\n",
      "Objective value at epoch t=24 is 0.4679511987855595\n",
      "Objective value at epoch t=25 is 0.4676017992788495\n",
      "Objective value at epoch t=26 is 0.46733115354936255\n",
      "Objective value at epoch t=27 is 0.4666139795669861\n",
      "Objective value at epoch t=28 is 0.46632262267930547\n",
      "Objective value at epoch t=29 is 0.4659041599502457\n",
      "Objective value at epoch t=30 is 0.46559700206930427\n",
      "Objective value at epoch t=31 is 0.46516255060536993\n",
      "Objective value at epoch t=32 is 0.4652317993675236\n",
      "Objective value at epoch t=33 is 0.46497633815112643\n",
      "Objective value at epoch t=34 is 0.46476466505722963\n",
      "Objective value at epoch t=35 is 0.46452945649440497\n",
      "Objective value at epoch t=36 is 0.46435156454231735\n",
      "Objective value at epoch t=37 is 0.4640825482873165\n",
      "Objective value at epoch t=38 is 0.464086663705135\n",
      "Objective value at epoch t=39 is 0.4639405316635471\n",
      "Objective value at epoch t=40 is 0.4638042881714425\n",
      "Objective value at epoch t=41 is 0.4637293172953226\n",
      "Objective value at epoch t=42 is 0.4636380470492745\n",
      "Objective value at epoch t=43 is 0.46355361884368274\n",
      "Objective value at epoch t=44 is 0.46347757040766446\n",
      "Objective value at epoch t=45 is 0.46340200781198976\n",
      "Objective value at epoch t=46 is 0.463330098629709\n",
      "Objective value at epoch t=47 is 0.4632781703483187\n",
      "Objective value at epoch t=48 is 0.46323045799418017\n",
      "Objective value at epoch t=49 is 0.46318456733778823\n",
      "Objective value at epoch t=50 is 0.46314349811527683\n",
      "Objective value at epoch t=51 is 0.4631054276043944\n",
      "Objective value at epoch t=52 is 0.46307398297116453\n",
      "Objective value at epoch t=53 is 0.46304296900875636\n",
      "Objective value at epoch t=54 is 0.46301510526435574\n",
      "Objective value at epoch t=55 is 0.4629894186602971\n",
      "Objective value at epoch t=56 is 0.46296904161324176\n",
      "Objective value at epoch t=57 is 0.46294871740894744\n",
      "Objective value at epoch t=58 is 0.4629301843971965\n",
      "Objective value at epoch t=59 is 0.46291446425636096\n",
      "Objective value at epoch t=60 is 0.4629001215802127\n",
      "Objective value at epoch t=61 is 0.4628870816242506\n",
      "Objective value at epoch t=62 is 0.4628752154633049\n",
      "Objective value at epoch t=63 is 0.46286455740384846\n",
      "Objective value at epoch t=64 is 0.46285489558189125\n",
      "Objective value at epoch t=65 is 0.4628463449856543\n",
      "Objective value at epoch t=66 is 0.4628385498890929\n",
      "Objective value at epoch t=67 is 0.4628315754388578\n",
      "Objective value at epoch t=68 is 0.4628253063000267\n",
      "Objective value at epoch t=69 is 0.46281960361918995\n",
      "Objective value at epoch t=70 is 0.4628144945321395\n",
      "Objective value at epoch t=71 is 0.46280993386859015\n",
      "Objective value at epoch t=72 is 0.462805773044101\n",
      "Objective value at epoch t=73 is 0.46280206355711984\n",
      "Objective value at epoch t=74 is 0.4627987336371355\n",
      "Objective value at epoch t=75 is 0.4627957142962414\n",
      "Objective value at epoch t=76 is 0.46279301585468025\n",
      "Objective value at epoch t=77 is 0.4627905790260744\n",
      "Objective value at epoch t=78 is 0.4627883784731579\n",
      "Objective value at epoch t=79 is 0.46278639331718585\n",
      "Objective value at epoch t=80 is 0.4627846248665185\n",
      "Objective value at epoch t=81 is 0.46278302425307655\n",
      "Objective value at epoch t=82 is 0.4627815813298353\n",
      "Objective value at epoch t=83 is 0.4627802835126277\n",
      "Objective value at epoch t=84 is 0.46277911700075736\n",
      "Objective value at epoch t=85 is 0.46277806563002677\n",
      "Objective value at epoch t=86 is 0.46277712093868306\n",
      "Objective value at epoch t=87 is 0.4627762700334392\n",
      "Objective value at epoch t=88 is 0.4627755032766757\n",
      "Objective value at epoch t=89 is 0.4627748134325217\n",
      "Objective value at epoch t=90 is 0.46277419359932626\n",
      "Objective value at epoch t=91 is 0.46277363507607755\n",
      "Objective value at epoch t=92 is 0.46277313234840933\n",
      "Objective value at epoch t=93 is 0.4627726801309195\n",
      "Objective value at epoch t=94 is 0.4627722727188585\n",
      "Objective value at epoch t=95 is 0.4627719063578189\n",
      "Objective value at epoch t=96 is 0.46277157669328706\n",
      "Objective value at epoch t=97 is 0.46277127984370975\n",
      "Objective value at epoch t=98 is 0.4627710125009886\n",
      "Objective value at epoch t=99 is 0.46277077212792506\n"
     ]
    }
   ],
   "source": [
    "lam = 1E-6\n",
    "stepsize = 0.1\n",
    "w, objvals_sgd = sgd(x_train, y_train, lam, stepsize)"
   ]
  },
  {
   "cell_type": "markdown",
   "metadata": {},
   "source": [
    "# 4. Compare GD with SGD\n",
    "\n",
    "Plot objective function values against epochs."
   ]
  },
  {
   "cell_type": "code",
   "execution_count": 13,
   "metadata": {},
   "outputs": [
    {
     "name": "stderr",
     "output_type": "stream",
     "text": [
      "<ipython-input-13-9b8d8f4cdfb5>:9: MatplotlibDeprecationWarning: Case-insensitive properties were deprecated in 3.3 and support will be removed two minor releases later\n",
      "  line0, = plt.plot(epochs_gd, objvals_gd, '--b', LineWidth=4)\n",
      "<ipython-input-13-9b8d8f4cdfb5>:10: MatplotlibDeprecationWarning: Case-insensitive properties were deprecated in 3.3 and support will be removed two minor releases later\n",
      "  line1, = plt.plot(epochs_sgd, objvals_sgd, '-r', LineWidth=2)\n",
      "<ipython-input-13-9b8d8f4cdfb5>:11: MatplotlibDeprecationWarning: Case-insensitive properties were deprecated in 3.3 and support will be removed two minor releases later\n",
      "  plt.xlabel('Epochs', FontSize=20)\n",
      "<ipython-input-13-9b8d8f4cdfb5>:12: MatplotlibDeprecationWarning: Case-insensitive properties were deprecated in 3.3 and support will be removed two minor releases later\n",
      "  plt.ylabel('Objective Value', FontSize=20)\n",
      "<ipython-input-13-9b8d8f4cdfb5>:13: MatplotlibDeprecationWarning: Case-insensitive properties were deprecated in 3.3 and support will be removed two minor releases later\n",
      "  plt.xticks(FontSize=16)\n",
      "<ipython-input-13-9b8d8f4cdfb5>:14: MatplotlibDeprecationWarning: Case-insensitive properties were deprecated in 3.3 and support will be removed two minor releases later\n",
      "  plt.yticks(FontSize=16)\n"
     ]
    },
    {
     "data": {
      "image/png": "[encoded data removed]",
      "text/plain": [
       "<Figure size 432x288 with 1 Axes>"
      ]
     },
     "metadata": {
      "needs_background": "light"
     },
     "output_type": "display_data"
    }
   ],
   "source": [
    "import matplotlib.pyplot as plt\n",
    "%matplotlib inline\n",
    "\n",
    "fig = plt.figure(figsize=(6, 4))\n",
    "\n",
    "epochs_gd = range(len(objvals_gd))\n",
    "epochs_sgd = range(len(objvals_sgd))\n",
    "\n",
    "line0, = plt.plot(epochs_gd, objvals_gd, '--b', LineWidth=4)\n",
    "line1, = plt.plot(epochs_sgd, objvals_sgd, '-r', LineWidth=2)\n",
    "plt.xlabel('Epochs', FontSize=20)\n",
    "plt.ylabel('Objective Value', FontSize=20)\n",
    "plt.xticks(FontSize=16)\n",
    "plt.yticks(FontSize=16)\n",
    "plt.legend([line0, line1], ['GD', 'SGD'], fontsize=20)\n",
    "plt.tight_layout()\n",
    "plt.show()\n",
    "fig.savefig('compare_gd_sgd.pdf', format='pdf', dpi=1200)"
   ]
  },
  {
   "cell_type": "markdown",
   "metadata": {},
   "source": [
    "# 5. Prediction"
   ]
  },
  {
   "cell_type": "code",
   "execution_count": 14,
   "metadata": {},
   "outputs": [],
   "source": [
    "# Predict class label\n",
    "# Inputs:\n",
    "#     w: d-by-1 matrix\n",
    "#     X: m-by-d matrix\n",
    "# Return:\n",
    "#     f: m-by-1 matrix, the predictions\n",
    "def predict(w, X):\n",
    "    xw = numpy.dot(X, w)\n",
    "    f = numpy.sign(xw)\n",
    "    return f"
   ]
  },
  {
   "cell_type": "code",
   "execution_count": 15,
   "metadata": {},
   "outputs": [
    {
     "name": "stdout",
     "output_type": "stream",
     "text": [
      "Training classification error is 0.2171875\n"
     ]
    }
   ],
   "source": [
    "# evaluate training error\n",
    "f_train = predict(w, x_train)\n",
    "diff = numpy.abs(f_train - y_train) / 2\n",
    "error_train = numpy.mean(diff)\n",
    "print('Training classification error is ' + str(error_train))"
   ]
  },
  {
   "cell_type": "code",
   "execution_count": 16,
   "metadata": {},
   "outputs": [
    {
     "name": "stdout",
     "output_type": "stream",
     "text": [
      "Test classification error is 0.265625\n"
     ]
    }
   ],
   "source": [
    "# evaluate test error\n",
    "f_test = predict(w, x_test)\n",
    "diff = numpy.abs(f_test - y_test) / 2\n",
    "error_test = numpy.mean(diff)\n",
    "print('Test classification error is ' + str(error_test))"
   ]
  },
  {
   "cell_type": "markdown",
   "metadata": {},
   "source": [
    "# 6. Mini-batch SGD (fill the code)\n",
    "\n"
   ]
  },
  {
   "cell_type": "markdown",
   "metadata": {},
   "source": [
    "## 6.1. Compute the objective $Q_I$ and its gradient using a batch of samples\n",
    "\n",
    "Define $Q_I (w) = \\frac{1}{b} \\sum_{i \\in I} \\log \\Big( 1 + \\exp \\big( - y_i x_i^T w \\big) \\Big) + \\frac{\\lambda}{2} \\| w \\|_2^2 $, where $I$ is a set containing $b$ indices randomly drawn from $\\{ 1, \\cdots , n \\}$ without replacement.\n",
    "\n",
    "The stochastic gradient at $w$ is $g_I = \\frac{\\partial Q_I }{ \\partial w} = \\frac{1}{b} \\sum_{i \\in I} \\frac{- y_i x_i }{1 + \\exp ( y_i x_i^T w)} + \\lambda w$."
   ]
  },
  {
   "cell_type": "code",
   "execution_count": 17,
   "metadata": {},
   "outputs": [],
   "source": [
    "# Calculate the objective Q_I and the gradient of Q_I\n",
    "# Inputs:\n",
    "#     w: d-by-1 matrix\n",
    "#     xi: b-by-d matrix\n",
    "#     yi: b-by-1 matrix\n",
    "#     lam: scalar, the regularization parameter\n",
    "#     b: integer, the batch size\n",
    "# Return:\n",
    "#     obj: scalar, the objective Q_i\n",
    "#     g: d-by-1 matrix, gradient of Q_i\n",
    "def mb_stochastic_objective_gradient(w, xi, yi, lam, b):\n",
    "    # Fill the function\n",
    "    # Follow the implementation of stochastic_objective_gradient\n",
    "    # Use matrix-vector multiplication; do not use FOR LOOP of vector-vector multiplications\n",
    "    n,d = xi.shape\n",
    "    yx = numpy.multiply(yi, xi)  # b by d matrix\n",
    "    yxw = numpy.dot(yx, w)  # b x 1 vector\n",
    "\n",
    "    # Solve objective function Q_i\n",
    "    loss = numpy.log(1 + numpy.exp(-yxw)) # b x 1 vector\n",
    "    reg = (lam / 2) * numpy.sum(w * w)  # scalar\n",
    "    obj = (1/b) * numpy.sum(loss + reg)  # scalar\n",
    "\n",
    "    # Calculate gradient\n",
    "    z = (1 / (1 + numpy.exp(yxw)))  # b x 1 vector\n",
    "    g_loss = numpy.multiply(z, -yx).T # d x b matrix\n",
    "    g = (1/b) * numpy.sum(g_loss, axis=1) + (lam * w) # d x 1 vector \n",
    "    return obj, g"
   ]
  },
  {
   "cell_type": "markdown",
   "metadata": {},
   "source": [
    "## 6.2. Implement mini-batch SGD\n",
    "\n",
    "Hints:\n",
    "1. In every epoch, randomly permute the $n$ samples (just like SGD).\n",
    "2. Each epoch has $\\frac{n}{b}$ iterations. In every iteration, use $b$ samples, and compute the gradient and objective using the ``mb_stochastic_objective_gradient`` function. In the next iteration, use the next $b$ samples, and so on.\n"
   ]
  },
  {
   "cell_type": "code",
   "execution_count": 18,
   "metadata": {},
   "outputs": [],
   "source": [
    "# Mini-Batch SGD for solving logistic regression\n",
    "# Inputs:\n",
    "#     x: n-by-d matrix\n",
    "#     y: n-by-1 matrix\n",
    "#     lam: scalar, the regularization parameter\n",
    "#     b: integer, the batch size\n",
    "#     stepsize: scalar\n",
    "#     max_epoch: integer, the maximal epochs\n",
    "#     w: d-by-1 matrix, initialization of w\n",
    "# Return:\n",
    "#     w: the solution\n",
    "#     objvals: record of each iteration's objective value\n",
    "def mb_sgd(x, y, lam, b, stepsize, max_epoch=100, w=None):\n",
    "    # Fill the function\n",
    "    # Follow the implementation of sgd\n",
    "    # Record one objective value per epoch (not per iteration!)\n",
    "    n, d = x.shape\n",
    "    objvals = numpy.zeros(max_epoch)\n",
    "    if not w:\n",
    "        w = numpy.zeros((d,1))\n",
    "    \n",
    "    for t in range(max_epoch):\n",
    "        iters = int(n / b)\n",
    "        indices = numpy.random.permutation(n)\n",
    "        x_rand = x[indices, :]\n",
    "        y_rand = y[indices, :]\n",
    "        start = 0\n",
    "        objval = 0\n",
    "        for i in range(iters):\n",
    "            end = start + b\n",
    "            xi = x_rand[start:end, :]\n",
    "            yi = y_rand[start:end, :]\n",
    "            obj, g = mb_stochastic_objective_gradient(w, xi, yi, lam, b)\n",
    "            objval += obj\n",
    "            w -= stepsize * g\n",
    "            start = end\n",
    "            \n",
    "        stepsize *= 0.9\n",
    "        objval /= iters\n",
    "        objvals[t] = objval\n",
    "        print('Objective value at epoch t=' + str(t) + ' is ' + str(objval))\n",
    "    \n",
    "    return w, objvals"
   ]
  },
  {
   "cell_type": "markdown",
   "metadata": {},
   "source": [
    "## 6.3. Run MB-SGD"
   ]
  },
  {
   "cell_type": "code",
   "execution_count": 19,
   "metadata": {},
   "outputs": [
    {
     "name": "stdout",
     "output_type": "stream",
     "text": [
      "Objective value at epoch t=0 is 0.5405801686498608\n",
      "Objective value at epoch t=1 is 0.4787549290103851\n",
      "Objective value at epoch t=2 is 0.4714288326269763\n",
      "Objective value at epoch t=3 is 0.46918268438877975\n",
      "Objective value at epoch t=4 is 0.4682339283639708\n",
      "Objective value at epoch t=5 is 0.46811130524279243\n",
      "Objective value at epoch t=6 is 0.46698668337503335\n",
      "Objective value at epoch t=7 is 0.4668133027704452\n",
      "Objective value at epoch t=8 is 0.46635849031099913\n",
      "Objective value at epoch t=9 is 0.46617557838363305\n",
      "Objective value at epoch t=10 is 0.4659071520813633\n",
      "Objective value at epoch t=11 is 0.46526819842056594\n",
      "Objective value at epoch t=12 is 0.4650813378336622\n",
      "Objective value at epoch t=13 is 0.4648660921190282\n",
      "Objective value at epoch t=14 is 0.4646505167858856\n",
      "Objective value at epoch t=15 is 0.4647076316225596\n",
      "Objective value at epoch t=16 is 0.46438823401122564\n",
      "Objective value at epoch t=17 is 0.46428517397657243\n",
      "Objective value at epoch t=18 is 0.46402236894533927\n",
      "Objective value at epoch t=19 is 0.4639300227919977\n",
      "Objective value at epoch t=20 is 0.46391256027964867\n",
      "Objective value at epoch t=21 is 0.4637612087234878\n",
      "Objective value at epoch t=22 is 0.46360056160825114\n",
      "Objective value at epoch t=23 is 0.46353843312662224\n",
      "Objective value at epoch t=24 is 0.4635216147790577\n",
      "Objective value at epoch t=25 is 0.4633386737013175\n",
      "Objective value at epoch t=26 is 0.46339431981108914\n",
      "Objective value at epoch t=27 is 0.4633184779887548\n",
      "Objective value at epoch t=28 is 0.46322918016759296\n",
      "Objective value at epoch t=29 is 0.46322442140843967\n",
      "Objective value at epoch t=30 is 0.4631644409119374\n",
      "Objective value at epoch t=31 is 0.46307322679402174\n",
      "Objective value at epoch t=32 is 0.46306566194287857\n",
      "Objective value at epoch t=33 is 0.46305986467439497\n",
      "Objective value at epoch t=34 is 0.46303025349317706\n",
      "Objective value at epoch t=35 is 0.463003423562817\n",
      "Objective value at epoch t=36 is 0.46296759125984055\n",
      "Objective value at epoch t=37 is 0.46293845377817633\n",
      "Objective value at epoch t=38 is 0.4629357308511417\n",
      "Objective value at epoch t=39 is 0.4629279375936016\n",
      "Objective value at epoch t=40 is 0.4629043871728277\n",
      "Objective value at epoch t=41 is 0.46291255672746967\n",
      "Objective value at epoch t=42 is 0.46288083142875774\n",
      "Objective value at epoch t=43 is 0.4628623185192119\n",
      "Objective value at epoch t=44 is 0.4628596545592313\n",
      "Objective value at epoch t=45 is 0.46285314268189104\n",
      "Objective value at epoch t=46 is 0.4628415393002559\n",
      "Objective value at epoch t=47 is 0.4628364643077842\n",
      "Objective value at epoch t=48 is 0.4628240408710881\n",
      "Objective value at epoch t=49 is 0.46282085511668425\n",
      "Objective value at epoch t=50 is 0.4628145254706112\n",
      "Objective value at epoch t=51 is 0.4628124335767395\n",
      "Objective value at epoch t=52 is 0.46280509917361445\n",
      "Objective value at epoch t=53 is 0.46280350269256676\n",
      "Objective value at epoch t=54 is 0.46280046433868016\n",
      "Objective value at epoch t=55 is 0.46279665947658943\n",
      "Objective value at epoch t=56 is 0.4627931969524061\n",
      "Objective value at epoch t=57 is 0.4627926059471162\n",
      "Objective value at epoch t=58 is 0.4627883206105793\n",
      "Objective value at epoch t=59 is 0.4627869745767967\n",
      "Objective value at epoch t=60 is 0.4627840375138506\n",
      "Objective value at epoch t=61 is 0.4627843706640998\n",
      "Objective value at epoch t=62 is 0.46278310104666254\n",
      "Objective value at epoch t=63 is 0.4627814301368032\n",
      "Objective value at epoch t=64 is 0.4627805478207292\n",
      "Objective value at epoch t=65 is 0.46277838500422624\n",
      "Objective value at epoch t=66 is 0.4627772832096504\n",
      "Objective value at epoch t=67 is 0.4627770154009654\n",
      "Objective value at epoch t=68 is 0.4627768956189051\n",
      "Objective value at epoch t=69 is 0.46277545265946995\n",
      "Objective value at epoch t=70 is 0.46277574482382\n",
      "Objective value at epoch t=71 is 0.46277441111141177\n",
      "Objective value at epoch t=72 is 0.4627741582650378\n",
      "Objective value at epoch t=73 is 0.46277409730303837\n",
      "Objective value at epoch t=74 is 0.46277304967620675\n",
      "Objective value at epoch t=75 is 0.4627726428793878\n",
      "Objective value at epoch t=76 is 0.4627721973281525\n",
      "Objective value at epoch t=77 is 0.4627721755422858\n",
      "Objective value at epoch t=78 is 0.46277164070331434\n",
      "Objective value at epoch t=79 is 0.4627712571527428\n",
      "Objective value at epoch t=80 is 0.4627710588407135\n",
      "Objective value at epoch t=81 is 0.4627710728210717\n",
      "Objective value at epoch t=82 is 0.4627708683540721\n",
      "Objective value at epoch t=83 is 0.4627708046410519\n",
      "Objective value at epoch t=84 is 0.4627705764248847\n",
      "Objective value at epoch t=85 is 0.4627703828347226\n",
      "Objective value at epoch t=86 is 0.46277024490083163\n",
      "Objective value at epoch t=87 is 0.46277021597668117\n",
      "Objective value at epoch t=88 is 0.4627701116194422\n",
      "Objective value at epoch t=89 is 0.4627700292756235\n",
      "Objective value at epoch t=90 is 0.4627699543866105\n",
      "Objective value at epoch t=91 is 0.46276980410765856\n",
      "Objective value at epoch t=92 is 0.46276978149463294\n",
      "Objective value at epoch t=93 is 0.46276976694400423\n",
      "Objective value at epoch t=94 is 0.46276974438581614\n",
      "Objective value at epoch t=95 is 0.4627696458421699\n",
      "Objective value at epoch t=96 is 0.46276960330786593\n",
      "Objective value at epoch t=97 is 0.4627695715854263\n",
      "Objective value at epoch t=98 is 0.46276954631445033\n",
      "Objective value at epoch t=99 is 0.4627695114458799\n"
     ]
    }
   ],
   "source": [
    "# MB-SGD with batch size b=8\n",
    "lam = 1E-6 # do not change\n",
    "b = 8 # do not change\n",
    "stepsize = 0.1 # you must tune this parameter\n",
    "\n",
    "w, objvals_mbsgd8 = mb_sgd(x_train, y_train, lam, b, stepsize)"
   ]
  },
  {
   "cell_type": "code",
   "execution_count": 20,
   "metadata": {},
   "outputs": [
    {
     "name": "stdout",
     "output_type": "stream",
     "text": [
      "Objective value at epoch t=0 is 0.5693618937031016\n",
      "Objective value at epoch t=1 is 0.48789294848596676\n",
      "Objective value at epoch t=2 is 0.47503164951857196\n",
      "Objective value at epoch t=3 is 0.47075512518650653\n",
      "Objective value at epoch t=4 is 0.4682500809385178\n",
      "Objective value at epoch t=5 is 0.46702559605497374\n",
      "Objective value at epoch t=6 is 0.46674598809930945\n",
      "Objective value at epoch t=7 is 0.46596716199832694\n",
      "Objective value at epoch t=8 is 0.4648381904762199\n",
      "Objective value at epoch t=9 is 0.4648888016892152\n",
      "Objective value at epoch t=10 is 0.46430092531688893\n",
      "Objective value at epoch t=11 is 0.4645949022868221\n",
      "Objective value at epoch t=12 is 0.46477412224061326\n",
      "Objective value at epoch t=13 is 0.46392000273511524\n",
      "Objective value at epoch t=14 is 0.4640638158997735\n",
      "Objective value at epoch t=15 is 0.463890568902913\n",
      "Objective value at epoch t=16 is 0.4636975920307009\n",
      "Objective value at epoch t=17 is 0.4637340923707992\n",
      "Objective value at epoch t=18 is 0.4637798549955591\n",
      "Objective value at epoch t=19 is 0.463612545130385\n",
      "Objective value at epoch t=20 is 0.46370368918793947\n",
      "Objective value at epoch t=21 is 0.4634073828396811\n",
      "Objective value at epoch t=22 is 0.46326109608023414\n",
      "Objective value at epoch t=23 is 0.4632209818215709\n",
      "Objective value at epoch t=24 is 0.46317700788688276\n",
      "Objective value at epoch t=25 is 0.46304140294907165\n",
      "Objective value at epoch t=26 is 0.4631268823362623\n",
      "Objective value at epoch t=27 is 0.4631443256646426\n",
      "Objective value at epoch t=28 is 0.46304737076511\n",
      "Objective value at epoch t=29 is 0.46303457995271236\n",
      "Objective value at epoch t=30 is 0.4630055596774536\n",
      "Objective value at epoch t=31 is 0.4629993556630275\n",
      "Objective value at epoch t=32 is 0.4629510907774007\n",
      "Objective value at epoch t=33 is 0.46294708385150624\n",
      "Objective value at epoch t=34 is 0.4629583779092451\n",
      "Objective value at epoch t=35 is 0.4629150125019127\n",
      "Objective value at epoch t=36 is 0.46291979940416955\n",
      "Objective value at epoch t=37 is 0.4629237201525077\n",
      "Objective value at epoch t=38 is 0.46290300730453293\n",
      "Objective value at epoch t=39 is 0.4628935736755295\n",
      "Objective value at epoch t=40 is 0.46288322604163923\n",
      "Objective value at epoch t=41 is 0.46286063729057253\n",
      "Objective value at epoch t=42 is 0.4628448540727003\n",
      "Objective value at epoch t=43 is 0.462852117427387\n",
      "Objective value at epoch t=44 is 0.4628368862271287\n",
      "Objective value at epoch t=45 is 0.46284012166466076\n",
      "Objective value at epoch t=46 is 0.4628367206422859\n",
      "Objective value at epoch t=47 is 0.4628277029609916\n",
      "Objective value at epoch t=48 is 0.46283260107507757\n",
      "Objective value at epoch t=49 is 0.46281596000109726\n",
      "Objective value at epoch t=50 is 0.4628287228548082\n",
      "Objective value at epoch t=51 is 0.46281880894119426\n",
      "Objective value at epoch t=52 is 0.46281093585677524\n",
      "Objective value at epoch t=53 is 0.4628117030924863\n",
      "Objective value at epoch t=54 is 0.4628149005615925\n",
      "Objective value at epoch t=55 is 0.46280820973449915\n",
      "Objective value at epoch t=56 is 0.46280804997489905\n",
      "Objective value at epoch t=57 is 0.46280475996327697\n",
      "Objective value at epoch t=58 is 0.4628047898337269\n",
      "Objective value at epoch t=59 is 0.462803598456766\n",
      "Objective value at epoch t=60 is 0.46280178903189856\n",
      "Objective value at epoch t=61 is 0.4627997717413791\n",
      "Objective value at epoch t=62 is 0.4627988420059988\n",
      "Objective value at epoch t=63 is 0.462798608890637\n",
      "Objective value at epoch t=64 is 0.46279802282915383\n",
      "Objective value at epoch t=65 is 0.4627968862604045\n",
      "Objective value at epoch t=66 is 0.4627967863064396\n",
      "Objective value at epoch t=67 is 0.46279546445132197\n",
      "Objective value at epoch t=68 is 0.4627955820742148\n",
      "Objective value at epoch t=69 is 0.46279443792693076\n",
      "Objective value at epoch t=70 is 0.46279455438013806\n",
      "Objective value at epoch t=71 is 0.4627950264509327\n",
      "Objective value at epoch t=72 is 0.46279439533356204\n",
      "Objective value at epoch t=73 is 0.46279448031053605\n",
      "Objective value at epoch t=74 is 0.46279330905141414\n",
      "Objective value at epoch t=75 is 0.4627935030051309\n",
      "Objective value at epoch t=76 is 0.462793613769313\n",
      "Objective value at epoch t=77 is 0.46279338309392204\n",
      "Objective value at epoch t=78 is 0.4627930605486741\n",
      "Objective value at epoch t=79 is 0.46279279224200065\n",
      "Objective value at epoch t=80 is 0.4627928215339817\n",
      "Objective value at epoch t=81 is 0.46279242471793386\n",
      "Objective value at epoch t=82 is 0.46279254268452596\n",
      "Objective value at epoch t=83 is 0.4627926736578648\n",
      "Objective value at epoch t=84 is 0.46279252764508005\n",
      "Objective value at epoch t=85 is 0.46279241127434095\n",
      "Objective value at epoch t=86 is 0.46279233713704293\n",
      "Objective value at epoch t=87 is 0.46279219620441364\n",
      "Objective value at epoch t=88 is 0.46279207607045175\n",
      "Objective value at epoch t=89 is 0.4627920311022854\n",
      "Objective value at epoch t=90 is 0.46279195429678993\n",
      "Objective value at epoch t=91 is 0.4627919609915169\n",
      "Objective value at epoch t=92 is 0.4627920911291037\n",
      "Objective value at epoch t=93 is 0.4627919877359005\n",
      "Objective value at epoch t=94 is 0.4627919500816298\n",
      "Objective value at epoch t=95 is 0.46279183332500756\n",
      "Objective value at epoch t=96 is 0.4627919986582806\n",
      "Objective value at epoch t=97 is 0.46279183593426004\n",
      "Objective value at epoch t=98 is 0.46279177700039115\n",
      "Objective value at epoch t=99 is 0.46279178015527067\n"
     ]
    }
   ],
   "source": [
    "# MB-SGD with batch size b=64\n",
    "lam = 1E-6 # do not change\n",
    "b = 64 # do not change\n",
    "stepsize = 0.5 # you must tune this parameter\n",
    "\n",
    "w, objvals_mbsgd64 = mb_sgd(x_train, y_train, lam, b, stepsize)"
   ]
  },
  {
   "cell_type": "markdown",
   "metadata": {},
   "source": [
    "# 7. Plot and compare GD, SGD, and MB-SGD"
   ]
  },
  {
   "cell_type": "markdown",
   "metadata": {},
   "source": [
    "You are required to compare the following algorithms:\n",
    "\n",
    "- Gradient descent (GD)\n",
    "\n",
    "- SGD\n",
    "\n",
    "- MB-SGD with b=8\n",
    "\n",
    "- MB-SGD with b=64\n",
    "\n",
    "Follow the code in Section 4 to plot ```objective function value``` against ```epochs```. There should be four curves in the plot; each curve corresponds to one algorithm."
   ]
  },
  {
   "cell_type": "markdown",
   "metadata": {},
   "source": [
    "Hint: Logistic regression with $\\ell_2$-norm regularization is a strongly convex optimization problem. All the algorithms will converge to the same solution. **In the end, the ``objective function value`` of the 4 algorithms will be the same. If not the same, your implementation must be wrong. Do NOT submit wrong code and wrong result!**"
   ]
  },
  {
   "cell_type": "code",
   "execution_count": 21,
   "metadata": {},
   "outputs": [
    {
     "name": "stderr",
     "output_type": "stream",
     "text": [
      "<ipython-input-21-a35bc80e175e>:11: MatplotlibDeprecationWarning: Case-insensitive properties were deprecated in 3.3 and support will be removed two minor releases later\n",
      "  line0, = plt.plot(epochs_gd, objvals_gd, '--b', LineWidth=4)\n",
      "<ipython-input-21-a35bc80e175e>:12: MatplotlibDeprecationWarning: Case-insensitive properties were deprecated in 3.3 and support will be removed two minor releases later\n",
      "  line1, = plt.plot(epochs_sgd, objvals_sgd, '-r', LineWidth=2)\n",
      "<ipython-input-21-a35bc80e175e>:13: MatplotlibDeprecationWarning: Case-insensitive properties were deprecated in 3.3 and support will be removed two minor releases later\n",
      "  line2, = plt.plot(epochs_mbsgd8, objvals_mbsgd8, '--g', LineWidth=3)\n",
      "<ipython-input-21-a35bc80e175e>:14: MatplotlibDeprecationWarning: Case-insensitive properties were deprecated in 3.3 and support will be removed two minor releases later\n",
      "  line3, = plt.plot(epochs_mbsgd64, objvals_mbsgd64, '-y', LineWidth=3)\n",
      "<ipython-input-21-a35bc80e175e>:16: MatplotlibDeprecationWarning: Case-insensitive properties were deprecated in 3.3 and support will be removed two minor releases later\n",
      "  plt.xlabel('Epochs', FontSize=20)\n",
      "<ipython-input-21-a35bc80e175e>:17: MatplotlibDeprecationWarning: Case-insensitive properties were deprecated in 3.3 and support will be removed two minor releases later\n",
      "  plt.ylabel('Objective Value', FontSize=20)\n",
      "<ipython-input-21-a35bc80e175e>:18: MatplotlibDeprecationWarning: Case-insensitive properties were deprecated in 3.3 and support will be removed two minor releases later\n",
      "  plt.xticks(FontSize=16)\n",
      "<ipython-input-21-a35bc80e175e>:19: MatplotlibDeprecationWarning: Case-insensitive properties were deprecated in 3.3 and support will be removed two minor releases later\n",
      "  plt.yticks(FontSize=16)\n"
     ]
    },
    {
     "data": {
      "image/png": "[encoded data removed]",
      "text/plain": [
       "<Figure size 1080x720 with 1 Axes>"
      ]
     },
     "metadata": {
      "needs_background": "light"
     },
     "output_type": "display_data"
    }
   ],
   "source": [
    "import matplotlib.pyplot as plt\n",
    "%matplotlib inline\n",
    "\n",
    "fig = plt.figure(figsize=(15,10))\n",
    "\n",
    "epochs_gd = range(len(objvals_gd))\n",
    "epochs_sgd = range(len(objvals_sgd))\n",
    "epochs_mbsgd8 = range(len(objvals_mbsgd8))\n",
    "epochs_mbsgd64 = range(len(objvals_mbsgd64))\n",
    "\n",
    "line0, = plt.plot(epochs_gd, objvals_gd, '--b', LineWidth=4)\n",
    "line1, = plt.plot(epochs_sgd, objvals_sgd, '-r', LineWidth=2)\n",
    "line2, = plt.plot(epochs_mbsgd8, objvals_mbsgd8, '--g', LineWidth=3)\n",
    "line3, = plt.plot(epochs_mbsgd64, objvals_mbsgd64, '-y', LineWidth=3)\n",
    "\n",
    "plt.xlabel('Epochs', FontSize=20)\n",
    "plt.ylabel('Objective Value', FontSize=20)\n",
    "plt.xticks(FontSize=16)\n",
    "plt.yticks(FontSize=16)\n",
    "plt.legend([line0, line1, line2, line3], ['GD', 'SGD', 'MBSGD8', 'MBSGD64'], fontsize=20)\n",
    "plt.tight_layout()\n",
    "plt.show()\n",
    "fig.savefig('compare_gd_sgd.pdf', format='pdf', dpi=1200)"
   ]
  },
  {
   "cell_type": "markdown",
   "metadata": {},
   "source": [
    "# Prediction MBSGD"
   ]
  },
  {
   "cell_type": "code",
   "execution_count": 22,
   "metadata": {},
   "outputs": [
    {
     "name": "stdout",
     "output_type": "stream",
     "text": [
      "Training classification error is 0.2203125\n"
     ]
    }
   ],
   "source": [
    "f_train = predict(w, x_train)\n",
    "diff = numpy.abs(f_train - y_train) / 2\n",
    "error_train = numpy.mean(diff)\n",
    "print('Training classification error is ' + str(error_train))"
   ]
  },
  {
   "cell_type": "code",
   "execution_count": 23,
   "metadata": {},
   "outputs": [
    {
     "name": "stdout",
     "output_type": "stream",
     "text": [
      "Test classification error is 0.2734375\n"
     ]
    }
   ],
   "source": [
    "# evaluate test error\n",
    "f_test = predict(w, x_test)\n",
    "diff = numpy.abs(f_test - y_test) / 2\n",
    "error_test = numpy.mean(diff)\n",
    "print('Test classification error is ' + str(error_test))"
   ]
  },
  {
   "cell_type": "code",
   "execution_count": null,
   "metadata": {},
   "outputs": [],
   "source": []
  }
 ],
 "metadata": {
  "kernelspec": {
   "display_name": "Python 3",
   "language": "python",
   "name": "python3"
  },
  "language_info": {
   "codemirror_mode": {
    "name": "ipython",
    "version": 3
   },
   "file_extension": ".py",
   "mimetype": "text/x-python",
   "name": "python",
   "nbconvert_exporter": "python",
   "pygments_lexer": "ipython3",
   "version": "3.8.5"
  }
 },
 "nbformat": 4,
 "nbformat_minor": 2
}

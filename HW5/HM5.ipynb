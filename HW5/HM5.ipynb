{
 "cells": [
  {
   "cell_type": "markdown",
   "metadata": {},
   "source": [
    "# Home 5: Build a seq2seq model for machine translation.\n",
    "\n",
    "### Name: Jeremiah McReynolds\n",
    "\n",
    "### Task: Translate English to Russian"
   ]
  },
  {
   "cell_type": "markdown",
   "metadata": {},
   "source": [
    "## 0. You will do the following:\n",
    "\n",
    "1. Read and run my code.\n",
    "2. Complete the code in Section 1.1 and Section 4.2.\n",
    "\n",
    "    * Translation **English** to **German** is not acceptable!!! Try another pair of languages.\n",
    "    \n",
    "3. **Make improvements.** Directly modify the code in Section 3. Do at least one of the two. By doing both correctly, you will get up to 1 bonus score to the total.\n",
    "\n",
    "    * Bi-LSTM instead of LSTM.\n",
    "        \n",
    "    * Attention. (You are allowed to use existing code.)\n",
    "    \n",
    "4. Evaluate the translation using the BLEU score. \n",
    "\n",
    "    * Optional. Up to 1 bonus scores to the total.\n",
    "    \n",
    "5. Convert the notebook to .HTML file. \n",
    "\n",
    "    * The HTML file must contain the code and the output after execution.\n",
    "\n",
    "6. Put the .HTML file in your Google Drive, Dropbox, or Github repo.  (If you submit the file to Google Drive or Dropbox, you must make the file \"open-access\". The delay caused by \"deny of access\" may result in late penalty.)\n",
    "\n",
    "7. Submit the link to the HTML file to Canvas.    \n"
   ]
  },
  {
   "cell_type": "markdown",
   "metadata": {},
   "source": [
    "### Hint: \n",
    "\n",
    "To implement ```Bi-LSTM```, you will need the following code to build the encoder. Do NOT use Bi-LSTM for the decoder."
   ]
  },
  {
   "cell_type": "markdown",
   "metadata": {},
   "source": [
    "```\n",
    "from keras.layers import Bidirectional, Concatenate\n",
    "\n",
    "encoder_bilstm = Bidirectional(LSTM(latent_dim, return_state=True, \n",
    "                                  dropout=0.5, name='encoder_lstm'))\n",
    "_, forward_h, forward_c, backward_h, backward_c = encoder_bilstm(encoder_inputs)\n",
    "\n",
    "state_h = Concatenate()([forward_h, backward_h])\n",
    "state_c = Concatenate()([forward_c, backward_c])\n",
    "```"
   ]
  },
  {
   "cell_type": "markdown",
   "metadata": {},
   "source": [
    "## 1. Data preparation\n",
    "\n",
    "1. Download data (e.g., \"deu-eng.zip\") from http://www.manythings.org/anki/\n",
    "2. Unzip the .ZIP file.\n",
    "3. Put the .TXT file (e.g., \"deu.txt\") in the directory \"./Data/\"."
   ]
  },
  {
   "cell_type": "markdown",
   "metadata": {},
   "source": [
    "### 1.1. Load and clean text\n"
   ]
  },
  {
   "cell_type": "code",
   "execution_count": 1,
   "metadata": {},
   "outputs": [],
   "source": [
    "import re\n",
    "import string\n",
    "from unicodedata import normalize\n",
    "import numpy\n",
    "\n",
    "# load doc into memory\n",
    "def load_doc(filename):\n",
    "    # open the file as read only\n",
    "    file = open(filename, mode='rt', encoding='utf-8')\n",
    "    # read all text\n",
    "    text = file.read()\n",
    "    # close the file\n",
    "    file.close()\n",
    "    return text\n",
    "\n",
    "\n",
    "# split a loaded document into sentences\n",
    "def to_pairs(doc):\n",
    "    lines = doc.strip().split('\\n')\n",
    "    pairs = [line.split('\\t') for line in  lines]\n",
    "    return pairs\n",
    "\n",
    "def clean_data(lines):\n",
    "    cleaned = list()\n",
    "    # prepare regex for char filtering\n",
    "    re_print = re.compile('[^%s]' % re.escape(string.printable))\n",
    "    # prepare translation table for removing punctuation\n",
    "    table = str.maketrans('', '', string.punctuation)\n",
    "    for pair in lines:\n",
    "        clean_pair = list()\n",
    "        for line in pair:\n",
    "            # normalize unicode characters\n",
    "            line = normalize('NFD', line).encode('utf8')\n",
    "            line = line.decode('utf8')\n",
    "            # tokenize on white space\n",
    "            line = line.split()\n",
    "            # convert to lowercase\n",
    "            line = [word.lower() for word in line]\n",
    "            # remove punctuation from each token\n",
    "            line = [word.translate(table) for word in line]\n",
    "            # remove non-printable chars form each token\n",
    "            # line = [re_print.sub('', w) for w in line]\n",
    "            # remove tokens with numbers in them\n",
    "            line = [word for word in line if word.isalpha()]\n",
    "            # store as string\n",
    "            clean_pair.append(' '.join(line))\n",
    "        cleaned.append(clean_pair)\n",
    "    return numpy.array(cleaned)"
   ]
  },
  {
   "cell_type": "markdown",
   "metadata": {},
   "source": [
    "#### Fill the following blanks:"
   ]
  },
  {
   "cell_type": "code",
   "execution_count": 2,
   "metadata": {},
   "outputs": [],
   "source": [
    "# e.g., filename = 'Data/deu.txt'\n",
    "filename = 'Data/rus.txt'\n",
    "\n",
    "# e.g., n_train = 20000\n",
    "n_train = 20000"
   ]
  },
  {
   "cell_type": "code",
   "execution_count": 3,
   "metadata": {},
   "outputs": [],
   "source": [
    "# load dataset\n",
    "doc = load_doc(filename)\n",
    "\n",
    "# split into Language1-Language2 pairs\n",
    "pairs = to_pairs(doc)\n",
    "\n",
    "# clean sentences\n",
    "clean_pairs = clean_data(pairs)[0:n_train, :]"
   ]
  },
  {
   "cell_type": "code",
   "execution_count": 4,
   "metadata": {},
   "outputs": [
    {
     "name": "stdout",
     "output_type": "stream",
     "text": [
      "[tom danced] => [том станцевал]\n",
      "[tom dances] => [том танцует]\n",
      "[tom did it] => [том сделал это]\n",
      "[tom did it] => [том это сделал]\n",
      "[tom drinks] => [том]\n",
      "[tom drives] => [том водит машину]\n",
      "[tom failed] => [у тома ничего не вышло]\n",
      "[tom failed] => [том потерпел фиаско]\n",
      "[tom failed] => [том потерпел неудачу]\n",
      "[tom failed] => [том не имел успеха]\n"
     ]
    }
   ],
   "source": [
    "for i in range(3000, 3010):\n",
    "    print('[' + clean_pairs[i, 0] + '] => [' + clean_pairs[i, 1] + ']')"
   ]
  },
  {
   "cell_type": "code",
   "execution_count": 5,
   "metadata": {},
   "outputs": [
    {
     "name": "stdout",
     "output_type": "stream",
     "text": [
      "Length of input_texts:  (20000,)\n",
      "Length of target_texts: (20000,)\n"
     ]
    }
   ],
   "source": [
    "input_texts = clean_pairs[:, 0]\n",
    "target_texts = ['\\t' + text + '\\n' for text in clean_pairs[:, 1]]\n",
    "\n",
    "print('Length of input_texts:  ' + str(input_texts.shape))\n",
    "print('Length of target_texts: ' + str(input_texts.shape))"
   ]
  },
  {
   "cell_type": "code",
   "execution_count": 6,
   "metadata": {},
   "outputs": [
    {
     "name": "stdout",
     "output_type": "stream",
     "text": [
      "max length of input  sentences: 15\n",
      "max length of target sentences: 45\n"
     ]
    }
   ],
   "source": [
    "max_encoder_seq_length = max(len(line) for line in input_texts)\n",
    "max_decoder_seq_length = max(len(line) for line in target_texts)\n",
    "\n",
    "print('max length of input  sentences: %d' % (max_encoder_seq_length))\n",
    "print('max length of target sentences: %d' % (max_decoder_seq_length))"
   ]
  },
  {
   "cell_type": "markdown",
   "metadata": {},
   "source": [
    "**Remark:** To this end, you have two lists of sentences: input_texts and target_texts"
   ]
  },
  {
   "cell_type": "markdown",
   "metadata": {},
   "source": [
    "## 2. Text processing\n",
    "\n",
    "### 2.1. Convert texts to sequences\n",
    "\n",
    "- Input: A list of $n$ sentences (with max length $t$).\n",
    "- It is represented by a $n\\times t$ matrix after the tokenization and zero-padding."
   ]
  },
  {
   "cell_type": "code",
   "execution_count": 7,
   "metadata": {},
   "outputs": [
    {
     "name": "stdout",
     "output_type": "stream",
     "text": [
      "shape of encoder_input_seq: (20000, 15)\n",
      "shape of input_token_index: 27\n",
      "shape of decoder_input_seq: (20000, 45)\n",
      "shape of target_token_index: 44\n"
     ]
    }
   ],
   "source": [
    "from keras.preprocessing.text import Tokenizer\n",
    "from keras.preprocessing.sequence import pad_sequences\n",
    "\n",
    "# encode and pad sequences\n",
    "def text2sequences(max_len, lines):\n",
    "    tokenizer = Tokenizer(char_level=True, filters='')\n",
    "    tokenizer.fit_on_texts(lines)\n",
    "    seqs = tokenizer.texts_to_sequences(lines)\n",
    "    seqs_pad = pad_sequences(seqs, maxlen=max_len, padding='post')\n",
    "    return seqs_pad, tokenizer.word_index\n",
    "\n",
    "\n",
    "encoder_input_seq, input_token_index = text2sequences(max_encoder_seq_length, \n",
    "                                                      input_texts)\n",
    "decoder_input_seq, target_token_index = text2sequences(max_decoder_seq_length, \n",
    "                                                       target_texts)\n",
    "\n",
    "print('shape of encoder_input_seq: ' + str(encoder_input_seq.shape))\n",
    "print('shape of input_token_index: ' + str(len(input_token_index)))\n",
    "print('shape of decoder_input_seq: ' + str(decoder_input_seq.shape))\n",
    "print('shape of target_token_index: ' + str(len(target_token_index)))"
   ]
  },
  {
   "cell_type": "code",
   "execution_count": 8,
   "metadata": {},
   "outputs": [
    {
     "name": "stdout",
     "output_type": "stream",
     "text": [
      "num_encoder_tokens: 28\n",
      "num_decoder_tokens: 45\n"
     ]
    }
   ],
   "source": [
    "num_encoder_tokens = len(input_token_index) + 1\n",
    "num_decoder_tokens = len(target_token_index) + 1\n",
    "\n",
    "print('num_encoder_tokens: ' + str(num_encoder_tokens))\n",
    "print('num_decoder_tokens: ' + str(num_decoder_tokens))"
   ]
  },
  {
   "cell_type": "markdown",
   "metadata": {},
   "source": [
    "**Remark:** To this end, the input language and target language texts are converted to 2 matrices. \n",
    "\n",
    "- Their number of rows are both n_train.\n",
    "- Their number of columns are respective max_encoder_seq_length and max_decoder_seq_length."
   ]
  },
  {
   "cell_type": "markdown",
   "metadata": {},
   "source": [
    "The followings print a sentence and its representation as a sequence."
   ]
  },
  {
   "cell_type": "code",
   "execution_count": 9,
   "metadata": {},
   "outputs": [
    {
     "data": {
      "text/plain": [
       "'\\tидите\\n'"
      ]
     },
     "execution_count": 9,
     "metadata": {},
     "output_type": "execute_result"
    }
   ],
   "source": [
    "target_texts[100]"
   ]
  },
  {
   "cell_type": "code",
   "execution_count": 10,
   "metadata": {},
   "outputs": [
    {
     "data": {
      "text/plain": [
       "array([ 3,  9, 19,  9,  5,  6,  4,  0,  0,  0,  0,  0,  0,  0,  0,  0,  0,\n",
       "        0,  0,  0,  0,  0,  0,  0,  0,  0,  0,  0,  0,  0,  0,  0,  0,  0,\n",
       "        0,  0,  0,  0,  0,  0,  0,  0,  0,  0,  0], dtype=int32)"
      ]
     },
     "execution_count": 10,
     "metadata": {},
     "output_type": "execute_result"
    }
   ],
   "source": [
    "decoder_input_seq[100, :]"
   ]
  },
  {
   "cell_type": "markdown",
   "metadata": {},
   "source": [
    "## 2.2. One-hot encode\n",
    "\n",
    "- Input: A list of $n$ sentences (with max length $t$).\n",
    "- It is represented by a $n\\times t$ matrix after the tokenization and zero-padding.\n",
    "- It is represented by a $n\\times t \\times v$ tensor ($t$ is the number of unique chars) after the one-hot encoding."
   ]
  },
  {
   "cell_type": "code",
   "execution_count": 11,
   "metadata": {},
   "outputs": [
    {
     "name": "stdout",
     "output_type": "stream",
     "text": [
      "(20000, 15, 28)\n",
      "(20000, 45, 45)\n"
     ]
    }
   ],
   "source": [
    "from keras.utils import to_categorical\n",
    "\n",
    "# one hot encode target sequence\n",
    "def onehot_encode(sequences, max_len, vocab_size):\n",
    "    n = len(sequences)\n",
    "    data = numpy.zeros((n, max_len, vocab_size))\n",
    "    for i in range(n):\n",
    "        data[i, :, :] = to_categorical(sequences[i], num_classes=vocab_size)\n",
    "    return data\n",
    "\n",
    "encoder_input_data = onehot_encode(encoder_input_seq, max_encoder_seq_length, num_encoder_tokens)\n",
    "decoder_input_data = onehot_encode(decoder_input_seq, max_decoder_seq_length, num_decoder_tokens)\n",
    "\n",
    "decoder_target_seq = numpy.zeros(decoder_input_seq.shape)\n",
    "decoder_target_seq[:, 0:-1] = decoder_input_seq[:, 1:]\n",
    "decoder_target_data = onehot_encode(decoder_target_seq, \n",
    "                                    max_decoder_seq_length, \n",
    "                                    num_decoder_tokens)\n",
    "\n",
    "print(encoder_input_data.shape)\n",
    "print(decoder_input_data.shape)"
   ]
  },
  {
   "cell_type": "code",
   "execution_count": 12,
   "metadata": {},
   "outputs": [
    {
     "data": {
      "text/plain": [
       "('go now',\n",
       " array([17,  4,  1,  8,  4, 16,  0,  0,  0,  0,  0,  0,  0,  0,  0],\n",
       "       dtype=int32),\n",
       " array([[0., 0., 0., 0., 0., 0., 0., 0., 0., 0., 0., 0., 0., 0., 0., 0.,\n",
       "         0., 1., 0., 0., 0., 0., 0., 0., 0., 0., 0., 0.],\n",
       "        [0., 0., 0., 0., 1., 0., 0., 0., 0., 0., 0., 0., 0., 0., 0., 0.,\n",
       "         0., 0., 0., 0., 0., 0., 0., 0., 0., 0., 0., 0.],\n",
       "        [0., 1., 0., 0., 0., 0., 0., 0., 0., 0., 0., 0., 0., 0., 0., 0.,\n",
       "         0., 0., 0., 0., 0., 0., 0., 0., 0., 0., 0., 0.],\n",
       "        [0., 0., 0., 0., 0., 0., 0., 0., 1., 0., 0., 0., 0., 0., 0., 0.,\n",
       "         0., 0., 0., 0., 0., 0., 0., 0., 0., 0., 0., 0.],\n",
       "        [0., 0., 0., 0., 1., 0., 0., 0., 0., 0., 0., 0., 0., 0., 0., 0.,\n",
       "         0., 0., 0., 0., 0., 0., 0., 0., 0., 0., 0., 0.],\n",
       "        [0., 0., 0., 0., 0., 0., 0., 0., 0., 0., 0., 0., 0., 0., 0., 0.,\n",
       "         1., 0., 0., 0., 0., 0., 0., 0., 0., 0., 0., 0.],\n",
       "        [1., 0., 0., 0., 0., 0., 0., 0., 0., 0., 0., 0., 0., 0., 0., 0.,\n",
       "         0., 0., 0., 0., 0., 0., 0., 0., 0., 0., 0., 0.],\n",
       "        [1., 0., 0., 0., 0., 0., 0., 0., 0., 0., 0., 0., 0., 0., 0., 0.,\n",
       "         0., 0., 0., 0., 0., 0., 0., 0., 0., 0., 0., 0.],\n",
       "        [1., 0., 0., 0., 0., 0., 0., 0., 0., 0., 0., 0., 0., 0., 0., 0.,\n",
       "         0., 0., 0., 0., 0., 0., 0., 0., 0., 0., 0., 0.],\n",
       "        [1., 0., 0., 0., 0., 0., 0., 0., 0., 0., 0., 0., 0., 0., 0., 0.,\n",
       "         0., 0., 0., 0., 0., 0., 0., 0., 0., 0., 0., 0.],\n",
       "        [1., 0., 0., 0., 0., 0., 0., 0., 0., 0., 0., 0., 0., 0., 0., 0.,\n",
       "         0., 0., 0., 0., 0., 0., 0., 0., 0., 0., 0., 0.],\n",
       "        [1., 0., 0., 0., 0., 0., 0., 0., 0., 0., 0., 0., 0., 0., 0., 0.,\n",
       "         0., 0., 0., 0., 0., 0., 0., 0., 0., 0., 0., 0.],\n",
       "        [1., 0., 0., 0., 0., 0., 0., 0., 0., 0., 0., 0., 0., 0., 0., 0.,\n",
       "         0., 0., 0., 0., 0., 0., 0., 0., 0., 0., 0., 0.],\n",
       "        [1., 0., 0., 0., 0., 0., 0., 0., 0., 0., 0., 0., 0., 0., 0., 0.,\n",
       "         0., 0., 0., 0., 0., 0., 0., 0., 0., 0., 0., 0.],\n",
       "        [1., 0., 0., 0., 0., 0., 0., 0., 0., 0., 0., 0., 0., 0., 0., 0.,\n",
       "         0., 0., 0., 0., 0., 0., 0., 0., 0., 0., 0., 0.]]))"
      ]
     },
     "execution_count": 12,
     "metadata": {},
     "output_type": "execute_result"
    }
   ],
   "source": [
    "input_texts[100], encoder_input_seq[100, :], encoder_input_data[100, :]"
   ]
  },
  {
   "cell_type": "markdown",
   "metadata": {},
   "source": [
    "## 3. Build the networks (for training)\n",
    "\n",
    "- Build encoder, decoder, and connect the two modules to get \"model\". \n",
    "\n",
    "- Fit the model on the bilingual data to train the parameters in the encoder and decoder."
   ]
  },
  {
   "cell_type": "markdown",
   "metadata": {},
   "source": [
    "### 3.1. Encoder network\n",
    "\n",
    "- Input:  one-hot encode of the input language\n",
    "\n",
    "- Return: \n",
    "\n",
    "    -- output (all the hidden states   $h_1, \\cdots , h_t$) are always discarded\n",
    "    \n",
    "    -- the final hidden state  $h_t$\n",
    "    \n",
    "    -- the final conveyor belt $c_t$"
   ]
  },
  {
   "cell_type": "code",
   "execution_count": 13,
   "metadata": {},
   "outputs": [],
   "source": [
    "from keras.layers import Input, LSTM, Bidirectional, Concatenate\n",
    "from keras.models import Model\n",
    "\n",
    "latent_dim = 256\n",
    "\n",
    "# inputs of the encoder network\n",
    "encoder_inputs = Input(shape=(None, num_encoder_tokens), \n",
    "                       name='encoder_inputs')\n",
    "\n",
    "# set the LSTM layer\n",
    "encoder_bilstm = Bidirectional(LSTM(latent_dim, return_state=True, \n",
    "                    dropout=0.5, name='encoder_lstm'))\n",
    "encoder_out, forward_h, forward_c, backward_h, backward_c = encoder_bilstm(encoder_inputs)\n",
    "\n",
    "state_h = Concatenate()([forward_h, backward_h])\n",
    "state_c = Concatenate()([forward_c, backward_c])\n",
    "\n",
    "# build the encoder network model\n",
    "encoder_model = Model(inputs=encoder_inputs, \n",
    "                      outputs=[state_h, state_c],\n",
    "                      name='encoder')"
   ]
  },
  {
   "cell_type": "markdown",
   "metadata": {},
   "source": [
    "Print a summary and save the encoder network structure to \"./encoder.pdf\""
   ]
  },
  {
   "cell_type": "code",
   "execution_count": 14,
   "metadata": {},
   "outputs": [
    {
     "name": "stdout",
     "output_type": "stream",
     "text": [
      "Model: \"encoder\"\n",
      "__________________________________________________________________________________________________\n",
      "Layer (type)                    Output Shape         Param #     Connected to                     \n",
      "==================================================================================================\n",
      "encoder_inputs (InputLayer)     [(None, None, 28)]   0                                            \n",
      "__________________________________________________________________________________________________\n",
      "bidirectional (Bidirectional)   [(None, 512), (None, 583680      encoder_inputs[0][0]             \n",
      "__________________________________________________________________________________________________\n",
      "concatenate (Concatenate)       (None, 512)          0           bidirectional[0][1]              \n",
      "                                                                 bidirectional[0][3]              \n",
      "__________________________________________________________________________________________________\n",
      "concatenate_1 (Concatenate)     (None, 512)          0           bidirectional[0][2]              \n",
      "                                                                 bidirectional[0][4]              \n",
      "==================================================================================================\n",
      "Total params: 583,680\n",
      "Trainable params: 583,680\n",
      "Non-trainable params: 0\n",
      "__________________________________________________________________________________________________\n"
     ]
    }
   ],
   "source": [
    "from IPython.display import SVG\n",
    "from keras.utils.vis_utils import model_to_dot, plot_model\n",
    "\n",
    "SVG(model_to_dot(encoder_model, show_shapes=False).create(prog='dot', format='svg'))\n",
    "\n",
    "plot_model(\n",
    "    model=encoder_model, show_shapes=False,\n",
    "    to_file='encoder.pdf'\n",
    ")\n",
    "\n",
    "encoder_model.summary()"
   ]
  },
  {
   "cell_type": "markdown",
   "metadata": {},
   "source": [
    "### 3.2. Decoder network\n",
    "\n",
    "- Inputs:  \n",
    "\n",
    "    -- one-hot encode of the target language\n",
    "    \n",
    "    -- The initial hidden state $h_t$ \n",
    "    \n",
    "    -- The initial conveyor belt $c_t$ \n",
    "\n",
    "- Return: \n",
    "\n",
    "    -- output (all the hidden states) $h_1, \\cdots , h_t$\n",
    "\n",
    "    -- the final hidden state  $h_t$ (discarded in the training and used in the prediction)\n",
    "    \n",
    "    -- the final conveyor belt $c_t$ (discarded in the training and used in the prediction)"
   ]
  },
  {
   "cell_type": "code",
   "execution_count": 15,
   "metadata": {},
   "outputs": [],
   "source": [
    "from keras.layers import Input, LSTM, Dense, Attention, TimeDistributed\n",
    "from keras.models import Model\n",
    "\n",
    "# inputs of the decoder network\n",
    "decoder_input_h = Input(shape=(latent_dim * 2,), name='decoder_input_h')\n",
    "decoder_input_c = Input(shape=(latent_dim * 2,), name='decoder_input_c')\n",
    "decoder_input_x = Input(shape=(None, num_decoder_tokens), name='decoder_input_x')\n",
    "\n",
    "# set the LSTM layer\n",
    "decoder_lstm = LSTM(latent_dim * 2, return_sequences=True, \n",
    "                    return_state=True, dropout=0.5, name='decoder_lstm')\n",
    "decoder_lstm_outputs, state_h, state_c = decoder_lstm(decoder_input_x, \n",
    "                                                      initial_state=[decoder_input_h, decoder_input_c])\n",
    "\n",
    "# set the Attention layer\n",
    "# attn_h, attn_c = Attention(name='attn_layer')([decoder_input_outputs, decoder_lstm_outputs])\n",
    "# decoder_attn_out = Concatenate(axis=-1, name='attn_concat')([decoder_lstm_out, attn_h])\n",
    "\n",
    "# set the Dense layer\n",
    "decoder_dense = Dense(num_decoder_tokens, activation='softmax', name='decoder_dense')\n",
    "decoder_outputs = decoder_dense(decoder_lstm_outputs)\n",
    "\n",
    "# build the decoder network model\n",
    "decoder_model = Model(inputs=[decoder_input_x, decoder_input_h, decoder_input_c],\n",
    "                      outputs=[decoder_outputs, state_h, state_c],\n",
    "                      name='decoder')"
   ]
  },
  {
   "cell_type": "markdown",
   "metadata": {},
   "source": [
    "Print a summary and save the encoder network structure to \"./decoder.pdf\""
   ]
  },
  {
   "cell_type": "code",
   "execution_count": 16,
   "metadata": {},
   "outputs": [
    {
     "name": "stdout",
     "output_type": "stream",
     "text": [
      "Model: \"decoder\"\n",
      "__________________________________________________________________________________________________\n",
      "Layer (type)                    Output Shape         Param #     Connected to                     \n",
      "==================================================================================================\n",
      "decoder_input_x (InputLayer)    [(None, None, 45)]   0                                            \n",
      "__________________________________________________________________________________________________\n",
      "decoder_input_h (InputLayer)    [(None, 512)]        0                                            \n",
      "__________________________________________________________________________________________________\n",
      "decoder_input_c (InputLayer)    [(None, 512)]        0                                            \n",
      "__________________________________________________________________________________________________\n",
      "decoder_lstm (LSTM)             [(None, None, 512),  1142784     decoder_input_x[0][0]            \n",
      "                                                                 decoder_input_h[0][0]            \n",
      "                                                                 decoder_input_c[0][0]            \n",
      "__________________________________________________________________________________________________\n",
      "decoder_dense (Dense)           (None, None, 45)     23085       decoder_lstm[0][0]               \n",
      "==================================================================================================\n",
      "Total params: 1,165,869\n",
      "Trainable params: 1,165,869\n",
      "Non-trainable params: 0\n",
      "__________________________________________________________________________________________________\n"
     ]
    }
   ],
   "source": [
    "from IPython.display import SVG\n",
    "from keras.utils.vis_utils import model_to_dot, plot_model\n",
    "\n",
    "SVG(model_to_dot(decoder_model, show_shapes=False).create(prog='dot', format='svg'))\n",
    "\n",
    "plot_model(\n",
    "    model=decoder_model, show_shapes=False,\n",
    "    to_file='decoder.pdf'\n",
    ")\n",
    "\n",
    "decoder_model.summary()"
   ]
  },
  {
   "cell_type": "markdown",
   "metadata": {},
   "source": [
    "### 3.3. Connect the encoder and decoder"
   ]
  },
  {
   "cell_type": "code",
   "execution_count": 17,
   "metadata": {},
   "outputs": [],
   "source": [
    "# input layers\n",
    "encoder_input_x = Input(shape=(None, num_encoder_tokens), name='encoder_input_x')\n",
    "decoder_input_x = Input(shape=(None, num_decoder_tokens), name='decoder_input_x')\n",
    "\n",
    "# connect encoder to decoder\n",
    "encoder_final_states = encoder_model([encoder_input_x])\n",
    "decoder_lstm_output, _, _ = decoder_lstm(decoder_input_x, initial_state=encoder_final_states)\n",
    "decoder_pred = decoder_dense(decoder_lstm_output)\n",
    "\n",
    "model = Model(inputs=[encoder_input_x, decoder_input_x], \n",
    "              outputs=decoder_pred, \n",
    "              name='model_training')"
   ]
  },
  {
   "cell_type": "code",
   "execution_count": 18,
   "metadata": {},
   "outputs": [
    {
     "name": "stdout",
     "output_type": "stream",
     "text": [
      "Model: \"model_training\"\n",
      "__________________________________________________________________________________________________\n",
      "Layer (type)                    Output Shape         Param #     Connected to                     \n",
      "==================================================================================================\n",
      "encoder_input_x (InputLayer)    [(None, None, 28)]   0                                            \n",
      "__________________________________________________________________________________________________\n",
      "decoder_input_x (InputLayer)    [(None, None, 45)]   0                                            \n",
      "__________________________________________________________________________________________________\n",
      "encoder (Functional)            [(None, 512), (None, 583680      encoder_input_x[0][0]            \n",
      "__________________________________________________________________________________________________\n",
      "decoder_lstm (LSTM)             [(None, None, 512),  1142784     decoder_input_x[0][0]            \n",
      "                                                                 encoder[0][0]                    \n",
      "                                                                 encoder[0][1]                    \n",
      "__________________________________________________________________________________________________\n",
      "decoder_dense (Dense)           (None, None, 45)     23085       decoder_lstm[1][0]               \n",
      "==================================================================================================\n",
      "Total params: 1,749,549\n",
      "Trainable params: 1,749,549\n",
      "Non-trainable params: 0\n",
      "__________________________________________________________________________________________________\n"
     ]
    }
   ],
   "source": [
    "from IPython.display import SVG\n",
    "from keras.utils.vis_utils import model_to_dot, plot_model\n",
    "\n",
    "SVG(model_to_dot(model, show_shapes=False).create(prog='dot', format='svg'))\n",
    "\n",
    "plot_model(\n",
    "    model=model, show_shapes=False,\n",
    "    to_file='model_training.pdf'\n",
    ")\n",
    "\n",
    "model.summary()"
   ]
  },
  {
   "cell_type": "markdown",
   "metadata": {},
   "source": [
    "### 3.5. Fit the model on the bilingual dataset\n",
    "\n",
    "- encoder_input_data: one-hot encode of the input language\n",
    "\n",
    "- decoder_input_data: one-hot encode of the input language\n",
    "\n",
    "- decoder_target_data: labels (left shift of decoder_input_data)\n",
    "\n",
    "- tune the hyper-parameters\n",
    "\n",
    "- stop when the validation loss stop decreasing."
   ]
  },
  {
   "cell_type": "code",
   "execution_count": 19,
   "metadata": {},
   "outputs": [
    {
     "name": "stdout",
     "output_type": "stream",
     "text": [
      "shape of encoder_input_data(20000, 15, 28)\n",
      "shape of decoder_input_data(20000, 45, 45)\n",
      "shape of decoder_target_data(20000, 45, 45)\n"
     ]
    }
   ],
   "source": [
    "print('shape of encoder_input_data' + str(encoder_input_data.shape))\n",
    "print('shape of decoder_input_data' + str(decoder_input_data.shape))\n",
    "print('shape of decoder_target_data' + str(decoder_target_data.shape))"
   ]
  },
  {
   "cell_type": "code",
   "execution_count": 20,
   "metadata": {},
   "outputs": [
    {
     "name": "stdout",
     "output_type": "stream",
     "text": [
      "Epoch 1/50\n",
      "250/250 [==============================] - 6s 10ms/step - loss: 1.2028 - val_loss: 0.7863\n",
      "Epoch 2/50\n",
      "250/250 [==============================] - 2s 7ms/step - loss: 0.7543 - val_loss: 0.6792\n",
      "Epoch 3/50\n",
      "250/250 [==============================] - 2s 7ms/step - loss: 0.6922 - val_loss: 0.6372\n",
      "Epoch 4/50\n",
      "250/250 [==============================] - 2s 7ms/step - loss: 0.6567 - val_loss: 0.6079\n",
      "Epoch 5/50\n",
      "250/250 [==============================] - 2s 6ms/step - loss: 0.6245 - val_loss: 0.5884\n",
      "Epoch 6/50\n",
      "250/250 [==============================] - 2s 6ms/step - loss: 0.6063 - val_loss: 0.5608\n",
      "Epoch 7/50\n",
      "250/250 [==============================] - 2s 6ms/step - loss: 0.5867 - val_loss: 0.5410\n",
      "Epoch 8/50\n",
      "250/250 [==============================] - 2s 6ms/step - loss: 0.5701 - val_loss: 0.5225\n",
      "Epoch 9/50\n",
      "250/250 [==============================] - 2s 6ms/step - loss: 0.5485 - val_loss: 0.5163\n",
      "Epoch 10/50\n",
      "250/250 [==============================] - 2s 6ms/step - loss: 0.5392 - val_loss: 0.4985\n",
      "Epoch 11/50\n",
      "250/250 [==============================] - 2s 6ms/step - loss: 0.5278 - val_loss: 0.4909\n",
      "Epoch 12/50\n",
      "250/250 [==============================] - 2s 6ms/step - loss: 0.5148 - val_loss: 0.4825\n",
      "Epoch 13/50\n",
      "250/250 [==============================] - 2s 6ms/step - loss: 0.5050 - val_loss: 0.4767\n",
      "Epoch 14/50\n",
      "250/250 [==============================] - 2s 6ms/step - loss: 0.5002 - val_loss: 0.4665\n",
      "Epoch 15/50\n",
      "250/250 [==============================] - 2s 6ms/step - loss: 0.4867 - val_loss: 0.4609\n",
      "Epoch 16/50\n",
      "250/250 [==============================] - 2s 6ms/step - loss: 0.4794 - val_loss: 0.4585\n",
      "Epoch 17/50\n",
      "250/250 [==============================] - 2s 6ms/step - loss: 0.4751 - val_loss: 0.4528\n",
      "Epoch 18/50\n",
      "250/250 [==============================] - 2s 6ms/step - loss: 0.4673 - val_loss: 0.4446\n",
      "Epoch 19/50\n",
      "250/250 [==============================] - 2s 6ms/step - loss: 0.4564 - val_loss: 0.4449\n",
      "Epoch 20/50\n",
      "250/250 [==============================] - 2s 6ms/step - loss: 0.4553 - val_loss: 0.4414\n",
      "Epoch 21/50\n",
      "250/250 [==============================] - 2s 6ms/step - loss: 0.4505 - val_loss: 0.4365\n",
      "Epoch 22/50\n",
      "250/250 [==============================] - 2s 6ms/step - loss: 0.4455 - val_loss: 0.4364\n",
      "Epoch 23/50\n",
      "250/250 [==============================] - 2s 6ms/step - loss: 0.4389 - val_loss: 0.4380\n",
      "Epoch 24/50\n",
      "250/250 [==============================] - 2s 6ms/step - loss: 0.4273 - val_loss: 0.4334\n",
      "Epoch 25/50\n",
      "250/250 [==============================] - 2s 6ms/step - loss: 0.4270 - val_loss: 0.4297\n",
      "Epoch 26/50\n",
      "250/250 [==============================] - 2s 7ms/step - loss: 0.4181 - val_loss: 0.4278\n",
      "Epoch 27/50\n",
      "250/250 [==============================] - 2s 6ms/step - loss: 0.4119 - val_loss: 0.4268\n",
      "Epoch 28/50\n",
      "250/250 [==============================] - 2s 6ms/step - loss: 0.4114 - val_loss: 0.4260\n",
      "Epoch 29/50\n",
      "250/250 [==============================] - 2s 6ms/step - loss: 0.4040 - val_loss: 0.4293\n",
      "Epoch 30/50\n",
      "250/250 [==============================] - 2s 6ms/step - loss: 0.4055 - val_loss: 0.4245\n",
      "Epoch 31/50\n",
      "250/250 [==============================] - 2s 6ms/step - loss: 0.3988 - val_loss: 0.4212\n",
      "Epoch 32/50\n",
      "250/250 [==============================] - 2s 6ms/step - loss: 0.3907 - val_loss: 0.4217\n",
      "Epoch 33/50\n",
      "250/250 [==============================] - 2s 6ms/step - loss: 0.3870 - val_loss: 0.4195\n",
      "Epoch 34/50\n",
      "250/250 [==============================] - 2s 6ms/step - loss: 0.3864 - val_loss: 0.4201\n",
      "Epoch 35/50\n",
      "250/250 [==============================] - 2s 6ms/step - loss: 0.3822 - val_loss: 0.4182\n",
      "Epoch 36/50\n",
      "250/250 [==============================] - 2s 6ms/step - loss: 0.3789 - val_loss: 0.4194\n",
      "Epoch 37/50\n",
      "250/250 [==============================] - 2s 6ms/step - loss: 0.3769 - val_loss: 0.4191\n",
      "Epoch 38/50\n",
      "250/250 [==============================] - 2s 6ms/step - loss: 0.3744 - val_loss: 0.4145\n",
      "Epoch 39/50\n",
      "250/250 [==============================] - 2s 6ms/step - loss: 0.3725 - val_loss: 0.4201\n",
      "Epoch 40/50\n",
      "250/250 [==============================] - 2s 6ms/step - loss: 0.3697 - val_loss: 0.4219\n",
      "Epoch 41/50\n",
      "250/250 [==============================] - 2s 6ms/step - loss: 0.3650 - val_loss: 0.4188\n",
      "Epoch 42/50\n",
      "250/250 [==============================] - 2s 6ms/step - loss: 0.3631 - val_loss: 0.4178\n",
      "Epoch 43/50\n",
      "250/250 [==============================] - 2s 6ms/step - loss: 0.3614 - val_loss: 0.4193\n",
      "Epoch 44/50\n",
      "250/250 [==============================] - 2s 6ms/step - loss: 0.3596 - val_loss: 0.4178\n",
      "Epoch 45/50\n",
      "250/250 [==============================] - 2s 6ms/step - loss: 0.3533 - val_loss: 0.4137\n",
      "Epoch 46/50\n",
      "250/250 [==============================] - 2s 6ms/step - loss: 0.3566 - val_loss: 0.4155\n",
      "Epoch 47/50\n",
      "250/250 [==============================] - 2s 6ms/step - loss: 0.3504 - val_loss: 0.4154\n",
      "Epoch 48/50\n",
      "250/250 [==============================] - 2s 6ms/step - loss: 0.3457 - val_loss: 0.4158\n",
      "Epoch 49/50\n",
      "250/250 [==============================] - 2s 6ms/step - loss: 0.3400 - val_loss: 0.4140\n",
      "Epoch 50/50\n",
      "250/250 [==============================] - 2s 6ms/step - loss: 0.3439 - val_loss: 0.4192\n"
     ]
    }
   ],
   "source": [
    "model.compile(optimizer='rmsprop', loss='categorical_crossentropy')\n",
    "\n",
    "history = model.fit([encoder_input_data, decoder_input_data],  # training data\n",
    "                     decoder_target_data,                       # labels (left shift of the target sequences)\n",
    "                     batch_size=64, epochs=50, validation_split=0.2)\n",
    "\n",
    "model.save('seq2seq.h5')"
   ]
  },
  {
   "cell_type": "code",
   "execution_count": 21,
   "metadata": {},
   "outputs": [
    {
     "data": {
      "image/png": "[encoded data removed]",
      "text/plain": [
       "<Figure size 432x288 with 1 Axes>"
      ]
     },
     "metadata": {
      "needs_background": "light"
     },
     "output_type": "display_data"
    }
   ],
   "source": [
    "import matplotlib.pyplot as plt\n",
    "%matplotlib inline\n",
    "\n",
    "acc = history.history['loss']\n",
    "val_acc = history.history['val_loss']\n",
    "\n",
    "epochs = range(len(acc))\n",
    "\n",
    "plt.plot(epochs, acc, 'bo', label='Training loss')\n",
    "plt.plot(epochs, val_acc, 'r', label='Validation loss')\n",
    "plt.xlabel('Epochs')\n",
    "plt.ylabel('Loss')\n",
    "plt.legend()\n",
    "plt.show()"
   ]
  },
  {
   "cell_type": "markdown",
   "metadata": {},
   "source": [
    "## 4. Make predictions\n",
    "\n",
    "\n",
    "### 4.1. Translate English to Russian\n",
    "\n",
    "1. Encoder read a sentence (source language) and output its final states, $h_t$ and $c_t$.\n",
    "2. Take the [star] sign \"\\t\" and the final state $h_t$ and $c_t$ as input and run the decoder.\n",
    "3. Get the new states and predicted probability distribution.\n",
    "4. sample a char from the predicted probability distribution\n",
    "5. take the sampled char and the new states as input and repeat the process (stop if reach the [stop] sign \"\\n\")."
   ]
  },
  {
   "cell_type": "code",
   "execution_count": 22,
   "metadata": {},
   "outputs": [],
   "source": [
    "# Reverse-lookup token index to decode sequences back to something readable.\n",
    "reverse_input_char_index = dict((i, char) for char, i in input_token_index.items())\n",
    "reverse_target_char_index = dict((i, char) for char, i in target_token_index.items())"
   ]
  },
  {
   "cell_type": "code",
   "execution_count": 23,
   "metadata": {},
   "outputs": [],
   "source": [
    "def decode_sequence(input_seq, temperature: float):\n",
    "    states_value = encoder_model.predict(input_seq)\n",
    "\n",
    "    target_seq = numpy.zeros((1, 1, num_decoder_tokens))\n",
    "    target_seq[0, 0, target_token_index['\\t']] = 1.\n",
    "\n",
    "    stop_condition = False\n",
    "    decoded_sentence = ''\n",
    "    while not stop_condition:\n",
    "        output_tokens, h, c = decoder_model.predict([target_seq] + states_value)\n",
    "\n",
    "        # this line of code is greedy selection\n",
    "        # try to use multinomial sampling instead (with temperature)\n",
    "        output_tokens = output_tokens[0, -1, :]\n",
    "        output_tokens = output_tokens ** (1 / temperature)\n",
    "        output_tokens = output_tokens / numpy.sum(output_tokens)  # Adding the multinomial adjustment\n",
    "        sampled_token_index = numpy.argmax(output_tokens)\n",
    "        \n",
    "        # Sometimes the algorithm samples 0, which is an unknown token. \n",
    "        # Resample to get the second highest prediction\n",
    "        if sampled_token_index == 0:\n",
    "            args = numpy.argsort(output_tokens)\n",
    "            sampled_token_index = args[-2]\n",
    "        \n",
    "        sampled_char = reverse_target_char_index[sampled_token_index]\n",
    "        decoded_sentence += sampled_char\n",
    "\n",
    "        if (sampled_char == '\\n' or\n",
    "           len(decoded_sentence) > max_decoder_seq_length):\n",
    "            stop_condition = True\n",
    "\n",
    "        target_seq = numpy.zeros((1, 1, num_decoder_tokens))\n",
    "        target_seq[0, 0, sampled_token_index] = 1.\n",
    "\n",
    "        states_value = [h, c]\n",
    "\n",
    "    return decoded_sentence\n"
   ]
  },
  {
   "cell_type": "code",
   "execution_count": 24,
   "metadata": {},
   "outputs": [
    {
     "name": "stdout",
     "output_type": "stream",
     "text": [
      "-\n",
      "English:        follow him\n",
      "Russian (true):  иди за ним\n",
      "Russian (pred):  за ним\n",
      "-\n",
      "English:        follow him\n",
      "Russian (true):  идите за ним\n",
      "Russian (pred):  за ним\n",
      "-\n",
      "English:        follow him\n",
      "Russian (true):  за ним\n",
      "Russian (pred):  за ним\n",
      "-\n",
      "English:        forget tom\n",
      "Russian (true):  забудь тома\n",
      "Russian (pred):  забудьте тома\n",
      "-\n",
      "English:        forget tom\n",
      "Russian (true):  забудьте тома\n",
      "Russian (pred):  забудьте тома\n",
      "-\n",
      "English:        forget him\n",
      "Russian (true):  забудь его\n",
      "Russian (pred):  забудьте на тома\n",
      "-\n",
      "English:        forget him\n",
      "Russian (true):  забудьте его\n",
      "Russian (pred):  забудьте на тома\n",
      "-\n",
      "English:        forgive me\n",
      "Russian (true):  простите меня\n",
      "Russian (pred):  забудьте меня\n",
      "-\n",
      "English:        forgive me\n",
      "Russian (true):  прости меня\n",
      "Russian (pred):  забудьте меня\n",
      "-\n",
      "English:        forgive us\n",
      "Russian (true):  прости нас\n",
      "Russian (pred):  забудьте нас\n",
      "-\n",
      "English:        forgive us\n",
      "Russian (true):  простите нас\n",
      "Russian (pred):  забудьте нас\n",
      "-\n",
      "English:        get a life\n",
      "Russian (true):  получи жизнь\n",
      "Russian (pred):  вольми\n",
      "-\n",
      "English:        get moving\n",
      "Russian (true):  \n",
      "Russian (pred):  \n",
      "-\n",
      "English:        get moving\n",
      "Russian (true):  \n",
      "Russian (pred):  \n",
      "-\n",
      "English:        get off me\n",
      "Russian (true):  отвали от меня\n",
      "Russian (pred):  \n",
      "-\n",
      "English:        get to bed\n",
      "Russian (true):  иди спать\n",
      "Russian (pred):  пость е тома\n",
      "-\n",
      "English:        get to bed\n",
      "Russian (true):  марш в постель\n",
      "Russian (pred):  пость е тома\n",
      "-\n",
      "English:        get to bed\n",
      "Russian (true):  идите спать\n",
      "Russian (pred):  пость е тома\n",
      "-\n",
      "English:        give it up\n",
      "Russian (true):  попустись\n",
      "Russian (pred):  возьми его\n",
      "-\n",
      "English:        go get tom\n",
      "Russian (true):  сходи за томом\n",
      "Russian (pred):  сходи за томом\n"
     ]
    }
   ],
   "source": [
    "for seq_index in range(2100, 2120):\n",
    "    # Take one sequence (part of the training set)\n",
    "    # for trying out decoding.\n",
    "    input_seq = encoder_input_data[seq_index: seq_index+1]\n",
    "    decoded_sentence = decode_sequence(input_seq, 0.2)\n",
    "    print('-')\n",
    "    print('English:       ', input_texts[seq_index])\n",
    "    print('Russian (true): ', target_texts[seq_index][1:-1])\n",
    "    print('Russian (pred): ', decoded_sentence[0:-1])\n"
   ]
  },
  {
   "cell_type": "markdown",
   "metadata": {},
   "source": [
    "### 4.2. Translate an English sentence to the target language\n",
    "\n",
    "1. Tokenization\n",
    "2. One-hot encode\n",
    "3. Translate"
   ]
  },
  {
   "cell_type": "code",
   "execution_count": 25,
   "metadata": {},
   "outputs": [
    {
     "name": "stdout",
     "output_type": "stream",
     "text": [
      "source sentence is: I love you\n",
      "translated sentence is: я люблю вас\n",
      "\n"
     ]
    }
   ],
   "source": [
    "input_sentence = 'I love you'\n",
    "\n",
    "input_sequence = pad_sequences([[input_token_index.get(char) for char in input_sentence.lower()]], \n",
    "                               maxlen=max_encoder_seq_length, \n",
    "                               padding='post')\n",
    "\n",
    "input_x = onehot_encode(input_sequence, max_encoder_seq_length, 28)\n",
    "\n",
    "translated_sentence = decode_sequence(input_x, 0.2)\n",
    "\n",
    "print('source sentence is: ' + input_sentence)\n",
    "print('translated sentence is: ' + translated_sentence)"
   ]
  },
  {
   "cell_type": "markdown",
   "metadata": {},
   "source": [
    "## 5. Evaluate the translation using BLEU score\n",
    "\n",
    "Reference: \n",
    "- https://machinelearningmastery.com/calculate-bleu-score-for-text-python/\n",
    "- https://en.wikipedia.org/wiki/BLEU\n",
    "\n",
    "\n",
    "**Hint:** \n",
    "\n",
    "- Randomly partition the dataset to training, validation, and test. \n",
    "\n",
    "- Evaluate the BLEU score using the test set. Report the average.\n",
    "\n",
    "- A reasonable BLEU score should be 0.1 ~ 0.5."
   ]
  },
  {
   "cell_type": "markdown",
   "metadata": {},
   "source": [
    "### Partition the Data"
   ]
  },
  {
   "cell_type": "code",
   "execution_count": 26,
   "metadata": {},
   "outputs": [
    {
     "data": {
      "text/plain": [
       "(50000, 3)"
      ]
     },
     "execution_count": 26,
     "metadata": {},
     "output_type": "execute_result"
    }
   ],
   "source": [
    "all_pairs = clean_data(pairs)[:50000]\n",
    "all_pairs.shape"
   ]
  },
  {
   "cell_type": "code",
   "execution_count": 27,
   "metadata": {},
   "outputs": [
    {
     "data": {
      "text/plain": [
       "(30000, 10000, 10000)"
      ]
     },
     "execution_count": 27,
     "metadata": {},
     "output_type": "execute_result"
    }
   ],
   "source": [
    "n, d = all_pairs.shape\n",
    "\n",
    "train = int(n * .8)\n",
    "val = int(n * .2)\n",
    "\n",
    "indices = numpy.random.permutation(n)\n",
    "train_indices = indices[:train-val]\n",
    "val_indices = indices[train-val:train]\n",
    "test_indices = indices[train:]\n",
    "\n",
    "assert len(train_indices) + len(val_indices) + len(test_indices) == n\n",
    "len(train_indices), len(val_indices), len(test_indices)"
   ]
  },
  {
   "cell_type": "code",
   "execution_count": 28,
   "metadata": {},
   "outputs": [
    {
     "data": {
      "text/plain": [
       "((30000,), (10000,))"
      ]
     },
     "execution_count": 28,
     "metadata": {},
     "output_type": "execute_result"
    }
   ],
   "source": [
    "train_inputs = all_pairs[train_indices, 0]\n",
    "train_outputs = [f'\\t{text}\\n' for text in all_pairs[train_indices, 1]]\n",
    "\n",
    "val_inputs = all_pairs[val_indices, 0]\n",
    "val_outputs = [f'\\t{text}\\n' for text in all_pairs[val_indices, 1]]\n",
    "\n",
    "assert train_inputs[0] == all_pairs[train_indices[0], 0]\n",
    "assert train_outputs[0] == f\"\\t{all_pairs[train_indices[0], 1]}\\n\"\n",
    "train_inputs.shape, val_inputs.shape"
   ]
  },
  {
   "cell_type": "code",
   "execution_count": 29,
   "metadata": {},
   "outputs": [
    {
     "data": {
      "text/plain": [
       "('does tom have it', '\\tу тома это есть\\n')"
      ]
     },
     "execution_count": 29,
     "metadata": {},
     "output_type": "execute_result"
    }
   ],
   "source": [
    "train_inputs[100], train_outputs[100]"
   ]
  },
  {
   "cell_type": "markdown",
   "metadata": {},
   "source": [
    "### Transform into Sequences"
   ]
  },
  {
   "cell_type": "code",
   "execution_count": 30,
   "metadata": {},
   "outputs": [
    {
     "name": "stdout",
     "output_type": "stream",
     "text": [
      "max length of input  sentences: 18\n",
      "max length of target sentences: 60\n"
     ]
    }
   ],
   "source": [
    "max_encoder_seq_length = max(len(line) for line in train_inputs)\n",
    "max_decoder_seq_length = max(len(line) for line in train_outputs)\n",
    "\n",
    "print('max length of input  sentences: %d' % (max_encoder_seq_length))\n",
    "print('max length of target sentences: %d' % (max_decoder_seq_length))"
   ]
  },
  {
   "cell_type": "code",
   "execution_count": 31,
   "metadata": {},
   "outputs": [
    {
     "data": {
      "text/plain": [
       "((30000, 18), (30000, 60), (30000, 60))"
      ]
     },
     "execution_count": 31,
     "metadata": {},
     "output_type": "execute_result"
    }
   ],
   "source": [
    "train_input_seq, input_token_index = text2sequences(max_encoder_seq_length, \n",
    "                                                      train_inputs)\n",
    "train_output_seq, target_token_index = text2sequences(max_decoder_seq_length, \n",
    "                                                       train_outputs)\n",
    "\n",
    "train_target_seq = numpy.zeros(train_output_seq.shape)\n",
    "train_target_seq[:, 0:-1] = train_output_seq[:, 1:]\n",
    "\n",
    "train_input_seq.shape, train_output_seq.shape, train_target_seq.shape"
   ]
  },
  {
   "cell_type": "code",
   "execution_count": 32,
   "metadata": {},
   "outputs": [
    {
     "data": {
      "text/plain": [
       "((10000, 18), (10000, 60), (10000, 60))"
      ]
     },
     "execution_count": 32,
     "metadata": {},
     "output_type": "execute_result"
    }
   ],
   "source": [
    "val_input_seq = pad_sequences([[input_token_index[char] for char in sent] for sent in val_inputs], \n",
    "                                maxlen=max_encoder_seq_length, \n",
    "                                padding='post')\n",
    "val_output_seq = pad_sequences([[target_token_index.get(char, 0) for char in sent] for sent in val_outputs], \n",
    "                               maxlen=max_decoder_seq_length, \n",
    "                               padding='post')\n",
    "\n",
    "val_target_seq = numpy.zeros(val_output_seq.shape)\n",
    "val_target_seq[:, 0:-1] = val_output_seq[:, 1:]\n",
    "\n",
    "val_input_seq.shape, val_output_seq.shape, val_target_seq.shape"
   ]
  },
  {
   "cell_type": "markdown",
   "metadata": {},
   "source": [
    "### One Hot Encode the Sequences"
   ]
  },
  {
   "cell_type": "code",
   "execution_count": 33,
   "metadata": {},
   "outputs": [
    {
     "data": {
      "text/plain": [
       "(28, 43)"
      ]
     },
     "execution_count": 33,
     "metadata": {},
     "output_type": "execute_result"
    }
   ],
   "source": [
    "num_encoder_tokens = len(input_token_index) + 1\n",
    "num_decoder_tokens = len(target_token_index) + 1\n",
    "\n",
    "num_encoder_tokens, num_decoder_tokens"
   ]
  },
  {
   "cell_type": "markdown",
   "metadata": {},
   "source": [
    "**Remark**: If you wanted to train all the data, you would need a generator. I tried it, but it's just too slow to train\n",
    "```\n",
    "def generator(x_train, y_train, encoder_length: int, encoder_tokens: int, \n",
    "              decoder_length: int, decoder_tokens: int, batch_size: int = 32, epochs: int = 50) -> tuple:\n",
    "    \"\"\" Generates batches of the x and y training data \"\"\"\n",
    "    encoder_data, decoder_data = x_train\n",
    "    iters = int(encoder_data.shape[0] / batch_size)\n",
    "    for i in range(epochs):\n",
    "        start = 0\n",
    "        for i in range(iters):\n",
    "            end = start + batch_size\n",
    "            \n",
    "            encoder_batch = encoder_data[start:end]\n",
    "            decoder_batch = decoder_data[start:end]\n",
    "            decoder_target = y_train[start:end]\n",
    "            \n",
    "            encoder_train_data = onehot_encode(encoder_batch, encoder_length, encoder_tokens)\n",
    "            decoder_train_data = onehot_encode(decoder_batch, decoder_length, decoder_tokens)\n",
    "            decoder_target_data = onehot_encode(decoder_target, decoder_length, decoder_tokens)\n",
    "            \n",
    "            yield ([encoder_train_data, decoder_train_data], decoder_target_data)\n",
    "            start = end\n",
    "```"
   ]
  },
  {
   "cell_type": "markdown",
   "metadata": {},
   "source": [
    "```\n",
    "b = 32\n",
    "train_epoch_steps = int(train_input_seq.shape[0] / b)\n",
    "tr_generator = generator((train_input_seq, train_output_seq), train_target_seq, \n",
    "                         encoder_length=max_encoder_seq_length, encoder_tokens=num_encoder_tokens,\n",
    "                         decoder_length=max_decoder_seq_length, decoder_tokens=num_decoder_tokens)\n",
    "\n",
    "val_epoch_steps = int(val_input_seq.shape[0] / b)\n",
    "val_generator = generator((val_input_seq, val_output_seq), val_target_seq, \n",
    "                          encoder_length=max_encoder_seq_length, encoder_tokens=num_encoder_tokens,\n",
    "                          decoder_length=max_decoder_seq_length, decoder_tokens=num_decoder_tokens)\n",
    "```"
   ]
  },
  {
   "cell_type": "code",
   "execution_count": 34,
   "metadata": {},
   "outputs": [
    {
     "data": {
      "text/plain": [
       "((30000, 18, 28), (30000, 60, 43), (30000, 60, 43))"
      ]
     },
     "execution_count": 34,
     "metadata": {},
     "output_type": "execute_result"
    }
   ],
   "source": [
    "encoder_train_data = onehot_encode(train_input_seq, max_encoder_seq_length, num_encoder_tokens)\n",
    "decoder_train_data = onehot_encode(train_output_seq, max_decoder_seq_length, num_decoder_tokens)\n",
    "\n",
    "train_target_seq = numpy.zeros(train_output_seq.shape)\n",
    "train_target_seq[:, 0:-1] = train_output_seq[:, 1:]\n",
    "decoder_train_target = onehot_encode(train_target_seq, \n",
    "                                     max_decoder_seq_length, \n",
    "                                     num_decoder_tokens)\n",
    "\n",
    "encoder_train_data.shape, decoder_train_data.shape, decoder_train_target.shape"
   ]
  },
  {
   "cell_type": "code",
   "execution_count": 35,
   "metadata": {},
   "outputs": [
    {
     "data": {
      "text/plain": [
       "((10000, 18, 28), (10000, 60, 43), (10000, 60, 43))"
      ]
     },
     "execution_count": 35,
     "metadata": {},
     "output_type": "execute_result"
    }
   ],
   "source": [
    "encoder_val_data = onehot_encode(val_input_seq, max_encoder_seq_length, num_encoder_tokens)\n",
    "decoder_val_data = onehot_encode(val_output_seq, max_decoder_seq_length, num_decoder_tokens)\n",
    "\n",
    "val_target_seq = numpy.zeros(val_output_seq.shape)\n",
    "val_target_seq[:, 0:-1] = val_output_seq[:, 1:]\n",
    "decoder_val_target = onehot_encode(val_target_seq, \n",
    "                                    max_decoder_seq_length, \n",
    "                                    num_decoder_tokens)\n",
    "\n",
    "encoder_val_data.shape, decoder_val_target.shape, decoder_val_target.shape"
   ]
  },
  {
   "cell_type": "markdown",
   "metadata": {},
   "source": [
    "### Retrain the Model with the new Data"
   ]
  },
  {
   "cell_type": "code",
   "execution_count": 36,
   "metadata": {},
   "outputs": [],
   "source": [
    "from keras import backend as K \n",
    "\n",
    "K.clear_session()"
   ]
  },
  {
   "cell_type": "code",
   "execution_count": 37,
   "metadata": {},
   "outputs": [],
   "source": [
    "latent_dim = 256\n",
    "\n",
    "# inputs of the encoder network\n",
    "encoder_inputs = Input(shape=(None, num_encoder_tokens), \n",
    "                       name='encoder_inputs')\n",
    "\n",
    "# set the LSTM layer\n",
    "encoder_bilstm = Bidirectional(LSTM(latent_dim, return_state=True, \n",
    "                    dropout=0.5, name='encoder_lstm'))\n",
    "encoder_out, forward_h, forward_c, backward_h, backward_c = encoder_bilstm(encoder_inputs)\n",
    "\n",
    "state_h = Concatenate()([forward_h, backward_h])\n",
    "state_c = Concatenate()([forward_c, backward_c])\n",
    "\n",
    "# build the encoder network model\n",
    "encoder_model = Model(inputs=encoder_inputs, \n",
    "                      outputs=[state_h, state_c],\n",
    "                      name='encoder')"
   ]
  },
  {
   "cell_type": "code",
   "execution_count": 38,
   "metadata": {},
   "outputs": [],
   "source": [
    "# inputs of the decoder network\n",
    "decoder_input_h = Input(shape=(latent_dim * 2,), name='decoder_input_h')\n",
    "decoder_input_c = Input(shape=(latent_dim * 2,), name='decoder_input_c')\n",
    "decoder_input_x = Input(shape=(None, num_decoder_tokens), name='decoder_input_x')\n",
    "\n",
    "# set the LSTM layer\n",
    "decoder_lstm = LSTM(latent_dim * 2, return_sequences=True, \n",
    "                    return_state=True, dropout=0.5, name='decoder_lstm')\n",
    "decoder_lstm_outputs, state_h, state_c = decoder_lstm(decoder_input_x, \n",
    "                                                      initial_state=[decoder_input_h, decoder_input_c])\n",
    "\n",
    "# set the Attention layer\n",
    "# attn_h, attn_c = Attention(name='attn_layer')([decoder_input_outputs, decoder_lstm_outputs])\n",
    "# decoder_attn_out = Concatenate(axis=-1, name='attn_concat')([decoder_lstm_out, attn_h])\n",
    "\n",
    "# set the Dense layer\n",
    "decoder_dense = Dense(num_decoder_tokens, activation='softmax', name='decoder_dense')\n",
    "decoder_outputs = decoder_dense(decoder_lstm_outputs)\n",
    "\n",
    "# build the decoder network model\n",
    "decoder_model = Model(inputs=[decoder_input_x, decoder_input_h, decoder_input_c],\n",
    "                      outputs=[decoder_outputs, state_h, state_c],\n",
    "                      name='decoder')"
   ]
  },
  {
   "cell_type": "code",
   "execution_count": 39,
   "metadata": {},
   "outputs": [],
   "source": [
    "# input layers\n",
    "encoder_input_x = Input(shape=(None, num_encoder_tokens), name='encoder_input_x')\n",
    "decoder_input_x = Input(shape=(None, num_decoder_tokens), name='decoder_input_x')\n",
    "\n",
    "# connect encoder to decoder\n",
    "encoder_final_states = encoder_model([encoder_input_x])\n",
    "decoder_lstm_output, _, _ = decoder_lstm(decoder_input_x, initial_state=encoder_final_states)\n",
    "decoder_pred = decoder_dense(decoder_lstm_output)\n",
    "\n",
    "model = Model(inputs=[encoder_input_x, decoder_input_x], \n",
    "              outputs=decoder_pred, \n",
    "              name='model_training')"
   ]
  },
  {
   "cell_type": "markdown",
   "metadata": {},
   "source": [
    "```\n",
    "model.compile(optimizer='rmsprop', loss='categorical_crossentropy')\n",
    "history = model.fit(tr_generator, steps_per_epoch=train_epoch_steps, epochs=50,\n",
    "                    validation_data=val_generator, validation_steps=val_epoch_steps)\n",
    "```"
   ]
  },
  {
   "cell_type": "code",
   "execution_count": 40,
   "metadata": {},
   "outputs": [
    {
     "name": "stdout",
     "output_type": "stream",
     "text": [
      "Epoch 1/50\n",
      "469/469 [==============================] - 7s 9ms/step - loss: 0.9465 - val_loss: 0.5525\n",
      "Epoch 2/50\n",
      "469/469 [==============================] - 4s 8ms/step - loss: 0.6188 - val_loss: 0.4816\n",
      "Epoch 3/50\n",
      "469/469 [==============================] - 4s 8ms/step - loss: 0.5731 - val_loss: 0.4343\n",
      "Epoch 4/50\n",
      "469/469 [==============================] - 4s 8ms/step - loss: 0.5403 - val_loss: 0.4086\n",
      "Epoch 5/50\n",
      "469/469 [==============================] - 4s 8ms/step - loss: 0.5162 - val_loss: 0.3844\n",
      "Epoch 6/50\n",
      "469/469 [==============================] - 4s 8ms/step - loss: 0.4993 - val_loss: 0.3678\n",
      "Epoch 7/50\n",
      "469/469 [==============================] - 4s 8ms/step - loss: 0.4813 - val_loss: 0.3539\n",
      "Epoch 8/50\n",
      "469/469 [==============================] - 4s 8ms/step - loss: 0.4722 - val_loss: 0.3409\n",
      "Epoch 9/50\n",
      "469/469 [==============================] - 4s 8ms/step - loss: 0.4613 - val_loss: 0.3347\n",
      "Epoch 10/50\n",
      "469/469 [==============================] - 4s 8ms/step - loss: 0.4536 - val_loss: 0.3252\n",
      "Epoch 11/50\n",
      "469/469 [==============================] - 4s 8ms/step - loss: 0.4425 - val_loss: 0.3170\n",
      "Epoch 12/50\n",
      "469/469 [==============================] - 4s 8ms/step - loss: 0.4339 - val_loss: 0.3106\n",
      "Epoch 13/50\n",
      "469/469 [==============================] - 4s 8ms/step - loss: 0.4271 - val_loss: 0.3048\n",
      "Epoch 14/50\n",
      "469/469 [==============================] - 4s 8ms/step - loss: 0.4216 - val_loss: 0.2992\n",
      "Epoch 15/50\n",
      "469/469 [==============================] - 4s 8ms/step - loss: 0.4152 - val_loss: 0.2933\n",
      "Epoch 16/50\n",
      "469/469 [==============================] - 4s 8ms/step - loss: 0.4132 - val_loss: 0.2900\n",
      "Epoch 17/50\n",
      "469/469 [==============================] - 4s 8ms/step - loss: 0.4079 - val_loss: 0.2868\n",
      "Epoch 18/50\n",
      "469/469 [==============================] - 4s 8ms/step - loss: 0.4006 - val_loss: 0.2843\n",
      "Epoch 19/50\n",
      "469/469 [==============================] - 4s 8ms/step - loss: 0.3957 - val_loss: 0.2788\n",
      "Epoch 20/50\n",
      "469/469 [==============================] - 4s 8ms/step - loss: 0.3951 - val_loss: 0.2766\n",
      "Epoch 21/50\n",
      "469/469 [==============================] - 4s 8ms/step - loss: 0.3886 - val_loss: 0.2740\n",
      "Epoch 22/50\n",
      "469/469 [==============================] - 4s 8ms/step - loss: 0.3866 - val_loss: 0.2710\n",
      "Epoch 23/50\n",
      "469/469 [==============================] - 4s 8ms/step - loss: 0.3791 - val_loss: 0.2694\n",
      "Epoch 24/50\n",
      "469/469 [==============================] - 4s 8ms/step - loss: 0.3787 - val_loss: 0.2676\n",
      "Epoch 25/50\n",
      "469/469 [==============================] - 4s 8ms/step - loss: 0.3769 - val_loss: 0.2644\n",
      "Epoch 26/50\n",
      "469/469 [==============================] - 4s 8ms/step - loss: 0.3734 - val_loss: 0.2636\n",
      "Epoch 27/50\n",
      "469/469 [==============================] - 4s 8ms/step - loss: 0.3686 - val_loss: 0.2615\n",
      "Epoch 28/50\n",
      "469/469 [==============================] - 4s 8ms/step - loss: 0.3679 - val_loss: 0.2598\n",
      "Epoch 29/50\n",
      "469/469 [==============================] - 4s 8ms/step - loss: 0.3672 - val_loss: 0.2588\n",
      "Epoch 30/50\n",
      "469/469 [==============================] - 4s 8ms/step - loss: 0.3615 - val_loss: 0.2562\n",
      "Epoch 31/50\n",
      "469/469 [==============================] - 4s 8ms/step - loss: 0.3581 - val_loss: 0.2557\n",
      "Epoch 32/50\n",
      "469/469 [==============================] - 4s 8ms/step - loss: 0.3579 - val_loss: 0.2556\n",
      "Epoch 33/50\n",
      "469/469 [==============================] - 4s 8ms/step - loss: 0.3564 - val_loss: 0.2519\n",
      "Epoch 34/50\n",
      "469/469 [==============================] - 4s 8ms/step - loss: 0.3528 - val_loss: 0.2527\n",
      "Epoch 35/50\n",
      "469/469 [==============================] - 4s 8ms/step - loss: 0.3503 - val_loss: 0.2508\n",
      "Epoch 36/50\n",
      "469/469 [==============================] - 4s 8ms/step - loss: 0.3493 - val_loss: 0.2496\n",
      "Epoch 37/50\n",
      "469/469 [==============================] - 4s 8ms/step - loss: 0.3471 - val_loss: 0.2484\n",
      "Epoch 38/50\n",
      "469/469 [==============================] - 4s 8ms/step - loss: 0.3475 - val_loss: 0.2471\n",
      "Epoch 39/50\n",
      "469/469 [==============================] - 4s 8ms/step - loss: 0.3446 - val_loss: 0.2466\n",
      "Epoch 40/50\n",
      "469/469 [==============================] - 4s 8ms/step - loss: 0.3395 - val_loss: 0.2454\n",
      "Epoch 41/50\n",
      "469/469 [==============================] - 4s 8ms/step - loss: 0.3376 - val_loss: 0.2441\n",
      "Epoch 42/50\n",
      "469/469 [==============================] - 4s 8ms/step - loss: 0.3374 - val_loss: 0.2452\n",
      "Epoch 43/50\n",
      "469/469 [==============================] - 4s 8ms/step - loss: 0.3344 - val_loss: 0.2430\n",
      "Epoch 44/50\n",
      "469/469 [==============================] - 4s 8ms/step - loss: 0.3349 - val_loss: 0.2423\n",
      "Epoch 45/50\n",
      "469/469 [==============================] - 4s 8ms/step - loss: 0.3349 - val_loss: 0.2418\n",
      "Epoch 46/50\n",
      "469/469 [==============================] - 4s 8ms/step - loss: 0.3315 - val_loss: 0.2418\n",
      "Epoch 47/50\n",
      "469/469 [==============================] - 4s 8ms/step - loss: 0.3304 - val_loss: 0.2407\n",
      "Epoch 48/50\n",
      "469/469 [==============================] - 4s 8ms/step - loss: 0.3271 - val_loss: 0.2400\n",
      "Epoch 49/50\n",
      "469/469 [==============================] - 4s 8ms/step - loss: 0.3243 - val_loss: 0.2401\n",
      "Epoch 50/50\n",
      "469/469 [==============================] - 4s 8ms/step - loss: 0.3262 - val_loss: 0.2382\n"
     ]
    }
   ],
   "source": [
    "model.compile(optimizer='rmsprop', loss='categorical_crossentropy')\n",
    "\n",
    "history = model.fit([encoder_train_data, decoder_train_data],  # training data\n",
    "                     decoder_train_target,                       # labels (left shift of the target sequences)\n",
    "                     batch_size=64, epochs=50, \n",
    "                     validation_data=([encoder_val_data, decoder_val_data], decoder_val_target))"
   ]
  },
  {
   "cell_type": "code",
   "execution_count": 41,
   "metadata": {},
   "outputs": [
    {
     "data": {
      "image/png": "[encoded data removed]",
      "text/plain": [
       "<Figure size 432x288 with 1 Axes>"
      ]
     },
     "metadata": {
      "needs_background": "light"
     },
     "output_type": "display_data"
    }
   ],
   "source": [
    "loss = history.history['loss']\n",
    "val_loss = history.history['val_loss']\n",
    "\n",
    "epochs = range(len(loss))\n",
    "\n",
    "plt.plot(epochs, loss, 'bo', label='Training loss')\n",
    "plt.plot(epochs, val_loss, 'r', label='Validation loss')\n",
    "plt.xlabel('Epochs')\n",
    "plt.ylabel('Loss')\n",
    "plt.legend()\n",
    "plt.show()"
   ]
  },
  {
   "cell_type": "code",
   "execution_count": 42,
   "metadata": {},
   "outputs": [],
   "source": [
    "# Reverse-lookup token index to decode sequences back to something readable.\n",
    "reverse_input_char_index = dict((i, char) for char, i in input_token_index.items())\n",
    "reverse_target_char_index = dict((i, char) for char, i in target_token_index.items())"
   ]
  },
  {
   "cell_type": "code",
   "execution_count": 43,
   "metadata": {},
   "outputs": [
    {
     "name": "stdout",
     "output_type": "stream",
     "text": [
      "-\n",
      "English:        youre forgiven\n",
      "Russian (true):  вы прощены\n",
      "Russian (pred):  ты нелорна\n",
      "-\n",
      "English:        are you her friend\n",
      "Russian (true):  ты друг\n",
      "Russian (pred):  ты довельно\n",
      "-\n",
      "English:        keep listening\n",
      "Russian (true):  дальше\n",
      "Russian (pred):  петь\n",
      "-\n",
      "English:        is everybody okay\n",
      "Russian (true):  у всех в порядке\n",
      "Russian (pred):  все в порядке\n",
      "-\n",
      "English:        youre cruel\n",
      "Russian (true):  вы жестокая\n",
      "Russian (pred):  ты просто\n",
      "-\n",
      "English:        who is tom to you\n",
      "Russian (true):  том вам кем приходится\n",
      "Russian (pred):  ком тебя том\n",
      "-\n",
      "English:        we walked slowly\n",
      "Russian (true):  мы медленно шли\n",
      "Russian (pred):  мы выглядим половым\n",
      "-\n",
      "English:        i made this chair\n",
      "Russian (true):  я изготовил этот стул\n",
      "Russian (pred):  я сделал этот стул\n",
      "-\n",
      "English:        i have an apple\n",
      "Russian (true):  у меня есть яблоко\n",
      "Russian (pred):  у меня есть сакар\n",
      "-\n",
      "English:        thats alright\n",
      "Russian (true):  ладно\n",
      "Russian (pred):  это просто\n",
      "-\n",
      "English:        i hate mondays\n",
      "Russian (true):  терпеть не могу понедельники\n",
      "Russian (pred):  я ненавижу кошек\n",
      "-\n",
      "English:        i cant cook well\n",
      "Russian (true):  я не оченьто умею готовить\n",
      "Russian (pred):  я не могу победить\n",
      "-\n",
      "English:        do you like that\n",
      "Russian (true):  тебе это нравится\n",
      "Russian (pred):  вам это нравится\n",
      "-\n",
      "English:        tom is thinking\n",
      "Russian (true):  том думает\n",
      "Russian (pred):  том прачит\n",
      "-\n",
      "English:        ill give it a go\n",
      "Russian (true):  я попробую\n",
      "Russian (pred):  я соерю это сделаю\n",
      "-\n",
      "English:        im not famous\n",
      "Russian (true):  я не известен\n",
      "Russian (pred):  я не бостра\n",
      "-\n",
      "English:        i didnt mean it\n",
      "Russian (true):  я не нарочно\n",
      "Russian (pred):  я этого не видел\n",
      "-\n",
      "English:        im not ashamed\n",
      "Russian (true):  мне не стыдно\n",
      "Russian (pred):  я не привер\n",
      "-\n",
      "English:        tom is holding it\n",
      "Russian (true):  том его держит\n",
      "Russian (pred):  том это пропит\n",
      "-\n",
      "English:        its too flashy\n",
      "Russian (true):  он слишком бросается в глаза\n",
      "Russian (pred):  оно слишком просто\n"
     ]
    }
   ],
   "source": [
    "for seq_index in range(2100, 2120):\n",
    "    # Take one sequence (part of the training set)\n",
    "    # for trying out decoding.\n",
    "    text_index = train_indices[seq_index]\n",
    "    input_seq = encoder_train_data[seq_index:seq_index+1]\n",
    "    decoded_sentence = decode_sequence(input_seq, 0.2)\n",
    "    print('-')\n",
    "    print('English:       ', train_inputs[seq_index])\n",
    "    print('Russian (true): ', train_outputs[seq_index][1:-1])\n",
    "    print('Russian (pred): ', decoded_sentence[0:-1])"
   ]
  },
  {
   "cell_type": "markdown",
   "metadata": {},
   "source": [
    "### Evaluate the BLEU Score"
   ]
  },
  {
   "cell_type": "markdown",
   "metadata": {},
   "source": [
    "- Get the test input data"
   ]
  },
  {
   "cell_type": "code",
   "execution_count": 44,
   "metadata": {},
   "outputs": [
    {
     "data": {
      "text/plain": [
       "(8667,)"
      ]
     },
     "execution_count": 44,
     "metadata": {},
     "output_type": "execute_result"
    }
   ],
   "source": [
    "test_inputs = all_pairs[test_indices, 0]\n",
    "test_inputs = numpy.unique(test_inputs)  # Get only the unique test inputs\n",
    "test_inputs.shape"
   ]
  },
  {
   "cell_type": "markdown",
   "metadata": {},
   "source": [
    "**Note:** Only need the test input sequence since we are using it to calculate the `BLEU` score."
   ]
  },
  {
   "cell_type": "code",
   "execution_count": 45,
   "metadata": {},
   "outputs": [
    {
     "data": {
      "text/plain": [
       "(8667, 18)"
      ]
     },
     "execution_count": 45,
     "metadata": {},
     "output_type": "execute_result"
    }
   ],
   "source": [
    "test_input_seq = pad_sequences([[input_token_index[char] for char in sent] for sent in test_inputs], \n",
    "                                maxlen=max_encoder_seq_length, \n",
    "                                padding='post')\n",
    "\n",
    "test_input_seq.shape "
   ]
  },
  {
   "cell_type": "code",
   "execution_count": 46,
   "metadata": {},
   "outputs": [
    {
     "data": {
      "text/plain": [
       "(8667, 18, 28)"
      ]
     },
     "execution_count": 46,
     "metadata": {},
     "output_type": "execute_result"
    }
   ],
   "source": [
    "encoder_test_data = onehot_encode(test_input_seq, max_encoder_seq_length, num_encoder_tokens)\n",
    "encoder_test_data.shape"
   ]
  },
  {
   "cell_type": "markdown",
   "metadata": {},
   "source": [
    "- Get all the references"
   ]
  },
  {
   "cell_type": "code",
   "execution_count": 47,
   "metadata": {},
   "outputs": [
    {
     "data": {
      "text/plain": [
       "[['за', 'ним'], ['иди', 'за', 'ним'], ['идите', 'за', 'ним'], ['за', 'ним']]"
      ]
     },
     "execution_count": 47,
     "metadata": {},
     "output_type": "execute_result"
    }
   ],
   "source": [
    "refs = dict()\n",
    "for pair in all_pairs:\n",
    "    eng, rus, desc = pair\n",
    "    if not refs.get(eng):\n",
    "        refs[eng] = list()\n",
    "    refs[eng].append(rus.split())\n",
    "refs['follow him']"
   ]
  },
  {
   "cell_type": "markdown",
   "metadata": {},
   "source": [
    "- Iterate through the samples, translate them, and then calculate the bleu score"
   ]
  },
  {
   "cell_type": "code",
   "execution_count": 48,
   "metadata": {},
   "outputs": [],
   "source": [
    "def decode(index: int, data: numpy.ndarray) -> list:\n",
    "    \"\"\" Decodes the sequence of data \"\"\"\n",
    "    input_seq = data[index:index+1]\n",
    "    pred = decode_sequence(input_seq, 0.2)[0:-1]\n",
    "    return pred.split()"
   ]
  },
  {
   "cell_type": "code",
   "execution_count": 49,
   "metadata": {},
   "outputs": [
    {
     "name": "stderr",
     "output_type": "stream",
     "text": [
      "/home/jmack/anaconda3/lib/python3.8/site-packages/nltk/translate/bleu_score.py:516: UserWarning: \n",
      "The hypothesis contains 0 counts of 2-gram overlaps.\n",
      "Therefore the BLEU score evaluates to 0, independently of\n",
      "how many N-gram overlaps of lower order it contains.\n",
      "Consider using lower n-gram order or use SmoothingFunction()\n",
      "  warnings.warn(_msg)\n",
      "/home/jmack/anaconda3/lib/python3.8/site-packages/nltk/translate/bleu_score.py:516: UserWarning: \n",
      "The hypothesis contains 0 counts of 3-gram overlaps.\n",
      "Therefore the BLEU score evaluates to 0, independently of\n",
      "how many N-gram overlaps of lower order it contains.\n",
      "Consider using lower n-gram order or use SmoothingFunction()\n",
      "  warnings.warn(_msg)\n",
      "/home/jmack/anaconda3/lib/python3.8/site-packages/nltk/translate/bleu_score.py:516: UserWarning: \n",
      "The hypothesis contains 0 counts of 4-gram overlaps.\n",
      "Therefore the BLEU score evaluates to 0, independently of\n",
      "how many N-gram overlaps of lower order it contains.\n",
      "Consider using lower n-gram order or use SmoothingFunction()\n",
      "  warnings.warn(_msg)\n"
     ]
    },
    {
     "name": "stdout",
     "output_type": "stream",
     "text": [
      "10% completed\n",
      "20% completed\n",
      "30% completed\n",
      "40% completed\n",
      "50% completed\n",
      "60% completed\n",
      "70% completed\n",
      "80% completed\n",
      "90% completed\n",
      "100% completed\n"
     ]
    },
    {
     "data": {
      "text/plain": [
       "[0.3032653298563167,\n",
       " 0.25,\n",
       " 0.25,\n",
       " 0.5,\n",
       " 0.3333333333333333,\n",
       " 0.3333333333333333,\n",
       " 0.5,\n",
       " 0.5,\n",
       " 0.5,\n",
       " 0,\n",
       " 0.25,\n",
       " 1.0,\n",
       " 0.75,\n",
       " 0,\n",
       " 0,\n",
       " 0,\n",
       " 0,\n",
       " 0,\n",
       " 1.0,\n",
       " 0.75]"
      ]
     },
     "execution_count": 49,
     "metadata": {},
     "output_type": "execute_result"
    }
   ],
   "source": [
    "from nltk.translate.bleu_score import sentence_bleu\n",
    "\n",
    "bleu = list()\n",
    "total = encoder_test_data.shape[0]\n",
    "completed = 10\n",
    "for seq_index in range(total):\n",
    "    # Take one sequence (part of the training set)\n",
    "    # for trying out decoding.\n",
    "    source = test_inputs[seq_index]\n",
    "    ref = refs[source]\n",
    "    candidate = decode(seq_index, encoder_test_data)\n",
    "    score = sentence_bleu(ref, candidate, (1,0,0,0))\n",
    "    bleu.append(score)\n",
    "\n",
    "    if seq_index != 0 and seq_index % (int(total * .1)) == 0:\n",
    "        print(f\"{completed}% completed\")\n",
    "        completed += 10\n",
    "\n",
    "bleu[2000:2020]"
   ]
  },
  {
   "cell_type": "code",
   "execution_count": 50,
   "metadata": {},
   "outputs": [
    {
     "data": {
      "text/plain": [
       "0.45834686464020596"
      ]
     },
     "execution_count": 50,
     "metadata": {},
     "output_type": "execute_result"
    }
   ],
   "source": [
    "sum(bleu) / len(bleu)"
   ]
  },
  {
   "cell_type": "code",
   "execution_count": null,
   "metadata": {},
   "outputs": [],
   "source": []
  }
 ],
 "metadata": {
  "kernelspec": {
   "display_name": "Python 3",
   "language": "python",
   "name": "python3"
  },
  "language_info": {
   "codemirror_mode": {
    "name": "ipython",
    "version": 3
   },
   "file_extension": ".py",
   "mimetype": "text/x-python",
   "name": "python",
   "nbconvert_exporter": "python",
   "pygments_lexer": "ipython3",
   "version": "3.8.5"
  }
 },
 "nbformat": 4,
 "nbformat_minor": 2
}

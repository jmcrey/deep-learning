{
 "cells": [
  {
   "cell_type": "markdown",
   "metadata": {},
   "source": [
    "## Load and Preprocess"
   ]
  },
  {
   "cell_type": "code",
   "execution_count": 1,
   "metadata": {},
   "outputs": [
    {
     "name": "stdout",
     "output_type": "stream",
     "text": [
      "Shape of x: (768, 8)\n",
      "Shape of y: (768,)\n"
     ]
    }
   ],
   "source": [
    "from sklearn import datasets\n",
    "import numpy\n",
    "\n",
    "x_sparse, y = datasets.load_svmlight_file('diabetes')\n",
    "x = x_sparse.todense()\n",
    "\n",
    "print('Shape of x: ' + str(x.shape))\n",
    "print('Shape of y: ' + str(y.shape))"
   ]
  },
  {
   "cell_type": "code",
   "execution_count": 2,
   "metadata": {},
   "outputs": [
    {
     "name": "stdout",
     "output_type": "stream",
     "text": [
      "Shape of x_train: (640, 8)\n",
      "Shape of x_test: (128, 8)\n",
      "Shape of y_train: (640, 1)\n",
      "Shape of y_test: (128, 1)\n"
     ]
    }
   ],
   "source": [
    "# partition the data to training and test sets\n",
    "n = x.shape[0]\n",
    "n_train = 640\n",
    "n_test = n - n_train\n",
    "\n",
    "rand_indices = numpy.random.permutation(n)\n",
    "train_indices = rand_indices[0:n_train]\n",
    "test_indices = rand_indices[n_train:n]\n",
    "\n",
    "x_train = x[train_indices, :]\n",
    "x_test = x[test_indices, :]\n",
    "y_train = y[train_indices].reshape(n_train, 1)\n",
    "y_test = y[test_indices].reshape(n_test, 1)\n",
    "\n",
    "print('Shape of x_train: ' + str(x_train.shape))\n",
    "print('Shape of x_test: ' + str(x_test.shape))\n",
    "print('Shape of y_train: ' + str(y_train.shape))\n",
    "print('Shape of y_test: ' + str(y_test.shape))"
   ]
  },
  {
   "cell_type": "code",
   "execution_count": 3,
   "metadata": {},
   "outputs": [
    {
     "name": "stdout",
     "output_type": "stream",
     "text": [
      "test mean = \n",
      "[[ 0.06078954  0.0138906   0.23721259  0.05485782 -0.0182362   0.16715915\n",
      "  -0.00124598  0.07095006]]\n",
      "test std = \n",
      "[[0.99887728 0.97976865 0.89839885 1.12092429 1.018332   0.82670951\n",
      "  0.83409264 1.04976618]]\n"
     ]
    }
   ],
   "source": [
    "# Standardization\n",
    "import numpy\n",
    "\n",
    "# calculate mu and sig using the training set\n",
    "d = x_train.shape[1]\n",
    "mu = numpy.mean(x_train, axis=0).reshape(1, d)\n",
    "sig = numpy.std(x_train, axis=0).reshape(1, d)\n",
    "\n",
    "# transform the training features\n",
    "x_train = (x_train - mu) / (sig + 1E-6)\n",
    "\n",
    "# transform the test features\n",
    "x_test = (x_test - mu) / (sig + 1E-6)\n",
    "\n",
    "print('test mean = ')\n",
    "print(numpy.mean(x_test, axis=0))\n",
    "\n",
    "print('test std = ')\n",
    "print(numpy.std(x_test, axis=0))"
   ]
  },
  {
   "cell_type": "code",
   "execution_count": 4,
   "metadata": {},
   "outputs": [
    {
     "name": "stdout",
     "output_type": "stream",
     "text": [
      "Shape of x_train: (640, 9)\n",
      "Shape of x_test: (128, 9)\n"
     ]
    }
   ],
   "source": [
    "n_train, d = x_train.shape\n",
    "x_train = numpy.concatenate((x_train, numpy.ones((n_train, 1))), axis=1)\n",
    "\n",
    "n_test, d = x_test.shape\n",
    "x_test = numpy.concatenate((x_test, numpy.ones((n_test, 1))), axis=1)\n",
    "\n",
    "print('Shape of x_train: ' + str(x_train.shape))\n",
    "print('Shape of x_test: ' + str(x_test.shape))"
   ]
  },
  {
   "cell_type": "markdown",
   "metadata": {},
   "source": [
    "## Stochastic GD"
   ]
  },
  {
   "cell_type": "code",
   "execution_count": 54,
   "metadata": {},
   "outputs": [],
   "source": [
    "def stochastic_objective_gradient(w, xi, yi, lam):\n",
    "    d = xi.shape[0]\n",
    "    yx = yi * xi # 1-by-d matrix\n",
    "    yxw = float(numpy.dot(yx, w)) # scalar\n",
    "    \n",
    "    # calculate objective function Q_i\n",
    "    loss = numpy.log(1 + numpy.exp(-yxw)) # scalar\n",
    "    reg = lam / 2 * numpy.sum(w * w) # scalar\n",
    "    obj = loss + reg\n",
    "    \n",
    "    # calculate stochastic gradient\n",
    "    g_loss = -yx.T / (1 + numpy.exp(yxw)) # d-by-1 matrix\n",
    "    g = g_loss + lam * w # d-by-1 matrix\n",
    "    \n",
    "    return obj, g"
   ]
  },
  {
   "cell_type": "code",
   "execution_count": 55,
   "metadata": {},
   "outputs": [],
   "source": [
    "lam = 1E-6\n",
    "stepsize = 0.1\n",
    "objval = 0"
   ]
  },
  {
   "cell_type": "code",
   "execution_count": 56,
   "metadata": {},
   "outputs": [
    {
     "data": {
      "text/plain": [
       "(matrix([[-0.83481206,  1.6276372 ,  0.28947436, -1.30657715, -0.69807902,\n",
       "           0.62291575, -1.12977615,  0.4203355 ,  1.        ]]),\n",
       " -1.0,\n",
       " array([[ 1.48076958e-02],\n",
       "        [-7.95391065e-02],\n",
       "        [-3.57784032e-02],\n",
       "        [ 5.76488912e-02],\n",
       "        [ 4.61795175e-02],\n",
       "        [-4.33413730e-02],\n",
       "        [ 9.25984864e-02],\n",
       "        [-6.87438089e-02],\n",
       "        [ 7.74521941e-05]]))"
      ]
     },
     "execution_count": 56,
     "metadata": {},
     "output_type": "execute_result"
    }
   ],
   "source": [
    "n, d = x_train.shape\n",
    "xi = x_train[0, :] # 1-by-d matrix\n",
    "yi = float(y_train[0, :]) # scalar\n",
    "w1 = numpy.zeros((d, 1))\n",
    "xi, yi, w1"
   ]
  },
  {
   "cell_type": "code",
   "execution_count": 57,
   "metadata": {},
   "outputs": [
    {
     "data": {
      "text/plain": [
       "(0.6931471805599453,\n",
       " matrix([[-0.41740603],\n",
       "         [ 0.8138186 ],\n",
       "         [ 0.14473718],\n",
       "         [-0.65328857],\n",
       "         [-0.34903951],\n",
       "         [ 0.31145788],\n",
       "         [-0.56488808],\n",
       "         [ 0.21016775],\n",
       "         [ 0.5       ]]))"
      ]
     },
     "execution_count": 57,
     "metadata": {},
     "output_type": "execute_result"
    }
   ],
   "source": [
    "obj, g = stochastic_objective_gradient(w1, xi, yi, lam)\n",
    "obj, g"
   ]
  },
  {
   "cell_type": "code",
   "execution_count": 58,
   "metadata": {},
   "outputs": [
    {
     "data": {
      "text/plain": [
       "array([[ 0.0417406 ],\n",
       "       [-0.08138186],\n",
       "       [-0.01447372],\n",
       "       [ 0.06532886],\n",
       "       [ 0.03490395],\n",
       "       [-0.03114579],\n",
       "       [ 0.05648881],\n",
       "       [-0.02101678],\n",
       "       [-0.05      ]])"
      ]
     },
     "execution_count": 58,
     "metadata": {},
     "output_type": "execute_result"
    }
   ],
   "source": [
    "w1 -= stepsize * g\n",
    "objval += obj\n",
    "w1"
   ]
  },
  {
   "cell_type": "code",
   "execution_count": 59,
   "metadata": {},
   "outputs": [],
   "source": [
    "xi = x_train[1, :] # 1-by-d matrix\n",
    "yi = float(y_train[1, :]) # scalar"
   ]
  },
  {
   "cell_type": "code",
   "execution_count": 60,
   "metadata": {},
   "outputs": [
    {
     "data": {
      "text/plain": [
       "(0.694697335876756,\n",
       " matrix([[ 0.26932907],\n",
       "         [-0.01842753],\n",
       "         [ 0.21304685],\n",
       "         [ 0.07679966],\n",
       "         [-0.11275566],\n",
       "         [ 0.12195585],\n",
       "         [-0.36109679],\n",
       "         [ 0.47727034],\n",
       "         [-0.50077452]]))"
      ]
     },
     "execution_count": 60,
     "metadata": {},
     "output_type": "execute_result"
    }
   ],
   "source": [
    "obj, g = stochastic_objective_gradient(w1, xi, yi, lam)\n",
    "obj, g"
   ]
  },
  {
   "cell_type": "code",
   "execution_count": 61,
   "metadata": {},
   "outputs": [
    {
     "data": {
      "text/plain": [
       "(array([[ 1.48076958e-02],\n",
       "        [-7.95391065e-02],\n",
       "        [-3.57784032e-02],\n",
       "        [ 5.76488912e-02],\n",
       "        [ 4.61795175e-02],\n",
       "        [-4.33413730e-02],\n",
       "        [ 9.25984864e-02],\n",
       "        [-6.87438089e-02],\n",
       "        [ 7.74521941e-05]]),\n",
       " 0.6939222582183506)"
      ]
     },
     "execution_count": 61,
     "metadata": {},
     "output_type": "execute_result"
    }
   ],
   "source": [
    "w1 -= stepsize * g\n",
    "objval += obj\n",
    "objval /= 2\n",
    "w1, objval"
   ]
  },
  {
   "cell_type": "markdown",
   "metadata": {},
   "source": [
    "## Mini-batch SGD"
   ]
  },
  {
   "cell_type": "code",
   "execution_count": 72,
   "metadata": {},
   "outputs": [],
   "source": [
    "# Calculate the objective Q_I and the gradient of Q_I\n",
    "# Inputs:\n",
    "#     w: d-by-1 matrix\n",
    "#     xi: b-by-d matrix\n",
    "#     yi: b-by-1 matrix\n",
    "#     lam: scalar, the regularization parameter\n",
    "#     b: integer, the batch size\n",
    "# Return:\n",
    "#     obj: scalar, the objective Q_i\n",
    "#     g: d-by-1 matrix, gradient of Q_i\n",
    "def mb_stochastic_objective_gradient(w, xi, yi, lam, b):\n",
    "    # Fill the function\n",
    "    # Follow the implementation of stochastic_objective_gradient\n",
    "    # Use matrix-vector multiplication; do not use FOR LOOP of vector-vector multiplications\n",
    "    n,d = xi.shape\n",
    "    yx = numpy.multiply(yi, xi)  # b by d matrix\n",
    "    yxw = numpy.dot(yx, w)  # b x 1 vector\n",
    "\n",
    "    # Solve objective function Q_i\n",
    "    loss = numpy.log(1 + numpy.exp(-yxw)) # b x 1 vector\n",
    "    reg = (lam / 2) * numpy.sum(w * w)  # scalar\n",
    "    obj = (1/b) * numpy.sum(loss + reg)  # scalar\n",
    "\n",
    "    # Calculate gradient\n",
    "    z = (1 / (1 + numpy.exp(yxw)))  # b x 1 vector\n",
    "    g_loss = numpy.multiply(z, -yx).T  # b x d matrix\n",
    "    g = (1/b) * numpy.sum(g_loss, axis=1) # d x 1 vector\n",
    "    g += (lam * w)\n",
    "    return obj, g"
   ]
  },
  {
   "cell_type": "code",
   "execution_count": 73,
   "metadata": {},
   "outputs": [],
   "source": [
    "lam = 1E-6\n",
    "b = 1\n",
    "start = 0\n",
    "mbobjval = 0"
   ]
  },
  {
   "cell_type": "code",
   "execution_count": 74,
   "metadata": {},
   "outputs": [
    {
     "data": {
      "text/plain": [
       "(matrix([[-0.83481206,  1.6276372 ,  0.28947436, -1.30657715, -0.69807902,\n",
       "           0.62291575, -1.12977615,  0.4203355 ,  1.        ]]),\n",
       " array([[-1.]]),\n",
       " array([[0.],\n",
       "        [0.],\n",
       "        [0.],\n",
       "        [0.],\n",
       "        [0.],\n",
       "        [0.],\n",
       "        [0.],\n",
       "        [0.],\n",
       "        [0.]]))"
      ]
     },
     "execution_count": 74,
     "metadata": {},
     "output_type": "execute_result"
    }
   ],
   "source": [
    "end = start + b\n",
    "xi = x_train[0:b, :]\n",
    "yi = y_train[0:b, :]\n",
    "w = numpy.zeros((d,1))\n",
    "xi, yi, w"
   ]
  },
  {
   "cell_type": "code",
   "execution_count": 75,
   "metadata": {},
   "outputs": [
    {
     "data": {
      "text/plain": [
       "(0.6931471805599453,\n",
       " matrix([[-0.41740603],\n",
       "         [ 0.8138186 ],\n",
       "         [ 0.14473718],\n",
       "         [-0.65328857],\n",
       "         [-0.34903951],\n",
       "         [ 0.31145788],\n",
       "         [-0.56488808],\n",
       "         [ 0.21016775],\n",
       "         [ 0.5       ]]))"
      ]
     },
     "execution_count": 75,
     "metadata": {},
     "output_type": "execute_result"
    }
   ],
   "source": [
    "mbobj, mbg = mb_stochastic_objective_gradient(w, xi, yi, lam, b)\n",
    "mbobj, mbg"
   ]
  },
  {
   "cell_type": "code",
   "execution_count": 76,
   "metadata": {},
   "outputs": [
    {
     "data": {
      "text/plain": [
       "(array([[ 0.0417406 ],\n",
       "        [-0.08138186],\n",
       "        [-0.01447372],\n",
       "        [ 0.06532886],\n",
       "        [ 0.03490395],\n",
       "        [-0.03114579],\n",
       "        [ 0.05648881],\n",
       "        [-0.02101678],\n",
       "        [-0.05      ]]),\n",
       " 0.6931471805599453)"
      ]
     },
     "execution_count": 76,
     "metadata": {},
     "output_type": "execute_result"
    }
   ],
   "source": [
    "w -= stepsize * mbg\n",
    "mbobjval += mbobj\n",
    "w, mbobj"
   ]
  },
  {
   "cell_type": "code",
   "execution_count": 77,
   "metadata": {},
   "outputs": [
    {
     "data": {
      "text/plain": [
       "(matrix([[-0.537825  ,  0.03679791, -0.42543476, -0.15336164,  0.22516264,\n",
       "          -0.24353455,  0.72107678, -0.95306448,  1.        ]]),\n",
       " array([[1.]]),\n",
       " array([[ 0.0417406 ],\n",
       "        [-0.08138186],\n",
       "        [-0.01447372],\n",
       "        [ 0.06532886],\n",
       "        [ 0.03490395],\n",
       "        [-0.03114579],\n",
       "        [ 0.05648881],\n",
       "        [-0.02101678],\n",
       "        [-0.05      ]]))"
      ]
     },
     "execution_count": 77,
     "metadata": {},
     "output_type": "execute_result"
    }
   ],
   "source": [
    "start = end\n",
    "end = start + b\n",
    "xi = x_train[start:end, :]\n",
    "yi = y_train[start:end, :]\n",
    "xi, yi, w"
   ]
  },
  {
   "cell_type": "code",
   "execution_count": 78,
   "metadata": {},
   "outputs": [
    {
     "data": {
      "text/plain": [
       "(0.694697335876756,\n",
       " matrix([[ 0.26932907],\n",
       "         [-0.01842753],\n",
       "         [ 0.21304685],\n",
       "         [ 0.07679966],\n",
       "         [-0.11275566],\n",
       "         [ 0.12195585],\n",
       "         [-0.36109679],\n",
       "         [ 0.47727034],\n",
       "         [-0.50077452]]))"
      ]
     },
     "execution_count": 78,
     "metadata": {},
     "output_type": "execute_result"
    }
   ],
   "source": [
    "mbobj, mbg = mb_stochastic_objective_gradient(w, xi, yi, lam, b)\n",
    "mbobj, mbg"
   ]
  },
  {
   "cell_type": "code",
   "execution_count": 79,
   "metadata": {},
   "outputs": [
    {
     "data": {
      "text/plain": [
       "(array([[ 1.48076958e-02],\n",
       "        [-7.95391065e-02],\n",
       "        [-3.57784032e-02],\n",
       "        [ 5.76488912e-02],\n",
       "        [ 4.61795175e-02],\n",
       "        [-4.33413730e-02],\n",
       "        [ 9.25984864e-02],\n",
       "        [-6.87438089e-02],\n",
       "        [ 7.74521941e-05]]),\n",
       " 0.6939222582183506)"
      ]
     },
     "execution_count": 79,
     "metadata": {},
     "output_type": "execute_result"
    }
   ],
   "source": [
    "w -= stepsize * mbg\n",
    "mbobjval += mbobj\n",
    "mbobjval /= 2\n",
    "w, mbobjval"
   ]
  },
  {
   "cell_type": "code",
   "execution_count": 82,
   "metadata": {},
   "outputs": [
    {
     "data": {
      "text/plain": [
       "(matrix([[ 0.26932907],\n",
       "         [-0.01842753],\n",
       "         [ 0.21304685],\n",
       "         [ 0.07679966],\n",
       "         [-0.11275566],\n",
       "         [ 0.12195585],\n",
       "         [-0.36109679],\n",
       "         [ 0.47727034],\n",
       "         [-0.50077452]]),\n",
       " matrix([[ 0.26932907],\n",
       "         [-0.01842753],\n",
       "         [ 0.21304685],\n",
       "         [ 0.07679966],\n",
       "         [-0.11275566],\n",
       "         [ 0.12195585],\n",
       "         [-0.36109679],\n",
       "         [ 0.47727034],\n",
       "         [-0.50077452]]))"
      ]
     },
     "execution_count": 82,
     "metadata": {},
     "output_type": "execute_result"
    }
   ],
   "source": [
    "g, mbg"
   ]
  },
  {
   "cell_type": "code",
   "execution_count": 81,
   "metadata": {},
   "outputs": [
    {
     "data": {
      "text/plain": [
       "(True, False, False)"
      ]
     },
     "execution_count": 81,
     "metadata": {},
     "output_type": "execute_result"
    }
   ],
   "source": [
    "mbobjval == objval, numpy.array_equal(g, mbg), numpy.array_equal(w, w1)"
   ]
  },
  {
   "cell_type": "code",
   "execution_count": 37,
   "metadata": {},
   "outputs": [
    {
     "data": {
      "text/plain": [
       "matrix([[-1.04582673,  0.57944573, -0.11684842,  0.63770399,  0.3453668 ,\n",
       "          0.11338537,  0.26408208, -0.07607304, -0.5       ],\n",
       "        [ 0.28779336, -0.31623852,  0.30181073, -0.41665653, -0.21050974,\n",
       "          0.40804039, -0.34509038,  0.39744967, -0.5       ],\n",
       "        [-0.15674667, -0.01234565, -0.43084279,  0.63770399,  0.3453668 ,\n",
       "         -0.17500046,  0.27934956,  0.010022  , -0.5       ],\n",
       "        [ 0.28779336,  0.4674852 ,  0.45880791,  0.63770399,  0.3453668 ,\n",
       "          0.11338537,  0.50683501,  0.4835447 , -0.5       ],\n",
       "        [-0.00856666,  0.17958669, -0.16918082,  0.01749192, -0.08891175,\n",
       "          0.21996272,  0.54195022,  0.26830711, -0.5       ],\n",
       "        [ 0.00856666,  1.00399607,  0.22151321,  0.57170955,  0.85758477,\n",
       "          0.31919328, -0.31904501, -0.09611704,  0.5       ],\n",
       "        [ 0.28779336,  0.85134988, -0.01218364, -0.35463533,  0.05874296,\n",
       "          0.43311741,  0.43660461,  0.35440215, -0.5       ],\n",
       "        [ 0.13961335,  0.75538371,  0.04014876, -0.23059291,  0.14994145,\n",
       "          0.13846233,  0.27476932,  0.44049718, -0.5       ]])"
      ]
     },
     "execution_count": 37,
     "metadata": {},
     "output_type": "execute_result"
    }
   ],
   "source": [
    "g_loss = numpy.multiply(z, -yx)\n",
    "g_loss"
   ]
  },
  {
   "cell_type": "code",
   "execution_count": 38,
   "metadata": {},
   "outputs": [
    {
     "data": {
      "text/plain": [
       "True"
      ]
     },
     "execution_count": 38,
     "metadata": {},
     "output_type": "execute_result"
    }
   ],
   "source": [
    "g_loss = g_loss.T + lam * w\n",
    "numpy.array_equal(g_loss.T, mat)"
   ]
  },
  {
   "cell_type": "code",
   "execution_count": 20,
   "metadata": {},
   "outputs": [
    {
     "data": {
      "text/plain": [
       "(matrix([[-0.02494749],\n",
       "         [ 0.43858289],\n",
       "         [ 0.03665312],\n",
       "         [ 0.18755359],\n",
       "         [ 0.22536851],\n",
       "         [ 0.1963183 ],\n",
       "         [ 0.20493193],\n",
       "         [ 0.22275409],\n",
       "         [-0.375     ]]),\n",
       " 0.0248837325)"
      ]
     },
     "execution_count": 20,
     "metadata": {},
     "output_type": "execute_result"
    }
   ],
   "source": [
    "g = numpy.average(g_loss, axis=1)\n",
    "g1 = (-0.42018124,  0.02528976,  0.17378009,  0.27169091, -0.12320057, -0.02528976,  0.47076076, -0.17378009)\n",
    "g1 = sum(g1) / 8\n",
    "g, g1"
   ]
  },
  {
   "cell_type": "code",
   "execution_count": 21,
   "metadata": {},
   "outputs": [
    {
     "name": "stdout",
     "output_type": "stream",
     "text": [
      "0 8\n",
      "8\n",
      "8 16\n",
      "8\n",
      "16 24\n",
      "8\n",
      "24 32\n",
      "8\n",
      "32 40\n",
      "8\n",
      "40 48\n",
      "8\n",
      "48 56\n",
      "8\n",
      "56 64\n",
      "8\n",
      "64 72\n",
      "8\n",
      "72 80\n",
      "8\n",
      "80 88\n",
      "8\n",
      "88 96\n",
      "8\n",
      "96 104\n",
      "8\n",
      "104 112\n",
      "8\n",
      "112 120\n",
      "8\n",
      "120 128\n",
      "8\n",
      "128 136\n",
      "8\n",
      "136 144\n",
      "8\n",
      "144 152\n",
      "8\n",
      "152 160\n",
      "8\n",
      "160 168\n",
      "8\n",
      "168 176\n",
      "8\n",
      "176 184\n",
      "8\n",
      "184 192\n",
      "8\n",
      "192 200\n",
      "8\n",
      "200 208\n",
      "8\n",
      "208 216\n",
      "8\n",
      "216 224\n",
      "8\n",
      "224 232\n",
      "8\n",
      "232 240\n",
      "8\n",
      "240 248\n",
      "8\n",
      "248 256\n",
      "8\n",
      "256 264\n",
      "8\n",
      "264 272\n",
      "8\n",
      "272 280\n",
      "8\n",
      "280 288\n",
      "8\n",
      "288 296\n",
      "8\n",
      "296 304\n",
      "8\n",
      "304 312\n",
      "8\n",
      "312 320\n",
      "8\n",
      "320 328\n",
      "8\n",
      "328 336\n",
      "8\n",
      "336 344\n",
      "8\n",
      "344 352\n",
      "8\n",
      "352 360\n",
      "8\n",
      "360 368\n",
      "8\n",
      "368 376\n",
      "8\n",
      "376 384\n",
      "8\n",
      "384 392\n",
      "8\n",
      "392 400\n",
      "8\n",
      "400 408\n",
      "8\n",
      "408 416\n",
      "8\n",
      "416 424\n",
      "8\n",
      "424 432\n",
      "8\n",
      "432 440\n",
      "8\n",
      "440 448\n",
      "8\n",
      "448 456\n",
      "8\n",
      "456 464\n",
      "8\n",
      "464 472\n",
      "8\n",
      "472 480\n",
      "8\n",
      "480 488\n",
      "8\n",
      "488 496\n",
      "8\n",
      "496 504\n",
      "8\n",
      "504 512\n",
      "8\n",
      "512 520\n",
      "8\n",
      "520 528\n",
      "8\n",
      "528 536\n",
      "8\n",
      "536 544\n",
      "8\n",
      "544 552\n",
      "8\n",
      "552 560\n",
      "8\n",
      "560 568\n",
      "8\n",
      "568 576\n",
      "8\n",
      "576 584\n",
      "8\n",
      "584 592\n",
      "8\n",
      "592 600\n",
      "8\n",
      "600 608\n",
      "8\n",
      "608 616\n",
      "8\n",
      "616 624\n",
      "8\n",
      "624 632\n",
      "8\n",
      "632 640\n",
      "8\n"
     ]
    }
   ],
   "source": [
    "iters = int(n / b)\n",
    "start = 0\n",
    "for i in range(iters):\n",
    "    end = start + b\n",
    "    print(start, end)\n",
    "    xi = x[rand_indices[0:b], :]\n",
    "    print(len(xi))\n",
    "    yi = y[rand_indices[0:b]].reshape((b, 1))\n",
    "    start = end"
   ]
  },
  {
   "cell_type": "code",
   "execution_count": null,
   "metadata": {},
   "outputs": [],
   "source": []
  }
 ],
 "metadata": {
  "kernelspec": {
   "display_name": "Python 3",
   "language": "python",
   "name": "python3"
  },
  "language_info": {
   "codemirror_mode": {
    "name": "ipython",
    "version": 3
   },
   "file_extension": ".py",
   "mimetype": "text/x-python",
   "name": "python",
   "nbconvert_exporter": "python",
   "pygments_lexer": "ipython3",
   "version": "3.8.5"
  }
 },
 "nbformat": 4,
 "nbformat_minor": 4
}

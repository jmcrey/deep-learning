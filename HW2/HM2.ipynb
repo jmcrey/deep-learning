{
 "cells": [
  {
   "cell_type": "markdown",
   "metadata": {},
   "source": [
    "# HM2: Numerical Optimization for Logistic Regression.\n",
    "\n",
    "### Name: Jeremiah McReynolds\n"
   ]
  },
  {
   "cell_type": "markdown",
   "metadata": {},
   "source": [
    "## 0. You will do the following:\n",
    "\n",
    "1. Read the lecture note: [click here](https://github.com/wangshusen/DeepLearning/blob/master/LectureNotes/Logistic/paper/logistic.pdf)\n",
    "\n",
    "2. Read, complete, and run my code.\n",
    "\n",
    "3. **Implement mini-batch SGD** and evaluate the performance.\n",
    "\n",
    "4. Convert the .IPYNB file to .HTML file.\n",
    "\n",
    "    * The HTML file must contain **the code** and **the output after execution**.\n",
    "    \n",
    "    * Missing **the output after execution** will not be graded.\n",
    "    \n",
    "5. Upload this .HTML file to your Google Drive, Dropbox, or your Github repo.  (If you submit the file to Google Drive or Dropbox, you must make the file \"open-access\". The delay caused by \"deny of access\" may result in late penalty.)\n",
    "\n",
    "6. Submit the link to this .HTML file to Canvas.\n",
    "\n",
    "    * Example: https://github.com/wangshusen/CS583-2020S/blob/master/homework/HM2/HM2.html\n",
    "\n",
    "\n",
    "## Grading criteria:\n",
    "\n",
    "1. When computing the ```gradient``` and ```objective function value``` using a batch of samples, use **matrix-vector multiplication** rather than a FOR LOOP of **vector-vector multiplications**.\n",
    "\n",
    "2. Plot ```objective function value``` against ```epochs```. In the plot, compare GD, SGD, and MB-SGD (with $b=8$ and $b=64$). The plot must look reasonable."
   ]
  },
  {
   "cell_type": "code",
   "execution_count": null,
   "metadata": {},
   "outputs": [],
   "source": []
  },
  {
   "cell_type": "markdown",
   "metadata": {},
   "source": [
    "# 1. Data processing\n",
    "\n",
    "- Download the Diabete dataset from https://www.csie.ntu.edu.tw/~cjlin/libsvmtools/datasets/binary/diabetes\n",
    "- Load the data using sklearn.\n",
    "- Preprocess the data."
   ]
  },
  {
   "cell_type": "markdown",
   "metadata": {},
   "source": [
    "## 1.1. Load the data"
   ]
  },
  {
   "cell_type": "code",
   "execution_count": 4,
   "metadata": {},
   "outputs": [
    {
     "name": "stdout",
     "output_type": "stream",
     "text": [
      "Shape of x: (768, 8)\n",
      "Shape of y: (768,)\n"
     ]
    }
   ],
   "source": [
    "from sklearn import datasets\n",
    "import numpy\n",
    "\n",
    "x_sparse, y = datasets.load_svmlight_file('diabetes')\n",
    "x = x_sparse.todense()\n",
    "\n",
    "print('Shape of x: ' + str(x.shape))\n",
    "print('Shape of y: ' + str(y.shape))"
   ]
  },
  {
   "cell_type": "markdown",
   "metadata": {},
   "source": [
    "## 1.2. Partition to training and test sets"
   ]
  },
  {
   "cell_type": "code",
   "execution_count": 5,
   "metadata": {},
   "outputs": [
    {
     "name": "stdout",
     "output_type": "stream",
     "text": [
      "Shape of x_train: (640, 8)\n",
      "Shape of x_test: (128, 8)\n",
      "Shape of y_train: (640, 1)\n",
      "Shape of y_test: (128, 1)\n"
     ]
    }
   ],
   "source": [
    "# partition the data to training and test sets\n",
    "n = x.shape[0]\n",
    "n_train = 640\n",
    "n_test = n - n_train\n",
    "\n",
    "rand_indices = numpy.random.permutation(n)\n",
    "train_indices = rand_indices[0:n_train]\n",
    "test_indices = rand_indices[n_train:n]\n",
    "\n",
    "x_train = x[train_indices, :]\n",
    "x_test = x[test_indices, :]\n",
    "y_train = y[train_indices].reshape(n_train, 1)\n",
    "y_test = y[test_indices].reshape(n_test, 1)\n",
    "\n",
    "print('Shape of x_train: ' + str(x_train.shape))\n",
    "print('Shape of x_test: ' + str(x_test.shape))\n",
    "print('Shape of y_train: ' + str(y_train.shape))\n",
    "print('Shape of y_test: ' + str(y_test.shape))"
   ]
  },
  {
   "cell_type": "markdown",
   "metadata": {},
   "source": [
    "## 1.3. Feature scaling"
   ]
  },
  {
   "cell_type": "markdown",
   "metadata": {},
   "source": [
    "Use the standardization to trainsform both training and test features"
   ]
  },
  {
   "cell_type": "code",
   "execution_count": 6,
   "metadata": {},
   "outputs": [
    {
     "name": "stdout",
     "output_type": "stream",
     "text": [
      "test mean = \n",
      "[[-0.08880541  0.00246106  0.12585071  0.13527958  0.00222387  0.09052786\n",
      "  -0.03670071  0.03305912]]\n",
      "test std = \n",
      "[[0.94527664 0.9179219  0.95019601 0.98456125 0.92215021 0.94298993\n",
      "  0.97641536 1.03921168]]\n"
     ]
    }
   ],
   "source": [
    "# Standardization\n",
    "import numpy\n",
    "\n",
    "# calculate mu and sig using the training set\n",
    "d = x_train.shape[1]\n",
    "mu = numpy.mean(x_train, axis=0).reshape(1, d)\n",
    "sig = numpy.std(x_train, axis=0).reshape(1, d)\n",
    "\n",
    "# transform the training features\n",
    "x_train = (x_train - mu) / (sig + 1E-6)\n",
    "\n",
    "# transform the test features\n",
    "x_test = (x_test - mu) / (sig + 1E-6)\n",
    "\n",
    "print('test mean = ')\n",
    "print(numpy.mean(x_test, axis=0))\n",
    "\n",
    "print('test std = ')\n",
    "print(numpy.std(x_test, axis=0))"
   ]
  },
  {
   "cell_type": "markdown",
   "metadata": {},
   "source": [
    "## 1.4. Add a dimension of all ones"
   ]
  },
  {
   "cell_type": "code",
   "execution_count": 7,
   "metadata": {},
   "outputs": [
    {
     "name": "stdout",
     "output_type": "stream",
     "text": [
      "Shape of x_train: (640, 9)\n",
      "Shape of x_test: (128, 9)\n"
     ]
    }
   ],
   "source": [
    "n_train, d = x_train.shape\n",
    "x_train = numpy.concatenate((x_train, numpy.ones((n_train, 1))), axis=1)\n",
    "\n",
    "n_test, d = x_test.shape\n",
    "x_test = numpy.concatenate((x_test, numpy.ones((n_test, 1))), axis=1)\n",
    "\n",
    "print('Shape of x_train: ' + str(x_train.shape))\n",
    "print('Shape of x_test: ' + str(x_test.shape))"
   ]
  },
  {
   "cell_type": "markdown",
   "metadata": {},
   "source": [
    "# 2. Logistic regression model\n",
    "\n",
    "The objective function is $Q (w; X, y) = \\frac{1}{n} \\sum_{i=1}^n \\log \\Big( 1 + \\exp \\big( - y_i x_i^T w \\big) \\Big) + \\frac{\\lambda}{2} \\| w \\|_2^2 $."
   ]
  },
  {
   "cell_type": "code",
   "execution_count": 8,
   "metadata": {},
   "outputs": [],
   "source": [
    "# Calculate the objective function value\n",
    "# Inputs:\n",
    "#     w: d-by-1 matrix\n",
    "#     x: n-by-d matrix\n",
    "#     y: n-by-1 matrix\n",
    "#     lam: scalar, the regularization parameter\n",
    "# Return:\n",
    "#     objective function value (scalar)\n",
    "def objective(w, x, y, lam):\n",
    "    n, d = x.shape\n",
    "    yx = numpy.multiply(y, x) # n-by-d matrix\n",
    "    yxw = numpy.dot(yx, w) # n-by-1 matrix\n",
    "    vec1 = numpy.exp(-yxw) # n-by-1 matrix\n",
    "    vec2 = numpy.log(1 + vec1) # n-by-1 matrix\n",
    "    loss = numpy.mean(vec2) # scalar\n",
    "    reg = lam / 2 * numpy.sum(w * w) # scalar\n",
    "    return loss + reg\n",
    "    "
   ]
  },
  {
   "cell_type": "code",
   "execution_count": 9,
   "metadata": {},
   "outputs": [
    {
     "name": "stdout",
     "output_type": "stream",
     "text": [
      "Initial objective function value = 0.6931471805599453\n"
     ]
    }
   ],
   "source": [
    "# initialize w\n",
    "d = x_train.shape[1]\n",
    "w = numpy.zeros((d, 1))\n",
    "\n",
    "# evaluate the objective function value at w\n",
    "lam = 1E-6\n",
    "objval0 = objective(w, x_train, y_train, lam)\n",
    "print('Initial objective function value = ' + str(objval0))"
   ]
  },
  {
   "cell_type": "markdown",
   "metadata": {},
   "source": [
    "# 3. Numerical optimization"
   ]
  },
  {
   "cell_type": "markdown",
   "metadata": {},
   "source": [
    "## 3.1. Gradient descent\n"
   ]
  },
  {
   "cell_type": "markdown",
   "metadata": {},
   "source": [
    "The gradient at $w$ is $g = - \\frac{1}{n} \\sum_{i=1}^n \\frac{y_i x_i }{1 + \\exp ( y_i x_i^T w)} + \\lambda w$"
   ]
  },
  {
   "cell_type": "code",
   "execution_count": 10,
   "metadata": {},
   "outputs": [],
   "source": [
    "# Calculate the gradient\n",
    "# Inputs:\n",
    "#     w: d-by-1 matrix\n",
    "#     x: n-by-d matrix\n",
    "#     y: n-by-1 matrix\n",
    "#     lam: scalar, the regularization parameter\n",
    "# Return:\n",
    "#     g: g: d-by-1 matrix, full gradient\n",
    "def gradient(w, x, y, lam):\n",
    "    n, d = x.shape\n",
    "    yx = numpy.multiply(y, x) # n-by-d matrix\n",
    "    yxw = numpy.dot(yx, w) # n-by-1 matrix\n",
    "    vec1 = numpy.exp(yxw) # n-by-1 matrix\n",
    "    vec2 = numpy.divide(yx, 1+vec1) # n-by-d matrix\n",
    "    vec3 = -numpy.mean(vec2, axis=0).reshape(d, 1) # d-by-1 matrix\n",
    "    g = vec3 + lam * w\n",
    "    return g"
   ]
  },
  {
   "cell_type": "code",
   "execution_count": 11,
   "metadata": {},
   "outputs": [],
   "source": [
    "# Gradient descent for solving logistic regression\n",
    "# Inputs:\n",
    "#     x: n-by-d matrix\n",
    "#     y: n-by-1 matrix\n",
    "#     lam: scalar, the regularization parameter\n",
    "#     stepsize: scalar\n",
    "#     max_iter: integer, the maximal iterations\n",
    "#     w: d-by-1 matrix, initialization of w\n",
    "# Return:\n",
    "#     w: d-by-1 matrix, the solution\n",
    "#     objvals: a record of each iteration's objective value\n",
    "def grad_descent(x, y, lam, stepsize, max_iter=100, w=None):\n",
    "    n, d = x.shape\n",
    "    objvals = numpy.zeros(max_iter) # store the objective values\n",
    "    if w is None:\n",
    "        w = numpy.zeros((d, 1)) # zero initialization\n",
    "    \n",
    "    for t in range(max_iter):\n",
    "        objval = objective(w, x, y, lam)\n",
    "        objvals[t] = objval\n",
    "        print('Objective value at t=' + str(t) + ' is ' + str(objval))\n",
    "        g = gradient(w, x, y, lam)\n",
    "        w -= stepsize * g\n",
    "    \n",
    "    return w, objvals"
   ]
  },
  {
   "cell_type": "markdown",
   "metadata": {},
   "source": [
    "Run gradient descent."
   ]
  },
  {
   "cell_type": "code",
   "execution_count": 12,
   "metadata": {},
   "outputs": [
    {
     "name": "stdout",
     "output_type": "stream",
     "text": [
      "Objective value at t=0 is 0.6931471805599453\n",
      "Objective value at t=1 is 0.5909890373351073\n",
      "Objective value at t=2 is 0.550346134724121\n",
      "Objective value at t=3 is 0.5287801447618308\n",
      "Objective value at t=4 is 0.5154506943126274\n",
      "Objective value at t=5 is 0.5064919005181494\n",
      "Objective value at t=6 is 0.5001542337953592\n",
      "Objective value at t=7 is 0.49551464127729944\n",
      "Objective value at t=8 is 0.49203344400495436\n",
      "Objective value at t=9 is 0.4893719221491348\n",
      "Objective value at t=10 is 0.487306459481852\n",
      "Objective value at t=11 is 0.485683800358012\n",
      "Objective value at t=12 is 0.4843958402718806\n",
      "Objective value at t=13 is 0.48336454638964266\n",
      "Objective value at t=14 is 0.48253251065556124\n",
      "Objective value at t=15 is 0.48185681263321617\n",
      "Objective value at t=16 is 0.4813049143171018\n",
      "Objective value at t=17 is 0.4808518470865342\n",
      "Objective value at t=18 is 0.48047824427461017\n",
      "Objective value at t=19 is 0.4801689405608301\n",
      "Objective value at t=20 is 0.479911959175852\n",
      "Objective value at t=21 is 0.47969776922858004\n",
      "Objective value at t=22 is 0.4795187341935956\n",
      "Objective value at t=23 is 0.47936869762834333\n",
      "Objective value at t=24 is 0.4792426686954998\n",
      "Objective value at t=25 is 0.4791365811438155\n",
      "Objective value at t=26 is 0.479047106953773\n",
      "Objective value at t=27 is 0.47897151107846403\n",
      "Objective value at t=28 is 0.47890753737111463\n",
      "Objective value at t=29 is 0.47885331838772893\n",
      "Objective value at t=30 is 0.47880730361659524\n",
      "Objective value at t=31 is 0.4787682020374758\n",
      "Objective value at t=32 is 0.47873493590278526\n",
      "Objective value at t=33 is 0.4787066033645456\n",
      "Objective value at t=34 is 0.47868244811646626\n",
      "Objective value at t=35 is 0.4786618346307903\n",
      "Objective value at t=36 is 0.47864422788055827\n",
      "Objective value at t=37 is 0.4786291766754438\n",
      "Objective value at t=38 is 0.478616299921977\n",
      "Objective value at t=39 is 0.4786052752603693\n",
      "Objective value at t=40 is 0.47859582964032593\n",
      "Objective value at t=41 is 0.47858773148455497\n",
      "Objective value at t=42 is 0.47858078415672123\n",
      "Objective value at t=43 is 0.4785748205044879\n",
      "Objective value at t=44 is 0.47856969829120843\n",
      "Objective value at t=45 is 0.47856529636414874\n",
      "Objective value at t=46 is 0.47856151143471176\n",
      "Objective value at t=47 is 0.47855825536837854\n",
      "Objective value at t=48 is 0.4785554529001117\n",
      "Objective value at t=49 is 0.4785530397056176\n",
      "Objective value at t=50 is 0.47855096077081555\n",
      "Objective value at t=51 is 0.47854916901165095\n",
      "Objective value at t=52 is 0.4785476241044164\n",
      "Objective value at t=53 is 0.4785462914933635\n",
      "Objective value at t=54 is 0.47854514154784134\n",
      "Objective value at t=55 is 0.4785441488457242\n",
      "Objective value at t=56 is 0.47854329156363107\n",
      "Objective value at t=57 is 0.47854255095756665\n",
      "Objective value at t=58 is 0.4785419109202006\n",
      "Objective value at t=59 is 0.478541357603181\n",
      "Objective value at t=60 is 0.4785408790946816\n",
      "Objective value at t=61 is 0.47854046514391146\n",
      "Objective value at t=62 is 0.47854010692558396\n",
      "Objective value at t=63 is 0.47853979683841996\n",
      "Objective value at t=64 is 0.4785395283326586\n",
      "Objective value at t=65 is 0.47853929576231174\n",
      "Objective value at t=66 is 0.4785390942585411\n",
      "Objective value at t=67 is 0.4785389196210765\n",
      "Objective value at t=68 is 0.47853876822505903\n",
      "Objective value at t=69 is 0.4785386369410734\n",
      "Objective value at t=70 is 0.4785385230664703\n",
      "Objective value at t=71 is 0.47853842426635673\n",
      "Objective value at t=72 is 0.47853833852286976\n",
      "Objective value at t=73 is 0.4785382640915517\n",
      "Objective value at t=74 is 0.47853819946381454\n",
      "Objective value at t=75 is 0.47853814333463324\n",
      "Objective value at t=76 is 0.4785380945747262\n",
      "Objective value at t=77 is 0.47853805220658907\n",
      "Objective value at t=78 is 0.47853801538384255\n",
      "Objective value at t=79 is 0.47853798337342784\n",
      "Objective value at t=80 is 0.478537955540251\n",
      "Objective value at t=81 is 0.47853793133393596\n",
      "Objective value at t=82 is 0.4785379102773909\n",
      "Objective value at t=83 is 0.47853789195693813\n",
      "Objective value at t=84 is 0.4785378760137891\n",
      "Objective value at t=85 is 0.47853786213667976\n",
      "Objective value at t=86 is 0.4785378500555063\n",
      "Objective value at t=87 is 0.4785378395358228\n",
      "Objective value at t=88 is 0.47853783037408354\n",
      "Objective value at t=89 is 0.47853782239352727\n",
      "Objective value at t=90 is 0.478537815440616\n",
      "Objective value at t=91 is 0.47853780938195256\n",
      "Objective value at t=92 is 0.4785378041016119\n",
      "Objective value at t=93 is 0.47853779949883\n",
      "Objective value at t=94 is 0.4785377954860016\n",
      "Objective value at t=95 is 0.47853779198694535\n",
      "Objective value at t=96 is 0.4785377889353995\n",
      "Objective value at t=97 is 0.4785377862737191\n",
      "Objective value at t=98 is 0.4785377839517444\n",
      "Objective value at t=99 is 0.47853778192582047\n"
     ]
    }
   ],
   "source": [
    "lam = 1E-6\n",
    "stepsize = 1.0\n",
    "w, objvals_gd = grad_descent(x_train, y_train, lam, stepsize)"
   ]
  },
  {
   "cell_type": "markdown",
   "metadata": {},
   "source": [
    "## 3.2. Stochastic gradient descent (SGD)\n",
    "\n",
    "Define $Q_i (w) = \\log \\Big( 1 + \\exp \\big( - y_i x_i^T w \\big) \\Big) + \\frac{\\lambda}{2} \\| w \\|_2^2 $.\n",
    "\n",
    "The stochastic gradient at $w$ is $g_i = \\frac{\\partial Q_i }{ \\partial w} = -\\frac{y_i x_i }{1 + \\exp ( y_i x_i^T w)} + \\lambda w$."
   ]
  },
  {
   "cell_type": "code",
   "execution_count": 71,
   "metadata": {},
   "outputs": [],
   "source": [
    "# Calculate the objective Q_i and the gradient of Q_i\n",
    "# Inputs:\n",
    "#     w: d-by-1 matrix\n",
    "#     xi: 1-by-d matrix\n",
    "#     yi: scalar\n",
    "#     lam: scalar, the regularization parameter\n",
    "# Return:\n",
    "#     obj: scalar, the objective Q_i\n",
    "#     g: d-by-1 matrix, gradient of Q_i\n",
    "def stochastic_objective_gradient(w, xi, yi, lam):\n",
    "    d = xi.shape[0]\n",
    "    yx = yi * xi # 1-by-d matrix\n",
    "    yxw = float(numpy.dot(yx, w)) # scalar\n",
    "    \n",
    "    # calculate objective function Q_i\n",
    "    loss = numpy.log(1 + numpy.exp(-yxw)) # scalar\n",
    "    reg = lam / 2 * numpy.sum(w * w) # scalar\n",
    "    obj = loss + reg\n",
    "    \n",
    "    # calculate stochastic gradient\n",
    "    g_loss = -yx.T / (1 + numpy.exp(yxw)) # d-by-1 matrix\n",
    "    g = g_loss + lam * w # d-by-1 matrix\n",
    "    \n",
    "    return obj, g"
   ]
  },
  {
   "cell_type": "code",
   "execution_count": 72,
   "metadata": {},
   "outputs": [],
   "source": [
    "# SGD for solving logistic regression\n",
    "# Inputs:\n",
    "#     x: n-by-d matrix\n",
    "#     y: n-by-1 matrix\n",
    "#     lam: scalar, the regularization parameter\n",
    "#     stepsize: scalar\n",
    "#     max_epoch: integer, the maximal epochs\n",
    "#     w: d-by-1 matrix, initialization of w\n",
    "# Return:\n",
    "#     w: the solution\n",
    "#     objvals: record of each iteration's objective value\n",
    "def sgd(x, y, lam, stepsize, max_epoch=100, w=None):\n",
    "    n, d = x.shape\n",
    "    objvals = numpy.zeros(max_epoch) # store the objective values\n",
    "    if w is None:\n",
    "        w = numpy.zeros((d, 1)) # zero initialization\n",
    "    \n",
    "    for t in range(max_epoch):\n",
    "        # randomly shuffle the samples\n",
    "        rand_indices = numpy.random.permutation(n)\n",
    "        x_rand = x[rand_indices, :]\n",
    "        y_rand = y[rand_indices, :]\n",
    "        \n",
    "        objval = 0 # accumulate the objective values\n",
    "        for i in range(n):\n",
    "            xi = x_rand[i, :] # 1-by-d matrix\n",
    "            yi = float(y_rand[i, :]) # scalar\n",
    "            obj, g = stochastic_objective_gradient(w, xi, yi, lam)\n",
    "            objval += obj\n",
    "            w -= stepsize * g\n",
    "        \n",
    "        stepsize *= 0.9 # decrease step size\n",
    "        objval /= n\n",
    "        objvals[t] = objval\n",
    "        print('Objective value at epoch t=' + str(t) + ' is ' + str(objval))\n",
    "    \n",
    "    return w, objvals"
   ]
  },
  {
   "cell_type": "markdown",
   "metadata": {},
   "source": [
    "Run SGD."
   ]
  },
  {
   "cell_type": "code",
   "execution_count": 73,
   "metadata": {},
   "outputs": [
    {
     "name": "stdout",
     "output_type": "stream",
     "text": [
      "Objective value at epoch t=0 is 0.5381831443896911\n",
      "Objective value at epoch t=1 is 0.5257336555866442\n",
      "Objective value at epoch t=2 is 0.5172377899312861\n",
      "Objective value at epoch t=3 is 0.5155901911822091\n",
      "Objective value at epoch t=4 is 0.512930145689304\n",
      "Objective value at epoch t=5 is 0.5150303501936248\n",
      "Objective value at epoch t=6 is 0.508443420211133\n",
      "Objective value at epoch t=7 is 0.5049284950388931\n",
      "Objective value at epoch t=8 is 0.5056950771254358\n",
      "Objective value at epoch t=9 is 0.49968118288937335\n",
      "Objective value at epoch t=10 is 0.4988753916444388\n",
      "Objective value at epoch t=11 is 0.4968225248114389\n",
      "Objective value at epoch t=12 is 0.4927827627539867\n",
      "Objective value at epoch t=13 is 0.49538543778791083\n",
      "Objective value at epoch t=14 is 0.4927522257359338\n",
      "Objective value at epoch t=15 is 0.4912853182752106\n",
      "Objective value at epoch t=16 is 0.4915389418325325\n",
      "Objective value at epoch t=17 is 0.4880393821847628\n",
      "Objective value at epoch t=18 is 0.4893954711084912\n",
      "Objective value at epoch t=19 is 0.48714003925410615\n",
      "Objective value at epoch t=20 is 0.487015190707328\n",
      "Objective value at epoch t=21 is 0.485753266716119\n",
      "Objective value at epoch t=22 is 0.4833196745107163\n",
      "Objective value at epoch t=23 is 0.4846122230086613\n",
      "Objective value at epoch t=24 is 0.48386408967575506\n",
      "Objective value at epoch t=25 is 0.48377340796823887\n",
      "Objective value at epoch t=26 is 0.48303730906369785\n",
      "Objective value at epoch t=27 is 0.4820872661970447\n",
      "Objective value at epoch t=28 is 0.48181079587178777\n",
      "Objective value at epoch t=29 is 0.4819249444243117\n",
      "Objective value at epoch t=30 is 0.4815235788820481\n",
      "Objective value at epoch t=31 is 0.4813328400880831\n",
      "Objective value at epoch t=32 is 0.480943452639102\n",
      "Objective value at epoch t=33 is 0.48079656875369386\n",
      "Objective value at epoch t=34 is 0.48061919262162756\n",
      "Objective value at epoch t=35 is 0.48033644705333023\n",
      "Objective value at epoch t=36 is 0.4802659372197091\n",
      "Objective value at epoch t=37 is 0.4800706566842992\n",
      "Objective value at epoch t=38 is 0.47990910914149254\n",
      "Objective value at epoch t=39 is 0.4797636838734448\n",
      "Objective value at epoch t=40 is 0.4796788447261983\n",
      "Objective value at epoch t=41 is 0.4795438135975802\n",
      "Objective value at epoch t=42 is 0.4794531977672095\n",
      "Objective value at epoch t=43 is 0.4793618608526227\n",
      "Objective value at epoch t=44 is 0.4792760035939761\n",
      "Objective value at epoch t=45 is 0.4792053050379419\n",
      "Objective value at epoch t=46 is 0.47914380564165715\n",
      "Objective value at epoch t=47 is 0.4790755526848768\n",
      "Objective value at epoch t=48 is 0.4790271870425902\n",
      "Objective value at epoch t=49 is 0.47897907094213743\n",
      "Objective value at epoch t=50 is 0.47893288177257193\n",
      "Objective value at epoch t=51 is 0.47889363442014216\n",
      "Objective value at epoch t=52 is 0.4788574319231034\n",
      "Objective value at epoch t=53 is 0.4788255411111152\n",
      "Objective value at epoch t=54 is 0.4787978920084792\n",
      "Objective value at epoch t=55 is 0.47877223814147873\n",
      "Objective value at epoch t=56 is 0.47874901927501645\n",
      "Objective value at epoch t=57 is 0.47872683053888637\n",
      "Objective value at epoch t=58 is 0.478708666944007\n",
      "Objective value at epoch t=59 is 0.47869217671805275\n",
      "Objective value at epoch t=60 is 0.4786764160429221\n",
      "Objective value at epoch t=61 is 0.47866291848389625\n",
      "Objective value at epoch t=62 is 0.47865029249032187\n",
      "Objective value at epoch t=63 is 0.47863913483774095\n",
      "Objective value at epoch t=64 is 0.47862906177398284\n",
      "Objective value at epoch t=65 is 0.47861999178864867\n",
      "Objective value at epoch t=66 is 0.47861151505624655\n",
      "Objective value at epoch t=67 is 0.47860443696407284\n",
      "Objective value at epoch t=68 is 0.47859773372231446\n",
      "Objective value at epoch t=69 is 0.4785918493356419\n",
      "Objective value at epoch t=70 is 0.4785864408753235\n",
      "Objective value at epoch t=71 is 0.47858164427928945\n",
      "Objective value at epoch t=72 is 0.4785772616757262\n",
      "Objective value at epoch t=73 is 0.4785733621277184\n",
      "Objective value at epoch t=74 is 0.478569827329255\n",
      "Objective value at epoch t=75 is 0.4785666800448379\n",
      "Objective value at epoch t=76 is 0.4785638116750769\n",
      "Objective value at epoch t=77 is 0.47856125085611134\n",
      "Objective value at epoch t=78 is 0.4785589229115499\n",
      "Objective value at epoch t=79 is 0.4785568561624142\n",
      "Objective value at epoch t=80 is 0.47855497915586465\n",
      "Objective value at epoch t=81 is 0.47855328313371387\n",
      "Objective value at epoch t=82 is 0.47855177400711685\n",
      "Objective value at epoch t=83 is 0.4785504035590483\n",
      "Objective value at epoch t=84 is 0.4785491757053145\n",
      "Objective value at epoch t=85 is 0.47854806719700627\n",
      "Objective value at epoch t=86 is 0.47854707070853425\n",
      "Objective value at epoch t=87 is 0.47854617480477535\n",
      "Objective value at epoch t=88 is 0.478545367002196\n",
      "Objective value at epoch t=89 is 0.47854464053089274\n",
      "Objective value at epoch t=90 is 0.47854398669123654\n",
      "Objective value at epoch t=91 is 0.4785433978767205\n",
      "Objective value at epoch t=92 is 0.4785428685175466\n",
      "Objective value at epoch t=93 is 0.4785423918962651\n",
      "Objective value at epoch t=94 is 0.47854196271413557\n",
      "Objective value at epoch t=95 is 0.4785415762902991\n",
      "Objective value at epoch t=96 is 0.47854122907785895\n",
      "Objective value at epoch t=97 is 0.47854091619289535\n",
      "Objective value at epoch t=98 is 0.4785406345149907\n",
      "Objective value at epoch t=99 is 0.47854038125195164\n"
     ]
    }
   ],
   "source": [
    "lam = 1E-6\n",
    "stepsize = 0.1\n",
    "w, objvals_sgd = sgd(x_train, y_train, lam, stepsize)"
   ]
  },
  {
   "cell_type": "markdown",
   "metadata": {},
   "source": [
    "# 4. Compare GD with SGD\n",
    "\n",
    "Plot objective function values against epochs."
   ]
  },
  {
   "cell_type": "code",
   "execution_count": 16,
   "metadata": {},
   "outputs": [
    {
     "name": "stderr",
     "output_type": "stream",
     "text": [
      "<ipython-input-16-9b8d8f4cdfb5>:9: MatplotlibDeprecationWarning: Case-insensitive properties were deprecated in 3.3 and support will be removed two minor releases later\n",
      "  line0, = plt.plot(epochs_gd, objvals_gd, '--b', LineWidth=4)\n",
      "<ipython-input-16-9b8d8f4cdfb5>:10: MatplotlibDeprecationWarning: Case-insensitive properties were deprecated in 3.3 and support will be removed two minor releases later\n",
      "  line1, = plt.plot(epochs_sgd, objvals_sgd, '-r', LineWidth=2)\n",
      "<ipython-input-16-9b8d8f4cdfb5>:11: MatplotlibDeprecationWarning: Case-insensitive properties were deprecated in 3.3 and support will be removed two minor releases later\n",
      "  plt.xlabel('Epochs', FontSize=20)\n",
      "<ipython-input-16-9b8d8f4cdfb5>:12: MatplotlibDeprecationWarning: Case-insensitive properties were deprecated in 3.3 and support will be removed two minor releases later\n",
      "  plt.ylabel('Objective Value', FontSize=20)\n",
      "<ipython-input-16-9b8d8f4cdfb5>:13: MatplotlibDeprecationWarning: Case-insensitive properties were deprecated in 3.3 and support will be removed two minor releases later\n",
      "  plt.xticks(FontSize=16)\n",
      "<ipython-input-16-9b8d8f4cdfb5>:14: MatplotlibDeprecationWarning: Case-insensitive properties were deprecated in 3.3 and support will be removed two minor releases later\n",
      "  plt.yticks(FontSize=16)\n"
     ]
    },
    {
     "data": {
      "image/png": "[encoded data removed]",
      "text/plain": [
       "<Figure size 432x288 with 1 Axes>"
      ]
     },
     "metadata": {
      "needs_background": "light"
     },
     "output_type": "display_data"
    }
   ],
   "source": [
    "import matplotlib.pyplot as plt\n",
    "%matplotlib inline\n",
    "\n",
    "fig = plt.figure(figsize=(6, 4))\n",
    "\n",
    "epochs_gd = range(len(objvals_gd))\n",
    "epochs_sgd = range(len(objvals_sgd))\n",
    "\n",
    "line0, = plt.plot(epochs_gd, objvals_gd, '--b', LineWidth=4)\n",
    "line1, = plt.plot(epochs_sgd, objvals_sgd, '-r', LineWidth=2)\n",
    "plt.xlabel('Epochs', FontSize=20)\n",
    "plt.ylabel('Objective Value', FontSize=20)\n",
    "plt.xticks(FontSize=16)\n",
    "plt.yticks(FontSize=16)\n",
    "plt.legend([line0, line1], ['GD', 'SGD'], fontsize=20)\n",
    "plt.tight_layout()\n",
    "plt.show()\n",
    "fig.savefig('compare_gd_sgd.pdf', format='pdf', dpi=1200)"
   ]
  },
  {
   "cell_type": "markdown",
   "metadata": {},
   "source": [
    "# 5. Prediction"
   ]
  },
  {
   "cell_type": "code",
   "execution_count": 17,
   "metadata": {},
   "outputs": [],
   "source": [
    "# Predict class label\n",
    "# Inputs:\n",
    "#     w: d-by-1 matrix\n",
    "#     X: m-by-d matrix\n",
    "# Return:\n",
    "#     f: m-by-1 matrix, the predictions\n",
    "def predict(w, X):\n",
    "    xw = numpy.dot(X, w)\n",
    "    f = numpy.sign(xw)\n",
    "    return f"
   ]
  },
  {
   "cell_type": "code",
   "execution_count": 18,
   "metadata": {},
   "outputs": [
    {
     "name": "stdout",
     "output_type": "stream",
     "text": [
      "Training classification error is 0.2234375\n"
     ]
    }
   ],
   "source": [
    "# evaluate training error\n",
    "f_train = predict(w, x_train)\n",
    "diff = numpy.abs(f_train - y_train) / 2\n",
    "error_train = numpy.mean(diff)\n",
    "print('Training classification error is ' + str(error_train))"
   ]
  },
  {
   "cell_type": "code",
   "execution_count": 19,
   "metadata": {},
   "outputs": [
    {
     "name": "stdout",
     "output_type": "stream",
     "text": [
      "Test classification error is 0.1796875\n"
     ]
    }
   ],
   "source": [
    "# evaluate test error\n",
    "f_test = predict(w, x_test)\n",
    "diff = numpy.abs(f_test - y_test) / 2\n",
    "error_test = numpy.mean(diff)\n",
    "print('Test classification error is ' + str(error_test))"
   ]
  },
  {
   "cell_type": "markdown",
   "metadata": {},
   "source": [
    "# 6. Mini-batch SGD (fill the code)\n",
    "\n"
   ]
  },
  {
   "cell_type": "markdown",
   "metadata": {},
   "source": [
    "## 6.1. Compute the objective $Q_I$ and its gradient using a batch of samples\n",
    "\n",
    "Define $Q_I (w) = \\frac{1}{b} \\sum_{i \\in I} \\log \\Big( 1 + \\exp \\big( - y_i x_i^T w \\big) \\Big) + \\frac{\\lambda}{2} \\| w \\|_2^2 $, where $I$ is a set containing $b$ indices randomly drawn from $\\{ 1, \\cdots , n \\}$ without replacement.\n",
    "\n",
    "The stochastic gradient at $w$ is $g_I = \\frac{\\partial Q_I }{ \\partial w} = \\frac{1}{b} \\sum_{i \\in I} \\frac{- y_i x_i }{1 + \\exp ( y_i x_i^T w)} + \\lambda w$."
   ]
  },
  {
   "cell_type": "code",
   "execution_count": 74,
   "metadata": {},
   "outputs": [],
   "source": [
    "# Calculate the objective Q_I and the gradient of Q_I\n",
    "# Inputs:\n",
    "#     w: d-by-1 matrix\n",
    "#     xi: b-by-d matrix\n",
    "#     yi: b-by-1 matrix\n",
    "#     lam: scalar, the regularization parameter\n",
    "#     b: integer, the batch size\n",
    "# Return:\n",
    "#     obj: scalar, the objective Q_i\n",
    "#     g: d-by-1 matrix, gradient of Q_i\n",
    "def mb_stochastic_objective_gradient(w, xi, yi, lam, b):\n",
    "    # Fill the function\n",
    "    # Follow the implementation of stochastic_objective_gradient\n",
    "    # Use matrix-vector multiplication; do not use FOR LOOP of vector-vector multiplications\n",
    "    n,d = xi.shape\n",
    "    yx = numpy.multiply(yi, xi)  # b by d matrix\n",
    "    yxw = numpy.dot(yx, w)  # b x 1 vector\n",
    "\n",
    "    # Solve objective function Q_i\n",
    "    loss = numpy.log(1 + numpy.exp(-yxw)) # b x 1 vector\n",
    "    reg = (lam / 2) * numpy.sum(w * w)  # scalar\n",
    "    obj = (1/b) * numpy.sum(loss + reg)  # scalar\n",
    "\n",
    "    # Calculate gradient\n",
    "    g_loss = numpy.multiply((1 / (1 + numpy.exp(yxw))), -yx).T + (lam + w) # d x n matrix\n",
    "    g = (1/b) * numpy.sum(g_loss, axis=1) # d x 1 vector\n",
    "    return obj, g.reshape((d,1))"
   ]
  },
  {
   "cell_type": "markdown",
   "metadata": {},
   "source": [
    "## 6.2. Implement mini-batch SGD\n",
    "\n",
    "Hints:\n",
    "1. In every epoch, randomly permute the $n$ samples (just like SGD).\n",
    "2. Each epoch has $\\frac{n}{b}$ iterations. In every iteration, use $b$ samples, and compute the gradient and objective using the ``mb_stochastic_objective_gradient`` function. In the next iteration, use the next $b$ samples, and so on.\n"
   ]
  },
  {
   "cell_type": "code",
   "execution_count": 75,
   "metadata": {},
   "outputs": [],
   "source": [
    "# Mini-Batch SGD for solving logistic regression\n",
    "# Inputs:\n",
    "#     x: n-by-d matrix\n",
    "#     y: n-by-1 matrix\n",
    "#     lam: scalar, the regularization parameter\n",
    "#     b: integer, the batch size\n",
    "#     stepsize: scalar\n",
    "#     max_epoch: integer, the maximal epochs\n",
    "#     w: d-by-1 matrix, initialization of w\n",
    "# Return:\n",
    "#     w: the solution\n",
    "#     objvals: record of each iteration's objective value\n",
    "def mb_sgd(x, y, lam, b, stepsize, max_epoch=100, w=None):\n",
    "    # Fill the function\n",
    "    # Follow the implementation of sgd\n",
    "    # Record one objective value per epoch (not per iteration!)\n",
    "    n, d = x.shape\n",
    "    objvals = numpy.zeros(max_epoch)\n",
    "    if not w:\n",
    "        w = numpy.zeros((d,1))\n",
    "    \n",
    "    for t in range(max_epoch):\n",
    "        iters = int(n / b)\n",
    "        indices = numpy.random.permutation(n)\n",
    "        x_rand = x[indices, :]\n",
    "        y_rand = y[indices, :]\n",
    "        start = 0\n",
    "        objval = 0\n",
    "        for i in range(iters):\n",
    "            end = start + b\n",
    "            xi = x_rand[start:end, :]\n",
    "            yi = y_rand[start:end, :]\n",
    "            obj, g = mb_stochastic_objective_gradient(w, xi, yi, lam, b)\n",
    "            objval += obj\n",
    "            w -= stepsize * g\n",
    "        \n",
    "        stepsize *= 0.9\n",
    "        objval /= n\n",
    "        objvals[t] = objval\n",
    "        print('Objective value at epoch t=' + str(t) + ' is ' + str(objval))\n",
    "    \n",
    "    return w, objvals"
   ]
  },
  {
   "cell_type": "markdown",
   "metadata": {},
   "source": [
    "## 6.3. Run MB-SGD"
   ]
  },
  {
   "cell_type": "code",
   "execution_count": 76,
   "metadata": {},
   "outputs": [
    {
     "name": "stdout",
     "output_type": "stream",
     "text": [
      "Objective value at epoch t=0 is 0.060227933289472846\n",
      "Objective value at epoch t=1 is 0.06451601690161492\n",
      "Objective value at epoch t=2 is 0.07645995215023041\n",
      "Objective value at epoch t=3 is 0.05632152399920248\n",
      "Objective value at epoch t=4 is 0.05990980845808228\n",
      "Objective value at epoch t=5 is 0.07636878352915402\n",
      "Objective value at epoch t=6 is 0.06222564748614633\n",
      "Objective value at epoch t=7 is 0.047688320587989386\n",
      "Objective value at epoch t=8 is 0.07236820924446141\n",
      "Objective value at epoch t=9 is 0.05735315576098201\n",
      "Objective value at epoch t=10 is 0.07255298797037074\n",
      "Objective value at epoch t=11 is 0.07018391269175024\n",
      "Objective value at epoch t=12 is 0.07774372372908309\n",
      "Objective value at epoch t=13 is 0.06372854640602284\n",
      "Objective value at epoch t=14 is 0.08026049081474976\n",
      "Objective value at epoch t=15 is 0.06489957782346797\n",
      "Objective value at epoch t=16 is 0.05597794596009187\n",
      "Objective value at epoch t=17 is 0.07608787104785313\n",
      "Objective value at epoch t=18 is 0.06109641773500383\n",
      "Objective value at epoch t=19 is 0.06295908948194126\n",
      "Objective value at epoch t=20 is 0.06130067999343423\n",
      "Objective value at epoch t=21 is 0.07574851908419508\n",
      "Objective value at epoch t=22 is 0.06439865525408629\n",
      "Objective value at epoch t=23 is 0.06427918849606247\n",
      "Objective value at epoch t=24 is 0.07865738517055837\n",
      "Objective value at epoch t=25 is 0.07600219161727147\n",
      "Objective value at epoch t=26 is 0.06053948503647307\n",
      "Objective value at epoch t=27 is 0.058980639083284735\n",
      "Objective value at epoch t=28 is 0.07007147549607831\n",
      "Objective value at epoch t=29 is 0.06869950763219758\n",
      "Objective value at epoch t=30 is 0.06746258755004989\n",
      "Objective value at epoch t=31 is 0.08635675563757363\n",
      "Objective value at epoch t=32 is 0.0820238735969164\n",
      "Objective value at epoch t=33 is 0.07404493670929889\n",
      "Objective value at epoch t=34 is 0.08624055315749328\n",
      "Objective value at epoch t=35 is 0.08056205309548842\n",
      "Objective value at epoch t=36 is 0.08541948127001792\n",
      "Objective value at epoch t=37 is 0.07841149400959861\n",
      "Objective value at epoch t=38 is 0.08003682677867974\n",
      "Objective value at epoch t=39 is 0.07988453948892262\n",
      "Objective value at epoch t=40 is 0.07895320517567922\n",
      "Objective value at epoch t=41 is 0.07512811832053942\n",
      "Objective value at epoch t=42 is 0.07815296359637659\n",
      "Objective value at epoch t=43 is 0.07017339552583753\n",
      "Objective value at epoch t=44 is 0.07985573215802137\n",
      "Objective value at epoch t=45 is 0.07265394737386362\n",
      "Objective value at epoch t=46 is 0.07256892188405824\n",
      "Objective value at epoch t=47 is 0.08018095911130661\n",
      "Objective value at epoch t=48 is 0.07175371556477853\n",
      "Objective value at epoch t=49 is 0.0791858559942993\n",
      "Objective value at epoch t=50 is 0.07088189162616228\n",
      "Objective value at epoch t=51 is 0.07449717536665462\n",
      "Objective value at epoch t=52 is 0.06836182656849533\n",
      "Objective value at epoch t=53 is 0.07925108551767089\n",
      "Objective value at epoch t=54 is 0.07076254972591974\n",
      "Objective value at epoch t=55 is 0.07501459631357058\n",
      "Objective value at epoch t=56 is 0.06824554724922308\n",
      "Objective value at epoch t=57 is 0.07399323501964497\n",
      "Objective value at epoch t=58 is 0.07051239012971074\n",
      "Objective value at epoch t=59 is 0.07638218272229404\n",
      "Objective value at epoch t=60 is 0.08219358764896725\n",
      "Objective value at epoch t=61 is 0.07563044464974489\n",
      "Objective value at epoch t=62 is 0.0698544028476904\n",
      "Objective value at epoch t=63 is 0.07881400341175082\n",
      "Objective value at epoch t=64 is 0.08226804175193242\n",
      "Objective value at epoch t=65 is 0.08644352505288407\n",
      "Objective value at epoch t=66 is 0.07440648128762364\n",
      "Objective value at epoch t=67 is 0.08083595356226718\n",
      "Objective value at epoch t=68 is 0.08022263737207297\n",
      "Objective value at epoch t=69 is 0.08001147640401071\n",
      "Objective value at epoch t=70 is 0.08018660581368862\n",
      "Objective value at epoch t=71 is 0.07727423434005533\n",
      "Objective value at epoch t=72 is 0.08012245397604371\n",
      "Objective value at epoch t=73 is 0.08239055673723528\n",
      "Objective value at epoch t=74 is 0.07591212778815756\n",
      "Objective value at epoch t=75 is 0.07970422495639806\n",
      "Objective value at epoch t=76 is 0.06898132156341527\n",
      "Objective value at epoch t=77 is 0.08453185356837754\n",
      "Objective value at epoch t=78 is 0.07728326303884693\n",
      "Objective value at epoch t=79 is 0.08671113184551224\n",
      "Objective value at epoch t=80 is 0.08097225464350839\n",
      "Objective value at epoch t=81 is 0.07835153758217893\n",
      "Objective value at epoch t=82 is 0.08297632137064852\n",
      "Objective value at epoch t=83 is 0.08890937038250317\n",
      "Objective value at epoch t=84 is 0.07410566668311619\n",
      "Objective value at epoch t=85 is 0.07227429909350944\n",
      "Objective value at epoch t=86 is 0.07176194016103082\n",
      "Objective value at epoch t=87 is 0.0762584432445613\n",
      "Objective value at epoch t=88 is 0.0670257782441224\n",
      "Objective value at epoch t=89 is 0.074554108959864\n",
      "Objective value at epoch t=90 is 0.07418495012080163\n",
      "Objective value at epoch t=91 is 0.07854263714488936\n",
      "Objective value at epoch t=92 is 0.07602125543305294\n",
      "Objective value at epoch t=93 is 0.08018335614354448\n",
      "Objective value at epoch t=94 is 0.07242803390877156\n",
      "Objective value at epoch t=95 is 0.06598121854219212\n",
      "Objective value at epoch t=96 is 0.08032786908421165\n",
      "Objective value at epoch t=97 is 0.06733933458137716\n",
      "Objective value at epoch t=98 is 0.0785139774398209\n",
      "Objective value at epoch t=99 is 0.07898608046065643\n"
     ]
    }
   ],
   "source": [
    "# MB-SGD with batch size b=8\n",
    "lam = 1E-6 # do not change\n",
    "b = 8 # do not change\n",
    "stepsize = 0.1 # you must tune this parameter\n",
    "\n",
    "w, objvals_mbsgd8 = mb_sgd(x_train, y_train, lam, b, stepsize)"
   ]
  },
  {
   "cell_type": "code",
   "execution_count": 77,
   "metadata": {},
   "outputs": [
    {
     "name": "stdout",
     "output_type": "stream",
     "text": [
      "Objective value at epoch t=0 is 0.009954305836406456\n",
      "Objective value at epoch t=1 is 0.00945700013923261\n",
      "Objective value at epoch t=2 is 0.009423969880478809\n",
      "Objective value at epoch t=3 is 0.009565700658535651\n",
      "Objective value at epoch t=4 is 0.00906032366471925\n",
      "Objective value at epoch t=5 is 0.009540827044098811\n",
      "Objective value at epoch t=6 is 0.009531823174797782\n",
      "Objective value at epoch t=7 is 0.00941750512244654\n",
      "Objective value at epoch t=8 is 0.00959274958760441\n",
      "Objective value at epoch t=9 is 0.009088879294258384\n",
      "Objective value at epoch t=10 is 0.010001582346208689\n",
      "Objective value at epoch t=11 is 0.00951420141675706\n",
      "Objective value at epoch t=12 is 0.009572020392812627\n",
      "Objective value at epoch t=13 is 0.009658955947875924\n",
      "Objective value at epoch t=14 is 0.010119866107762155\n",
      "Objective value at epoch t=15 is 0.009832081374068042\n",
      "Objective value at epoch t=16 is 0.009293773583911756\n",
      "Objective value at epoch t=17 is 0.009422398930882508\n",
      "Objective value at epoch t=18 is 0.009485306198467238\n",
      "Objective value at epoch t=19 is 0.009667970724024429\n",
      "Objective value at epoch t=20 is 0.009568660990629493\n",
      "Objective value at epoch t=21 is 0.009166709782241643\n",
      "Objective value at epoch t=22 is 0.009180706623251171\n",
      "Objective value at epoch t=23 is 0.010061509960326714\n",
      "Objective value at epoch t=24 is 0.009719392855488626\n",
      "Objective value at epoch t=25 is 0.009391691839833566\n",
      "Objective value at epoch t=26 is 0.00950036408631013\n",
      "Objective value at epoch t=27 is 0.009392151775523088\n",
      "Objective value at epoch t=28 is 0.009636593839935006\n",
      "Objective value at epoch t=29 is 0.009536470576033901\n",
      "Objective value at epoch t=30 is 0.009162843999807026\n",
      "Objective value at epoch t=31 is 0.009253266139773175\n",
      "Objective value at epoch t=32 is 0.009766342572128234\n",
      "Objective value at epoch t=33 is 0.009886769901606602\n",
      "Objective value at epoch t=34 is 0.009583301463761226\n",
      "Objective value at epoch t=35 is 0.010068092600157246\n",
      "Objective value at epoch t=36 is 0.00905778875473237\n",
      "Objective value at epoch t=37 is 0.009596986507052799\n",
      "Objective value at epoch t=38 is 0.009329625862173119\n",
      "Objective value at epoch t=39 is 0.010265362839935382\n",
      "Objective value at epoch t=40 is 0.00981413837444627\n",
      "Objective value at epoch t=41 is 0.0095915783648909\n",
      "Objective value at epoch t=42 is 0.009805401899353541\n",
      "Objective value at epoch t=43 is 0.009115930740929012\n",
      "Objective value at epoch t=44 is 0.009143578315280176\n",
      "Objective value at epoch t=45 is 0.009394630750461274\n",
      "Objective value at epoch t=46 is 0.009437106641153487\n",
      "Objective value at epoch t=47 is 0.009695218885102792\n",
      "Objective value at epoch t=48 is 0.00954326793929032\n",
      "Objective value at epoch t=49 is 0.009879636824384735\n",
      "Objective value at epoch t=50 is 0.009824602013466464\n",
      "Objective value at epoch t=51 is 0.009731108745337206\n",
      "Objective value at epoch t=52 is 0.009784291816518366\n",
      "Objective value at epoch t=53 is 0.009378525280474455\n",
      "Objective value at epoch t=54 is 0.009639403548525256\n",
      "Objective value at epoch t=55 is 0.009482807268005216\n",
      "Objective value at epoch t=56 is 0.009683238489731717\n",
      "Objective value at epoch t=57 is 0.009920520375330057\n",
      "Objective value at epoch t=58 is 0.009832113313101425\n",
      "Objective value at epoch t=59 is 0.009904957199209034\n",
      "Objective value at epoch t=60 is 0.00951674453680881\n",
      "Objective value at epoch t=61 is 0.00973957125737\n",
      "Objective value at epoch t=62 is 0.009273628616818234\n",
      "Objective value at epoch t=63 is 0.009812408311161395\n",
      "Objective value at epoch t=64 is 0.009425856042384991\n",
      "Objective value at epoch t=65 is 0.009508151224239753\n",
      "Objective value at epoch t=66 is 0.009493226305765753\n",
      "Objective value at epoch t=67 is 0.009796960183678375\n",
      "Objective value at epoch t=68 is 0.009615980086974635\n",
      "Objective value at epoch t=69 is 0.009536760270518276\n",
      "Objective value at epoch t=70 is 0.009716346158791718\n",
      "Objective value at epoch t=71 is 0.009242969917686663\n",
      "Objective value at epoch t=72 is 0.009610481183623605\n",
      "Objective value at epoch t=73 is 0.009829903204902948\n",
      "Objective value at epoch t=74 is 0.009782658589543821\n",
      "Objective value at epoch t=75 is 0.009808814378337237\n",
      "Objective value at epoch t=76 is 0.009274363793126452\n",
      "Objective value at epoch t=77 is 0.009347889641221718\n",
      "Objective value at epoch t=78 is 0.009901561776977716\n",
      "Objective value at epoch t=79 is 0.009778667328389222\n",
      "Objective value at epoch t=80 is 0.009552687824932782\n",
      "Objective value at epoch t=81 is 0.009532007383776433\n",
      "Objective value at epoch t=82 is 0.009919482102927445\n",
      "Objective value at epoch t=83 is 0.0094913889315772\n",
      "Objective value at epoch t=84 is 0.009621908546410571\n",
      "Objective value at epoch t=85 is 0.009668020345757287\n",
      "Objective value at epoch t=86 is 0.009815527915299537\n",
      "Objective value at epoch t=87 is 0.009559356135195863\n",
      "Objective value at epoch t=88 is 0.009748028662092883\n",
      "Objective value at epoch t=89 is 0.00993793347317355\n",
      "Objective value at epoch t=90 is 0.009770244190045452\n",
      "Objective value at epoch t=91 is 0.010112301953397226\n",
      "Objective value at epoch t=92 is 0.00966859881372001\n",
      "Objective value at epoch t=93 is 0.009827207497712168\n",
      "Objective value at epoch t=94 is 0.00933417086338666\n",
      "Objective value at epoch t=95 is 0.009288183522078348\n",
      "Objective value at epoch t=96 is 0.009610038329467507\n",
      "Objective value at epoch t=97 is 0.009576168417667764\n",
      "Objective value at epoch t=98 is 0.009637430605324845\n",
      "Objective value at epoch t=99 is 0.009311938506829593\n"
     ]
    }
   ],
   "source": [
    "# MB-SGD with batch size b=64\n",
    "lam = 1E-6 # do not change\n",
    "b = 64 # do not change\n",
    "stepsize = 0.1 # you must tune this parameter\n",
    "\n",
    "w, objvals_mbsgd64 = mb_sgd(x_train, y_train, lam, b, stepsize)"
   ]
  },
  {
   "cell_type": "markdown",
   "metadata": {},
   "source": [
    "# 7. Plot and compare GD, SGD, and MB-SGD"
   ]
  },
  {
   "cell_type": "markdown",
   "metadata": {},
   "source": [
    "You are required to compare the following algorithms:\n",
    "\n",
    "- Gradient descent (GD)\n",
    "\n",
    "- SGD\n",
    "\n",
    "- MB-SGD with b=8\n",
    "\n",
    "- MB-SGD with b=64\n",
    "\n",
    "Follow the code in Section 4 to plot ```objective function value``` against ```epochs```. There should be four curves in the plot; each curve corresponds to one algorithm."
   ]
  },
  {
   "cell_type": "markdown",
   "metadata": {},
   "source": [
    "Hint: Logistic regression with $\\ell_2$-norm regularization is a strongly convex optimization problem. All the algorithms will converge to the same solution. **In the end, the ``objective function value`` of the 4 algorithms will be the same. If not the same, your implementation must be wrong. Do NOT submit wrong code and wrong result!**"
   ]
  },
  {
   "cell_type": "code",
   "execution_count": null,
   "metadata": {},
   "outputs": [],
   "source": [
    "# plot the 4 curves:"
   ]
  },
  {
   "cell_type": "markdown",
   "metadata": {},
   "source": []
  }
 ],
 "metadata": {
  "kernelspec": {
   "display_name": "Python 3",
   "language": "python",
   "name": "python3"
  },
  "language_info": {
   "codemirror_mode": {
    "name": "ipython",
    "version": 3
   },
   "file_extension": ".py",
   "mimetype": "text/x-python",
   "name": "python",
   "nbconvert_exporter": "python",
   "pygments_lexer": "ipython3",
   "version": "3.8.5"
  }
 },
 "nbformat": 4,
 "nbformat_minor": 2
}

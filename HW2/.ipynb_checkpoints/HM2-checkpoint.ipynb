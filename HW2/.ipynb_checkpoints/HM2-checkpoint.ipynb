{
 "cells": [
  {
   "cell_type": "markdown",
   "metadata": {},
   "source": [
    "# HM2: Numerical Optimization for Logistic Regression.\n",
    "\n",
    "### Name: Jeremiah McReynolds\n"
   ]
  },
  {
   "cell_type": "markdown",
   "metadata": {},
   "source": [
    "## 0. You will do the following:\n",
    "\n",
    "1. Read the lecture note: [click here](https://github.com/wangshusen/DeepLearning/blob/master/LectureNotes/Logistic/paper/logistic.pdf)\n",
    "\n",
    "2. Read, complete, and run my code.\n",
    "\n",
    "3. **Implement mini-batch SGD** and evaluate the performance.\n",
    "\n",
    "4. Convert the .IPYNB file to .HTML file.\n",
    "\n",
    "    * The HTML file must contain **the code** and **the output after execution**.\n",
    "    \n",
    "    * Missing **the output after execution** will not be graded.\n",
    "    \n",
    "5. Upload this .HTML file to your Google Drive, Dropbox, or your Github repo.  (If you submit the file to Google Drive or Dropbox, you must make the file \"open-access\". The delay caused by \"deny of access\" may result in late penalty.)\n",
    "\n",
    "6. Submit the link to this .HTML file to Canvas.\n",
    "\n",
    "    * Example: https://github.com/wangshusen/CS583-2020S/blob/master/homework/HM2/HM2.html\n",
    "\n",
    "\n",
    "## Grading criteria:\n",
    "\n",
    "1. When computing the ```gradient``` and ```objective function value``` using a batch of samples, use **matrix-vector multiplication** rather than a FOR LOOP of **vector-vector multiplications**.\n",
    "\n",
    "2. Plot ```objective function value``` against ```epochs```. In the plot, compare GD, SGD, and MB-SGD (with $b=8$ and $b=64$). The plot must look reasonable."
   ]
  },
  {
   "cell_type": "code",
   "execution_count": null,
   "metadata": {},
   "outputs": [],
   "source": []
  },
  {
   "cell_type": "markdown",
   "metadata": {},
   "source": [
    "# 1. Data processing\n",
    "\n",
    "- Download the Diabete dataset from https://www.csie.ntu.edu.tw/~cjlin/libsvmtools/datasets/binary/diabetes\n",
    "- Load the data using sklearn.\n",
    "- Preprocess the data."
   ]
  },
  {
   "cell_type": "markdown",
   "metadata": {},
   "source": [
    "## 1.1. Load the data"
   ]
  },
  {
   "cell_type": "code",
   "execution_count": 1,
   "metadata": {},
   "outputs": [
    {
     "name": "stdout",
     "output_type": "stream",
     "text": [
      "Shape of x: (768, 8)\n",
      "Shape of y: (768,)\n"
     ]
    }
   ],
   "source": [
    "from sklearn import datasets\n",
    "import numpy\n",
    "\n",
    "x_sparse, y = datasets.load_svmlight_file('diabetes')\n",
    "x = x_sparse.todense()\n",
    "\n",
    "print('Shape of x: ' + str(x.shape))\n",
    "print('Shape of y: ' + str(y.shape))"
   ]
  },
  {
   "cell_type": "markdown",
   "metadata": {},
   "source": [
    "## 1.2. Partition to training and test sets"
   ]
  },
  {
   "cell_type": "code",
   "execution_count": 2,
   "metadata": {},
   "outputs": [
    {
     "name": "stdout",
     "output_type": "stream",
     "text": [
      "Shape of x_train: (640, 8)\n",
      "Shape of x_test: (128, 8)\n",
      "Shape of y_train: (640, 1)\n",
      "Shape of y_test: (128, 1)\n"
     ]
    }
   ],
   "source": [
    "# partition the data to training and test sets\n",
    "n = x.shape[0]\n",
    "n_train = 640\n",
    "n_test = n - n_train\n",
    "\n",
    "rand_indices = numpy.random.permutation(n)\n",
    "train_indices = rand_indices[0:n_train]\n",
    "test_indices = rand_indices[n_train:n]\n",
    "\n",
    "x_train = x[train_indices, :]\n",
    "x_test = x[test_indices, :]\n",
    "y_train = y[train_indices].reshape(n_train, 1)\n",
    "y_test = y[test_indices].reshape(n_test, 1)\n",
    "\n",
    "print('Shape of x_train: ' + str(x_train.shape))\n",
    "print('Shape of x_test: ' + str(x_test.shape))\n",
    "print('Shape of y_train: ' + str(y_train.shape))\n",
    "print('Shape of y_test: ' + str(y_test.shape))"
   ]
  },
  {
   "cell_type": "markdown",
   "metadata": {},
   "source": [
    "## 1.3. Feature scaling"
   ]
  },
  {
   "cell_type": "markdown",
   "metadata": {},
   "source": [
    "Use the standardization to trainsform both training and test features"
   ]
  },
  {
   "cell_type": "code",
   "execution_count": 3,
   "metadata": {},
   "outputs": [
    {
     "name": "stdout",
     "output_type": "stream",
     "text": [
      "test mean = \n",
      "[[ 0.07522538  0.18118512  0.10374317  0.05885201  0.14084981  0.23944928\n",
      "  -0.13186535  0.01052978]]\n",
      "test std = \n",
      "[[1.03878081 1.0156956  0.95425259 1.04264983 1.21716753 0.89739419\n",
      "  0.83964179 1.01514638]]\n"
     ]
    }
   ],
   "source": [
    "# Standardization\n",
    "import numpy\n",
    "\n",
    "# calculate mu and sig using the training set\n",
    "d = x_train.shape[1]\n",
    "mu = numpy.mean(x_train, axis=0).reshape(1, d)\n",
    "sig = numpy.std(x_train, axis=0).reshape(1, d)\n",
    "\n",
    "# transform the training features\n",
    "x_train = (x_train - mu) / (sig + 1E-6)\n",
    "\n",
    "# transform the test features\n",
    "x_test = (x_test - mu) / (sig + 1E-6)\n",
    "\n",
    "print('test mean = ')\n",
    "print(numpy.mean(x_test, axis=0))\n",
    "\n",
    "print('test std = ')\n",
    "print(numpy.std(x_test, axis=0))"
   ]
  },
  {
   "cell_type": "markdown",
   "metadata": {},
   "source": [
    "## 1.4. Add a dimension of all ones"
   ]
  },
  {
   "cell_type": "code",
   "execution_count": 4,
   "metadata": {},
   "outputs": [
    {
     "name": "stdout",
     "output_type": "stream",
     "text": [
      "Shape of x_train: (640, 9)\n",
      "Shape of x_test: (128, 9)\n"
     ]
    }
   ],
   "source": [
    "n_train, d = x_train.shape\n",
    "x_train = numpy.concatenate((x_train, numpy.ones((n_train, 1))), axis=1)\n",
    "\n",
    "n_test, d = x_test.shape\n",
    "x_test = numpy.concatenate((x_test, numpy.ones((n_test, 1))), axis=1)\n",
    "\n",
    "print('Shape of x_train: ' + str(x_train.shape))\n",
    "print('Shape of x_test: ' + str(x_test.shape))"
   ]
  },
  {
   "cell_type": "markdown",
   "metadata": {},
   "source": [
    "# 2. Logistic regression model\n",
    "\n",
    "The objective function is $Q (w; X, y) = \\frac{1}{n} \\sum_{i=1}^n \\log \\Big( 1 + \\exp \\big( - y_i x_i^T w \\big) \\Big) + \\frac{\\lambda}{2} \\| w \\|_2^2 $."
   ]
  },
  {
   "cell_type": "code",
   "execution_count": 5,
   "metadata": {},
   "outputs": [],
   "source": [
    "# Calculate the objective function value\n",
    "# Inputs:\n",
    "#     w: d-by-1 matrix\n",
    "#     x: n-by-d matrix\n",
    "#     y: n-by-1 matrix\n",
    "#     lam: scalar, the regularization parameter\n",
    "# Return:\n",
    "#     objective function value (scalar)\n",
    "def objective(w, x, y, lam):\n",
    "    n, d = x.shape\n",
    "    yx = numpy.multiply(y, x) # n-by-d matrix\n",
    "    yxw = numpy.dot(yx, w) # n-by-1 matrix\n",
    "    vec1 = numpy.exp(-yxw) # n-by-1 matrix\n",
    "    vec2 = numpy.log(1 + vec1) # n-by-1 matrix\n",
    "    loss = numpy.mean(vec2) # scalar\n",
    "    reg = lam / 2 * numpy.sum(w * w) # scalar\n",
    "    return loss + reg\n",
    "    "
   ]
  },
  {
   "cell_type": "code",
   "execution_count": 6,
   "metadata": {},
   "outputs": [
    {
     "name": "stdout",
     "output_type": "stream",
     "text": [
      "Initial objective function value = 0.6931471805599453\n"
     ]
    }
   ],
   "source": [
    "# initialize w\n",
    "d = x_train.shape[1]\n",
    "w = numpy.zeros((d, 1))\n",
    "\n",
    "# evaluate the objective function value at w\n",
    "lam = 1E-6\n",
    "objval0 = objective(w, x_train, y_train, lam)\n",
    "print('Initial objective function value = ' + str(objval0))"
   ]
  },
  {
   "cell_type": "markdown",
   "metadata": {},
   "source": [
    "# 3. Numerical optimization"
   ]
  },
  {
   "cell_type": "markdown",
   "metadata": {},
   "source": [
    "## 3.1. Gradient descent\n"
   ]
  },
  {
   "cell_type": "markdown",
   "metadata": {},
   "source": [
    "The gradient at $w$ is $g = - \\frac{1}{n} \\sum_{i=1}^n \\frac{y_i x_i }{1 + \\exp ( y_i x_i^T w)} + \\lambda w$"
   ]
  },
  {
   "cell_type": "code",
   "execution_count": 7,
   "metadata": {},
   "outputs": [],
   "source": [
    "# Calculate the gradient\n",
    "# Inputs:\n",
    "#     w: d-by-1 matrix\n",
    "#     x: n-by-d matrix\n",
    "#     y: n-by-1 matrix\n",
    "#     lam: scalar, the regularization parameter\n",
    "# Return:\n",
    "#     g: g: d-by-1 matrix, full gradient\n",
    "def gradient(w, x, y, lam):\n",
    "    n, d = x.shape\n",
    "    yx = numpy.multiply(y, x) # n-by-d matrix\n",
    "    yxw = numpy.dot(yx, w) # n-by-1 matrix\n",
    "    vec1 = numpy.exp(yxw) # n-by-1 matrix\n",
    "    vec2 = numpy.divide(yx, 1+vec1) # n-by-d matrix\n",
    "    vec3 = -numpy.mean(vec2, axis=0).reshape(d, 1) # d-by-1 matrix\n",
    "    g = vec3 + lam * w\n",
    "    return g"
   ]
  },
  {
   "cell_type": "code",
   "execution_count": 8,
   "metadata": {},
   "outputs": [],
   "source": [
    "# Gradient descent for solving logistic regression\n",
    "# Inputs:\n",
    "#     x: n-by-d matrix\n",
    "#     y: n-by-1 matrix\n",
    "#     lam: scalar, the regularization parameter\n",
    "#     stepsize: scalar\n",
    "#     max_iter: integer, the maximal iterations\n",
    "#     w: d-by-1 matrix, initialization of w\n",
    "# Return:\n",
    "#     w: d-by-1 matrix, the solution\n",
    "#     objvals: a record of each iteration's objective value\n",
    "def grad_descent(x, y, lam, stepsize, max_iter=100, w=None):\n",
    "    n, d = x.shape\n",
    "    objvals = numpy.zeros(max_iter) # store the objective values\n",
    "    if w is None:\n",
    "        w = numpy.zeros((d, 1)) # zero initialization\n",
    "    \n",
    "    for t in range(max_iter):\n",
    "        objval = objective(w, x, y, lam)\n",
    "        objvals[t] = objval\n",
    "        print('Objective value at t=' + str(t) + ' is ' + str(objval))\n",
    "        g = gradient(w, x, y, lam)\n",
    "        w -= stepsize * g\n",
    "    \n",
    "    return w, objvals"
   ]
  },
  {
   "cell_type": "markdown",
   "metadata": {},
   "source": [
    "Run gradient descent."
   ]
  },
  {
   "cell_type": "code",
   "execution_count": 9,
   "metadata": {},
   "outputs": [
    {
     "name": "stdout",
     "output_type": "stream",
     "text": [
      "Objective value at t=0 is 0.6931471805599453\n",
      "Objective value at t=1 is 0.587098396410044\n",
      "Objective value at t=2 is 0.5428464806951494\n",
      "Objective value at t=3 is 0.5186247495336321\n",
      "Objective value at t=4 is 0.5033647661863682\n",
      "Objective value at t=5 is 0.49298323826240603\n",
      "Objective value at t=6 is 0.4855774542909519\n",
      "Objective value at t=7 is 0.4801206212829401\n",
      "Objective value at t=8 is 0.47600287801139046\n",
      "Objective value at t=9 is 0.47283752463459766\n",
      "Objective value at t=10 is 0.4703676256245136\n",
      "Objective value at t=11 is 0.468416360928575\n",
      "Objective value at t=12 is 0.46685863664241506\n",
      "Objective value at t=13 is 0.46560393407775014\n",
      "Objective value at t=14 is 0.4645854994647577\n",
      "Objective value at t=15 is 0.46375329694180084\n",
      "Objective value at t=16 is 0.46306928640114386\n",
      "Objective value at t=17 is 0.4625041848492694\n",
      "Objective value at t=18 is 0.4620352002149004\n",
      "Objective value at t=19 is 0.461644417368026\n",
      "Objective value at t=20 is 0.46131763038584495\n",
      "Objective value at t=21 is 0.4610434855958546\n",
      "Objective value at t=22 is 0.460812844524878\n",
      "Objective value at t=23 is 0.46061830472095994\n",
      "Objective value at t=24 is 0.46045383542462803\n",
      "Objective value at t=25 is 0.46031449781479705\n",
      "Objective value at t=26 is 0.4601962282395601\n",
      "Objective value at t=27 is 0.4600956688442899\n",
      "Objective value at t=28 is 0.46001003421308123\n",
      "Objective value at t=29 is 0.4599370056201408\n",
      "Objective value at t=30 is 0.459874646625653\n",
      "Objective value at t=31 is 0.459821335300804\n",
      "Objective value at t=32 is 0.45977570950208857\n",
      "Objective value at t=33 is 0.4597366224546849\n",
      "Objective value at t=34 is 0.45970310653119584\n",
      "Objective value at t=35 is 0.4596743435835281\n",
      "Objective value at t=36 is 0.4596496405433064\n",
      "Objective value at t=37 is 0.459628409279556\n",
      "Objective value at t=38 is 0.45961014991278515\n",
      "Objective value at t=39 is 0.459594436947655\n",
      "Objective value at t=40 is 0.45958090771358784\n",
      "Objective value at t=41 is 0.45956925270244303\n",
      "Objective value at t=42 is 0.4595592074711281\n",
      "Objective value at t=43 is 0.4595505458394764\n",
      "Objective value at t=44 is 0.4595430741635408\n",
      "Objective value at t=45 is 0.4595366265043654\n",
      "Objective value at t=46 is 0.4595310605444337\n",
      "Objective value at t=47 is 0.4595262541299652\n",
      "Objective value at t=48 is 0.45952210233832574\n",
      "Objective value at t=49 is 0.4595185149870012\n",
      "Objective value at t=50 is 0.45951541451464056\n",
      "Objective value at t=51 is 0.45951273417621646\n",
      "Objective value at t=52 is 0.4595104165038523\n",
      "Objective value at t=53 is 0.45950841199270887\n",
      "Objective value at t=54 is 0.4595066779778366\n",
      "Objective value at t=55 is 0.45950517767328947\n",
      "Objective value at t=56 is 0.4595038793493078\n",
      "Objective value at t=57 is 0.45950275562712567\n",
      "Objective value at t=58 is 0.4595017828741075\n",
      "Objective value at t=59 is 0.45950094068455705\n",
      "Objective value at t=60 is 0.459500211433754\n",
      "Objective value at t=61 is 0.45949957989464557\n",
      "Objective value at t=62 is 0.45949903290819133\n",
      "Objective value at t=63 is 0.4594985590996958\n",
      "Objective value at t=64 is 0.4594981486345826\n",
      "Objective value at t=65 is 0.45949779300802607\n",
      "Objective value at t=66 is 0.4594974848636646\n",
      "Objective value at t=67 is 0.4594972178373082\n",
      "Objective value at t=68 is 0.4594969864221426\n",
      "Objective value at t=69 is 0.45949678585242815\n",
      "Objective value at t=70 is 0.45949661200312386\n",
      "Objective value at t=71 is 0.4594964613032262\n",
      "Objective value at t=72 is 0.45949633066092715\n",
      "Objective value at t=73 is 0.4594962173989607\n",
      "Objective value at t=74 is 0.45949611919873695\n",
      "Objective value at t=75 is 0.45949603405205713\n",
      "Objective value at t=76 is 0.4594959602193695\n",
      "Objective value at t=77 is 0.45949589619367603\n",
      "Objective value at t=78 is 0.45949584066931487\n",
      "Objective value at t=79 is 0.4594957925149567\n",
      "Objective value at t=80 is 0.4594957507502413\n",
      "Objective value at t=81 is 0.45949571452556087\n",
      "Objective value at t=82 is 0.4594956831045631\n",
      "Objective value at t=83 is 0.4594956558490053\n",
      "Objective value at t=84 is 0.4594956322056431\n",
      "Objective value at t=85 is 0.45949561169487757\n",
      "Objective value at t=86 is 0.4594955939009249\n",
      "Objective value at t=87 is 0.45949557846330225\n",
      "Objective value at t=88 is 0.4594955650694546\n",
      "Objective value at t=89 is 0.45949555344836607\n",
      "Objective value at t=90 is 0.45949554336502685\n",
      "Objective value at t=91 is 0.45949553461563875\n",
      "Objective value at t=92 is 0.4594955270234608\n",
      "Objective value at t=93 is 0.45949552043520964\n",
      "Objective value at t=94 is 0.4594955147179397\n",
      "Objective value at t=95 is 0.45949550975634\n",
      "Objective value at t=96 is 0.45949550545039\n",
      "Objective value at t=97 is 0.45949550171332815\n",
      "Objective value at t=98 is 0.45949549846989207\n",
      "Objective value at t=99 is 0.4594954956547911\n"
     ]
    }
   ],
   "source": [
    "lam = 1E-6\n",
    "stepsize = 1.0\n",
    "w, objvals_gd = grad_descent(x_train, y_train, lam, stepsize)"
   ]
  },
  {
   "cell_type": "markdown",
   "metadata": {},
   "source": [
    "## 3.2. Stochastic gradient descent (SGD)\n",
    "\n",
    "Define $Q_i (w) = \\log \\Big( 1 + \\exp \\big( - y_i x_i^T w \\big) \\Big) + \\frac{\\lambda}{2} \\| w \\|_2^2 $.\n",
    "\n",
    "The stochastic gradient at $w$ is $g_i = \\frac{\\partial Q_i }{ \\partial w} = -\\frac{y_i x_i }{1 + \\exp ( y_i x_i^T w)} + \\lambda w$."
   ]
  },
  {
   "cell_type": "code",
   "execution_count": 10,
   "metadata": {},
   "outputs": [],
   "source": [
    "# Calculate the objective Q_i and the gradient of Q_i\n",
    "# Inputs:\n",
    "#     w: d-by-1 matrix\n",
    "#     xi: 1-by-d matrix\n",
    "#     yi: scalar\n",
    "#     lam: scalar, the regularization parameter\n",
    "# Return:\n",
    "#     obj: scalar, the objective Q_i\n",
    "#     g: d-by-1 matrix, gradient of Q_i\n",
    "def stochastic_objective_gradient(w, xi, yi, lam):\n",
    "    d = xi.shape[0]\n",
    "    yx = yi * xi # 1-by-d matrix\n",
    "    yxw = float(numpy.dot(yx, w)) # scalar\n",
    "    \n",
    "    # calculate objective function Q_i\n",
    "    loss = numpy.log(1 + numpy.exp(-yxw)) # scalar\n",
    "    reg = lam / 2 * numpy.sum(w * w) # scalar\n",
    "    obj = loss + reg\n",
    "    \n",
    "    # calculate stochastic gradient\n",
    "    g_loss = -yx.T / (1 + numpy.exp(yxw)) # d-by-1 matrix\n",
    "    g = g_loss + lam * w # d-by-1 matrix\n",
    "    \n",
    "    return obj, g"
   ]
  },
  {
   "cell_type": "code",
   "execution_count": 70,
   "metadata": {},
   "outputs": [],
   "source": [
    "# SGD for solving logistic regression\n",
    "# Inputs:\n",
    "#     x: n-by-d matrix\n",
    "#     y: n-by-1 matrix\n",
    "#     lam: scalar, the regularization parameter\n",
    "#     stepsize: scalar\n",
    "#     max_epoch: integer, the maximal epochs\n",
    "#     w: d-by-1 matrix, initialization of w\n",
    "# Return:\n",
    "#     w: the solution\n",
    "#     objvals: record of each iteration's objective value\n",
    "def sgd(x, y, lam, stepsize, max_epoch=100, w=None):\n",
    "    n, d = x.shape\n",
    "    objvals = numpy.zeros(max_epoch) # store the objective values\n",
    "    if w is None:\n",
    "        w = numpy.zeros((d, 1)) # zero initialization\n",
    "    \n",
    "    for t in range(max_epoch):\n",
    "        # randomly shuffle the samples\n",
    "        rand_indices = numpy.random.permutation(n)\n",
    "        x_rand = x[rand_indices, :]\n",
    "        y_rand = y[rand_indices, :]\n",
    "        \n",
    "        objval = 0 # accumulate the objective values\n",
    "        for i in range(n):\n",
    "            xi = x_rand[i, :] # 1-by-d matrix\n",
    "            yi = float(y_rand[i, :]) # scalar\n",
    "            obj, g = stochastic_objective_gradient(w, xi, yi, lam)\n",
    "            objval += obj\n",
    "            w -= stepsize * g\n",
    "        \n",
    "        stepsize *= 0.9 # decrease step size\n",
    "        objval /= n\n",
    "        objvals[t] = objval\n",
    "        print('Objective value at epoch t=' + str(t) + ' is ' + str(objval))\n",
    "    \n",
    "    return w, objvals"
   ]
  },
  {
   "cell_type": "markdown",
   "metadata": {},
   "source": [
    "Run SGD."
   ]
  },
  {
   "cell_type": "code",
   "execution_count": 69,
   "metadata": {},
   "outputs": [
    {
     "name": "stdout",
     "output_type": "stream",
     "text": [
      "Objective value at epoch t=0 is 0.5118136586602003\n",
      "Objective value at epoch t=1 is 0.5050900229414594\n",
      "Objective value at epoch t=2 is 0.5006477956693541\n",
      "Objective value at epoch t=3 is 0.49661521880718895\n",
      "Objective value at epoch t=4 is 0.4930465780031555\n",
      "Objective value at epoch t=5 is 0.4898831206915447\n",
      "Objective value at epoch t=6 is 0.4870725580588175\n",
      "Objective value at epoch t=7 is 0.4845699414220014\n",
      "Objective value at epoch t=8 is 0.4823363309953286\n",
      "Objective value at epoch t=9 is 0.4803375855858148\n",
      "Objective value at epoch t=10 is 0.47854343745147815\n",
      "Objective value at epoch t=11 is 0.4769269203385587\n",
      "Objective value at epoch t=12 is 0.4754641257642748\n",
      "Objective value at epoch t=13 is 0.4741341740266388\n",
      "Objective value at epoch t=14 is 0.4729192461328207\n",
      "Objective value at epoch t=15 is 0.47180454250764214\n",
      "Objective value at epoch t=16 is 0.47077809518636693\n",
      "Objective value at epoch t=17 is 0.469830430167979\n",
      "Objective value at epoch t=18 is 0.4689541281711416\n",
      "Objective value at epoch t=19 is 0.46814335283899233\n",
      "Objective value at epoch t=20 is 0.4673934089280058\n",
      "Objective value at epoch t=21 is 0.4667003714280734\n",
      "Objective value at epoch t=22 is 0.4660608024292303\n",
      "Objective value at epoch t=23 is 0.4654715537088137\n",
      "Objective value at epoch t=24 is 0.46492964198137693\n",
      "Objective value at epoch t=25 is 0.4644321795745857\n",
      "Objective value at epoch t=26 is 0.46397634367416585\n",
      "Objective value at epoch t=27 is 0.4635593699893589\n",
      "Objective value at epoch t=28 is 0.46317856013037567\n",
      "Objective value at epoch t=29 is 0.46283129524527256\n",
      "Objective value at epoch t=30 is 0.4625150511320788\n",
      "Objective value at epoch t=31 is 0.46222741203298057\n",
      "Objective value at epoch t=32 is 0.46196608169780234\n",
      "Objective value at epoch t=33 is 0.46172889119873545\n",
      "Objective value at epoch t=34 is 0.4615138035169452\n",
      "Objective value at epoch t=35 is 0.46131891521502544\n",
      "Objective value at epoch t=36 is 0.46114245564293854\n",
      "Objective value at epoch t=37 is 0.46098278416064603\n",
      "Objective value at epoch t=38 is 0.4608383858401378\n",
      "Objective value at epoch t=39 is 0.46070786606056185\n",
      "Objective value at epoch t=40 is 0.4605899443495799\n",
      "Objective value at epoch t=41 is 0.4604834477621602\n",
      "Objective value at epoch t=42 is 0.46038730403000583\n",
      "Objective value at epoch t=43 is 0.4603005346635478\n",
      "Objective value at epoch t=44 is 0.46022224814461987\n",
      "Objective value at epoch t=45 is 0.46015163331148823\n",
      "Objective value at epoch t=46 is 0.46008795300834454\n",
      "Objective value at epoch t=47 is 0.4600305380476756\n",
      "Objective value at epoch t=48 is 0.4599787815153526\n",
      "Objective value at epoch t=49 is 0.45993213343392786\n",
      "Objective value at epoch t=50 is 0.4598900957887076\n",
      "Objective value at epoch t=51 is 0.45985221791307584\n",
      "Objective value at epoch t=52 is 0.4598180922236579\n",
      "Objective value at epoch t=53 is 0.45978735029178075\n",
      "Objective value at epoch t=54 is 0.4597596592349122\n",
      "Objective value at epoch t=55 is 0.4597347184101113\n",
      "Objective value at epoch t=56 is 0.45971225639058816\n",
      "Objective value at epoch t=57 is 0.4596920282061737\n",
      "Objective value at epoch t=58 is 0.45967381282872655\n",
      "Objective value at epoch t=59 is 0.45965741088390405\n",
      "Objective value at epoch t=60 is 0.45964264257148163\n",
      "Objective value at epoch t=61 is 0.45962934577726955\n",
      "Objective value at epoch t=62 is 0.4596173743605748\n",
      "Objective value at epoch t=63 is 0.459606596602224\n",
      "Objective value at epoch t=64 is 0.45959689379910074\n",
      "Objective value at epoch t=65 is 0.45958815899225003\n",
      "Objective value at epoch t=66 is 0.4595802958164884\n",
      "Objective value at epoch t=67 is 0.45957321746047963\n",
      "Objective value at epoch t=68 is 0.4595668457270891\n",
      "Objective value at epoch t=69 is 0.4595611101847095\n",
      "Objective value at epoch t=70 is 0.4595559474010183\n",
      "Objective value at epoch t=71 is 0.45955130025140195\n",
      "Objective value at epoch t=72 is 0.4595471172949387\n",
      "Objective value at epoch t=73 is 0.4595433522115132\n",
      "Objective value at epoch t=74 is 0.459539963294154\n",
      "Objective value at epoch t=75 is 0.4595369129913168\n",
      "Objective value at epoch t=76 is 0.4595341674942405\n",
      "Objective value at epoch t=77 is 0.45953169636502267\n",
      "Objective value at epoch t=78 is 0.45952947220144075\n",
      "Objective value at epoch t=79 is 0.45952747033492286\n",
      "Objective value at epoch t=80 is 0.45952566855843513\n",
      "Objective value at epoch t=81 is 0.45952404688133547\n",
      "Objective value at epoch t=82 is 0.4595225873085602\n",
      "Objective value at epoch t=83 is 0.45952127364171985\n",
      "Objective value at epoch t=84 is 0.45952009129997845\n",
      "Objective value at epoch t=85 is 0.45951902715872944\n",
      "Objective value at epoch t=86 is 0.45951806940432405\n",
      "Objective value at epoch t=87 is 0.45951720740325974\n",
      "Objective value at epoch t=88 is 0.4595164315844048\n",
      "Objective value at epoch t=89 is 0.4595157333329376\n",
      "Objective value at epoch t=90 is 0.4595151048948732\n",
      "Objective value at epoch t=91 is 0.45951453929110536\n",
      "Objective value at epoch t=92 is 0.4595140302400087\n",
      "Objective value at epoch t=93 is 0.459513572087782\n",
      "Objective value at epoch t=94 is 0.45951315974572404\n",
      "Objective value at epoch t=95 is 0.4595127886337772\n",
      "Objective value at epoch t=96 is 0.4595124546297087\n",
      "Objective value at epoch t=97 is 0.45951215402336015\n",
      "Objective value at epoch t=98 is 0.4595118834754716\n",
      "Objective value at epoch t=99 is 0.45951163998061\n"
     ]
    }
   ],
   "source": [
    "lam = 1E-6\n",
    "stepsize = 0.1\n",
    "w, objvals_sgd = sgd(x_train, y_train, lam, stepsize)"
   ]
  },
  {
   "cell_type": "markdown",
   "metadata": {},
   "source": [
    "# 4. Compare GD with SGD\n",
    "\n",
    "Plot objective function values against epochs."
   ]
  },
  {
   "cell_type": "code",
   "execution_count": 13,
   "metadata": {},
   "outputs": [
    {
     "name": "stderr",
     "output_type": "stream",
     "text": [
      "<ipython-input-13-9b8d8f4cdfb5>:9: MatplotlibDeprecationWarning: Case-insensitive properties were deprecated in 3.3 and support will be removed two minor releases later\n",
      "  line0, = plt.plot(epochs_gd, objvals_gd, '--b', LineWidth=4)\n",
      "<ipython-input-13-9b8d8f4cdfb5>:10: MatplotlibDeprecationWarning: Case-insensitive properties were deprecated in 3.3 and support will be removed two minor releases later\n",
      "  line1, = plt.plot(epochs_sgd, objvals_sgd, '-r', LineWidth=2)\n",
      "<ipython-input-13-9b8d8f4cdfb5>:11: MatplotlibDeprecationWarning: Case-insensitive properties were deprecated in 3.3 and support will be removed two minor releases later\n",
      "  plt.xlabel('Epochs', FontSize=20)\n",
      "<ipython-input-13-9b8d8f4cdfb5>:12: MatplotlibDeprecationWarning: Case-insensitive properties were deprecated in 3.3 and support will be removed two minor releases later\n",
      "  plt.ylabel('Objective Value', FontSize=20)\n",
      "<ipython-input-13-9b8d8f4cdfb5>:13: MatplotlibDeprecationWarning: Case-insensitive properties were deprecated in 3.3 and support will be removed two minor releases later\n",
      "  plt.xticks(FontSize=16)\n",
      "<ipython-input-13-9b8d8f4cdfb5>:14: MatplotlibDeprecationWarning: Case-insensitive properties were deprecated in 3.3 and support will be removed two minor releases later\n",
      "  plt.yticks(FontSize=16)\n"
     ]
    },
    {
     "data": {
      "image/png": "[encoded data removed]",
      "text/plain": [
       "<Figure size 432x288 with 1 Axes>"
      ]
     },
     "metadata": {
      "needs_background": "light"
     },
     "output_type": "display_data"
    }
   ],
   "source": [
    "import matplotlib.pyplot as plt\n",
    "%matplotlib inline\n",
    "\n",
    "fig = plt.figure(figsize=(6, 4))\n",
    "\n",
    "epochs_gd = range(len(objvals_gd))\n",
    "epochs_sgd = range(len(objvals_sgd))\n",
    "\n",
    "line0, = plt.plot(epochs_gd, objvals_gd, '--b', LineWidth=4)\n",
    "line1, = plt.plot(epochs_sgd, objvals_sgd, '-r', LineWidth=2)\n",
    "plt.xlabel('Epochs', FontSize=20)\n",
    "plt.ylabel('Objective Value', FontSize=20)\n",
    "plt.xticks(FontSize=16)\n",
    "plt.yticks(FontSize=16)\n",
    "plt.legend([line0, line1], ['GD', 'SGD'], fontsize=20)\n",
    "plt.tight_layout()\n",
    "plt.show()\n",
    "fig.savefig('compare_gd_sgd.pdf', format='pdf', dpi=1200)"
   ]
  },
  {
   "cell_type": "markdown",
   "metadata": {},
   "source": [
    "# 5. Prediction"
   ]
  },
  {
   "cell_type": "code",
   "execution_count": 14,
   "metadata": {},
   "outputs": [],
   "source": [
    "# Predict class label\n",
    "# Inputs:\n",
    "#     w: d-by-1 matrix\n",
    "#     X: m-by-d matrix\n",
    "# Return:\n",
    "#     f: m-by-1 matrix, the predictions\n",
    "def predict(w, X):\n",
    "    xw = numpy.dot(X, w)\n",
    "    f = numpy.sign(xw)\n",
    "    return f"
   ]
  },
  {
   "cell_type": "code",
   "execution_count": 15,
   "metadata": {},
   "outputs": [
    {
     "name": "stdout",
     "output_type": "stream",
     "text": [
      "Training classification error is 0.209375\n"
     ]
    }
   ],
   "source": [
    "# evaluate training error\n",
    "f_train = predict(w, x_train)\n",
    "diff = numpy.abs(f_train - y_train) / 2\n",
    "error_train = numpy.mean(diff)\n",
    "print('Training classification error is ' + str(error_train))"
   ]
  },
  {
   "cell_type": "code",
   "execution_count": 16,
   "metadata": {},
   "outputs": [
    {
     "name": "stdout",
     "output_type": "stream",
     "text": [
      "Test classification error is 0.28125\n"
     ]
    }
   ],
   "source": [
    "# evaluate test error\n",
    "f_test = predict(w, x_test)\n",
    "diff = numpy.abs(f_test - y_test) / 2\n",
    "error_test = numpy.mean(diff)\n",
    "print('Test classification error is ' + str(error_test))"
   ]
  },
  {
   "cell_type": "markdown",
   "metadata": {},
   "source": [
    "# 6. Mini-batch SGD (fill the code)\n",
    "\n"
   ]
  },
  {
   "cell_type": "markdown",
   "metadata": {},
   "source": [
    "## 6.1. Compute the objective $Q_I$ and its gradient using a batch of samples\n",
    "\n",
    "Define $Q_I (w) = \\frac{1}{b} \\sum_{i \\in I} \\log \\Big( 1 + \\exp \\big( - y_i x_i^T w \\big) \\Big) + \\frac{\\lambda}{2} \\| w \\|_2^2 $, where $I$ is a set containing $b$ indices randomly drawn from $\\{ 1, \\cdots , n \\}$ without replacement.\n",
    "\n",
    "The stochastic gradient at $w$ is $g_I = \\frac{\\partial Q_I }{ \\partial w} = \\frac{1}{b} \\sum_{i \\in I} \\frac{- y_i x_i }{1 + \\exp ( y_i x_i^T w)} + \\lambda w$."
   ]
  },
  {
   "cell_type": "code",
   "execution_count": 29,
   "metadata": {},
   "outputs": [],
   "source": [
    "# Calculate the objective Q_I and the gradient of Q_I\n",
    "# Inputs:\n",
    "#     w: d-by-1 matrix\n",
    "#     xi: b-by-d matrix\n",
    "#     yi: b-by-1 matrix\n",
    "#     lam: scalar, the regularization parameter\n",
    "#     b: integer, the batch size\n",
    "# Return:\n",
    "#     obj: scalar, the objective Q_i\n",
    "#     g: d-by-1 matrix, gradient of Q_i\n",
    "def mb_stochastic_objective_gradient(w, xi, yi, lam, b):\n",
    "    # Fill the function\n",
    "    # Follow the implementation of stochastic_objective_gradient\n",
    "    # Use matrix-vector multiplication; do not use FOR LOOP of vector-vector multiplications\n",
    "    n,d = xi.shape\n",
    "    yx = numpy.multiply(yi, xi)  # b by d matrix\n",
    "    yxw = numpy.dot(yx, w)  # b x 1 vector\n",
    "\n",
    "    # Solve objective function Q_i\n",
    "    loss = numpy.log(1 + numpy.exp(-yxw)) # b x 1 vector\n",
    "    reg = (lam / 2) * numpy.sum(w * w)  # scalar\n",
    "    obj = numpy.average(loss + reg)  # scalar\n",
    "\n",
    "    # Calculate gradient\n",
    "    z = (1 / (1 + numpy.exp(yxw)))  # b x 1 vector\n",
    "    g_loss = numpy.multiply(z, -yx)  # b x d matrix\n",
    "    reg_loss = g_loss.T + (lam * w) # d x b matrix\n",
    "    g = numpy.average(reg_loss, axis=1) # d x 1 vector\n",
    "    return obj, g"
   ]
  },
  {
   "cell_type": "markdown",
   "metadata": {},
   "source": [
    "## 6.2. Implement mini-batch SGD\n",
    "\n",
    "Hints:\n",
    "1. In every epoch, randomly permute the $n$ samples (just like SGD).\n",
    "2. Each epoch has $\\frac{n}{b}$ iterations. In every iteration, use $b$ samples, and compute the gradient and objective using the ``mb_stochastic_objective_gradient`` function. In the next iteration, use the next $b$ samples, and so on.\n"
   ]
  },
  {
   "cell_type": "code",
   "execution_count": 127,
   "metadata": {},
   "outputs": [],
   "source": [
    "# Mini-Batch SGD for solving logistic regression\n",
    "# Inputs:\n",
    "#     x: n-by-d matrix\n",
    "#     y: n-by-1 matrix\n",
    "#     lam: scalar, the regularization parameter\n",
    "#     b: integer, the batch size\n",
    "#     stepsize: scalar\n",
    "#     max_epoch: integer, the maximal epochs\n",
    "#     w: d-by-1 matrix, initialization of w\n",
    "# Return:\n",
    "#     w: the solution\n",
    "#     objvals: record of each iteration's objective value\n",
    "def mb_sgd(x, y, lam, b, stepsize, max_epoch=100, w=None):\n",
    "    # Fill the function\n",
    "    # Follow the implementation of sgd\n",
    "    # Record one objective value per epoch (not per iteration!)\n",
    "    n, d = x.shape\n",
    "    objvals = numpy.zeros(max_epoch)\n",
    "    if not w:\n",
    "        w = numpy.zeros((d,1))\n",
    "    \n",
    "    for t in range(max_epoch):\n",
    "        iters = int(n / b)\n",
    "        indices = numpy.random.permutation(n)\n",
    "        x_rand = x[indices, :]\n",
    "        y_rand = y[indices, :]\n",
    "        start = 0\n",
    "        objval = 0\n",
    "        for i in range(iters):\n",
    "            end = start + b\n",
    "            xi = x_rand[start:end, :]\n",
    "            yi = y_rand[start:end, :]\n",
    "            obj, g = mb_stochastic_objective_gradient(w, xi, yi, lam, b)\n",
    "            objval += obj\n",
    "            w -= stepsize * g\n",
    "            \n",
    "        stepsize *= 0.9\n",
    "        objval /= iters\n",
    "        objvals[t] = objval\n",
    "        print('Objective value at epoch t=' + str(t) + ' is ' + str(objval))\n",
    "    \n",
    "    return w, objvals"
   ]
  },
  {
   "cell_type": "markdown",
   "metadata": {},
   "source": [
    "## 6.3. Run MB-SGD"
   ]
  },
  {
   "cell_type": "code",
   "execution_count": 136,
   "metadata": {},
   "outputs": [
    {
     "name": "stdout",
     "output_type": "stream",
     "text": [
      "Objective value at epoch t=0 is 0.645645931751659\n",
      "Objective value at epoch t=1 is 0.5266435161147198\n",
      "Objective value at epoch t=2 is 0.6231105400658841\n",
      "Objective value at epoch t=3 is 0.5558756091726085\n",
      "Objective value at epoch t=4 is 0.6187794557246111\n",
      "Objective value at epoch t=5 is 0.5324433568543847\n",
      "Objective value at epoch t=6 is 0.5449687265283395\n",
      "Objective value at epoch t=7 is 0.47635125453356053\n",
      "Objective value at epoch t=8 is 0.4926250436182088\n",
      "Objective value at epoch t=9 is 0.5847017112396754\n",
      "Objective value at epoch t=10 is 0.5932317097809862\n",
      "Objective value at epoch t=11 is 0.817009937289024\n",
      "Objective value at epoch t=12 is 0.42979636818355316\n",
      "Objective value at epoch t=13 is 0.6354110159148441\n",
      "Objective value at epoch t=14 is 0.4843393502579583\n",
      "Objective value at epoch t=15 is 0.497341700304645\n",
      "Objective value at epoch t=16 is 0.44686640953493095\n",
      "Objective value at epoch t=17 is 0.5827381888728118\n",
      "Objective value at epoch t=18 is 0.6081910227908895\n",
      "Objective value at epoch t=19 is 0.640708594952375\n",
      "Objective value at epoch t=20 is 0.6516793312199454\n",
      "Objective value at epoch t=21 is 0.48924003625399715\n",
      "Objective value at epoch t=22 is 0.5445655429732666\n",
      "Objective value at epoch t=23 is 0.49543989999506655\n",
      "Objective value at epoch t=24 is 0.5111761505345089\n",
      "Objective value at epoch t=25 is 0.5793289496753296\n",
      "Objective value at epoch t=26 is 0.5486084515772125\n",
      "Objective value at epoch t=27 is 0.48732532815202295\n",
      "Objective value at epoch t=28 is 0.6397477636887751\n",
      "Objective value at epoch t=29 is 0.5063315828029402\n",
      "Objective value at epoch t=30 is 0.6266307241221115\n",
      "Objective value at epoch t=31 is 0.7033463794312479\n",
      "Objective value at epoch t=32 is 0.5704397562536732\n",
      "Objective value at epoch t=33 is 0.5001573527909322\n",
      "Objective value at epoch t=34 is 0.4125381132782369\n",
      "Objective value at epoch t=35 is 0.6250071749528084\n",
      "Objective value at epoch t=36 is 0.6366264409986804\n",
      "Objective value at epoch t=37 is 0.3853005605989915\n",
      "Objective value at epoch t=38 is 0.3887749574381418\n",
      "Objective value at epoch t=39 is 0.4903212913004342\n",
      "Objective value at epoch t=40 is 0.6481787997591042\n",
      "Objective value at epoch t=41 is 0.5750563373907138\n",
      "Objective value at epoch t=42 is 0.6228787901428046\n",
      "Objective value at epoch t=43 is 0.5983176188890549\n",
      "Objective value at epoch t=44 is 0.506553318048829\n",
      "Objective value at epoch t=45 is 0.5433534789283979\n",
      "Objective value at epoch t=46 is 0.49684081587840456\n",
      "Objective value at epoch t=47 is 0.48500470764397646\n",
      "Objective value at epoch t=48 is 0.4362483303400434\n",
      "Objective value at epoch t=49 is 0.5827439585157115\n",
      "Objective value at epoch t=50 is 0.4863468860159025\n",
      "Objective value at epoch t=51 is 0.5093894811345263\n",
      "Objective value at epoch t=52 is 0.7095166166290523\n",
      "Objective value at epoch t=53 is 0.5764126328475409\n",
      "Objective value at epoch t=54 is 0.41438199696554234\n",
      "Objective value at epoch t=55 is 0.38049831215242197\n",
      "Objective value at epoch t=56 is 0.550084490735945\n",
      "Objective value at epoch t=57 is 0.5032216809000303\n",
      "Objective value at epoch t=58 is 0.33482269564062783\n",
      "Objective value at epoch t=59 is 0.4845872739913187\n",
      "Objective value at epoch t=60 is 0.5624748227289492\n",
      "Objective value at epoch t=61 is 0.43066766062888817\n",
      "Objective value at epoch t=62 is 0.7473293154951278\n",
      "Objective value at epoch t=63 is 0.5351282836466547\n",
      "Objective value at epoch t=64 is 0.5344846228438055\n",
      "Objective value at epoch t=65 is 0.537228977289548\n",
      "Objective value at epoch t=66 is 0.4270470266239295\n",
      "Objective value at epoch t=67 is 0.5753800862420498\n",
      "Objective value at epoch t=68 is 0.4795128617860166\n",
      "Objective value at epoch t=69 is 0.4696098420719263\n",
      "Objective value at epoch t=70 is 0.5038821142880827\n",
      "Objective value at epoch t=71 is 0.6957690712345369\n",
      "Objective value at epoch t=72 is 0.4667663693117599\n",
      "Objective value at epoch t=73 is 0.8108658242003687\n",
      "Objective value at epoch t=74 is 0.8269382063089517\n",
      "Objective value at epoch t=75 is 0.6331310977433493\n",
      "Objective value at epoch t=76 is 0.5716568729966967\n",
      "Objective value at epoch t=77 is 0.615829487744821\n",
      "Objective value at epoch t=78 is 0.4227972700061365\n",
      "Objective value at epoch t=79 is 0.5538563932896797\n",
      "Objective value at epoch t=80 is 0.5401381960971088\n",
      "Objective value at epoch t=81 is 0.6121176799147172\n",
      "Objective value at epoch t=82 is 0.5772833121666031\n",
      "Objective value at epoch t=83 is 0.4518377812427377\n",
      "Objective value at epoch t=84 is 0.5692477941286584\n",
      "Objective value at epoch t=85 is 0.46834906924609\n",
      "Objective value at epoch t=86 is 0.6017185806089322\n",
      "Objective value at epoch t=87 is 0.48078367963066315\n",
      "Objective value at epoch t=88 is 0.6537222390150896\n",
      "Objective value at epoch t=89 is 0.6778490080193675\n",
      "Objective value at epoch t=90 is 0.4923999290047732\n",
      "Objective value at epoch t=91 is 0.5405238953043134\n",
      "Objective value at epoch t=92 is 0.619215534911885\n",
      "Objective value at epoch t=93 is 0.5441295516146074\n",
      "Objective value at epoch t=94 is 0.6450092987232171\n",
      "Objective value at epoch t=95 is 0.6815155976050543\n",
      "Objective value at epoch t=96 is 0.5167666241470716\n",
      "Objective value at epoch t=97 is 0.46049035257658605\n",
      "Objective value at epoch t=98 is 0.4587613336023744\n",
      "Objective value at epoch t=99 is 0.40285673198814126\n"
     ]
    }
   ],
   "source": [
    "# MB-SGD with batch size b=8\n",
    "lam = 1E-6 # do not change\n",
    "b = 8 # do not change\n",
    "stepsize = 0.00375 # you must tune this parameter\n",
    "\n",
    "w, objvals_mbsgd8 = mb_sgd(x_train, y_train, lam, b, stepsize)"
   ]
  },
  {
   "cell_type": "code",
   "execution_count": 137,
   "metadata": {},
   "outputs": [
    {
     "name": "stdout",
     "output_type": "stream",
     "text": [
      "Objective value at epoch t=0 is 0.666191194067952\n",
      "Objective value at epoch t=1 is 0.6348319833161816\n",
      "Objective value at epoch t=2 is 0.5605191410567649\n",
      "Objective value at epoch t=3 is 0.5916702041958041\n",
      "Objective value at epoch t=4 is 0.5288698369940253\n",
      "Objective value at epoch t=5 is 0.546970694569287\n",
      "Objective value at epoch t=6 is 0.5758466137183585\n",
      "Objective value at epoch t=7 is 0.49921275949912786\n",
      "Objective value at epoch t=8 is 0.5616333158112502\n",
      "Objective value at epoch t=9 is 0.5015005254192544\n",
      "Objective value at epoch t=10 is 0.4685728847362135\n",
      "Objective value at epoch t=11 is 0.5021643300243542\n",
      "Objective value at epoch t=12 is 0.4635197224235067\n",
      "Objective value at epoch t=13 is 0.46572331530178596\n",
      "Objective value at epoch t=14 is 0.5431008974813893\n",
      "Objective value at epoch t=15 is 0.4531406819975211\n",
      "Objective value at epoch t=16 is 0.40086321234177547\n",
      "Objective value at epoch t=17 is 0.41668077582505586\n",
      "Objective value at epoch t=18 is 0.4959551364610856\n",
      "Objective value at epoch t=19 is 0.4615365752519727\n",
      "Objective value at epoch t=20 is 0.42624478341940686\n",
      "Objective value at epoch t=21 is 0.45239696086554854\n",
      "Objective value at epoch t=22 is 0.4217199535460299\n",
      "Objective value at epoch t=23 is 0.4894043720880793\n",
      "Objective value at epoch t=24 is 0.46813621672148004\n",
      "Objective value at epoch t=25 is 0.518685434770505\n",
      "Objective value at epoch t=26 is 0.5000354052516777\n",
      "Objective value at epoch t=27 is 0.4516115613012495\n",
      "Objective value at epoch t=28 is 0.6121974375682024\n",
      "Objective value at epoch t=29 is 0.3897174053102252\n",
      "Objective value at epoch t=30 is 0.39542122413211067\n",
      "Objective value at epoch t=31 is 0.5324146428565815\n",
      "Objective value at epoch t=32 is 0.4720535905851498\n",
      "Objective value at epoch t=33 is 0.44436132600344413\n",
      "Objective value at epoch t=34 is 0.5141596353375943\n",
      "Objective value at epoch t=35 is 0.5513629583161359\n",
      "Objective value at epoch t=36 is 0.4279751177442027\n",
      "Objective value at epoch t=37 is 0.4118308631561236\n",
      "Objective value at epoch t=38 is 0.47235843382237264\n",
      "Objective value at epoch t=39 is 0.4302836904204975\n",
      "Objective value at epoch t=40 is 0.48044260382821397\n",
      "Objective value at epoch t=41 is 0.4651864455702106\n",
      "Objective value at epoch t=42 is 0.4732228587967985\n",
      "Objective value at epoch t=43 is 0.4755382199909491\n",
      "Objective value at epoch t=44 is 0.4544614446093996\n",
      "Objective value at epoch t=45 is 0.5076466014094996\n",
      "Objective value at epoch t=46 is 0.37648160926119656\n",
      "Objective value at epoch t=47 is 0.46522909515001293\n",
      "Objective value at epoch t=48 is 0.42228767386585375\n",
      "Objective value at epoch t=49 is 0.41526140662412675\n",
      "Objective value at epoch t=50 is 0.43188932411923775\n",
      "Objective value at epoch t=51 is 0.48281065004013096\n",
      "Objective value at epoch t=52 is 0.4996248940992814\n",
      "Objective value at epoch t=53 is 0.45620372205901827\n",
      "Objective value at epoch t=54 is 0.44238904905084836\n",
      "Objective value at epoch t=55 is 0.5106925729118837\n",
      "Objective value at epoch t=56 is 0.6463564705010676\n",
      "Objective value at epoch t=57 is 0.5247389392385104\n",
      "Objective value at epoch t=58 is 0.45625793248609414\n",
      "Objective value at epoch t=59 is 0.4728607034790511\n",
      "Objective value at epoch t=60 is 0.4988420241954346\n",
      "Objective value at epoch t=61 is 0.48848583742190027\n",
      "Objective value at epoch t=62 is 0.4091896504708094\n",
      "Objective value at epoch t=63 is 0.4707484221511595\n",
      "Objective value at epoch t=64 is 0.49470697401295444\n",
      "Objective value at epoch t=65 is 0.48924671641154455\n",
      "Objective value at epoch t=66 is 0.5054367252869961\n",
      "Objective value at epoch t=67 is 0.5464427899539184\n",
      "Objective value at epoch t=68 is 0.47570638460664805\n",
      "Objective value at epoch t=69 is 0.42669732669098037\n",
      "Objective value at epoch t=70 is 0.5627567234949566\n",
      "Objective value at epoch t=71 is 0.554137419098683\n",
      "Objective value at epoch t=72 is 0.4336342974415566\n",
      "Objective value at epoch t=73 is 0.4511103590303033\n",
      "Objective value at epoch t=74 is 0.5216517607722304\n",
      "Objective value at epoch t=75 is 0.5216845567646866\n",
      "Objective value at epoch t=76 is 0.40405295607114444\n",
      "Objective value at epoch t=77 is 0.478815704170811\n",
      "Objective value at epoch t=78 is 0.4269718776505821\n",
      "Objective value at epoch t=79 is 0.451518807959561\n",
      "Objective value at epoch t=80 is 0.47829801116053955\n",
      "Objective value at epoch t=81 is 0.4452375144916084\n",
      "Objective value at epoch t=82 is 0.5565733010856894\n",
      "Objective value at epoch t=83 is 0.4766028691853377\n",
      "Objective value at epoch t=84 is 0.5096958091529277\n",
      "Objective value at epoch t=85 is 0.47297530731729054\n",
      "Objective value at epoch t=86 is 0.4650319519230869\n",
      "Objective value at epoch t=87 is 0.40887010773360044\n",
      "Objective value at epoch t=88 is 0.4898820968458225\n",
      "Objective value at epoch t=89 is 0.4738521232131113\n",
      "Objective value at epoch t=90 is 0.4755364053468366\n",
      "Objective value at epoch t=91 is 0.4667765572372152\n",
      "Objective value at epoch t=92 is 0.4465394411326141\n",
      "Objective value at epoch t=93 is 0.48383800035978713\n",
      "Objective value at epoch t=94 is 0.4222056547617964\n",
      "Objective value at epoch t=95 is 0.5245666858665784\n",
      "Objective value at epoch t=96 is 0.4809167991577043\n",
      "Objective value at epoch t=97 is 0.4631166201356242\n",
      "Objective value at epoch t=98 is 0.5381141612588197\n",
      "Objective value at epoch t=99 is 0.4538847349454415\n"
     ]
    }
   ],
   "source": [
    "# MB-SGD with batch size b=64\n",
    "lam = 1E-6 # do not change\n",
    "b = 64 # do not change\n",
    "stepsize = 0.1 # you must tune this parameter\n",
    "\n",
    "w, objvals_mbsgd64 = mb_sgd(x_train, y_train, lam, b, stepsize)"
   ]
  },
  {
   "cell_type": "markdown",
   "metadata": {},
   "source": [
    "# 7. Plot and compare GD, SGD, and MB-SGD"
   ]
  },
  {
   "cell_type": "markdown",
   "metadata": {},
   "source": [
    "You are required to compare the following algorithms:\n",
    "\n",
    "- Gradient descent (GD)\n",
    "\n",
    "- SGD\n",
    "\n",
    "- MB-SGD with b=8\n",
    "\n",
    "- MB-SGD with b=64\n",
    "\n",
    "Follow the code in Section 4 to plot ```objective function value``` against ```epochs```. There should be four curves in the plot; each curve corresponds to one algorithm."
   ]
  },
  {
   "cell_type": "markdown",
   "metadata": {},
   "source": [
    "Hint: Logistic regression with $\\ell_2$-norm regularization is a strongly convex optimization problem. All the algorithms will converge to the same solution. **In the end, the ``objective function value`` of the 4 algorithms will be the same. If not the same, your implementation must be wrong. Do NOT submit wrong code and wrong result!**"
   ]
  },
  {
   "cell_type": "code",
   "execution_count": 140,
   "metadata": {},
   "outputs": [
    {
     "name": "stderr",
     "output_type": "stream",
     "text": [
      "<ipython-input-140-4f22939da271>:11: MatplotlibDeprecationWarning: Case-insensitive properties were deprecated in 3.3 and support will be removed two minor releases later\n",
      "  line0, = plt.plot(epochs_gd, objvals_gd, '--b', LineWidth=4)\n",
      "<ipython-input-140-4f22939da271>:12: MatplotlibDeprecationWarning: Case-insensitive properties were deprecated in 3.3 and support will be removed two minor releases later\n",
      "  line1, = plt.plot(epochs_sgd, objvals_sgd, '-r', LineWidth=2)\n",
      "<ipython-input-140-4f22939da271>:14: MatplotlibDeprecationWarning: Case-insensitive properties were deprecated in 3.3 and support will be removed two minor releases later\n",
      "  line3, = plt.plot(epochs_mbsgd64, objvals_mbsgd64, '-o', LineWidth=2)\n",
      "<ipython-input-140-4f22939da271>:16: MatplotlibDeprecationWarning: Case-insensitive properties were deprecated in 3.3 and support will be removed two minor releases later\n",
      "  plt.xlabel('Epochs', FontSize=20)\n",
      "<ipython-input-140-4f22939da271>:17: MatplotlibDeprecationWarning: Case-insensitive properties were deprecated in 3.3 and support will be removed two minor releases later\n",
      "  plt.ylabel('Objective Value', FontSize=20)\n",
      "<ipython-input-140-4f22939da271>:18: MatplotlibDeprecationWarning: Case-insensitive properties were deprecated in 3.3 and support will be removed two minor releases later\n",
      "  plt.xticks(FontSize=16)\n",
      "<ipython-input-140-4f22939da271>:19: MatplotlibDeprecationWarning: Case-insensitive properties were deprecated in 3.3 and support will be removed two minor releases later\n",
      "  plt.yticks(FontSize=16)\n"
     ]
    },
    {
     "data": {
      "image/png": "[encoded data removed]",
      "text/plain": [
       "<Figure size 432x288 with 1 Axes>"
      ]
     },
     "metadata": {
      "needs_background": "light"
     },
     "output_type": "display_data"
    }
   ],
   "source": [
    "import matplotlib.pyplot as plt\n",
    "%matplotlib inline\n",
    "\n",
    "fig = plt.figure(figsize=(6, 4))\n",
    "\n",
    "epochs_gd = range(len(objvals_gd))\n",
    "epochs_sgd = range(len(objvals_sgd))\n",
    "epochs_mbsgd8 = range(len(objvals_mbsgd8))\n",
    "epochs_mbsgd64 = range(len(objvals_mbsgd64))\n",
    "\n",
    "line0, = plt.plot(epochs_gd, objvals_gd, '--b', LineWidth=4)\n",
    "line1, = plt.plot(epochs_sgd, objvals_sgd, '-r', LineWidth=2)\n",
    "#line2, = plt.plot(epochs_mbsgd8, objvals_mbsgd8, '-g', LineWidth=2)\n",
    "line3, = plt.plot(epochs_mbsgd64, objvals_mbsgd64, '-o', LineWidth=2)\n",
    "\n",
    "plt.xlabel('Epochs', FontSize=20)\n",
    "plt.ylabel('Objective Value', FontSize=20)\n",
    "plt.xticks(FontSize=16)\n",
    "plt.yticks(FontSize=16)\n",
    "plt.legend([line0, line1, line3], ['GD', 'SGD', 'MBSGD64'], fontsize=20)\n",
    "plt.tight_layout()\n",
    "plt.show()\n",
    "fig.savefig('compare_gd_sgd.pdf', format='pdf', dpi=1200)"
   ]
  },
  {
   "cell_type": "markdown",
   "metadata": {},
   "source": []
  }
 ],
 "metadata": {
  "kernelspec": {
   "display_name": "Python 3",
   "language": "python",
   "name": "python3"
  },
  "language_info": {
   "codemirror_mode": {
    "name": "ipython",
    "version": 3
   },
   "file_extension": ".py",
   "mimetype": "text/x-python",
   "name": "python",
   "nbconvert_exporter": "python",
   "pygments_lexer": "ipython3",
   "version": "3.8.5"
  }
 },
 "nbformat": 4,
 "nbformat_minor": 2
}

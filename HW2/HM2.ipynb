{
 "cells": [
  {
   "cell_type": "markdown",
   "metadata": {},
   "source": [
    "# HM2: Numerical Optimization for Logistic Regression.\n",
    "\n",
    "### Name: Jeremiah McReynolds\n"
   ]
  },
  {
   "cell_type": "markdown",
   "metadata": {},
   "source": [
    "## 0. You will do the following:\n",
    "\n",
    "1. Read the lecture note: [click here](https://github.com/wangshusen/DeepLearning/blob/master/LectureNotes/Logistic/paper/logistic.pdf)\n",
    "\n",
    "2. Read, complete, and run my code.\n",
    "\n",
    "3. **Implement mini-batch SGD** and evaluate the performance.\n",
    "\n",
    "4. Convert the .IPYNB file to .HTML file.\n",
    "\n",
    "    * The HTML file must contain **the code** and **the output after execution**.\n",
    "    \n",
    "    * Missing **the output after execution** will not be graded.\n",
    "    \n",
    "5. Upload this .HTML file to your Google Drive, Dropbox, or your Github repo.  (If you submit the file to Google Drive or Dropbox, you must make the file \"open-access\". The delay caused by \"deny of access\" may result in late penalty.)\n",
    "\n",
    "6. Submit the link to this .HTML file to Canvas.\n",
    "\n",
    "    * Example: https://github.com/wangshusen/CS583-2020S/blob/master/homework/HM2/HM2.html\n",
    "\n",
    "\n",
    "## Grading criteria:\n",
    "\n",
    "1. When computing the ```gradient``` and ```objective function value``` using a batch of samples, use **matrix-vector multiplication** rather than a FOR LOOP of **vector-vector multiplications**.\n",
    "\n",
    "2. Plot ```objective function value``` against ```epochs```. In the plot, compare GD, SGD, and MB-SGD (with $b=8$ and $b=64$). The plot must look reasonable."
   ]
  },
  {
   "cell_type": "code",
   "execution_count": null,
   "metadata": {},
   "outputs": [],
   "source": []
  },
  {
   "cell_type": "markdown",
   "metadata": {},
   "source": [
    "# 1. Data processing\n",
    "\n",
    "- Download the Diabete dataset from https://www.csie.ntu.edu.tw/~cjlin/libsvmtools/datasets/binary/diabetes\n",
    "- Load the data using sklearn.\n",
    "- Preprocess the data."
   ]
  },
  {
   "cell_type": "markdown",
   "metadata": {},
   "source": [
    "## 1.1. Load the data"
   ]
  },
  {
   "cell_type": "code",
   "execution_count": 1,
   "metadata": {},
   "outputs": [
    {
     "name": "stdout",
     "output_type": "stream",
     "text": [
      "Shape of x: (768, 8)\n",
      "Shape of y: (768,)\n"
     ]
    }
   ],
   "source": [
    "from sklearn import datasets\n",
    "import numpy\n",
    "\n",
    "x_sparse, y = datasets.load_svmlight_file('diabetes')\n",
    "x = x_sparse.todense()\n",
    "\n",
    "print('Shape of x: ' + str(x.shape))\n",
    "print('Shape of y: ' + str(y.shape))"
   ]
  },
  {
   "cell_type": "markdown",
   "metadata": {},
   "source": [
    "## 1.2. Partition to training and test sets"
   ]
  },
  {
   "cell_type": "code",
   "execution_count": 2,
   "metadata": {},
   "outputs": [
    {
     "name": "stdout",
     "output_type": "stream",
     "text": [
      "Shape of x_train: (640, 8)\n",
      "Shape of x_test: (128, 8)\n",
      "Shape of y_train: (640, 1)\n",
      "Shape of y_test: (128, 1)\n"
     ]
    }
   ],
   "source": [
    "# partition the data to training and test sets\n",
    "n = x.shape[0]\n",
    "n_train = 640\n",
    "n_test = n - n_train\n",
    "\n",
    "rand_indices = numpy.random.permutation(n)\n",
    "train_indices = rand_indices[0:n_train]\n",
    "test_indices = rand_indices[n_train:n]\n",
    "\n",
    "x_train = x[train_indices, :]\n",
    "x_test = x[test_indices, :]\n",
    "y_train = y[train_indices].reshape(n_train, 1)\n",
    "y_test = y[test_indices].reshape(n_test, 1)\n",
    "\n",
    "print('Shape of x_train: ' + str(x_train.shape))\n",
    "print('Shape of x_test: ' + str(x_test.shape))\n",
    "print('Shape of y_train: ' + str(y_train.shape))\n",
    "print('Shape of y_test: ' + str(y_test.shape))"
   ]
  },
  {
   "cell_type": "markdown",
   "metadata": {},
   "source": [
    "## 1.3. Feature scaling"
   ]
  },
  {
   "cell_type": "markdown",
   "metadata": {},
   "source": [
    "Use the standardization to trainsform both training and test features"
   ]
  },
  {
   "cell_type": "code",
   "execution_count": 3,
   "metadata": {},
   "outputs": [
    {
     "name": "stdout",
     "output_type": "stream",
     "text": [
      "test mean = \n",
      "[[ 0.0417817   0.10200738  0.01697071  0.07260394  0.1208345   0.12287489\n",
      "  -0.01240556 -0.01176446]]\n",
      "test std = \n",
      "[[1.06782458 0.98105224 0.91488448 1.09900095 1.04509616 0.9712036\n",
      "  0.91564427 0.96491757]]\n"
     ]
    }
   ],
   "source": [
    "# Standardization\n",
    "import numpy\n",
    "\n",
    "# calculate mu and sig using the training set\n",
    "d = x_train.shape[1]\n",
    "mu = numpy.mean(x_train, axis=0).reshape(1, d)\n",
    "sig = numpy.std(x_train, axis=0).reshape(1, d)\n",
    "\n",
    "# transform the training features\n",
    "x_train = (x_train - mu) / (sig + 1E-6)\n",
    "\n",
    "# transform the test features\n",
    "x_test = (x_test - mu) / (sig + 1E-6)\n",
    "\n",
    "print('test mean = ')\n",
    "print(numpy.mean(x_test, axis=0))\n",
    "\n",
    "print('test std = ')\n",
    "print(numpy.std(x_test, axis=0))"
   ]
  },
  {
   "cell_type": "markdown",
   "metadata": {},
   "source": [
    "## 1.4. Add a dimension of all ones"
   ]
  },
  {
   "cell_type": "code",
   "execution_count": 4,
   "metadata": {},
   "outputs": [
    {
     "name": "stdout",
     "output_type": "stream",
     "text": [
      "Shape of x_train: (640, 9)\n",
      "Shape of x_test: (128, 9)\n"
     ]
    }
   ],
   "source": [
    "n_train, d = x_train.shape\n",
    "x_train = numpy.concatenate((x_train, numpy.ones((n_train, 1))), axis=1)\n",
    "\n",
    "n_test, d = x_test.shape\n",
    "x_test = numpy.concatenate((x_test, numpy.ones((n_test, 1))), axis=1)\n",
    "\n",
    "print('Shape of x_train: ' + str(x_train.shape))\n",
    "print('Shape of x_test: ' + str(x_test.shape))"
   ]
  },
  {
   "cell_type": "markdown",
   "metadata": {},
   "source": [
    "# 2. Logistic regression model\n",
    "\n",
    "The objective function is $Q (w; X, y) = \\frac{1}{n} \\sum_{i=1}^n \\log \\Big( 1 + \\exp \\big( - y_i x_i^T w \\big) \\Big) + \\frac{\\lambda}{2} \\| w \\|_2^2 $."
   ]
  },
  {
   "cell_type": "code",
   "execution_count": 5,
   "metadata": {},
   "outputs": [],
   "source": [
    "# Calculate the objective function value\n",
    "# Inputs:\n",
    "#     w: d-by-1 matrix\n",
    "#     x: n-by-d matrix\n",
    "#     y: n-by-1 matrix\n",
    "#     lam: scalar, the regularization parameter\n",
    "# Return:\n",
    "#     objective function value (scalar)\n",
    "def objective(w, x, y, lam):\n",
    "    n, d = x.shape\n",
    "    yx = numpy.multiply(y, x) # n-by-d matrix\n",
    "    yxw = numpy.dot(yx, w) # n-by-1 matrix\n",
    "    vec1 = numpy.exp(-yxw) # n-by-1 matrix\n",
    "    vec2 = numpy.log(1 + vec1) # n-by-1 matrix\n",
    "    loss = numpy.mean(vec2) # scalar\n",
    "    reg = lam / 2 * numpy.sum(w * w) # scalar\n",
    "    return loss + reg\n",
    "    "
   ]
  },
  {
   "cell_type": "code",
   "execution_count": 6,
   "metadata": {},
   "outputs": [
    {
     "name": "stdout",
     "output_type": "stream",
     "text": [
      "Initial objective function value = 0.6931471805599453\n"
     ]
    }
   ],
   "source": [
    "# initialize w\n",
    "d = x_train.shape[1]\n",
    "w = numpy.zeros((d, 1))\n",
    "\n",
    "# evaluate the objective function value at w\n",
    "lam = 1E-6\n",
    "objval0 = objective(w, x_train, y_train, lam)\n",
    "print('Initial objective function value = ' + str(objval0))"
   ]
  },
  {
   "cell_type": "markdown",
   "metadata": {},
   "source": [
    "# 3. Numerical optimization"
   ]
  },
  {
   "cell_type": "markdown",
   "metadata": {},
   "source": [
    "## 3.1. Gradient descent\n"
   ]
  },
  {
   "cell_type": "markdown",
   "metadata": {},
   "source": [
    "The gradient at $w$ is $g = - \\frac{1}{n} \\sum_{i=1}^n \\frac{y_i x_i }{1 + \\exp ( y_i x_i^T w)} + \\lambda w$"
   ]
  },
  {
   "cell_type": "code",
   "execution_count": 7,
   "metadata": {},
   "outputs": [],
   "source": [
    "# Calculate the gradient\n",
    "# Inputs:\n",
    "#     w: d-by-1 matrix\n",
    "#     x: n-by-d matrix\n",
    "#     y: n-by-1 matrix\n",
    "#     lam: scalar, the regularization parameter\n",
    "# Return:\n",
    "#     g: g: d-by-1 matrix, full gradient\n",
    "def gradient(w, x, y, lam):\n",
    "    n, d = x.shape\n",
    "    yx = numpy.multiply(y, x) # n-by-d matrix\n",
    "    yxw = numpy.dot(yx, w) # n-by-1 matrix\n",
    "    vec1 = numpy.exp(yxw) # n-by-1 matrix\n",
    "    vec2 = numpy.divide(yx, 1+vec1) # n-by-d matrix\n",
    "    vec3 = -numpy.mean(vec2, axis=0).reshape(d, 1) # d-by-1 matrix\n",
    "    g = vec3 + lam * w\n",
    "    return g"
   ]
  },
  {
   "cell_type": "code",
   "execution_count": 8,
   "metadata": {},
   "outputs": [],
   "source": [
    "# Gradient descent for solving logistic regression\n",
    "# Inputs:\n",
    "#     x: n-by-d matrix\n",
    "#     y: n-by-1 matrix\n",
    "#     lam: scalar, the regularization parameter\n",
    "#     stepsize: scalar\n",
    "#     max_iter: integer, the maximal iterations\n",
    "#     w: d-by-1 matrix, initialization of w\n",
    "# Return:\n",
    "#     w: d-by-1 matrix, the solution\n",
    "#     objvals: a record of each iteration's objective value\n",
    "def grad_descent(x, y, lam, stepsize, max_iter=100, w=None):\n",
    "    n, d = x.shape\n",
    "    objvals = numpy.zeros(max_iter) # store the objective values\n",
    "    if w is None:\n",
    "        w = numpy.zeros((d, 1)) # zero initialization\n",
    "    \n",
    "    for t in range(max_iter):\n",
    "        objval = objective(w, x, y, lam)\n",
    "        objvals[t] = objval\n",
    "        print('Objective value at t=' + str(t) + ' is ' + str(objval))\n",
    "        g = gradient(w, x, y, lam)\n",
    "        w -= stepsize * g\n",
    "    \n",
    "    return w, objvals"
   ]
  },
  {
   "cell_type": "markdown",
   "metadata": {},
   "source": [
    "Run gradient descent."
   ]
  },
  {
   "cell_type": "code",
   "execution_count": 9,
   "metadata": {},
   "outputs": [
    {
     "name": "stdout",
     "output_type": "stream",
     "text": [
      "Objective value at t=0 is 0.6931471805599453\n",
      "Objective value at t=1 is 0.5909663926089129\n",
      "Objective value at t=2 is 0.5498207316418268\n",
      "Objective value at t=3 is 0.527632444587188\n",
      "Objective value at t=4 is 0.513749133388164\n",
      "Objective value at t=5 is 0.5043401843906632\n",
      "Objective value at t=6 is 0.49764660780643294\n",
      "Objective value at t=7 is 0.49272682072346824\n",
      "Objective value at t=8 is 0.48902386880271037\n",
      "Objective value at t=9 is 0.48618527656086163\n",
      "Objective value at t=10 is 0.483977049842808\n",
      "Objective value at t=11 is 0.4822382305594039\n",
      "Objective value at t=12 is 0.48085499248246577\n",
      "Objective value at t=13 is 0.47974501249596346\n",
      "Objective value at t=14 is 0.4788476228005848\n",
      "Objective value at t=15 is 0.47811739022527333\n",
      "Objective value at t=16 is 0.4775198123130655\n",
      "Objective value at t=17 is 0.47702836454020986\n",
      "Objective value at t=18 is 0.47662243362144374\n",
      "Objective value at t=19 is 0.4762858453860885\n",
      "Objective value at t=20 is 0.47600579962748235\n",
      "Objective value at t=21 is 0.4757720884666395\n",
      "Objective value at t=22 is 0.4755765153753872\n",
      "Objective value at t=23 is 0.4754124582768402\n",
      "Objective value at t=24 is 0.4752745374691661\n",
      "Objective value at t=25 is 0.4751583607447392\n",
      "Objective value at t=26 is 0.4750603259994301\n",
      "Objective value at t=27 is 0.47497746710329247\n",
      "Objective value at t=28 is 0.4749073326399053\n",
      "Objective value at t=29 is 0.4748478898418264\n",
      "Objective value at t=30 is 0.4747974480009339\n",
      "Objective value at t=31 is 0.4747545970474113\n",
      "Objective value at t=32 is 0.47471815802769024\n",
      "Objective value at t=33 is 0.4746871429782891\n",
      "Objective value at t=34 is 0.4746607222646292\n",
      "Objective value at t=35 is 0.4746381978845366\n",
      "Objective value at t=36 is 0.47461898156287624\n",
      "Objective value at t=37 is 0.47460257671354483\n",
      "Objective value at t=38 is 0.47458856353737866\n",
      "Objective value at t=39 is 0.47457658667361424\n",
      "Objective value at t=40 is 0.47456634493884065\n",
      "Objective value at t=41 is 0.4745575827786559\n",
      "Objective value at t=42 is 0.4745500831292701\n",
      "Objective value at t=43 is 0.47454366144345467\n",
      "Objective value at t=44 is 0.4745381606808165\n",
      "Objective value at t=45 is 0.4745334470988899\n",
      "Objective value at t=46 is 0.47452940671092925\n",
      "Objective value at t=47 is 0.4745259423000402\n",
      "Objective value at t=48 is 0.4745229708985532\n",
      "Objective value at t=49 is 0.4745204216572428\n",
      "Objective value at t=50 is 0.4745182340418216\n",
      "Objective value at t=51 is 0.47451635630465516\n",
      "Objective value at t=52 is 0.4745147441882918\n",
      "Objective value at t=53 is 0.47451335982454457\n",
      "Objective value at t=54 is 0.47451217079875446\n",
      "Objective value at t=55 is 0.47451114935376737\n",
      "Objective value at t=56 is 0.47451027171222204\n",
      "Objective value at t=57 is 0.4745095174991338\n",
      "Objective value at t=58 is 0.47450886924959407\n",
      "Objective value at t=59 is 0.47450831198876836\n",
      "Objective value at t=60 is 0.47450783287336323\n",
      "Objective value at t=61 is 0.47450742088539494\n",
      "Objective value at t=62 is 0.4745070665704966\n",
      "Objective value at t=63 is 0.4745067618141785\n",
      "Objective value at t=64 is 0.4745064996504524\n",
      "Objective value at t=65 is 0.47450627409806906\n",
      "Objective value at t=66 is 0.4745060800203326\n",
      "Objective value at t=67 is 0.4745059130050507\n",
      "Objective value at t=68 is 0.47450576926169685\n",
      "Objective value at t=69 is 0.47450564553328745\n",
      "Objective value at t=70 is 0.474505539020845\n",
      "Objective value at t=71 is 0.47450544731863425\n",
      "Objective value at t=72 is 0.4745053683586181\n",
      "Objective value at t=73 is 0.47450530036281124\n",
      "Objective value at t=74 is 0.4745052418023959\n",
      "Objective value at t=75 is 0.4745051913626375\n",
      "Objective value at t=76 is 0.47450514791276577\n",
      "Objective value at t=77 is 0.474505110480118\n",
      "Objective value at t=78 is 0.4745050782279342\n",
      "Objective value at t=79 is 0.474505050436287\n",
      "Objective value at t=80 is 0.4745050264857006\n",
      "Objective value at t=81 is 0.4745050058430762\n",
      "Objective value at t=82 is 0.4745049880495999\n",
      "Objective value at t=83 is 0.47450497271034914\n",
      "Objective value at t=84 is 0.47450495948536103\n",
      "Objective value at t=85 is 0.47450494808195365\n",
      "Objective value at t=86 is 0.4745049382481244\n",
      "Objective value at t=87 is 0.4745049297668748\n",
      "Objective value at t=88 is 0.474504922451329\n",
      "Objective value at t=89 is 0.4745049161405366\n",
      "Objective value at t=90 is 0.4745049106958616\n",
      "Objective value at t=91 is 0.4745049059978773\n",
      "Objective value at t=92 is 0.47450490194369405\n",
      "Objective value at t=93 is 0.47450489844466026\n",
      "Objective value at t=94 is 0.47450489542438484\n",
      "Objective value at t=95 is 0.47450489281703456\n",
      "Objective value at t=96 is 0.47450489056586903\n",
      "Objective value at t=97 is 0.4745048886219801\n",
      "Objective value at t=98 is 0.47450488694320575\n",
      "Objective value at t=99 is 0.47450488549319597\n"
     ]
    }
   ],
   "source": [
    "lam = 1E-6\n",
    "stepsize = 1.0\n",
    "w, objvals_gd = grad_descent(x_train, y_train, lam, stepsize)"
   ]
  },
  {
   "cell_type": "markdown",
   "metadata": {},
   "source": [
    "## 3.2. Stochastic gradient descent (SGD)\n",
    "\n",
    "Define $Q_i (w) = \\log \\Big( 1 + \\exp \\big( - y_i x_i^T w \\big) \\Big) + \\frac{\\lambda}{2} \\| w \\|_2^2 $.\n",
    "\n",
    "The stochastic gradient at $w$ is $g_i = \\frac{\\partial Q_i }{ \\partial w} = -\\frac{y_i x_i }{1 + \\exp ( y_i x_i^T w)} + \\lambda w$."
   ]
  },
  {
   "cell_type": "code",
   "execution_count": 10,
   "metadata": {},
   "outputs": [],
   "source": [
    "# Calculate the objective Q_i and the gradient of Q_i\n",
    "# Inputs:\n",
    "#     w: d-by-1 matrix\n",
    "#     xi: 1-by-d matrix\n",
    "#     yi: scalar\n",
    "#     lam: scalar, the regularization parameter\n",
    "# Return:\n",
    "#     obj: scalar, the objective Q_i\n",
    "#     g: d-by-1 matrix, gradient of Q_i\n",
    "def stochastic_objective_gradient(w, xi, yi, lam):\n",
    "    d = xi.shape[0]\n",
    "    yx = yi * xi # 1-by-d matrix\n",
    "    yxw = float(numpy.dot(yx, w)) # scalar\n",
    "    \n",
    "    # calculate objective function Q_i\n",
    "    loss = numpy.log(1 + numpy.exp(-yxw)) # scalar\n",
    "    reg = lam / 2 * numpy.sum(w * w) # scalar\n",
    "    obj = loss + reg\n",
    "    \n",
    "    # calculate stochastic gradient\n",
    "    g_loss = -yx.T / (1 + numpy.exp(yxw)) # d-by-1 matrix\n",
    "    g = g_loss + lam * w # d-by-1 matrix\n",
    "    \n",
    "    return obj, g"
   ]
  },
  {
   "cell_type": "code",
   "execution_count": 11,
   "metadata": {},
   "outputs": [],
   "source": [
    "# SGD for solving logistic regression\n",
    "# Inputs:\n",
    "#     x: n-by-d matrix\n",
    "#     y: n-by-1 matrix\n",
    "#     lam: scalar, the regularization parameter\n",
    "#     stepsize: scalar\n",
    "#     max_epoch: integer, the maximal epochs\n",
    "#     w: d-by-1 matrix, initialization of w\n",
    "# Return:\n",
    "#     w: the solution\n",
    "#     objvals: record of each iteration's objective value\n",
    "def sgd(x, y, lam, stepsize, max_epoch=100, w=None):\n",
    "    n, d = x.shape\n",
    "    objvals = numpy.zeros(max_epoch) # store the objective values\n",
    "    if w is None:\n",
    "        w = numpy.zeros((d, 1)) # zero initialization\n",
    "    \n",
    "    for t in range(max_epoch):\n",
    "        # randomly shuffle the samples\n",
    "        rand_indices = numpy.random.permutation(n)\n",
    "        x_rand = x[rand_indices, :]\n",
    "        y_rand = y[rand_indices, :]\n",
    "        \n",
    "        objval = 0 # accumulate the objective values\n",
    "        for i in range(n):\n",
    "            xi = x_rand[i, :] # 1-by-d matrix\n",
    "            yi = float(y_rand[i, :]) # scalar\n",
    "            obj, g = stochastic_objective_gradient(w, xi, yi, lam)\n",
    "            objval += obj\n",
    "            w -= stepsize * g\n",
    "        \n",
    "        stepsize *= 0.9 # decrease step size\n",
    "        objval /= n\n",
    "        objvals[t] = objval\n",
    "        print('Objective value at epoch t=' + str(t) + ' is ' + str(objval))\n",
    "    \n",
    "    return w, objvals"
   ]
  },
  {
   "cell_type": "markdown",
   "metadata": {},
   "source": [
    "Run SGD."
   ]
  },
  {
   "cell_type": "code",
   "execution_count": 12,
   "metadata": {},
   "outputs": [
    {
     "name": "stdout",
     "output_type": "stream",
     "text": [
      "Objective value at epoch t=0 is 0.5474616177579712\n",
      "Objective value at epoch t=1 is 0.5193900540377673\n",
      "Objective value at epoch t=2 is 0.5193584357096263\n",
      "Objective value at epoch t=3 is 0.512787688651961\n",
      "Objective value at epoch t=4 is 0.5024335620328543\n",
      "Objective value at epoch t=5 is 0.5104022174853073\n",
      "Objective value at epoch t=6 is 0.5084216385901149\n",
      "Objective value at epoch t=7 is 0.49887051421586354\n",
      "Objective value at epoch t=8 is 0.5000159680045708\n",
      "Objective value at epoch t=9 is 0.4945726377902651\n",
      "Objective value at epoch t=10 is 0.4936149792141159\n",
      "Objective value at epoch t=11 is 0.49465306332394743\n",
      "Objective value at epoch t=12 is 0.491620533567533\n",
      "Objective value at epoch t=13 is 0.4872921311678081\n",
      "Objective value at epoch t=14 is 0.4887340490196084\n",
      "Objective value at epoch t=15 is 0.48705730997590413\n",
      "Objective value at epoch t=16 is 0.4854375220990478\n",
      "Objective value at epoch t=17 is 0.4845076933519531\n",
      "Objective value at epoch t=18 is 0.48202991396881745\n",
      "Objective value at epoch t=19 is 0.48360975591096944\n",
      "Objective value at epoch t=20 is 0.481898952093486\n",
      "Objective value at epoch t=21 is 0.48137884242618556\n",
      "Objective value at epoch t=22 is 0.4806589012942523\n",
      "Objective value at epoch t=23 is 0.480159565105332\n",
      "Objective value at epoch t=24 is 0.47948594195217586\n",
      "Objective value at epoch t=25 is 0.479335753022883\n",
      "Objective value at epoch t=26 is 0.4791306592690475\n",
      "Objective value at epoch t=27 is 0.47853599778978245\n",
      "Objective value at epoch t=28 is 0.4782600355775122\n",
      "Objective value at epoch t=29 is 0.4778148104345319\n",
      "Objective value at epoch t=30 is 0.4775553467411154\n",
      "Objective value at epoch t=31 is 0.4771084439195327\n",
      "Objective value at epoch t=32 is 0.4769585478385765\n",
      "Objective value at epoch t=33 is 0.47672446155188564\n",
      "Objective value at epoch t=34 is 0.4765003702665333\n",
      "Objective value at epoch t=35 is 0.4761958178683562\n",
      "Objective value at epoch t=36 is 0.4761052953931757\n",
      "Objective value at epoch t=37 is 0.47597514644739436\n",
      "Objective value at epoch t=38 is 0.4758425694238616\n",
      "Objective value at epoch t=39 is 0.47568201245321895\n",
      "Objective value at epoch t=40 is 0.4755742476423091\n",
      "Objective value at epoch t=41 is 0.47547514797073004\n",
      "Objective value at epoch t=42 is 0.4753848273175521\n",
      "Objective value at epoch t=43 is 0.47529378179477744\n",
      "Objective value at epoch t=44 is 0.47522118227979704\n",
      "Objective value at epoch t=45 is 0.4751446201751757\n",
      "Objective value at epoch t=46 is 0.47508535297067506\n",
      "Objective value at epoch t=47 is 0.4750245716673766\n",
      "Objective value at epoch t=48 is 0.4749752596529412\n",
      "Objective value at epoch t=49 is 0.4749246818502174\n",
      "Objective value at epoch t=50 is 0.47488697121797374\n",
      "Objective value at epoch t=51 is 0.47484693049287774\n",
      "Objective value at epoch t=52 is 0.47481500843127583\n",
      "Objective value at epoch t=53 is 0.4747822255111324\n",
      "Objective value at epoch t=54 is 0.474755964624589\n",
      "Objective value at epoch t=55 is 0.474731349135684\n",
      "Objective value at epoch t=56 is 0.4747083974490526\n",
      "Objective value at epoch t=57 is 0.4746884761721938\n",
      "Objective value at epoch t=58 is 0.47466876801413704\n",
      "Objective value at epoch t=59 is 0.4746536260115599\n",
      "Objective value at epoch t=60 is 0.4746387795916404\n",
      "Objective value at epoch t=61 is 0.4746254474505247\n",
      "Objective value at epoch t=62 is 0.4746134849531748\n",
      "Objective value at epoch t=63 is 0.47460269847778525\n",
      "Objective value at epoch t=64 is 0.47459292182383717\n",
      "Objective value at epoch t=65 is 0.47458412803784544\n",
      "Objective value at epoch t=66 is 0.4745762951475056\n",
      "Objective value at epoch t=67 is 0.47456909458687224\n",
      "Objective value at epoch t=68 is 0.4745627332400719\n",
      "Objective value at epoch t=69 is 0.4745570111148026\n",
      "Objective value at epoch t=70 is 0.4745517860194197\n",
      "Objective value at epoch t=71 is 0.47454713677485894\n",
      "Objective value at epoch t=72 is 0.47454293171157624\n",
      "Objective value at epoch t=73 is 0.47453915387562906\n",
      "Objective value at epoch t=74 is 0.47453575825722893\n",
      "Objective value at epoch t=75 is 0.474532683516244\n",
      "Objective value at epoch t=76 is 0.47452993771679636\n",
      "Objective value at epoch t=77 is 0.47452745553566594\n",
      "Objective value at epoch t=78 is 0.4745252228215578\n",
      "Objective value at epoch t=79 is 0.47452321158249616\n",
      "Objective value at epoch t=80 is 0.4745213985535576\n",
      "Objective value at epoch t=81 is 0.47451977008345797\n",
      "Objective value at epoch t=82 is 0.47451830549016893\n",
      "Objective value at epoch t=83 is 0.4745169868006765\n",
      "Objective value at epoch t=84 is 0.47451579761946033\n",
      "Objective value at epoch t=85 is 0.4745147305441396\n",
      "Objective value at epoch t=86 is 0.47451376890619157\n",
      "Objective value at epoch t=87 is 0.4745129033560708\n",
      "Objective value at epoch t=88 is 0.474512123537878\n",
      "Objective value at epoch t=89 is 0.4745114231312644\n",
      "Objective value at epoch t=90 is 0.47451079154029807\n",
      "Objective value at epoch t=91 is 0.47451022371329454\n",
      "Objective value at epoch t=92 is 0.4745097126249817\n",
      "Objective value at epoch t=93 is 0.47450925206462724\n",
      "Objective value at epoch t=94 is 0.4745088380598033\n",
      "Objective value at epoch t=95 is 0.4745084651536763\n",
      "Objective value at epoch t=96 is 0.47450812995266195\n",
      "Objective value at epoch t=97 is 0.4745078279391298\n",
      "Objective value at epoch t=98 is 0.47450755627775754\n",
      "Objective value at epoch t=99 is 0.4745073117816482\n"
     ]
    }
   ],
   "source": [
    "lam = 1E-6\n",
    "stepsize = 0.1\n",
    "w, objvals_sgd = sgd(x_train, y_train, lam, stepsize)"
   ]
  },
  {
   "cell_type": "markdown",
   "metadata": {},
   "source": [
    "# 4. Compare GD with SGD\n",
    "\n",
    "Plot objective function values against epochs."
   ]
  },
  {
   "cell_type": "code",
   "execution_count": 13,
   "metadata": {},
   "outputs": [
    {
     "name": "stderr",
     "output_type": "stream",
     "text": [
      "<ipython-input-13-9b8d8f4cdfb5>:9: MatplotlibDeprecationWarning: Case-insensitive properties were deprecated in 3.3 and support will be removed two minor releases later\n",
      "  line0, = plt.plot(epochs_gd, objvals_gd, '--b', LineWidth=4)\n",
      "<ipython-input-13-9b8d8f4cdfb5>:10: MatplotlibDeprecationWarning: Case-insensitive properties were deprecated in 3.3 and support will be removed two minor releases later\n",
      "  line1, = plt.plot(epochs_sgd, objvals_sgd, '-r', LineWidth=2)\n",
      "<ipython-input-13-9b8d8f4cdfb5>:11: MatplotlibDeprecationWarning: Case-insensitive properties were deprecated in 3.3 and support will be removed two minor releases later\n",
      "  plt.xlabel('Epochs', FontSize=20)\n",
      "<ipython-input-13-9b8d8f4cdfb5>:12: MatplotlibDeprecationWarning: Case-insensitive properties were deprecated in 3.3 and support will be removed two minor releases later\n",
      "  plt.ylabel('Objective Value', FontSize=20)\n",
      "<ipython-input-13-9b8d8f4cdfb5>:13: MatplotlibDeprecationWarning: Case-insensitive properties were deprecated in 3.3 and support will be removed two minor releases later\n",
      "  plt.xticks(FontSize=16)\n",
      "<ipython-input-13-9b8d8f4cdfb5>:14: MatplotlibDeprecationWarning: Case-insensitive properties were deprecated in 3.3 and support will be removed two minor releases later\n",
      "  plt.yticks(FontSize=16)\n"
     ]
    },
    {
     "data": {
      "image/png": "[encoded data removed]",
      "text/plain": [
       "<Figure size 432x288 with 1 Axes>"
      ]
     },
     "metadata": {
      "needs_background": "light"
     },
     "output_type": "display_data"
    }
   ],
   "source": [
    "import matplotlib.pyplot as plt\n",
    "%matplotlib inline\n",
    "\n",
    "fig = plt.figure(figsize=(6, 4))\n",
    "\n",
    "epochs_gd = range(len(objvals_gd))\n",
    "epochs_sgd = range(len(objvals_sgd))\n",
    "\n",
    "line0, = plt.plot(epochs_gd, objvals_gd, '--b', LineWidth=4)\n",
    "line1, = plt.plot(epochs_sgd, objvals_sgd, '-r', LineWidth=2)\n",
    "plt.xlabel('Epochs', FontSize=20)\n",
    "plt.ylabel('Objective Value', FontSize=20)\n",
    "plt.xticks(FontSize=16)\n",
    "plt.yticks(FontSize=16)\n",
    "plt.legend([line0, line1], ['GD', 'SGD'], fontsize=20)\n",
    "plt.tight_layout()\n",
    "plt.show()\n",
    "fig.savefig('compare_gd_sgd.pdf', format='pdf', dpi=1200)"
   ]
  },
  {
   "cell_type": "markdown",
   "metadata": {},
   "source": [
    "# 5. Prediction"
   ]
  },
  {
   "cell_type": "code",
   "execution_count": 14,
   "metadata": {},
   "outputs": [],
   "source": [
    "# Predict class label\n",
    "# Inputs:\n",
    "#     w: d-by-1 matrix\n",
    "#     X: m-by-d matrix\n",
    "# Return:\n",
    "#     f: m-by-1 matrix, the predictions\n",
    "def predict(w, X):\n",
    "    xw = numpy.dot(X, w)\n",
    "    f = numpy.sign(xw)\n",
    "    return f"
   ]
  },
  {
   "cell_type": "code",
   "execution_count": 15,
   "metadata": {},
   "outputs": [
    {
     "name": "stdout",
     "output_type": "stream",
     "text": [
      "Training classification error is 0.2203125\n"
     ]
    }
   ],
   "source": [
    "# evaluate training error\n",
    "f_train = predict(w, x_train)\n",
    "diff = numpy.abs(f_train - y_train) / 2\n",
    "error_train = numpy.mean(diff)\n",
    "print('Training classification error is ' + str(error_train))"
   ]
  },
  {
   "cell_type": "code",
   "execution_count": 16,
   "metadata": {},
   "outputs": [
    {
     "name": "stdout",
     "output_type": "stream",
     "text": [
      "Test classification error is 0.1875\n"
     ]
    }
   ],
   "source": [
    "# evaluate test error\n",
    "f_test = predict(w, x_test)\n",
    "diff = numpy.abs(f_test - y_test) / 2\n",
    "error_test = numpy.mean(diff)\n",
    "print('Test classification error is ' + str(error_test))"
   ]
  },
  {
   "cell_type": "markdown",
   "metadata": {},
   "source": [
    "# 6. Mini-batch SGD (fill the code)\n",
    "\n"
   ]
  },
  {
   "cell_type": "markdown",
   "metadata": {},
   "source": [
    "## 6.1. Compute the objective $Q_I$ and its gradient using a batch of samples\n",
    "\n",
    "Define $Q_I (w) = \\frac{1}{b} \\sum_{i \\in I} \\log \\Big( 1 + \\exp \\big( - y_i x_i^T w \\big) \\Big) + \\frac{\\lambda}{2} \\| w \\|_2^2 $, where $I$ is a set containing $b$ indices randomly drawn from $\\{ 1, \\cdots , n \\}$ without replacement.\n",
    "\n",
    "The stochastic gradient at $w$ is $g_I = \\frac{\\partial Q_I }{ \\partial w} = \\frac{1}{b} \\sum_{i \\in I} \\frac{- y_i x_i }{1 + \\exp ( y_i x_i^T w)} + \\lambda w$."
   ]
  },
  {
   "cell_type": "code",
   "execution_count": 17,
   "metadata": {},
   "outputs": [],
   "source": [
    "# Calculate the objective Q_I and the gradient of Q_I\n",
    "# Inputs:\n",
    "#     w: d-by-1 matrix\n",
    "#     xi: b-by-d matrix\n",
    "#     yi: b-by-1 matrix\n",
    "#     lam: scalar, the regularization parameter\n",
    "#     b: integer, the batch size\n",
    "# Return:\n",
    "#     obj: scalar, the objective Q_i\n",
    "#     g: d-by-1 matrix, gradient of Q_i\n",
    "def mb_stochastic_objective_gradient(w, xi, yi, lam, b):\n",
    "    # Fill the function\n",
    "    # Follow the implementation of stochastic_objective_gradient\n",
    "    # Use matrix-vector multiplication; do not use FOR LOOP of vector-vector multiplications\n",
    "    n,d = xi.shape\n",
    "    yx = numpy.multiply(yi, xi)  # b by d matrix\n",
    "    yxw = numpy.dot(yx, w)  # b x 1 vector\n",
    "\n",
    "    # Solve objective function Q_i\n",
    "    loss = numpy.log(1 + numpy.exp(-yxw)) # b x 1 vector\n",
    "    reg = (lam / 2) * numpy.sum(w * w)  # scalar\n",
    "    obj = (1/b) * numpy.sum(loss + reg)  # scalar\n",
    "\n",
    "    # Calculate gradient\n",
    "    z = (1 / (1 + numpy.exp(yxw)))  # b x 1 vector\n",
    "    g_loss = numpy.multiply(z, -yx).T # d x b matrix\n",
    "    g = (1/b) * numpy.sum(g_loss, axis=1) + (lam * w) # d x 1 vector \n",
    "    return obj, g"
   ]
  },
  {
   "cell_type": "markdown",
   "metadata": {},
   "source": [
    "## 6.2. Implement mini-batch SGD\n",
    "\n",
    "Hints:\n",
    "1. In every epoch, randomly permute the $n$ samples (just like SGD).\n",
    "2. Each epoch has $\\frac{n}{b}$ iterations. In every iteration, use $b$ samples, and compute the gradient and objective using the ``mb_stochastic_objective_gradient`` function. In the next iteration, use the next $b$ samples, and so on.\n"
   ]
  },
  {
   "cell_type": "code",
   "execution_count": 18,
   "metadata": {},
   "outputs": [],
   "source": [
    "# Mini-Batch SGD for solving logistic regression\n",
    "# Inputs:\n",
    "#     x: n-by-d matrix\n",
    "#     y: n-by-1 matrix\n",
    "#     lam: scalar, the regularization parameter\n",
    "#     b: integer, the batch size\n",
    "#     stepsize: scalar\n",
    "#     max_epoch: integer, the maximal epochs\n",
    "#     w: d-by-1 matrix, initialization of w\n",
    "# Return:\n",
    "#     w: the solution\n",
    "#     objvals: record of each iteration's objective value\n",
    "def mb_sgd(x, y, lam, b, stepsize, max_epoch=100, w=None):\n",
    "    # Fill the function\n",
    "    # Follow the implementation of sgd\n",
    "    # Record one objective value per epoch (not per iteration!)\n",
    "    n, d = x.shape\n",
    "    objvals = numpy.zeros(max_epoch)\n",
    "    if not w:\n",
    "        w = numpy.zeros((d,1))\n",
    "    \n",
    "    for t in range(max_epoch):\n",
    "        iters = int(n / b)\n",
    "        indices = numpy.random.permutation(n)\n",
    "        x_rand = x[indices, :]\n",
    "        y_rand = y[indices, :]\n",
    "        start = 0\n",
    "        objval = 0\n",
    "        for i in range(iters):\n",
    "            end = start + b\n",
    "            xi = x_rand[start:end, :]\n",
    "            yi = y_rand[start:end, :]\n",
    "            obj, g = mb_stochastic_objective_gradient(w, xi, yi, lam, b)\n",
    "            objval += obj\n",
    "            w -= stepsize * g\n",
    "            start = end\n",
    "            \n",
    "        stepsize *= 0.9\n",
    "        objval /= iters\n",
    "        objvals[t] = objval\n",
    "        print('Objective value at epoch t=' + str(t) + ' is ' + str(objval))\n",
    "    \n",
    "    return w, objvals"
   ]
  },
  {
   "cell_type": "markdown",
   "metadata": {},
   "source": [
    "## 6.3. Run MB-SGD"
   ]
  },
  {
   "cell_type": "code",
   "execution_count": 19,
   "metadata": {},
   "outputs": [
    {
     "name": "stdout",
     "output_type": "stream",
     "text": [
      "Objective value at epoch t=0 is 0.5451500782953016\n",
      "Objective value at epoch t=1 is 0.4874488346728453\n",
      "Objective value at epoch t=2 is 0.48371718901076327\n",
      "Objective value at epoch t=3 is 0.4800583852874113\n",
      "Objective value at epoch t=4 is 0.4805750996851798\n",
      "Objective value at epoch t=5 is 0.4800546341683593\n",
      "Objective value at epoch t=6 is 0.4789107830117838\n",
      "Objective value at epoch t=7 is 0.4791189406895996\n",
      "Objective value at epoch t=8 is 0.478387742333534\n",
      "Objective value at epoch t=9 is 0.47778456181876316\n",
      "Objective value at epoch t=10 is 0.4774842259889163\n",
      "Objective value at epoch t=11 is 0.4773395443382859\n",
      "Objective value at epoch t=12 is 0.47682746931504505\n",
      "Objective value at epoch t=13 is 0.4768462304587885\n",
      "Objective value at epoch t=14 is 0.4764866220674304\n",
      "Objective value at epoch t=15 is 0.47619096749050865\n",
      "Objective value at epoch t=16 is 0.4761742146908112\n",
      "Objective value at epoch t=17 is 0.47612592445516083\n",
      "Objective value at epoch t=18 is 0.47581833011588304\n",
      "Objective value at epoch t=19 is 0.4758732833779913\n",
      "Objective value at epoch t=20 is 0.4756078135356219\n",
      "Objective value at epoch t=21 is 0.47551646316443225\n",
      "Objective value at epoch t=22 is 0.47538395185781585\n",
      "Objective value at epoch t=23 is 0.47534627270179436\n",
      "Objective value at epoch t=24 is 0.47519512620438953\n",
      "Objective value at epoch t=25 is 0.4752612950823144\n",
      "Objective value at epoch t=26 is 0.47510545107308666\n",
      "Objective value at epoch t=27 is 0.475037098921866\n",
      "Objective value at epoch t=28 is 0.47502038402135505\n",
      "Objective value at epoch t=29 is 0.4749773701265946\n",
      "Objective value at epoch t=30 is 0.47489560436393113\n",
      "Objective value at epoch t=31 is 0.47485548625148166\n",
      "Objective value at epoch t=32 is 0.4748165243257699\n",
      "Objective value at epoch t=33 is 0.47479846377111967\n",
      "Objective value at epoch t=34 is 0.4747614888064714\n",
      "Objective value at epoch t=35 is 0.4747406793135043\n",
      "Objective value at epoch t=36 is 0.4747040735420428\n",
      "Objective value at epoch t=37 is 0.4747079671711198\n",
      "Objective value at epoch t=38 is 0.47466475547431564\n",
      "Objective value at epoch t=39 is 0.47465833645982525\n",
      "Objective value at epoch t=40 is 0.4746469908902203\n",
      "Objective value at epoch t=41 is 0.4746251177248788\n",
      "Objective value at epoch t=42 is 0.47462415665480695\n",
      "Objective value at epoch t=43 is 0.47460012161913945\n",
      "Objective value at epoch t=44 is 0.4746011977387502\n",
      "Objective value at epoch t=45 is 0.4745841117282826\n",
      "Objective value at epoch t=46 is 0.4745794533848683\n",
      "Objective value at epoch t=47 is 0.4745781428843266\n",
      "Objective value at epoch t=48 is 0.4745633639182931\n",
      "Objective value at epoch t=49 is 0.47455818976484376\n",
      "Objective value at epoch t=50 is 0.47455226786500315\n",
      "Objective value at epoch t=51 is 0.47454790537894453\n",
      "Objective value at epoch t=52 is 0.47454237570878516\n",
      "Objective value at epoch t=53 is 0.47453879710340663\n",
      "Objective value at epoch t=54 is 0.474537156615907\n",
      "Objective value at epoch t=55 is 0.4745334514246977\n",
      "Objective value at epoch t=56 is 0.474533811414951\n",
      "Objective value at epoch t=57 is 0.4745286749573914\n",
      "Objective value at epoch t=58 is 0.4745253399381698\n",
      "Objective value at epoch t=59 is 0.4745252341270847\n",
      "Objective value at epoch t=60 is 0.47452033192551035\n",
      "Objective value at epoch t=61 is 0.4745197401538054\n",
      "Objective value at epoch t=62 is 0.47451872946553\n",
      "Objective value at epoch t=63 is 0.47451730169546125\n",
      "Objective value at epoch t=64 is 0.4745164744630503\n",
      "Objective value at epoch t=65 is 0.4745138454580621\n",
      "Objective value at epoch t=66 is 0.474514491516367\n",
      "Objective value at epoch t=67 is 0.4745136958524327\n",
      "Objective value at epoch t=68 is 0.4745125826308259\n",
      "Objective value at epoch t=69 is 0.4745117567483275\n",
      "Objective value at epoch t=70 is 0.47451084094637164\n",
      "Objective value at epoch t=71 is 0.47451071390271277\n",
      "Objective value at epoch t=72 is 0.4745099673014301\n",
      "Objective value at epoch t=73 is 0.4745092290263404\n",
      "Objective value at epoch t=74 is 0.47450885072429444\n",
      "Objective value at epoch t=75 is 0.4745085456481431\n",
      "Objective value at epoch t=76 is 0.4745077996506656\n",
      "Objective value at epoch t=77 is 0.4745081153940804\n",
      "Objective value at epoch t=78 is 0.4745075999086909\n",
      "Objective value at epoch t=79 is 0.47450752867998985\n",
      "Objective value at epoch t=80 is 0.4745072019129745\n",
      "Objective value at epoch t=81 is 0.474507058044172\n",
      "Objective value at epoch t=82 is 0.47450694484444655\n",
      "Objective value at epoch t=83 is 0.4745067202162921\n",
      "Objective value at epoch t=84 is 0.4745064867247426\n",
      "Objective value at epoch t=85 is 0.4745062645764979\n",
      "Objective value at epoch t=86 is 0.47450637670787765\n",
      "Objective value at epoch t=87 is 0.4745061740903151\n",
      "Objective value at epoch t=88 is 0.4745060777986659\n",
      "Objective value at epoch t=89 is 0.47450601404280723\n",
      "Objective value at epoch t=90 is 0.47450584039476207\n",
      "Objective value at epoch t=91 is 0.47450595939975615\n",
      "Objective value at epoch t=92 is 0.47450577104823816\n",
      "Objective value at epoch t=93 is 0.47450575464840367\n",
      "Objective value at epoch t=94 is 0.47450568987054853\n",
      "Objective value at epoch t=95 is 0.4745056563645377\n",
      "Objective value at epoch t=96 is 0.47450560115015794\n",
      "Objective value at epoch t=97 is 0.4745055457488605\n",
      "Objective value at epoch t=98 is 0.47450553555781383\n",
      "Objective value at epoch t=99 is 0.47450551838389804\n"
     ]
    }
   ],
   "source": [
    "# MB-SGD with batch size b=8\n",
    "lam = 1E-6 # do not change\n",
    "b = 8 # do not change\n",
    "stepsize = 0.1 # you must tune this parameter\n",
    "\n",
    "w, objvals_mbsgd8 = mb_sgd(x_train, y_train, lam, b, stepsize)"
   ]
  },
  {
   "cell_type": "code",
   "execution_count": 20,
   "metadata": {},
   "outputs": [
    {
     "name": "stdout",
     "output_type": "stream",
     "text": [
      "Objective value at epoch t=0 is 0.5576944263299405\n",
      "Objective value at epoch t=1 is 0.49060417408137713\n",
      "Objective value at epoch t=2 is 0.4821903196373949\n",
      "Objective value at epoch t=3 is 0.48087752870170586\n",
      "Objective value at epoch t=4 is 0.4788254857664415\n",
      "Objective value at epoch t=5 is 0.479602480350448\n",
      "Objective value at epoch t=6 is 0.4790710746037051\n",
      "Objective value at epoch t=7 is 0.47779101075059155\n",
      "Objective value at epoch t=8 is 0.47740510849262857\n",
      "Objective value at epoch t=9 is 0.4768513179526043\n",
      "Objective value at epoch t=10 is 0.4778055420884247\n",
      "Objective value at epoch t=11 is 0.47626625706823444\n",
      "Objective value at epoch t=12 is 0.4762448688025291\n",
      "Objective value at epoch t=13 is 0.47622567472763444\n",
      "Objective value at epoch t=14 is 0.47621015349333895\n",
      "Objective value at epoch t=15 is 0.47588120078035345\n",
      "Objective value at epoch t=16 is 0.4762942158207637\n",
      "Objective value at epoch t=17 is 0.4753170248412892\n",
      "Objective value at epoch t=18 is 0.4756995268625201\n",
      "Objective value at epoch t=19 is 0.4752773867098205\n",
      "Objective value at epoch t=20 is 0.47555749539051695\n",
      "Objective value at epoch t=21 is 0.4750738087182832\n",
      "Objective value at epoch t=22 is 0.47519549197886735\n",
      "Objective value at epoch t=23 is 0.4751951634148333\n",
      "Objective value at epoch t=24 is 0.4749678510601033\n",
      "Objective value at epoch t=25 is 0.4749944762925189\n",
      "Objective value at epoch t=26 is 0.47489974445238187\n",
      "Objective value at epoch t=27 is 0.4748556883357228\n",
      "Objective value at epoch t=28 is 0.47482814884057706\n",
      "Objective value at epoch t=29 is 0.4748807264322427\n",
      "Objective value at epoch t=30 is 0.4748589863859928\n",
      "Objective value at epoch t=31 is 0.47485518315618985\n",
      "Objective value at epoch t=32 is 0.4747792352371521\n",
      "Objective value at epoch t=33 is 0.4747614074803653\n",
      "Objective value at epoch t=34 is 0.47466883683154004\n",
      "Objective value at epoch t=35 is 0.4747091030262319\n",
      "Objective value at epoch t=36 is 0.47468015177590217\n",
      "Objective value at epoch t=37 is 0.4746292967734317\n",
      "Objective value at epoch t=38 is 0.4746583789374529\n",
      "Objective value at epoch t=39 is 0.47460555358238327\n",
      "Objective value at epoch t=40 is 0.4745959085884741\n",
      "Objective value at epoch t=41 is 0.47458081275711106\n",
      "Objective value at epoch t=42 is 0.47457088405823783\n",
      "Objective value at epoch t=43 is 0.4745702262658102\n",
      "Objective value at epoch t=44 is 0.47456709311469264\n",
      "Objective value at epoch t=45 is 0.47455714382824665\n",
      "Objective value at epoch t=46 is 0.4745643230246374\n",
      "Objective value at epoch t=47 is 0.4745614536808641\n",
      "Objective value at epoch t=48 is 0.47455637747217383\n",
      "Objective value at epoch t=49 is 0.47454812695423093\n",
      "Objective value at epoch t=50 is 0.4745558406668501\n",
      "Objective value at epoch t=51 is 0.4745380678403744\n",
      "Objective value at epoch t=52 is 0.47453140327123816\n",
      "Objective value at epoch t=53 is 0.4745280033871489\n",
      "Objective value at epoch t=54 is 0.4745359884485289\n",
      "Objective value at epoch t=55 is 0.4745265398977752\n",
      "Objective value at epoch t=56 is 0.4745315263503692\n",
      "Objective value at epoch t=57 is 0.47451930129741776\n",
      "Objective value at epoch t=58 is 0.47452278549282384\n",
      "Objective value at epoch t=59 is 0.47451969448465237\n",
      "Objective value at epoch t=60 is 0.474517202717747\n",
      "Objective value at epoch t=61 is 0.47451754421046105\n",
      "Objective value at epoch t=62 is 0.47451561372992296\n",
      "Objective value at epoch t=63 is 0.47451650940361595\n",
      "Objective value at epoch t=64 is 0.47451494416948836\n",
      "Objective value at epoch t=65 is 0.474514647132578\n",
      "Objective value at epoch t=66 is 0.47451060497205344\n",
      "Objective value at epoch t=67 is 0.47451163877961466\n",
      "Objective value at epoch t=68 is 0.4745113452569364\n",
      "Objective value at epoch t=69 is 0.4745120733849227\n",
      "Objective value at epoch t=70 is 0.4745099688255275\n",
      "Objective value at epoch t=71 is 0.4745103810627568\n",
      "Objective value at epoch t=72 is 0.47451003089224947\n",
      "Objective value at epoch t=73 is 0.4745095811735524\n",
      "Objective value at epoch t=74 is 0.47450830682774353\n",
      "Objective value at epoch t=75 is 0.47450850796041977\n",
      "Objective value at epoch t=76 is 0.47450736656527104\n",
      "Objective value at epoch t=77 is 0.47450812532437736\n",
      "Objective value at epoch t=78 is 0.4745080048639598\n",
      "Objective value at epoch t=79 is 0.47450788328625493\n",
      "Objective value at epoch t=80 is 0.4745078031236737\n",
      "Objective value at epoch t=81 is 0.47450727716416197\n",
      "Objective value at epoch t=82 is 0.47450736166059587\n",
      "Objective value at epoch t=83 is 0.47450733596324496\n",
      "Objective value at epoch t=84 is 0.47450691583774446\n",
      "Objective value at epoch t=85 is 0.4745068208249224\n",
      "Objective value at epoch t=86 is 0.47450707292475985\n",
      "Objective value at epoch t=87 is 0.47450667006602726\n",
      "Objective value at epoch t=88 is 0.47450653373253127\n",
      "Objective value at epoch t=89 is 0.4745064746897116\n",
      "Objective value at epoch t=90 is 0.47450648041376453\n",
      "Objective value at epoch t=91 is 0.4745064495201164\n",
      "Objective value at epoch t=92 is 0.47450627683165125\n",
      "Objective value at epoch t=93 is 0.4745063873259398\n",
      "Objective value at epoch t=94 is 0.47450623526982827\n",
      "Objective value at epoch t=95 is 0.4745062699808199\n",
      "Objective value at epoch t=96 is 0.4745062910743564\n",
      "Objective value at epoch t=97 is 0.47450626193131784\n",
      "Objective value at epoch t=98 is 0.47450625400771607\n",
      "Objective value at epoch t=99 is 0.47450619330041033\n"
     ]
    }
   ],
   "source": [
    "# MB-SGD with batch size b=64\n",
    "lam = 1E-6 # do not change\n",
    "b = 64 # do not change\n",
    "stepsize = 0.675 # you must tune this parameter\n",
    "\n",
    "w, objvals_mbsgd64 = mb_sgd(x_train, y_train, lam, b, stepsize)"
   ]
  },
  {
   "cell_type": "markdown",
   "metadata": {},
   "source": [
    "# 7. Plot and compare GD, SGD, and MB-SGD"
   ]
  },
  {
   "cell_type": "markdown",
   "metadata": {},
   "source": [
    "You are required to compare the following algorithms:\n",
    "\n",
    "- Gradient descent (GD)\n",
    "\n",
    "- SGD\n",
    "\n",
    "- MB-SGD with b=8\n",
    "\n",
    "- MB-SGD with b=64\n",
    "\n",
    "Follow the code in Section 4 to plot ```objective function value``` against ```epochs```. There should be four curves in the plot; each curve corresponds to one algorithm."
   ]
  },
  {
   "cell_type": "markdown",
   "metadata": {},
   "source": [
    "Hint: Logistic regression with $\\ell_2$-norm regularization is a strongly convex optimization problem. All the algorithms will converge to the same solution. **In the end, the ``objective function value`` of the 4 algorithms will be the same. If not the same, your implementation must be wrong. Do NOT submit wrong code and wrong result!**"
   ]
  },
  {
   "cell_type": "code",
   "execution_count": 21,
   "metadata": {},
   "outputs": [
    {
     "name": "stderr",
     "output_type": "stream",
     "text": [
      "<ipython-input-21-c4b4ccbfcc18>:11: MatplotlibDeprecationWarning: Case-insensitive properties were deprecated in 3.3 and support will be removed two minor releases later\n",
      "  line0, = plt.plot(epochs_gd, objvals_gd, '--b', LineWidth=4)\n",
      "<ipython-input-21-c4b4ccbfcc18>:12: MatplotlibDeprecationWarning: Case-insensitive properties were deprecated in 3.3 and support will be removed two minor releases later\n",
      "  line1, = plt.plot(epochs_sgd, objvals_sgd, '-r', LineWidth=2)\n",
      "<ipython-input-21-c4b4ccbfcc18>:13: MatplotlibDeprecationWarning: Case-insensitive properties were deprecated in 3.3 and support will be removed two minor releases later\n",
      "  line2, = plt.plot(epochs_mbsgd8, objvals_mbsgd8, '--g', LineWidth=3)\n",
      "<ipython-input-21-c4b4ccbfcc18>:14: MatplotlibDeprecationWarning: Case-insensitive properties were deprecated in 3.3 and support will be removed two minor releases later\n",
      "  line3, = plt.plot(epochs_mbsgd64, objvals_mbsgd64, '-y', LineWidth=3)\n",
      "<ipython-input-21-c4b4ccbfcc18>:16: MatplotlibDeprecationWarning: Case-insensitive properties were deprecated in 3.3 and support will be removed two minor releases later\n",
      "  plt.xlabel('Epochs', FontSize=20)\n",
      "<ipython-input-21-c4b4ccbfcc18>:17: MatplotlibDeprecationWarning: Case-insensitive properties were deprecated in 3.3 and support will be removed two minor releases later\n",
      "  plt.ylabel('Objective Value', FontSize=20)\n",
      "<ipython-input-21-c4b4ccbfcc18>:18: MatplotlibDeprecationWarning: Case-insensitive properties were deprecated in 3.3 and support will be removed two minor releases later\n",
      "  plt.xticks(FontSize=16)\n",
      "<ipython-input-21-c4b4ccbfcc18>:19: MatplotlibDeprecationWarning: Case-insensitive properties were deprecated in 3.3 and support will be removed two minor releases later\n",
      "  plt.yticks(FontSize=16)\n"
     ]
    },
    {
     "data": {
      "image/png": "[encoded data removed]",
      "text/plain": [
       "<Figure size 1080x720 with 1 Axes>"
      ]
     },
     "metadata": {
      "needs_background": "light"
     },
     "output_type": "display_data"
    }
   ],
   "source": [
    "import matplotlib.pyplot as plt\n",
    "%matplotlib inline\n",
    "\n",
    "fig = plt.figure(figsize=(15,10))\n",
    "\n",
    "epochs_gd = range(len(objvals_gd))\n",
    "epochs_sgd = range(len(objvals_sgd))\n",
    "epochs_mbsgd8 = range(len(objvals_mbsgd8))\n",
    "epochs_mbsgd64 = range(len(objvals_mbsgd64))\n",
    "\n",
    "line0, = plt.plot(epochs_gd, objvals_gd, '--b', LineWidth=4)\n",
    "line1, = plt.plot(epochs_sgd, objvals_sgd, '-r', LineWidth=2)\n",
    "line2, = plt.plot(epochs_mbsgd8, objvals_mbsgd8, '--g', LineWidth=3)\n",
    "line3, = plt.plot(epochs_mbsgd64, objvals_mbsgd64, '-y', LineWidth=3)\n",
    "\n",
    "plt.xlabel('Epochs', FontSize=20)\n",
    "plt.ylabel('Objective Value', FontSize=20)\n",
    "plt.xticks(FontSize=16)\n",
    "plt.yticks(FontSize=16)\n",
    "plt.legend([line0, line1, line2, line3], ['GD', 'SGD', 'MBSGD8', 'MBSGD64'], fontsize=20)\n",
    "plt.tight_layout()\n",
    "plt.show()\n",
    "fig.savefig('compare_gd_sgd_mbsgd.pdf', format='pdf', dpi=1200)"
   ]
  },
  {
   "cell_type": "markdown",
   "metadata": {},
   "source": [
    "# Prediction MBSGD"
   ]
  },
  {
   "cell_type": "code",
   "execution_count": 22,
   "metadata": {},
   "outputs": [
    {
     "name": "stdout",
     "output_type": "stream",
     "text": [
      "Training classification error is 0.2203125\n"
     ]
    }
   ],
   "source": [
    "f_train = predict(w, x_train)\n",
    "diff = numpy.abs(f_train - y_train) / 2\n",
    "error_train = numpy.mean(diff)\n",
    "print('Training classification error is ' + str(error_train))"
   ]
  },
  {
   "cell_type": "code",
   "execution_count": 23,
   "metadata": {},
   "outputs": [
    {
     "name": "stdout",
     "output_type": "stream",
     "text": [
      "Test classification error is 0.1875\n"
     ]
    }
   ],
   "source": [
    "# evaluate test error\n",
    "f_test = predict(w, x_test)\n",
    "diff = numpy.abs(f_test - y_test) / 2\n",
    "error_test = numpy.mean(diff)\n",
    "print('Test classification error is ' + str(error_test))"
   ]
  },
  {
   "cell_type": "code",
   "execution_count": null,
   "metadata": {},
   "outputs": [],
   "source": []
  }
 ],
 "metadata": {
  "kernelspec": {
   "display_name": "Python 3",
   "language": "python",
   "name": "python3"
  },
  "language_info": {
   "codemirror_mode": {
    "name": "ipython",
    "version": 3
   },
   "file_extension": ".py",
   "mimetype": "text/x-python",
   "name": "python",
   "nbconvert_exporter": "python",
   "pygments_lexer": "ipython3",
   "version": "3.8.5"
  }
 },
 "nbformat": 4,
 "nbformat_minor": 2
}

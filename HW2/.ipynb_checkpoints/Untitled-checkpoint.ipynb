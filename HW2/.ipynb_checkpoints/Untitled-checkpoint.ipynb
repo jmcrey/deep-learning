{
 "cells": [
  {
   "cell_type": "markdown",
   "metadata": {},
   "source": [
    "## Load and Preprocess"
   ]
  },
  {
   "cell_type": "code",
   "execution_count": 1,
   "metadata": {},
   "outputs": [
    {
     "name": "stdout",
     "output_type": "stream",
     "text": [
      "Shape of x: (768, 8)\n",
      "Shape of y: (768,)\n"
     ]
    }
   ],
   "source": [
    "from sklearn import datasets\n",
    "import numpy\n",
    "\n",
    "x_sparse, y = datasets.load_svmlight_file('diabetes')\n",
    "x = x_sparse.todense()\n",
    "\n",
    "print('Shape of x: ' + str(x.shape))\n",
    "print('Shape of y: ' + str(y.shape))"
   ]
  },
  {
   "cell_type": "code",
   "execution_count": 2,
   "metadata": {},
   "outputs": [
    {
     "name": "stdout",
     "output_type": "stream",
     "text": [
      "Shape of x_train: (640, 8)\n",
      "Shape of x_test: (128, 8)\n",
      "Shape of y_train: (640, 1)\n",
      "Shape of y_test: (128, 1)\n"
     ]
    }
   ],
   "source": [
    "# partition the data to training and test sets\n",
    "n = x.shape[0]\n",
    "n_train = 640\n",
    "n_test = n - n_train\n",
    "\n",
    "rand_indices = numpy.random.permutation(n)\n",
    "train_indices = rand_indices[0:n_train]\n",
    "test_indices = rand_indices[n_train:n]\n",
    "\n",
    "x_train = x[train_indices, :]\n",
    "x_test = x[test_indices, :]\n",
    "y_train = y[train_indices].reshape(n_train, 1)\n",
    "y_test = y[test_indices].reshape(n_test, 1)\n",
    "\n",
    "print('Shape of x_train: ' + str(x_train.shape))\n",
    "print('Shape of x_test: ' + str(x_test.shape))\n",
    "print('Shape of y_train: ' + str(y_train.shape))\n",
    "print('Shape of y_test: ' + str(y_test.shape))"
   ]
  },
  {
   "cell_type": "code",
   "execution_count": 3,
   "metadata": {},
   "outputs": [
    {
     "name": "stdout",
     "output_type": "stream",
     "text": [
      "test mean = \n",
      "[[0.02737791 0.15399625 0.07148086 0.02516393 0.12153415 0.20934169\n",
      "  0.05839781 0.01043028]]\n",
      "test std = \n",
      "[[0.99997612 0.98253508 1.03762608 1.06287525 1.12851295 0.87727793\n",
      "  1.02666135 0.95764898]]\n"
     ]
    }
   ],
   "source": [
    "# Standardization\n",
    "import numpy\n",
    "\n",
    "# calculate mu and sig using the training set\n",
    "d = x_train.shape[1]\n",
    "mu = numpy.mean(x_train, axis=0).reshape(1, d)\n",
    "sig = numpy.std(x_train, axis=0).reshape(1, d)\n",
    "\n",
    "# transform the training features\n",
    "x_train = (x_train - mu) / (sig + 1E-6)\n",
    "\n",
    "# transform the test features\n",
    "x_test = (x_test - mu) / (sig + 1E-6)\n",
    "\n",
    "print('test mean = ')\n",
    "print(numpy.mean(x_test, axis=0))\n",
    "\n",
    "print('test std = ')\n",
    "print(numpy.std(x_test, axis=0))"
   ]
  },
  {
   "cell_type": "code",
   "execution_count": 4,
   "metadata": {},
   "outputs": [
    {
     "name": "stdout",
     "output_type": "stream",
     "text": [
      "Shape of x_train: (640, 9)\n",
      "Shape of x_test: (128, 9)\n"
     ]
    }
   ],
   "source": [
    "n_train, d = x_train.shape\n",
    "x_train = numpy.concatenate((x_train, numpy.ones((n_train, 1))), axis=1)\n",
    "\n",
    "n_test, d = x_test.shape\n",
    "x_test = numpy.concatenate((x_test, numpy.ones((n_test, 1))), axis=1)\n",
    "\n",
    "print('Shape of x_train: ' + str(x_train.shape))\n",
    "print('Shape of x_test: ' + str(x_test.shape))"
   ]
  },
  {
   "cell_type": "markdown",
   "metadata": {},
   "source": [
    "## Stochastic GD"
   ]
  },
  {
   "cell_type": "code",
   "execution_count": 13,
   "metadata": {},
   "outputs": [],
   "source": [
    "def stochastic_objective_gradient(w, xi, yi, lam):\n",
    "    d = xi.shape[0]\n",
    "    yx = yi * xi # 1-by-d matrix\n",
    "    yxw = float(numpy.dot(yx, w)) # scalar\n",
    "    \n",
    "    # calculate objective function Q_i\n",
    "    loss = numpy.log(1 + numpy.exp(-yxw)) # scalar\n",
    "    reg = lam / 2 * numpy.sum(w * w) # scalar\n",
    "    obj = loss + reg\n",
    "    \n",
    "    # calculate stochastic gradient\n",
    "    g_loss = -yx.T / (1 + numpy.exp(yxw)) # d-by-1 matrix\n",
    "    g = g_loss + lam * w # d-by-1 matrix\n",
    "    \n",
    "    return obj, g"
   ]
  },
  {
   "cell_type": "code",
   "execution_count": 66,
   "metadata": {},
   "outputs": [
    {
     "data": {
      "text/plain": [
       "(matrix([[-0.84036248, -0.22110404, -0.25380177,  0.92125727, -0.68894809,\n",
       "           0.23557983,  0.22555012, -1.03259777,  1.        ]]),\n",
       " -1.0,\n",
       " array([[0.],\n",
       "        [0.],\n",
       "        [0.],\n",
       "        [0.],\n",
       "        [0.],\n",
       "        [0.],\n",
       "        [0.],\n",
       "        [0.],\n",
       "        [0.]]))"
      ]
     },
     "execution_count": 66,
     "metadata": {},
     "output_type": "execute_result"
    }
   ],
   "source": [
    "n,d = x_train.shape\n",
    "lam = 1E-6\n",
    "xi = x_train[0, :] # 1-by-d matrix\n",
    "yi = float(y_train[0, :]) # scalar\n",
    "w = numpy.zeros((d, 1))\n",
    "xi, yi, w"
   ]
  },
  {
   "cell_type": "code",
   "execution_count": 67,
   "metadata": {},
   "outputs": [
    {
     "data": {
      "text/plain": [
       "(0.6931471805599453,\n",
       " matrix([[-0.42018124],\n",
       "         [-0.11055202],\n",
       "         [-0.12690088],\n",
       "         [ 0.46062863],\n",
       "         [-0.34447404],\n",
       "         [ 0.11778992],\n",
       "         [ 0.11277506],\n",
       "         [-0.51629889],\n",
       "         [ 0.5       ]]))"
      ]
     },
     "execution_count": 67,
     "metadata": {},
     "output_type": "execute_result"
    }
   ],
   "source": [
    "stochastic_objective_gradient(w, xi, yi, lam)"
   ]
  },
  {
   "cell_type": "code",
   "execution_count": 68,
   "metadata": {},
   "outputs": [
    {
     "data": {
      "text/plain": [
       "(matrix([[ 0.84036248,  0.22110404,  0.25380177, -0.92125727,  0.68894809,\n",
       "          -0.23557983, -0.22555012,  1.03259777, -1.        ]]),\n",
       " 0.0)"
      ]
     },
     "execution_count": 68,
     "metadata": {},
     "output_type": "execute_result"
    }
   ],
   "source": [
    "yx = yi * xi # 1-by-d matrix\n",
    "yxw = float(numpy.dot(yx, w)) # scalar\n",
    "yx, yxw"
   ]
  },
  {
   "cell_type": "code",
   "execution_count": 69,
   "metadata": {},
   "outputs": [
    {
     "data": {
      "text/plain": [
       "(0.6931471805599453, 0.0, 0.6931471805599453)"
      ]
     },
     "execution_count": 69,
     "metadata": {},
     "output_type": "execute_result"
    }
   ],
   "source": [
    "loss = numpy.log(1 + numpy.exp(-yxw)) # scalar\n",
    "reg = lam / 2 * numpy.sum(w * w) # scalar\n",
    "obj = loss + reg\n",
    "loss, reg, obj"
   ]
  },
  {
   "cell_type": "code",
   "execution_count": 70,
   "metadata": {},
   "outputs": [
    {
     "data": {
      "text/plain": [
       "0.5"
      ]
     },
     "execution_count": 70,
     "metadata": {},
     "output_type": "execute_result"
    }
   ],
   "source": [
    "z = 1 / (1 + numpy.exp(yxw))\n",
    "z"
   ]
  },
  {
   "cell_type": "code",
   "execution_count": 72,
   "metadata": {},
   "outputs": [
    {
     "name": "stdout",
     "output_type": "stream",
     "text": [
      "True\n"
     ]
    },
    {
     "data": {
      "text/plain": [
       "(matrix([[-0.42018124],\n",
       "         [-0.11055202],\n",
       "         [-0.12690088],\n",
       "         [ 0.46062863],\n",
       "         [-0.34447404],\n",
       "         [ 0.11778992],\n",
       "         [ 0.11277506],\n",
       "         [-0.51629889],\n",
       "         [ 0.5       ]]),\n",
       " matrix([[-0.42018124],\n",
       "         [-0.11055202],\n",
       "         [-0.12690088],\n",
       "         [ 0.46062863],\n",
       "         [-0.34447404],\n",
       "         [ 0.11778992],\n",
       "         [ 0.11277506],\n",
       "         [-0.51629889],\n",
       "         [ 0.5       ]]))"
      ]
     },
     "execution_count": 72,
     "metadata": {},
     "output_type": "execute_result"
    }
   ],
   "source": [
    "g_loss = -yx.T / (1 + numpy.exp(yxw)) # d-by-1 matrix\n",
    "g_loss_2 = z * -yx.T\n",
    "g = g_loss + lam * w # d-by-1 matrix\n",
    "print(numpy.array_equal(g_loss, g_loss_2))\n",
    "g_loss, g"
   ]
  },
  {
   "cell_type": "markdown",
   "metadata": {},
   "source": [
    "## Mini-batch SGD"
   ]
  },
  {
   "cell_type": "code",
   "execution_count": 102,
   "metadata": {},
   "outputs": [
    {
     "data": {
      "text/plain": [
       "(matrix([[-0.84036248, -0.22110404, -0.25380177,  0.92125727, -0.68894809,\n",
       "           0.23557983,  0.22555012, -1.03259777,  1.        ],\n",
       "         [ 0.05057952,  0.43532147,  0.16255999, -1.29792359, -0.68894809,\n",
       "          -0.98796944, -0.58159803,  2.26284276,  1.        ],\n",
       "         [ 0.34756018,  2.09201444,  0.37074087,  0.41401593,  1.15072785,\n",
       "           1.48409963,  1.71543636,  1.67135343,  1.        ],\n",
       "         [-0.54338181, -0.2523624 ,  0.31869565,  0.73104177, -0.68894809,\n",
       "           0.49776936, -0.97303454, -1.03259777,  1.        ],\n",
       "         [-0.24640115,  1.31055549, -0.87834441,  1.11147277, -0.68894809,\n",
       "           0.68504733,  0.55629879, -0.77910235,  1.        ],\n",
       "         [ 0.05057952, -0.12732897,  0.16255999, -0.53706158,  0.08424905,\n",
       "          -1.20021768, -0.01720121,  0.31937783,  1.        ],\n",
       "         [ 0.94152151, -0.40865419,  0.26665043, -1.29792359, -0.68894809,\n",
       "          -0.26382784, -0.65138904, -0.18761302,  1.        ],\n",
       "         [ 0.34756018, -1.47143835, -0.46198265, -1.29792359, -0.68894809,\n",
       "          -0.6134135 , -0.60890756, -0.52560692,  1.        ]]),\n",
       " array([[-1.],\n",
       "        [-1.],\n",
       "        [-1.],\n",
       "        [ 1.],\n",
       "        [-1.],\n",
       "        [ 1.],\n",
       "        [-1.],\n",
       "        [ 1.]]),\n",
       " array([[0.],\n",
       "        [0.],\n",
       "        [0.],\n",
       "        [0.],\n",
       "        [0.],\n",
       "        [0.],\n",
       "        [0.],\n",
       "        [0.],\n",
       "        [0.]]))"
      ]
     },
     "execution_count": 102,
     "metadata": {},
     "output_type": "execute_result"
    }
   ],
   "source": [
    "lam = 1E-6\n",
    "b = 8\n",
    "xi = x_train[0:b, :]\n",
    "yi = y_train[0:b].reshape((b, 1))\n",
    "w = numpy.zeros((d,1))\n",
    "xi, yi, w"
   ]
  },
  {
   "cell_type": "code",
   "execution_count": 103,
   "metadata": {},
   "outputs": [
    {
     "data": {
      "text/plain": [
       "(matrix([[ 0.84036248,  0.22110404,  0.25380177, -0.92125727,  0.68894809,\n",
       "          -0.23557983, -0.22555012,  1.03259777, -1.        ],\n",
       "         [-0.05057952, -0.43532147, -0.16255999,  1.29792359,  0.68894809,\n",
       "           0.98796944,  0.58159803, -2.26284276, -1.        ],\n",
       "         [-0.34756018, -2.09201444, -0.37074087, -0.41401593, -1.15072785,\n",
       "          -1.48409963, -1.71543636, -1.67135343, -1.        ],\n",
       "         [-0.54338181, -0.2523624 ,  0.31869565,  0.73104177, -0.68894809,\n",
       "           0.49776936, -0.97303454, -1.03259777,  1.        ],\n",
       "         [ 0.24640115, -1.31055549,  0.87834441, -1.11147277,  0.68894809,\n",
       "          -0.68504733, -0.55629879,  0.77910235, -1.        ],\n",
       "         [ 0.05057952, -0.12732897,  0.16255999, -0.53706158,  0.08424905,\n",
       "          -1.20021768, -0.01720121,  0.31937783,  1.        ],\n",
       "         [-0.94152151,  0.40865419, -0.26665043,  1.29792359,  0.68894809,\n",
       "           0.26382784,  0.65138904,  0.18761302, -1.        ],\n",
       "         [ 0.34756018, -1.47143835, -0.46198265, -1.29792359, -0.68894809,\n",
       "          -0.6134135 , -0.60890756, -0.52560692,  1.        ]]),\n",
       " matrix([[0.],\n",
       "         [0.],\n",
       "         [0.],\n",
       "         [0.],\n",
       "         [0.],\n",
       "         [0.],\n",
       "         [0.],\n",
       "         [0.]]))"
      ]
     },
     "execution_count": 103,
     "metadata": {},
     "output_type": "execute_result"
    }
   ],
   "source": [
    "yx = numpy.multiply(yi, xi)\n",
    "yxw = numpy.dot(yx, w)\n",
    "yx, yxw"
   ]
  },
  {
   "cell_type": "code",
   "execution_count": 104,
   "metadata": {},
   "outputs": [
    {
     "data": {
      "text/plain": [
       "(matrix([[0.69314718],\n",
       "         [0.69314718],\n",
       "         [0.69314718],\n",
       "         [0.69314718],\n",
       "         [0.69314718],\n",
       "         [0.69314718],\n",
       "         [0.69314718],\n",
       "         [0.69314718]]),\n",
       " 0.0,\n",
       " 0.6931471805599453)"
      ]
     },
     "execution_count": 104,
     "metadata": {},
     "output_type": "execute_result"
    }
   ],
   "source": [
    "loss = numpy.log(1 + numpy.exp(-yxw))\n",
    "reg = lam / 2 * numpy.sum(w * w)\n",
    "obj = (1/b) * numpy.sum(loss + reg)  # scalar\n",
    "loss, reg, obj"
   ]
  },
  {
   "cell_type": "code",
   "execution_count": 105,
   "metadata": {},
   "outputs": [
    {
     "data": {
      "text/plain": [
       "matrix([[0.5],\n",
       "        [0.5],\n",
       "        [0.5],\n",
       "        [0.5],\n",
       "        [0.5],\n",
       "        [0.5],\n",
       "        [0.5],\n",
       "        [0.5]])"
      ]
     },
     "execution_count": 105,
     "metadata": {},
     "output_type": "execute_result"
    }
   ],
   "source": [
    "z = 1 / (1 + numpy.exp(yxw))\n",
    "z"
   ]
  },
  {
   "cell_type": "code",
   "execution_count": 106,
   "metadata": {},
   "outputs": [
    {
     "data": {
      "text/plain": [
       "matrix([[-0.42018124, -0.11055202, -0.12690088,  0.46062863, -0.34447404,\n",
       "          0.11778992,  0.11277506, -0.51629889,  0.5       ],\n",
       "        [ 0.02528976,  0.21766074,  0.08128   , -0.64896179, -0.34447404,\n",
       "         -0.49398472, -0.29079902,  1.13142138,  0.5       ],\n",
       "        [ 0.17378009,  1.04600722,  0.18537044,  0.20700796,  0.57536393,\n",
       "          0.74204981,  0.85771818,  0.83567672,  0.5       ],\n",
       "        [ 0.27169091,  0.1261812 , -0.15934783, -0.36552088,  0.34447404,\n",
       "         -0.24888468,  0.48651727,  0.51629889, -0.5       ],\n",
       "        [-0.12320057,  0.65527775, -0.43917221,  0.55573638, -0.34447404,\n",
       "          0.34252367,  0.2781494 , -0.38955117,  0.5       ],\n",
       "        [-0.02528976,  0.06366448, -0.08128   ,  0.26853079, -0.04212452,\n",
       "          0.60010884,  0.0086006 , -0.15968892, -0.5       ],\n",
       "        [ 0.47076076, -0.20432709,  0.13332522, -0.64896179, -0.34447404,\n",
       "         -0.13191392, -0.32569452, -0.09380651,  0.5       ],\n",
       "        [-0.17378009,  0.73571918,  0.23099132,  0.64896179,  0.34447404,\n",
       "          0.30670675,  0.30445378,  0.26280346, -0.5       ]])"
      ]
     },
     "execution_count": 106,
     "metadata": {},
     "output_type": "execute_result"
    }
   ],
   "source": [
    "g_loss = numpy.multiply(z, -yx)\n",
    "g_loss"
   ]
  },
  {
   "cell_type": "code",
   "execution_count": 107,
   "metadata": {},
   "outputs": [
    {
     "data": {
      "text/plain": [
       "((9, 8),\n",
       " matrix([[-0.42018124, -0.11055202, -0.12690088,  0.46062863, -0.34447404,\n",
       "           0.11778992,  0.11277506, -0.51629889,  0.5       ],\n",
       "         [ 0.02528976,  0.21766074,  0.08128   , -0.64896179, -0.34447404,\n",
       "          -0.49398472, -0.29079902,  1.13142138,  0.5       ],\n",
       "         [ 0.17378009,  1.04600722,  0.18537044,  0.20700796,  0.57536393,\n",
       "           0.74204981,  0.85771818,  0.83567672,  0.5       ],\n",
       "         [ 0.27169091,  0.1261812 , -0.15934783, -0.36552088,  0.34447404,\n",
       "          -0.24888468,  0.48651727,  0.51629889, -0.5       ],\n",
       "         [-0.12320057,  0.65527775, -0.43917221,  0.55573638, -0.34447404,\n",
       "           0.34252367,  0.2781494 , -0.38955117,  0.5       ],\n",
       "         [-0.02528976,  0.06366448, -0.08128   ,  0.26853079, -0.04212452,\n",
       "           0.60010884,  0.0086006 , -0.15968892, -0.5       ],\n",
       "         [ 0.47076076, -0.20432709,  0.13332522, -0.64896179, -0.34447404,\n",
       "          -0.13191392, -0.32569452, -0.09380651,  0.5       ],\n",
       "         [-0.17378009,  0.73571918,  0.23099132,  0.64896179,  0.34447404,\n",
       "           0.30670675,  0.30445378,  0.26280346, -0.5       ]]))"
      ]
     },
     "execution_count": 107,
     "metadata": {},
     "output_type": "execute_result"
    }
   ],
   "source": [
    "g_loss = g_loss.T + lam * w\n",
    "g_loss.shape, g_loss.T"
   ]
  },
  {
   "cell_type": "code",
   "execution_count": 100,
   "metadata": {},
   "outputs": [
    {
     "data": {
      "text/plain": [
       "(matrix([[ 0.02488373],\n",
       "         [ 0.31620393],\n",
       "         [-0.02196674],\n",
       "         [ 0.05967764],\n",
       "         [-0.01946359],\n",
       "         [ 0.15429946],\n",
       "         [ 0.17896509],\n",
       "         [ 0.19835687],\n",
       "         [ 0.125     ]]),\n",
       " 0.0248837325)"
      ]
     },
     "execution_count": 100,
     "metadata": {},
     "output_type": "execute_result"
    }
   ],
   "source": [
    "g = numpy.sum(g_loss, axis=1) / 8\n",
    "g1 = (-0.42018124,  0.02528976,  0.17378009,  0.27169091, -0.12320057, -0.02528976,  0.47076076, -0.17378009)\n",
    "g1 = sum(g1) / 8\n",
    "g, g1"
   ]
  },
  {
   "cell_type": "code",
   "execution_count": null,
   "metadata": {},
   "outputs": [],
   "source": [
    "iters = int(n / b)\n",
    "start = 0\n",
    "for i in range(iters):\n",
    "    end = start + b\n",
    "    print(start, end)\n",
    "    xi = x[rand_indices[0:b], :]\n",
    "    print(len(xi))\n",
    "    yi = y[rand_indices[0:b]].reshape((b, 1))\n",
    "    start = end"
   ]
  },
  {
   "cell_type": "code",
   "execution_count": null,
   "metadata": {},
   "outputs": [],
   "source": []
  }
 ],
 "metadata": {
  "kernelspec": {
   "display_name": "Python 3",
   "language": "python",
   "name": "python3"
  },
  "language_info": {
   "codemirror_mode": {
    "name": "ipython",
    "version": 3
   },
   "file_extension": ".py",
   "mimetype": "text/x-python",
   "name": "python",
   "nbconvert_exporter": "python",
   "pygments_lexer": "ipython3",
   "version": "3.8.5"
  }
 },
 "nbformat": 4,
 "nbformat_minor": 4
}

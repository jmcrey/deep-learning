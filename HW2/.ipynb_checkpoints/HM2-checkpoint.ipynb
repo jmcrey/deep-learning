{
 "cells": [
  {
   "cell_type": "markdown",
   "metadata": {},
   "source": [
    "# HM2: Numerical Optimization for Logistic Regression.\n",
    "\n",
    "### Name: Jeremiah McReynolds\n"
   ]
  },
  {
   "cell_type": "markdown",
   "metadata": {},
   "source": [
    "## 0. You will do the following:\n",
    "\n",
    "1. Read the lecture note: [click here](https://github.com/wangshusen/DeepLearning/blob/master/LectureNotes/Logistic/paper/logistic.pdf)\n",
    "\n",
    "2. Read, complete, and run my code.\n",
    "\n",
    "3. **Implement mini-batch SGD** and evaluate the performance.\n",
    "\n",
    "4. Convert the .IPYNB file to .HTML file.\n",
    "\n",
    "    * The HTML file must contain **the code** and **the output after execution**.\n",
    "    \n",
    "    * Missing **the output after execution** will not be graded.\n",
    "    \n",
    "5. Upload this .HTML file to your Google Drive, Dropbox, or your Github repo.  (If you submit the file to Google Drive or Dropbox, you must make the file \"open-access\". The delay caused by \"deny of access\" may result in late penalty.)\n",
    "\n",
    "6. Submit the link to this .HTML file to Canvas.\n",
    "\n",
    "    * Example: https://github.com/wangshusen/CS583-2020S/blob/master/homework/HM2/HM2.html\n",
    "\n",
    "\n",
    "## Grading criteria:\n",
    "\n",
    "1. When computing the ```gradient``` and ```objective function value``` using a batch of samples, use **matrix-vector multiplication** rather than a FOR LOOP of **vector-vector multiplications**.\n",
    "\n",
    "2. Plot ```objective function value``` against ```epochs```. In the plot, compare GD, SGD, and MB-SGD (with $b=8$ and $b=64$). The plot must look reasonable."
   ]
  },
  {
   "cell_type": "code",
   "execution_count": null,
   "metadata": {},
   "outputs": [],
   "source": []
  },
  {
   "cell_type": "markdown",
   "metadata": {},
   "source": [
    "# 1. Data processing\n",
    "\n",
    "- Download the Diabete dataset from https://www.csie.ntu.edu.tw/~cjlin/libsvmtools/datasets/binary/diabetes\n",
    "- Load the data using sklearn.\n",
    "- Preprocess the data."
   ]
  },
  {
   "cell_type": "markdown",
   "metadata": {},
   "source": [
    "## 1.1. Load the data"
   ]
  },
  {
   "cell_type": "code",
   "execution_count": 1,
   "metadata": {},
   "outputs": [
    {
     "name": "stdout",
     "output_type": "stream",
     "text": [
      "Shape of x: (768, 8)\n",
      "Shape of y: (768,)\n"
     ]
    }
   ],
   "source": [
    "from sklearn import datasets\n",
    "import numpy\n",
    "\n",
    "x_sparse, y = datasets.load_svmlight_file('diabetes')\n",
    "x = x_sparse.todense()\n",
    "\n",
    "print('Shape of x: ' + str(x.shape))\n",
    "print('Shape of y: ' + str(y.shape))"
   ]
  },
  {
   "cell_type": "markdown",
   "metadata": {},
   "source": [
    "## 1.2. Partition to training and test sets"
   ]
  },
  {
   "cell_type": "code",
   "execution_count": 2,
   "metadata": {},
   "outputs": [
    {
     "name": "stdout",
     "output_type": "stream",
     "text": [
      "Shape of x_train: (640, 8)\n",
      "Shape of x_test: (128, 8)\n",
      "Shape of y_train: (640, 1)\n",
      "Shape of y_test: (128, 1)\n"
     ]
    }
   ],
   "source": [
    "# partition the data to training and test sets\n",
    "n = x.shape[0]\n",
    "n_train = 640\n",
    "n_test = n - n_train\n",
    "\n",
    "rand_indices = numpy.random.permutation(n)\n",
    "train_indices = rand_indices[0:n_train]\n",
    "test_indices = rand_indices[n_train:n]\n",
    "\n",
    "x_train = x[train_indices, :]\n",
    "x_test = x[test_indices, :]\n",
    "y_train = y[train_indices].reshape(n_train, 1)\n",
    "y_test = y[test_indices].reshape(n_test, 1)\n",
    "\n",
    "print('Shape of x_train: ' + str(x_train.shape))\n",
    "print('Shape of x_test: ' + str(x_test.shape))\n",
    "print('Shape of y_train: ' + str(y_train.shape))\n",
    "print('Shape of y_test: ' + str(y_test.shape))"
   ]
  },
  {
   "cell_type": "markdown",
   "metadata": {},
   "source": [
    "## 1.3. Feature scaling"
   ]
  },
  {
   "cell_type": "markdown",
   "metadata": {},
   "source": [
    "Use the standardization to trainsform both training and test features"
   ]
  },
  {
   "cell_type": "code",
   "execution_count": 3,
   "metadata": {},
   "outputs": [
    {
     "name": "stdout",
     "output_type": "stream",
     "text": [
      "test mean = \n",
      "[[-0.00599541 -0.0772219   0.05311953 -0.10267199 -0.11280085 -0.07520036\n",
      "  -0.09356309 -0.04568896]]\n",
      "test std = \n",
      "[[0.9628841  1.08015784 1.16277686 1.02721513 0.90725758 0.98337328\n",
      "  0.88812976 1.04503585]]\n"
     ]
    }
   ],
   "source": [
    "# Standardization\n",
    "import numpy\n",
    "\n",
    "# calculate mu and sig using the training set\n",
    "d = x_train.shape[1]\n",
    "mu = numpy.mean(x_train, axis=0).reshape(1, d)\n",
    "sig = numpy.std(x_train, axis=0).reshape(1, d)\n",
    "\n",
    "# transform the training features\n",
    "x_train = (x_train - mu) / (sig + 1E-6)\n",
    "\n",
    "# transform the test features\n",
    "x_test = (x_test - mu) / (sig + 1E-6)\n",
    "\n",
    "print('test mean = ')\n",
    "print(numpy.mean(x_test, axis=0))\n",
    "\n",
    "print('test std = ')\n",
    "print(numpy.std(x_test, axis=0))"
   ]
  },
  {
   "cell_type": "markdown",
   "metadata": {},
   "source": [
    "## 1.4. Add a dimension of all ones"
   ]
  },
  {
   "cell_type": "code",
   "execution_count": 4,
   "metadata": {},
   "outputs": [
    {
     "name": "stdout",
     "output_type": "stream",
     "text": [
      "Shape of x_train: (640, 9)\n",
      "Shape of x_test: (128, 9)\n"
     ]
    }
   ],
   "source": [
    "n_train, d = x_train.shape\n",
    "x_train = numpy.concatenate((x_train, numpy.ones((n_train, 1))), axis=1)\n",
    "\n",
    "n_test, d = x_test.shape\n",
    "x_test = numpy.concatenate((x_test, numpy.ones((n_test, 1))), axis=1)\n",
    "\n",
    "print('Shape of x_train: ' + str(x_train.shape))\n",
    "print('Shape of x_test: ' + str(x_test.shape))"
   ]
  },
  {
   "cell_type": "markdown",
   "metadata": {},
   "source": [
    "# 2. Logistic regression model\n",
    "\n",
    "The objective function is $Q (w; X, y) = \\frac{1}{n} \\sum_{i=1}^n \\log \\Big( 1 + \\exp \\big( - y_i x_i^T w \\big) \\Big) + \\frac{\\lambda}{2} \\| w \\|_2^2 $."
   ]
  },
  {
   "cell_type": "code",
   "execution_count": 5,
   "metadata": {},
   "outputs": [],
   "source": [
    "# Calculate the objective function value\n",
    "# Inputs:\n",
    "#     w: d-by-1 matrix\n",
    "#     x: n-by-d matrix\n",
    "#     y: n-by-1 matrix\n",
    "#     lam: scalar, the regularization parameter\n",
    "# Return:\n",
    "#     objective function value (scalar)\n",
    "def objective(w, x, y, lam):\n",
    "    n, d = x.shape\n",
    "    yx = numpy.multiply(y, x) # n-by-d matrix\n",
    "    yxw = numpy.dot(yx, w) # n-by-1 matrix\n",
    "    vec1 = numpy.exp(-yxw) # n-by-1 matrix\n",
    "    vec2 = numpy.log(1 + vec1) # n-by-1 matrix\n",
    "    loss = numpy.mean(vec2) # scalar\n",
    "    reg = lam / 2 * numpy.sum(w * w) # scalar\n",
    "    return loss + reg\n",
    "    "
   ]
  },
  {
   "cell_type": "code",
   "execution_count": 6,
   "metadata": {},
   "outputs": [
    {
     "name": "stdout",
     "output_type": "stream",
     "text": [
      "Initial objective function value = 0.6931471805599453\n"
     ]
    }
   ],
   "source": [
    "# initialize w\n",
    "d = x_train.shape[1]\n",
    "w = numpy.zeros((d, 1))\n",
    "\n",
    "# evaluate the objective function value at w\n",
    "lam = 1E-6\n",
    "objval0 = objective(w, x_train, y_train, lam)\n",
    "print('Initial objective function value = ' + str(objval0))"
   ]
  },
  {
   "cell_type": "markdown",
   "metadata": {},
   "source": [
    "# 3. Numerical optimization"
   ]
  },
  {
   "cell_type": "markdown",
   "metadata": {},
   "source": [
    "## 3.1. Gradient descent\n"
   ]
  },
  {
   "cell_type": "markdown",
   "metadata": {},
   "source": [
    "The gradient at $w$ is $g = - \\frac{1}{n} \\sum_{i=1}^n \\frac{y_i x_i }{1 + \\exp ( y_i x_i^T w)} + \\lambda w$"
   ]
  },
  {
   "cell_type": "code",
   "execution_count": 7,
   "metadata": {},
   "outputs": [],
   "source": [
    "# Calculate the gradient\n",
    "# Inputs:\n",
    "#     w: d-by-1 matrix\n",
    "#     x: n-by-d matrix\n",
    "#     y: n-by-1 matrix\n",
    "#     lam: scalar, the regularization parameter\n",
    "# Return:\n",
    "#     g: g: d-by-1 matrix, full gradient\n",
    "def gradient(w, x, y, lam):\n",
    "    n, d = x.shape\n",
    "    yx = numpy.multiply(y, x) # n-by-d matrix\n",
    "    yxw = numpy.dot(yx, w) # n-by-1 matrix\n",
    "    vec1 = numpy.exp(yxw) # n-by-1 matrix\n",
    "    vec2 = numpy.divide(yx, 1+vec1) # n-by-d matrix\n",
    "    vec3 = -numpy.mean(vec2, axis=0).reshape(d, 1) # d-by-1 matrix\n",
    "    g = vec3 + lam * w\n",
    "    return g"
   ]
  },
  {
   "cell_type": "code",
   "execution_count": 8,
   "metadata": {},
   "outputs": [],
   "source": [
    "# Gradient descent for solving logistic regression\n",
    "# Inputs:\n",
    "#     x: n-by-d matrix\n",
    "#     y: n-by-1 matrix\n",
    "#     lam: scalar, the regularization parameter\n",
    "#     stepsize: scalar\n",
    "#     max_iter: integer, the maximal iterations\n",
    "#     w: d-by-1 matrix, initialization of w\n",
    "# Return:\n",
    "#     w: d-by-1 matrix, the solution\n",
    "#     objvals: a record of each iteration's objective value\n",
    "def grad_descent(x, y, lam, stepsize, max_iter=100, w=None):\n",
    "    n, d = x.shape\n",
    "    objvals = numpy.zeros(max_iter) # store the objective values\n",
    "    if w is None:\n",
    "        w = numpy.zeros((d, 1)) # zero initialization\n",
    "    \n",
    "    for t in range(max_iter):\n",
    "        objval = objective(w, x, y, lam)\n",
    "        objvals[t] = objval\n",
    "        print('Objective value at t=' + str(t) + ' is ' + str(objval))\n",
    "        g = gradient(w, x, y, lam)\n",
    "        w -= stepsize * g\n",
    "    \n",
    "    return w, objvals"
   ]
  },
  {
   "cell_type": "markdown",
   "metadata": {},
   "source": [
    "Run gradient descent."
   ]
  },
  {
   "cell_type": "code",
   "execution_count": 9,
   "metadata": {},
   "outputs": [
    {
     "name": "stdout",
     "output_type": "stream",
     "text": [
      "Objective value at t=0 is 0.6931471805599453\n",
      "Objective value at t=1 is 0.5922139650194567\n",
      "Objective value at t=2 is 0.5527908013365109\n",
      "Objective value at t=3 is 0.5324325666779745\n",
      "Objective value at t=4 is 0.5201584115531052\n",
      "Objective value at t=5 is 0.5120763332795266\n",
      "Objective value at t=6 is 0.506452716598658\n",
      "Objective value at t=7 is 0.5023909477787686\n",
      "Objective value at t=8 is 0.4993773141346891\n",
      "Objective value at t=9 is 0.497095308570258\n",
      "Objective value at t=10 is 0.49533929952830835\n",
      "Objective value at t=11 is 0.49397025032767394\n",
      "Objective value at t=12 is 0.49289119687287963\n",
      "Objective value at t=13 is 0.4920328235027183\n",
      "Objective value at t=14 is 0.4913445634596334\n",
      "Objective value at t=15 is 0.49078889369042683\n",
      "Objective value at t=16 is 0.4903375616633504\n",
      "Objective value at t=17 is 0.4899690246234452\n",
      "Objective value at t=18 is 0.4896666733102589\n",
      "Objective value at t=19 is 0.48941757642388634\n",
      "Objective value at t=20 is 0.4892115784380354\n",
      "Objective value at t=21 is 0.4890406417795065\n",
      "Objective value at t=22 is 0.4888983608670103\n",
      "Objective value at t=23 is 0.4887795988436543\n",
      "Objective value at t=24 is 0.4886802130984443\n",
      "Objective value at t=25 is 0.48859684583959495\n",
      "Objective value at t=26 is 0.48852676287075875\n",
      "Objective value at t=27 is 0.48846772845898473\n",
      "Objective value at t=28 is 0.4884179074869012\n",
      "Objective value at t=29 is 0.48837578841465906\n",
      "Objective value at t=30 is 0.4883401222442255\n",
      "Objective value at t=31 is 0.48830987388288183\n",
      "Objective value at t=32 is 0.4882841831817032\n",
      "Objective value at t=33 is 0.488262333572468\n",
      "Objective value at t=34 is 0.4882437267080504\n",
      "Objective value at t=35 is 0.48822786187252887\n",
      "Objective value at t=36 is 0.48821431920029584\n",
      "Objective value at t=37 is 0.4882027459514406\n",
      "Objective value at t=38 is 0.48819284525024165\n",
      "Objective value at t=39 is 0.4881843668168253\n",
      "Objective value at t=40 is 0.4881770993178195\n",
      "Objective value at t=41 is 0.4881708640366927\n",
      "Objective value at t=42 is 0.4881655096233154\n",
      "Objective value at t=43 is 0.4881609077287858\n",
      "Objective value at t=44 is 0.4881569493684716\n",
      "Objective value at t=45 is 0.48815354188567656\n",
      "Objective value at t=46 is 0.4881506064119169\n",
      "Objective value at t=47 is 0.4881480757387672\n",
      "Objective value at t=48 is 0.48814589253154\n",
      "Objective value at t=49 is 0.4881440078274676\n",
      "Objective value at t=50 is 0.4881423797711284\n",
      "Objective value at t=51 is 0.48814097254807604\n",
      "Objective value at t=52 is 0.48813975548434396\n",
      "Objective value at t=53 is 0.4881387022849985\n",
      "Objective value at t=54 is 0.48813779038944266\n",
      "Objective value at t=55 is 0.48813700042488906\n",
      "Objective value at t=56 is 0.48813631574250427\n",
      "Objective value at t=57 is 0.4881357220232642\n",
      "Objective value at t=58 is 0.488135206942675\n",
      "Objective value at t=59 is 0.48813475988526106\n",
      "Objective value at t=60 is 0.48813437170118223\n",
      "Objective value at t=61 is 0.4881340344985558\n",
      "Objective value at t=62 is 0.4881337414660741\n",
      "Objective value at t=63 is 0.4881334867213561\n",
      "Objective value at t=64 is 0.48813326518118155\n",
      "Objective value at t=65 is 0.4881330724503528\n",
      "Objective value at t=66 is 0.48813290472642884\n",
      "Objective value at t=67 is 0.4881327587179973\n",
      "Objective value at t=68 is 0.48813263157450437\n",
      "Objective value at t=69 is 0.4881325208259614\n",
      "Objective value at t=70 is 0.4881324243310994\n",
      "Objective value at t=71 is 0.48813234023275376\n",
      "Objective value at t=72 is 0.48813226691944606\n",
      "Objective value at t=73 is 0.4881322029922773\n",
      "Objective value at t=74 is 0.4881321472363806\n",
      "Objective value at t=75 is 0.48813209859629003\n",
      "Objective value at t=76 is 0.48813205615467326\n",
      "Objective value at t=77 is 0.4881320191139597\n",
      "Objective value at t=78 is 0.4881319867804595\n",
      "Objective value at t=79 is 0.4881319585506287\n",
      "Objective value at t=80 is 0.48813193389918297\n",
      "Objective value at t=81 is 0.48813191236880726\n",
      "Objective value at t=82 is 0.4881318935612413\n",
      "Objective value at t=83 is 0.4881318771295538\n",
      "Objective value at t=84 is 0.4881318627714436\n",
      "Objective value at t=85 is 0.48813185022342914\n",
      "Objective value at t=86 is 0.48813183925580483\n",
      "Objective value at t=87 is 0.48813182966826335\n",
      "Objective value at t=88 is 0.48813182128609184\n",
      "Objective value at t=89 is 0.48813181395686844\n",
      "Objective value at t=90 is 0.48813180754758956\n",
      "Objective value at t=91 is 0.48813180194217226\n",
      "Objective value at t=92 is 0.48813179703928233\n",
      "Objective value at t=93 is 0.48813179275044394\n",
      "Objective value at t=94 is 0.4881317889983933\n",
      "Objective value at t=95 is 0.48813178571564775\n",
      "Objective value at t=96 is 0.48813178284325703\n",
      "Objective value at t=97 is 0.48813178032971644\n",
      "Objective value at t=98 is 0.4881317781300203\n",
      "Objective value at t=99 is 0.4881317762048354\n"
     ]
    }
   ],
   "source": [
    "lam = 1E-6\n",
    "stepsize = 1.0\n",
    "w, objvals_gd = grad_descent(x_train, y_train, lam, stepsize)"
   ]
  },
  {
   "cell_type": "markdown",
   "metadata": {},
   "source": [
    "## 3.2. Stochastic gradient descent (SGD)\n",
    "\n",
    "Define $Q_i (w) = \\log \\Big( 1 + \\exp \\big( - y_i x_i^T w \\big) \\Big) + \\frac{\\lambda}{2} \\| w \\|_2^2 $.\n",
    "\n",
    "The stochastic gradient at $w$ is $g_i = \\frac{\\partial Q_i }{ \\partial w} = -\\frac{y_i x_i }{1 + \\exp ( y_i x_i^T w)} + \\lambda w$."
   ]
  },
  {
   "cell_type": "code",
   "execution_count": 10,
   "metadata": {},
   "outputs": [],
   "source": [
    "# Calculate the objective Q_i and the gradient of Q_i\n",
    "# Inputs:\n",
    "#     w: d-by-1 matrix\n",
    "#     xi: 1-by-d matrix\n",
    "#     yi: scalar\n",
    "#     lam: scalar, the regularization parameter\n",
    "# Return:\n",
    "#     obj: scalar, the objective Q_i\n",
    "#     g: d-by-1 matrix, gradient of Q_i\n",
    "def stochastic_objective_gradient(w, xi, yi, lam):\n",
    "    d = xi.shape[0]\n",
    "    yx = yi * xi # 1-by-d matrix\n",
    "    yxw = float(numpy.dot(yx, w)) # scalar\n",
    "    \n",
    "    # calculate objective function Q_i\n",
    "    loss = numpy.log(1 + numpy.exp(-yxw)) # scalar\n",
    "    reg = lam / 2 * numpy.sum(w * w) # scalar\n",
    "    obj = loss + reg\n",
    "    \n",
    "    # calculate stochastic gradient\n",
    "    g_loss = -yx.T / (1 + numpy.exp(yxw)) # d-by-1 matrix\n",
    "    g = g_loss + lam * w # d-by-1 matrix\n",
    "    \n",
    "    return obj, g"
   ]
  },
  {
   "cell_type": "code",
   "execution_count": 11,
   "metadata": {},
   "outputs": [],
   "source": [
    "# SGD for solving logistic regression\n",
    "# Inputs:\n",
    "#     x: n-by-d matrix\n",
    "#     y: n-by-1 matrix\n",
    "#     lam: scalar, the regularization parameter\n",
    "#     stepsize: scalar\n",
    "#     max_epoch: integer, the maximal epochs\n",
    "#     w: d-by-1 matrix, initialization of w\n",
    "# Return:\n",
    "#     w: the solution\n",
    "#     objvals: record of each iteration's objective value\n",
    "def sgd(x, y, lam, stepsize, max_epoch=100, w=None):\n",
    "    n, d = x.shape\n",
    "    objvals = numpy.zeros(max_epoch) # store the objective values\n",
    "    if w is None:\n",
    "        w = numpy.zeros((d, 1)) # zero initialization\n",
    "    \n",
    "    for t in range(max_epoch):\n",
    "        # randomly shuffle the samples\n",
    "        rand_indices = numpy.random.permutation(n)\n",
    "        x_rand = x[rand_indices, :]\n",
    "        y_rand = y[rand_indices, :]\n",
    "        \n",
    "        objval = 0 # accumulate the objective values\n",
    "        for i in range(n):\n",
    "            xi = x_rand[i, :] # 1-by-d matrix\n",
    "            yi = float(y_rand[i, :]) # scalar\n",
    "            obj, g = stochastic_objective_gradient(w, xi, yi, lam)\n",
    "            objval += obj\n",
    "            w -= stepsize * g\n",
    "        \n",
    "        stepsize *= 0.9 # decrease step size\n",
    "        objval /= n\n",
    "        objvals[t] = objval\n",
    "        print('Objective value at epoch t=' + str(t) + ' is ' + str(objval))\n",
    "    \n",
    "    return w, objvals"
   ]
  },
  {
   "cell_type": "markdown",
   "metadata": {},
   "source": [
    "Run SGD."
   ]
  },
  {
   "cell_type": "code",
   "execution_count": 12,
   "metadata": {},
   "outputs": [
    {
     "name": "stdout",
     "output_type": "stream",
     "text": [
      "Objective value at epoch t=0 is 0.549909197170275\n",
      "Objective value at epoch t=1 is 0.5412261061620235\n",
      "Objective value at epoch t=2 is 0.5283851271329794\n",
      "Objective value at epoch t=3 is 0.526241608842444\n",
      "Objective value at epoch t=4 is 0.5347373536634682\n",
      "Objective value at epoch t=5 is 0.5192760036989409\n",
      "Objective value at epoch t=6 is 0.5077787590280823\n",
      "Objective value at epoch t=7 is 0.5164755398655625\n",
      "Objective value at epoch t=8 is 0.5147526649647166\n",
      "Objective value at epoch t=9 is 0.5082030510832276\n",
      "Objective value at epoch t=10 is 0.5084341746103569\n",
      "Objective value at epoch t=11 is 0.5053501417155059\n",
      "Objective value at epoch t=12 is 0.5074966110912581\n",
      "Objective value at epoch t=13 is 0.5031600105966421\n",
      "Objective value at epoch t=14 is 0.5036648686929059\n",
      "Objective value at epoch t=15 is 0.5025269000867402\n",
      "Objective value at epoch t=16 is 0.5003565186613163\n",
      "Objective value at epoch t=17 is 0.4982652299897176\n",
      "Objective value at epoch t=18 is 0.49788342094938187\n",
      "Objective value at epoch t=19 is 0.49630990523159524\n",
      "Objective value at epoch t=20 is 0.4972462628649449\n",
      "Objective value at epoch t=21 is 0.49515746536574035\n",
      "Objective value at epoch t=22 is 0.4956298356578367\n",
      "Objective value at epoch t=23 is 0.49429642407067825\n",
      "Objective value at epoch t=24 is 0.4941366161863566\n",
      "Objective value at epoch t=25 is 0.49321196788922245\n",
      "Objective value at epoch t=26 is 0.4929510790226056\n",
      "Objective value at epoch t=27 is 0.49240329013470935\n",
      "Objective value at epoch t=28 is 0.4917861647665923\n",
      "Objective value at epoch t=29 is 0.4917581580913658\n",
      "Objective value at epoch t=30 is 0.49105450990043914\n",
      "Objective value at epoch t=31 is 0.49090353038375395\n",
      "Objective value at epoch t=32 is 0.4906448743284508\n",
      "Objective value at epoch t=33 is 0.4903795393440774\n",
      "Objective value at epoch t=34 is 0.4901462076980181\n",
      "Objective value at epoch t=35 is 0.4900761102203357\n",
      "Objective value at epoch t=36 is 0.48987240031697066\n",
      "Objective value at epoch t=37 is 0.4896952196956845\n",
      "Objective value at epoch t=38 is 0.48953140938966744\n",
      "Objective value at epoch t=39 is 0.48938039337308437\n",
      "Objective value at epoch t=40 is 0.4892633886421578\n",
      "Objective value at epoch t=41 is 0.48916141435578125\n",
      "Objective value at epoch t=42 is 0.4890562526121858\n",
      "Objective value at epoch t=43 is 0.48895382216056593\n",
      "Objective value at epoch t=44 is 0.4888765073526531\n",
      "Objective value at epoch t=45 is 0.4887987562739678\n",
      "Objective value at epoch t=46 is 0.48873091216564957\n",
      "Objective value at epoch t=47 is 0.48868040477288943\n",
      "Objective value at epoch t=48 is 0.4886155062435164\n",
      "Objective value at epoch t=49 is 0.4885790897682368\n",
      "Objective value at epoch t=50 is 0.4885298183678753\n",
      "Objective value at epoch t=51 is 0.48849222656017943\n",
      "Objective value at epoch t=52 is 0.4884582236197751\n",
      "Objective value at epoch t=53 is 0.48842413961405634\n",
      "Objective value at epoch t=54 is 0.48839560753953115\n",
      "Objective value at epoch t=55 is 0.4883696968212113\n",
      "Objective value at epoch t=56 is 0.48834570107993186\n",
      "Objective value at epoch t=57 is 0.4883245738581022\n",
      "Objective value at epoch t=58 is 0.4883054622029331\n",
      "Objective value at epoch t=59 is 0.48828766457925754\n",
      "Objective value at epoch t=60 is 0.4882725494072532\n",
      "Objective value at epoch t=61 is 0.4882585210890443\n",
      "Objective value at epoch t=62 is 0.488245729230513\n",
      "Objective value at epoch t=63 is 0.4882344913991594\n",
      "Objective value at epoch t=64 is 0.4882242343552316\n",
      "Objective value at epoch t=65 is 0.4882150264316122\n",
      "Objective value at epoch t=66 is 0.48820660688646617\n",
      "Objective value at epoch t=67 is 0.4881992174205066\n",
      "Objective value at epoch t=68 is 0.48819240972856914\n",
      "Objective value at epoch t=69 is 0.4881864504936691\n",
      "Objective value at epoch t=70 is 0.4881810240891923\n",
      "Objective value at epoch t=71 is 0.4881760845911285\n",
      "Objective value at epoch t=72 is 0.4881716893344371\n",
      "Objective value at epoch t=73 is 0.4881677222669478\n",
      "Objective value at epoch t=74 is 0.48816414287858934\n",
      "Objective value at epoch t=75 is 0.488160916635073\n",
      "Objective value at epoch t=76 is 0.4881580161707351\n",
      "Objective value at epoch t=77 is 0.4881553878084658\n",
      "Objective value at epoch t=78 is 0.48815305742009657\n",
      "Objective value at epoch t=79 is 0.4881509399379692\n",
      "Objective value at epoch t=80 is 0.48814903905131024\n",
      "Objective value at epoch t=81 is 0.48814732763918806\n",
      "Objective value at epoch t=82 is 0.4881457841059163\n",
      "Objective value at epoch t=83 is 0.4881443968709906\n",
      "Objective value at epoch t=84 is 0.4881431511631028\n",
      "Objective value at epoch t=85 is 0.488142026579159\n",
      "Objective value at epoch t=86 is 0.48814101527805204\n",
      "Objective value at epoch t=87 is 0.48814010475542674\n",
      "Objective value at epoch t=88 is 0.48813928509120286\n",
      "Objective value at epoch t=89 is 0.4881385481551635\n",
      "Objective value at epoch t=90 is 0.4881378845011013\n",
      "Objective value at epoch t=91 is 0.48813728723306654\n",
      "Objective value at epoch t=92 is 0.4881367492179957\n",
      "Objective value at epoch t=93 is 0.4881362655288707\n",
      "Objective value at epoch t=94 is 0.4881358299090047\n",
      "Objective value at epoch t=95 is 0.48813543796058434\n",
      "Objective value at epoch t=96 is 0.4881350851638987\n",
      "Objective value at epoch t=97 is 0.4881347676033073\n",
      "Objective value at epoch t=98 is 0.4881344818549692\n",
      "Objective value at epoch t=99 is 0.4881342247885744\n"
     ]
    }
   ],
   "source": [
    "lam = 1E-6\n",
    "stepsize = 0.1\n",
    "w, objvals_sgd = sgd(x_train, y_train, lam, stepsize)"
   ]
  },
  {
   "cell_type": "markdown",
   "metadata": {},
   "source": [
    "# 4. Compare GD with SGD\n",
    "\n",
    "Plot objective function values against epochs."
   ]
  },
  {
   "cell_type": "code",
   "execution_count": 13,
   "metadata": {},
   "outputs": [
    {
     "name": "stderr",
     "output_type": "stream",
     "text": [
      "<ipython-input-13-9b8d8f4cdfb5>:9: MatplotlibDeprecationWarning: Case-insensitive properties were deprecated in 3.3 and support will be removed two minor releases later\n",
      "  line0, = plt.plot(epochs_gd, objvals_gd, '--b', LineWidth=4)\n",
      "<ipython-input-13-9b8d8f4cdfb5>:10: MatplotlibDeprecationWarning: Case-insensitive properties were deprecated in 3.3 and support will be removed two minor releases later\n",
      "  line1, = plt.plot(epochs_sgd, objvals_sgd, '-r', LineWidth=2)\n",
      "<ipython-input-13-9b8d8f4cdfb5>:11: MatplotlibDeprecationWarning: Case-insensitive properties were deprecated in 3.3 and support will be removed two minor releases later\n",
      "  plt.xlabel('Epochs', FontSize=20)\n",
      "<ipython-input-13-9b8d8f4cdfb5>:12: MatplotlibDeprecationWarning: Case-insensitive properties were deprecated in 3.3 and support will be removed two minor releases later\n",
      "  plt.ylabel('Objective Value', FontSize=20)\n",
      "<ipython-input-13-9b8d8f4cdfb5>:13: MatplotlibDeprecationWarning: Case-insensitive properties were deprecated in 3.3 and support will be removed two minor releases later\n",
      "  plt.xticks(FontSize=16)\n",
      "<ipython-input-13-9b8d8f4cdfb5>:14: MatplotlibDeprecationWarning: Case-insensitive properties were deprecated in 3.3 and support will be removed two minor releases later\n",
      "  plt.yticks(FontSize=16)\n"
     ]
    },
    {
     "data": {
      "image/png": "[encoded data removed]",
      "text/plain": [
       "<Figure size 432x288 with 1 Axes>"
      ]
     },
     "metadata": {
      "needs_background": "light"
     },
     "output_type": "display_data"
    }
   ],
   "source": [
    "import matplotlib.pyplot as plt\n",
    "%matplotlib inline\n",
    "\n",
    "fig = plt.figure(figsize=(6, 4))\n",
    "\n",
    "epochs_gd = range(len(objvals_gd))\n",
    "epochs_sgd = range(len(objvals_sgd))\n",
    "\n",
    "line0, = plt.plot(epochs_gd, objvals_gd, '--b', LineWidth=4)\n",
    "line1, = plt.plot(epochs_sgd, objvals_sgd, '-r', LineWidth=2)\n",
    "plt.xlabel('Epochs', FontSize=20)\n",
    "plt.ylabel('Objective Value', FontSize=20)\n",
    "plt.xticks(FontSize=16)\n",
    "plt.yticks(FontSize=16)\n",
    "plt.legend([line0, line1], ['GD', 'SGD'], fontsize=20)\n",
    "plt.tight_layout()\n",
    "plt.show()\n",
    "fig.savefig('compare_gd_sgd.pdf', format='pdf', dpi=1200)"
   ]
  },
  {
   "cell_type": "markdown",
   "metadata": {},
   "source": [
    "# 5. Prediction"
   ]
  },
  {
   "cell_type": "code",
   "execution_count": 14,
   "metadata": {},
   "outputs": [],
   "source": [
    "# Predict class label\n",
    "# Inputs:\n",
    "#     w: d-by-1 matrix\n",
    "#     X: m-by-d matrix\n",
    "# Return:\n",
    "#     f: m-by-1 matrix, the predictions\n",
    "def predict(w, X):\n",
    "    xw = numpy.dot(X, w)\n",
    "    f = numpy.sign(xw)\n",
    "    return f"
   ]
  },
  {
   "cell_type": "code",
   "execution_count": 15,
   "metadata": {},
   "outputs": [
    {
     "name": "stdout",
     "output_type": "stream",
     "text": [
      "Training classification error is 0.2359375\n"
     ]
    }
   ],
   "source": [
    "# evaluate training error\n",
    "f_train = predict(w, x_train)\n",
    "diff = numpy.abs(f_train - y_train) / 2\n",
    "error_train = numpy.mean(diff)\n",
    "print('Training classification error is ' + str(error_train))"
   ]
  },
  {
   "cell_type": "code",
   "execution_count": 16,
   "metadata": {},
   "outputs": [
    {
     "name": "stdout",
     "output_type": "stream",
     "text": [
      "Test classification error is 0.1875\n"
     ]
    }
   ],
   "source": [
    "# evaluate test error\n",
    "f_test = predict(w, x_test)\n",
    "diff = numpy.abs(f_test - y_test) / 2\n",
    "error_test = numpy.mean(diff)\n",
    "print('Test classification error is ' + str(error_test))"
   ]
  },
  {
   "cell_type": "markdown",
   "metadata": {},
   "source": [
    "# 6. Mini-batch SGD (fill the code)\n",
    "\n"
   ]
  },
  {
   "cell_type": "markdown",
   "metadata": {},
   "source": [
    "## 6.1. Compute the objective $Q_I$ and its gradient using a batch of samples\n",
    "\n",
    "Define $Q_I (w) = \\frac{1}{b} \\sum_{i \\in I} \\log \\Big( 1 + \\exp \\big( - y_i x_i^T w \\big) \\Big) + \\frac{\\lambda}{2} \\| w \\|_2^2 $, where $I$ is a set containing $b$ indices randomly drawn from $\\{ 1, \\cdots , n \\}$ without replacement.\n",
    "\n",
    "The stochastic gradient at $w$ is $g_I = \\frac{\\partial Q_I }{ \\partial w} = \\frac{1}{b} \\sum_{i \\in I} \\frac{- y_i x_i }{1 + \\exp ( y_i x_i^T w)} + \\lambda w$."
   ]
  },
  {
   "cell_type": "code",
   "execution_count": 17,
   "metadata": {},
   "outputs": [],
   "source": [
    "# Calculate the objective Q_I and the gradient of Q_I\n",
    "# Inputs:\n",
    "#     w: d-by-1 matrix\n",
    "#     xi: b-by-d matrix\n",
    "#     yi: b-by-1 matrix\n",
    "#     lam: scalar, the regularization parameter\n",
    "#     b: integer, the batch size\n",
    "# Return:\n",
    "#     obj: scalar, the objective Q_i\n",
    "#     g: d-by-1 matrix, gradient of Q_i\n",
    "def mb_stochastic_objective_gradient(w, xi, yi, lam, b):\n",
    "    # Fill the function\n",
    "    # Follow the implementation of stochastic_objective_gradient\n",
    "    # Use matrix-vector multiplication; do not use FOR LOOP of vector-vector multiplications\n",
    "    n,d = xi.shape\n",
    "    yx = numpy.multiply(yi, xi)  # b by d matrix\n",
    "    yxw = numpy.dot(yx, w)  # b x 1 vector\n",
    "\n",
    "    # Solve objective function Q_i\n",
    "    loss = numpy.log(1 + numpy.exp(-yxw)) # b x 1 vector\n",
    "    reg = (lam / 2) * numpy.sum(w * w)  # scalar\n",
    "    obj = (1/b) * numpy.sum(loss + reg)  # scalar\n",
    "\n",
    "    # Calculate gradient\n",
    "    z = (1 / (1 + numpy.exp(yxw)))  # b x 1 vector\n",
    "    g_loss = numpy.multiply(z, -yx).T # d x b matrix\n",
    "    g = (1/b) * numpy.sum(g_loss, axis=1) + (lam * w) # d x 1 vector \n",
    "    return obj, g"
   ]
  },
  {
   "cell_type": "markdown",
   "metadata": {},
   "source": [
    "## 6.2. Implement mini-batch SGD\n",
    "\n",
    "Hints:\n",
    "1. In every epoch, randomly permute the $n$ samples (just like SGD).\n",
    "2. Each epoch has $\\frac{n}{b}$ iterations. In every iteration, use $b$ samples, and compute the gradient and objective using the ``mb_stochastic_objective_gradient`` function. In the next iteration, use the next $b$ samples, and so on.\n"
   ]
  },
  {
   "cell_type": "code",
   "execution_count": 18,
   "metadata": {},
   "outputs": [],
   "source": [
    "# Mini-Batch SGD for solving logistic regression\n",
    "# Inputs:\n",
    "#     x: n-by-d matrix\n",
    "#     y: n-by-1 matrix\n",
    "#     lam: scalar, the regularization parameter\n",
    "#     b: integer, the batch size\n",
    "#     stepsize: scalar\n",
    "#     max_epoch: integer, the maximal epochs\n",
    "#     w: d-by-1 matrix, initialization of w\n",
    "# Return:\n",
    "#     w: the solution\n",
    "#     objvals: record of each iteration's objective value\n",
    "def mb_sgd(x, y, lam, b, stepsize, max_epoch=100, w=None):\n",
    "    # Fill the function\n",
    "    # Follow the implementation of sgd\n",
    "    # Record one objective value per epoch (not per iteration!)\n",
    "    n, d = x.shape\n",
    "    objvals = numpy.zeros(max_epoch)\n",
    "    if not w:\n",
    "        w = numpy.zeros((d,1))\n",
    "    \n",
    "    for t in range(max_epoch):\n",
    "        iters = int(n / b)\n",
    "        indices = numpy.random.permutation(n)\n",
    "        x_rand = x[indices, :]\n",
    "        y_rand = y[indices, :]\n",
    "        start = 0\n",
    "        objval = 0\n",
    "        for i in range(iters):\n",
    "            end = start + b\n",
    "            xi = x_rand[start:end, :]\n",
    "            yi = y_rand[start:end, :]\n",
    "            obj, g = mb_stochastic_objective_gradient(w, xi, yi, lam, b)\n",
    "            objval += obj\n",
    "            w -= stepsize * g\n",
    "            start = end\n",
    "            \n",
    "        stepsize *= 0.9\n",
    "        objval /= iters\n",
    "        objvals[t] = objval\n",
    "        print('Objective value at epoch t=' + str(t) + ' is ' + str(objval))\n",
    "    \n",
    "    return w, objvals"
   ]
  },
  {
   "cell_type": "markdown",
   "metadata": {},
   "source": [
    "## 6.3. Run MB-SGD"
   ]
  },
  {
   "cell_type": "code",
   "execution_count": 19,
   "metadata": {},
   "outputs": [
    {
     "name": "stdout",
     "output_type": "stream",
     "text": [
      "Objective value at epoch t=0 is 0.5514386610930482\n",
      "Objective value at epoch t=1 is 0.5024558633550139\n",
      "Objective value at epoch t=2 is 0.4956058018486065\n",
      "Objective value at epoch t=3 is 0.4947687858257083\n",
      "Objective value at epoch t=4 is 0.49514741028685083\n",
      "Objective value at epoch t=5 is 0.4930674629325046\n",
      "Objective value at epoch t=6 is 0.492523904595539\n",
      "Objective value at epoch t=7 is 0.49237115987556496\n",
      "Objective value at epoch t=8 is 0.4914203989724557\n",
      "Objective value at epoch t=9 is 0.49186637885390966\n",
      "Objective value at epoch t=10 is 0.49142175310936215\n",
      "Objective value at epoch t=11 is 0.4910998586957295\n",
      "Objective value at epoch t=12 is 0.4910002546311669\n",
      "Objective value at epoch t=13 is 0.49042065638238697\n",
      "Objective value at epoch t=14 is 0.49029862998515605\n",
      "Objective value at epoch t=15 is 0.4902084366209616\n",
      "Objective value at epoch t=16 is 0.48996555370894707\n",
      "Objective value at epoch t=17 is 0.4896029779056866\n",
      "Objective value at epoch t=18 is 0.4895212907262688\n",
      "Objective value at epoch t=19 is 0.48935151272114813\n",
      "Objective value at epoch t=20 is 0.4892376135196287\n",
      "Objective value at epoch t=21 is 0.4892434730869997\n",
      "Objective value at epoch t=22 is 0.48894405997324364\n",
      "Objective value at epoch t=23 is 0.48906104505842174\n",
      "Objective value at epoch t=24 is 0.4889167463664544\n",
      "Objective value at epoch t=25 is 0.48887417440921227\n",
      "Objective value at epoch t=26 is 0.4887627279177075\n",
      "Objective value at epoch t=27 is 0.4886760714098532\n",
      "Objective value at epoch t=28 is 0.4886226219509501\n",
      "Objective value at epoch t=29 is 0.48856395388024926\n",
      "Objective value at epoch t=30 is 0.48850829956548275\n",
      "Objective value at epoch t=31 is 0.48847977763593164\n",
      "Objective value at epoch t=32 is 0.48841855582554466\n",
      "Objective value at epoch t=33 is 0.48844330961025684\n",
      "Objective value at epoch t=34 is 0.488388665008851\n",
      "Objective value at epoch t=35 is 0.48839552588829804\n",
      "Objective value at epoch t=36 is 0.4883425066014907\n",
      "Objective value at epoch t=37 is 0.4883459553138866\n",
      "Objective value at epoch t=38 is 0.48830986192286396\n",
      "Objective value at epoch t=39 is 0.4882986174263036\n",
      "Objective value at epoch t=40 is 0.48828324706632464\n",
      "Objective value at epoch t=41 is 0.48825590134797137\n",
      "Objective value at epoch t=42 is 0.4882392069687498\n",
      "Objective value at epoch t=43 is 0.48823297828671397\n",
      "Objective value at epoch t=44 is 0.4882170546458746\n",
      "Objective value at epoch t=45 is 0.48821766297322355\n",
      "Objective value at epoch t=46 is 0.4882059203332922\n",
      "Objective value at epoch t=47 is 0.4881998511689442\n",
      "Objective value at epoch t=48 is 0.48819329129555344\n",
      "Objective value at epoch t=49 is 0.48818754054878805\n",
      "Objective value at epoch t=50 is 0.48818057965332723\n",
      "Objective value at epoch t=51 is 0.48817605075265036\n",
      "Objective value at epoch t=52 is 0.4881720467009264\n",
      "Objective value at epoch t=53 is 0.48817118156875816\n",
      "Objective value at epoch t=54 is 0.4881651630566557\n",
      "Objective value at epoch t=55 is 0.48816036602222723\n",
      "Objective value at epoch t=56 is 0.48815714462853654\n",
      "Objective value at epoch t=57 is 0.4881567100790556\n",
      "Objective value at epoch t=58 is 0.4881513702787366\n",
      "Objective value at epoch t=59 is 0.4881509922835863\n",
      "Objective value at epoch t=60 is 0.48814927363385496\n",
      "Objective value at epoch t=61 is 0.4881469812597496\n",
      "Objective value at epoch t=62 is 0.4881472016456855\n",
      "Objective value at epoch t=63 is 0.48814381468824086\n",
      "Objective value at epoch t=64 is 0.4881431566661699\n",
      "Objective value at epoch t=65 is 0.48814178776017\n",
      "Objective value at epoch t=66 is 0.4881416795498497\n",
      "Objective value at epoch t=67 is 0.48814082544411885\n",
      "Objective value at epoch t=68 is 0.48813960668600237\n",
      "Objective value at epoch t=69 is 0.48813888692114943\n",
      "Objective value at epoch t=70 is 0.4881386915045903\n",
      "Objective value at epoch t=71 is 0.48813770085391317\n",
      "Objective value at epoch t=72 is 0.4881372632577786\n",
      "Objective value at epoch t=73 is 0.48813662982968564\n",
      "Objective value at epoch t=74 is 0.4881362386281383\n",
      "Objective value at epoch t=75 is 0.4881357187980405\n",
      "Objective value at epoch t=76 is 0.4881354960143633\n",
      "Objective value at epoch t=77 is 0.48813503354652904\n",
      "Objective value at epoch t=78 is 0.4881349419202551\n",
      "Objective value at epoch t=79 is 0.48813484574900307\n",
      "Objective value at epoch t=80 is 0.48813429807413494\n",
      "Objective value at epoch t=81 is 0.4881341751608984\n",
      "Objective value at epoch t=82 is 0.4881338986591196\n",
      "Objective value at epoch t=83 is 0.4881338378417359\n",
      "Objective value at epoch t=84 is 0.48813376236735884\n",
      "Objective value at epoch t=85 is 0.48813359933146633\n",
      "Objective value at epoch t=86 is 0.4881335532829835\n",
      "Objective value at epoch t=87 is 0.4881333071263315\n",
      "Objective value at epoch t=88 is 0.4881333075645141\n",
      "Objective value at epoch t=89 is 0.48813313140887693\n",
      "Objective value at epoch t=90 is 0.488133008039628\n",
      "Objective value at epoch t=91 is 0.48813297934168975\n",
      "Objective value at epoch t=92 is 0.4881329039310079\n",
      "Objective value at epoch t=93 is 0.4881328062618951\n",
      "Objective value at epoch t=94 is 0.4881327760015292\n",
      "Objective value at epoch t=95 is 0.4881327420976353\n",
      "Objective value at epoch t=96 is 0.48813262922344186\n",
      "Objective value at epoch t=97 is 0.48813264521408123\n",
      "Objective value at epoch t=98 is 0.488132608827146\n",
      "Objective value at epoch t=99 is 0.48813255523684457\n"
     ]
    }
   ],
   "source": [
    "# MB-SGD with batch size b=8\n",
    "lam = 1E-6 # do not change\n",
    "b = 8 # do not change\n",
    "stepsize = 0.1 # you must tune this parameter\n",
    "\n",
    "w, objvals_mbsgd8 = mb_sgd(x_train, y_train, lam, b, stepsize)"
   ]
  },
  {
   "cell_type": "code",
   "execution_count": 20,
   "metadata": {},
   "outputs": [
    {
     "name": "stdout",
     "output_type": "stream",
     "text": [
      "Objective value at epoch t=0 is 0.5690613835131503\n",
      "Objective value at epoch t=1 is 0.5038483155490778\n",
      "Objective value at epoch t=2 is 0.4961741627950735\n",
      "Objective value at epoch t=3 is 0.4947172456586869\n",
      "Objective value at epoch t=4 is 0.4919013492002649\n",
      "Objective value at epoch t=5 is 0.49219829573759205\n",
      "Objective value at epoch t=6 is 0.49214329310926186\n",
      "Objective value at epoch t=7 is 0.49134206405225267\n",
      "Objective value at epoch t=8 is 0.4902219910880472\n",
      "Objective value at epoch t=9 is 0.4912097348099307\n",
      "Objective value at epoch t=10 is 0.489979768433592\n",
      "Objective value at epoch t=11 is 0.489832623435486\n",
      "Objective value at epoch t=12 is 0.49014095178999995\n",
      "Objective value at epoch t=13 is 0.48971852092239143\n",
      "Objective value at epoch t=14 is 0.48954544970986297\n",
      "Objective value at epoch t=15 is 0.4895538973526706\n",
      "Objective value at epoch t=16 is 0.4895544308351577\n",
      "Objective value at epoch t=17 is 0.48917380141908773\n",
      "Objective value at epoch t=18 is 0.48932969508402147\n",
      "Objective value at epoch t=19 is 0.4891054727873027\n",
      "Objective value at epoch t=20 is 0.4894045268602533\n",
      "Objective value at epoch t=21 is 0.4889732397779228\n",
      "Objective value at epoch t=22 is 0.4887858694797139\n",
      "Objective value at epoch t=23 is 0.48875632518753315\n",
      "Objective value at epoch t=24 is 0.4887890288241074\n",
      "Objective value at epoch t=25 is 0.4884723360164605\n",
      "Objective value at epoch t=26 is 0.4887152076509541\n",
      "Objective value at epoch t=27 is 0.48859596289352003\n",
      "Objective value at epoch t=28 is 0.4884812007930317\n",
      "Objective value at epoch t=29 is 0.4884855777188427\n",
      "Objective value at epoch t=30 is 0.4885712958315005\n",
      "Objective value at epoch t=31 is 0.4884342240601652\n",
      "Objective value at epoch t=32 is 0.4883355382296946\n",
      "Objective value at epoch t=33 is 0.48835961786635823\n",
      "Objective value at epoch t=34 is 0.4883256235813625\n",
      "Objective value at epoch t=35 is 0.48831786460578164\n",
      "Objective value at epoch t=36 is 0.48832554229999925\n",
      "Objective value at epoch t=37 is 0.4883432188408774\n",
      "Objective value at epoch t=38 is 0.48826861223243084\n",
      "Objective value at epoch t=39 is 0.48822428095869397\n",
      "Objective value at epoch t=40 is 0.4882262622508585\n",
      "Objective value at epoch t=41 is 0.4882326645032449\n",
      "Objective value at epoch t=42 is 0.48821868513888356\n",
      "Objective value at epoch t=43 is 0.48823177406776547\n",
      "Objective value at epoch t=44 is 0.4882140985083615\n",
      "Objective value at epoch t=45 is 0.48817560241635094\n",
      "Objective value at epoch t=46 is 0.48819782402203254\n",
      "Objective value at epoch t=47 is 0.4881897754981003\n",
      "Objective value at epoch t=48 is 0.4881620126620872\n",
      "Objective value at epoch t=49 is 0.4881725100560657\n",
      "Objective value at epoch t=50 is 0.48816922138313856\n",
      "Objective value at epoch t=51 is 0.48816708932546354\n",
      "Objective value at epoch t=52 is 0.4881577868456639\n",
      "Objective value at epoch t=53 is 0.48816690546246055\n",
      "Objective value at epoch t=54 is 0.4881621851833331\n",
      "Objective value at epoch t=55 is 0.4881564675611008\n",
      "Objective value at epoch t=56 is 0.48816136581297176\n",
      "Objective value at epoch t=57 is 0.48814942664718375\n",
      "Objective value at epoch t=58 is 0.4881511741559029\n",
      "Objective value at epoch t=59 is 0.4881523071413486\n",
      "Objective value at epoch t=60 is 0.4881441910747871\n",
      "Objective value at epoch t=61 is 0.488144641655771\n",
      "Objective value at epoch t=62 is 0.4881443182987047\n",
      "Objective value at epoch t=63 is 0.4881418443966125\n",
      "Objective value at epoch t=64 is 0.4881431062664694\n",
      "Objective value at epoch t=65 is 0.488143521418162\n",
      "Objective value at epoch t=66 is 0.48814046051878107\n",
      "Objective value at epoch t=67 is 0.4881401961581743\n",
      "Objective value at epoch t=68 is 0.48813845330499667\n",
      "Objective value at epoch t=69 is 0.48813905438482086\n",
      "Objective value at epoch t=70 is 0.48813755742517984\n",
      "Objective value at epoch t=71 is 0.48813676754341256\n",
      "Objective value at epoch t=72 is 0.4881365849286321\n",
      "Objective value at epoch t=73 is 0.4881372708007724\n",
      "Objective value at epoch t=74 is 0.4881361948308582\n",
      "Objective value at epoch t=75 is 0.48813510986608993\n",
      "Objective value at epoch t=76 is 0.4881358977654287\n",
      "Objective value at epoch t=77 is 0.4881353918553182\n",
      "Objective value at epoch t=78 is 0.4881353583332782\n",
      "Objective value at epoch t=79 is 0.4881354287335333\n",
      "Objective value at epoch t=80 is 0.48813463506168076\n",
      "Objective value at epoch t=81 is 0.4881349160932279\n",
      "Objective value at epoch t=82 is 0.4881345809183425\n",
      "Objective value at epoch t=83 is 0.48813447683066424\n",
      "Objective value at epoch t=84 is 0.488134146489908\n",
      "Objective value at epoch t=85 is 0.4881341673937219\n",
      "Objective value at epoch t=86 is 0.4881341017470591\n",
      "Objective value at epoch t=87 is 0.48813401404698703\n",
      "Objective value at epoch t=88 is 0.48813395234347673\n",
      "Objective value at epoch t=89 is 0.48813391225234104\n",
      "Objective value at epoch t=90 is 0.4881338660752822\n",
      "Objective value at epoch t=91 is 0.48813383792439213\n",
      "Objective value at epoch t=92 is 0.4881338279008246\n",
      "Objective value at epoch t=93 is 0.48813369674680696\n",
      "Objective value at epoch t=94 is 0.4881335662474373\n",
      "Objective value at epoch t=95 is 0.4881336267483468\n",
      "Objective value at epoch t=96 is 0.48813359245443266\n",
      "Objective value at epoch t=97 is 0.4881335241895625\n",
      "Objective value at epoch t=98 is 0.48813354812619353\n",
      "Objective value at epoch t=99 is 0.4881335495664777\n"
     ]
    }
   ],
   "source": [
    "# MB-SGD with batch size b=64\n",
    "lam = 1E-6 # do not change\n",
    "b = 64 # do not change\n",
    "stepsize = 0.675 # you must tune this parameter\n",
    "\n",
    "w, objvals_mbsgd64 = mb_sgd(x_train, y_train, lam, b, stepsize)"
   ]
  },
  {
   "cell_type": "markdown",
   "metadata": {},
   "source": [
    "# 7. Plot and compare GD, SGD, and MB-SGD"
   ]
  },
  {
   "cell_type": "markdown",
   "metadata": {},
   "source": [
    "You are required to compare the following algorithms:\n",
    "\n",
    "- Gradient descent (GD)\n",
    "\n",
    "- SGD\n",
    "\n",
    "- MB-SGD with b=8\n",
    "\n",
    "- MB-SGD with b=64\n",
    "\n",
    "Follow the code in Section 4 to plot ```objective function value``` against ```epochs```. There should be four curves in the plot; each curve corresponds to one algorithm."
   ]
  },
  {
   "cell_type": "markdown",
   "metadata": {},
   "source": [
    "Hint: Logistic regression with $\\ell_2$-norm regularization is a strongly convex optimization problem. All the algorithms will converge to the same solution. **In the end, the ``objective function value`` of the 4 algorithms will be the same. If not the same, your implementation must be wrong. Do NOT submit wrong code and wrong result!**"
   ]
  },
  {
   "cell_type": "code",
   "execution_count": 21,
   "metadata": {},
   "outputs": [
    {
     "data": {
      "image/png": "[encoded data removed]",
      "text/plain": [
       "<Figure size 1080x720 with 1 Axes>"
      ]
     },
     "metadata": {
      "needs_background": "light"
     },
     "output_type": "display_data"
    }
   ],
   "source": [
    "import matplotlib.pyplot as plt\n",
    "%matplotlib inline\n",
    "\n",
    "fig = plt.figure(figsize=(15,10))\n",
    "\n",
    "epochs_gd = range(len(objvals_gd))\n",
    "epochs_sgd = range(len(objvals_sgd))\n",
    "epochs_mbsgd8 = range(len(objvals_mbsgd8))\n",
    "epochs_mbsgd64 = range(len(objvals_mbsgd64))\n",
    "\n",
    "line0 = plt.plot(epochs_gd, objvals_gd, '--b', linewidth=4)\n",
    "line1 = plt.plot(epochs_sgd, objvals_sgd, '-r', linewidth=2)\n",
    "line2 = plt.plot(epochs_mbsgd8, objvals_mbsgd8, '--g', linewidth=3)\n",
    "line3 = plt.plot(epochs_mbsgd64, objvals_mbsgd64, '-y', linewidth=3)\n",
    "\n",
    "plt.xlabel('Epochs', fontsize=20)\n",
    "plt.ylabel('Objective Value', fontsize=20)\n",
    "plt.xticks(fontsize=16)\n",
    "plt.yticks(fontsize=16)\n",
    "plt.legend(['GD', 'SGD', 'MBSGD8', 'MBSGD64'], fontsize=20)\n",
    "plt.tight_layout()\n",
    "plt.show()\n",
    "fig.savefig('compare_gd_sgd_mbsgd.pdf', format='pdf', dpi=1200)"
   ]
  },
  {
   "cell_type": "markdown",
   "metadata": {},
   "source": [
    "# Prediction MBSGD"
   ]
  },
  {
   "cell_type": "code",
   "execution_count": 22,
   "metadata": {},
   "outputs": [
    {
     "name": "stdout",
     "output_type": "stream",
     "text": [
      "Training classification error is 0.2375\n"
     ]
    }
   ],
   "source": [
    "f_train = predict(w, x_train)\n",
    "diff = numpy.abs(f_train - y_train) / 2\n",
    "error_train = numpy.mean(diff)\n",
    "print('Training classification error is ' + str(error_train))"
   ]
  },
  {
   "cell_type": "code",
   "execution_count": 23,
   "metadata": {},
   "outputs": [
    {
     "name": "stdout",
     "output_type": "stream",
     "text": [
      "Test classification error is 0.1875\n"
     ]
    }
   ],
   "source": [
    "# evaluate test error\n",
    "f_test = predict(w, x_test)\n",
    "diff = numpy.abs(f_test - y_test) / 2\n",
    "error_test = numpy.mean(diff)\n",
    "print('Test classification error is ' + str(error_test))"
   ]
  },
  {
   "cell_type": "code",
   "execution_count": null,
   "metadata": {},
   "outputs": [],
   "source": []
  }
 ],
 "metadata": {
  "kernelspec": {
   "display_name": "Python 3",
   "language": "python",
   "name": "python3"
  },
  "language_info": {
   "codemirror_mode": {
    "name": "ipython",
    "version": 3
   },
   "file_extension": ".py",
   "mimetype": "text/x-python",
   "name": "python",
   "nbconvert_exporter": "python",
   "pygments_lexer": "ipython3",
   "version": "3.8.5"
  }
 },
 "nbformat": 4,
 "nbformat_minor": 2
}
